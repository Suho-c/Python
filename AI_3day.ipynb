{
 "cells": [
  {
   "cell_type": "markdown",
   "id": "d1060256-21c8-4d5f-a546-88970e5cb066",
   "metadata": {},
   "source": [
    "# 분류 모델"
   ]
  },
  {
   "cell_type": "markdown",
   "id": "d4a8757a-ef5d-4b22-a334-e971937b1d34",
   "metadata": {},
   "source": [
    "## Logistic Regression\n",
    "\n",
    "#### 문제 정의 : 생선 어종 분류 모델\n",
    "\n",
    "* Species : 어종\n",
    "* Weight : 무게\n",
    "* Length : 길이\n",
    "* Diagonal : 두께\n",
    "* Height : 높이\n",
    "* Width : 대각선 길이"
   ]
  },
  {
   "cell_type": "code",
   "execution_count": 1,
   "id": "a95b2072-3e9b-481a-836f-9efd4415a890",
   "metadata": {},
   "outputs": [],
   "source": [
    "import numpy as np\n",
    "import pandas as pd\n",
    "import matplotlib.pyplot as plt\n",
    "import seaborn as sns\n",
    "\n",
    "%matplotlib inline\n",
    "\n",
    "pd.set_option( 'display.max_columns', 20 )\n",
    "\n",
    "import warnings\n",
    "warnings.filterwarnings( 'ignore' )"
   ]
  },
  {
   "cell_type": "markdown",
   "id": "58ee32a2-dab7-4c00-908f-89d7d5f0c1ce",
   "metadata": {},
   "source": [
    "### 데이터 준비"
   ]
  },
  {
   "cell_type": "code",
   "execution_count": 3,
   "id": "f4fa54ac-0dda-4f8b-aaf7-900ac1c1dd8d",
   "metadata": {},
   "outputs": [
    {
     "data": {
      "text/html": [
       "<div>\n",
       "<style scoped>\n",
       "    .dataframe tbody tr th:only-of-type {\n",
       "        vertical-align: middle;\n",
       "    }\n",
       "\n",
       "    .dataframe tbody tr th {\n",
       "        vertical-align: top;\n",
       "    }\n",
       "\n",
       "    .dataframe thead th {\n",
       "        text-align: right;\n",
       "    }\n",
       "</style>\n",
       "<table border=\"1\" class=\"dataframe\">\n",
       "  <thead>\n",
       "    <tr style=\"text-align: right;\">\n",
       "      <th></th>\n",
       "      <th>Species</th>\n",
       "      <th>Weight</th>\n",
       "      <th>Length</th>\n",
       "      <th>Diagonal</th>\n",
       "      <th>Height</th>\n",
       "      <th>Width</th>\n",
       "    </tr>\n",
       "  </thead>\n",
       "  <tbody>\n",
       "    <tr>\n",
       "      <th>0</th>\n",
       "      <td>Bream</td>\n",
       "      <td>242.0</td>\n",
       "      <td>25.4</td>\n",
       "      <td>30.0</td>\n",
       "      <td>11.5200</td>\n",
       "      <td>4.0200</td>\n",
       "    </tr>\n",
       "    <tr>\n",
       "      <th>1</th>\n",
       "      <td>Bream</td>\n",
       "      <td>290.0</td>\n",
       "      <td>26.3</td>\n",
       "      <td>31.2</td>\n",
       "      <td>12.4800</td>\n",
       "      <td>4.3056</td>\n",
       "    </tr>\n",
       "    <tr>\n",
       "      <th>2</th>\n",
       "      <td>Bream</td>\n",
       "      <td>340.0</td>\n",
       "      <td>26.5</td>\n",
       "      <td>31.1</td>\n",
       "      <td>12.3778</td>\n",
       "      <td>4.6961</td>\n",
       "    </tr>\n",
       "    <tr>\n",
       "      <th>3</th>\n",
       "      <td>Bream</td>\n",
       "      <td>363.0</td>\n",
       "      <td>29.0</td>\n",
       "      <td>33.5</td>\n",
       "      <td>12.7300</td>\n",
       "      <td>4.4555</td>\n",
       "    </tr>\n",
       "    <tr>\n",
       "      <th>4</th>\n",
       "      <td>Bream</td>\n",
       "      <td>430.0</td>\n",
       "      <td>29.0</td>\n",
       "      <td>34.0</td>\n",
       "      <td>12.4440</td>\n",
       "      <td>5.1340</td>\n",
       "    </tr>\n",
       "  </tbody>\n",
       "</table>\n",
       "</div>"
      ],
      "text/plain": [
       "  Species  Weight  Length  Diagonal   Height   Width\n",
       "0   Bream   242.0    25.4      30.0  11.5200  4.0200\n",
       "1   Bream   290.0    26.3      31.2  12.4800  4.3056\n",
       "2   Bream   340.0    26.5      31.1  12.3778  4.6961\n",
       "3   Bream   363.0    29.0      33.5  12.7300  4.4555\n",
       "4   Bream   430.0    29.0      34.0  12.4440  5.1340"
      ]
     },
     "execution_count": 3,
     "metadata": {},
     "output_type": "execute_result"
    }
   ],
   "source": [
    "fish = pd.read_csv( '../data/fish.csv' )\n",
    "fish.head()"
   ]
  },
  {
   "cell_type": "code",
   "execution_count": 4,
   "id": "42ccf347-fbc4-40da-b54a-5bfe6ff89842",
   "metadata": {},
   "outputs": [
    {
     "name": "stdout",
     "output_type": "stream",
     "text": [
      "<class 'pandas.core.frame.DataFrame'>\n",
      "RangeIndex: 159 entries, 0 to 158\n",
      "Data columns (total 6 columns):\n",
      " #   Column    Non-Null Count  Dtype  \n",
      "---  ------    --------------  -----  \n",
      " 0   Species   159 non-null    object \n",
      " 1   Weight    159 non-null    float64\n",
      " 2   Length    159 non-null    float64\n",
      " 3   Diagonal  159 non-null    float64\n",
      " 4   Height    159 non-null    float64\n",
      " 5   Width     159 non-null    float64\n",
      "dtypes: float64(5), object(1)\n",
      "memory usage: 7.6+ KB\n"
     ]
    }
   ],
   "source": [
    "fish.info()"
   ]
  },
  {
   "cell_type": "markdown",
   "id": "ac84d782-aaae-4c79-b4eb-63fbedc2daae",
   "metadata": {},
   "source": [
    "### 데이터 탐색"
   ]
  },
  {
   "cell_type": "code",
   "execution_count": 5,
   "id": "9e1962d7-caff-44a3-9d8d-719b993333d5",
   "metadata": {},
   "outputs": [
    {
     "data": {
      "text/html": [
       "<div>\n",
       "<style scoped>\n",
       "    .dataframe tbody tr th:only-of-type {\n",
       "        vertical-align: middle;\n",
       "    }\n",
       "\n",
       "    .dataframe tbody tr th {\n",
       "        vertical-align: top;\n",
       "    }\n",
       "\n",
       "    .dataframe thead th {\n",
       "        text-align: right;\n",
       "    }\n",
       "</style>\n",
       "<table border=\"1\" class=\"dataframe\">\n",
       "  <thead>\n",
       "    <tr style=\"text-align: right;\">\n",
       "      <th></th>\n",
       "      <th>Weight</th>\n",
       "      <th>Length</th>\n",
       "      <th>Diagonal</th>\n",
       "      <th>Height</th>\n",
       "      <th>Width</th>\n",
       "    </tr>\n",
       "  </thead>\n",
       "  <tbody>\n",
       "    <tr>\n",
       "      <th>count</th>\n",
       "      <td>159.000000</td>\n",
       "      <td>159.000000</td>\n",
       "      <td>159.000000</td>\n",
       "      <td>159.000000</td>\n",
       "      <td>159.000000</td>\n",
       "    </tr>\n",
       "    <tr>\n",
       "      <th>mean</th>\n",
       "      <td>398.326415</td>\n",
       "      <td>28.415723</td>\n",
       "      <td>31.227044</td>\n",
       "      <td>8.970994</td>\n",
       "      <td>4.417486</td>\n",
       "    </tr>\n",
       "    <tr>\n",
       "      <th>std</th>\n",
       "      <td>357.978317</td>\n",
       "      <td>10.716328</td>\n",
       "      <td>11.610246</td>\n",
       "      <td>4.286208</td>\n",
       "      <td>1.685804</td>\n",
       "    </tr>\n",
       "    <tr>\n",
       "      <th>min</th>\n",
       "      <td>0.000000</td>\n",
       "      <td>8.400000</td>\n",
       "      <td>8.800000</td>\n",
       "      <td>1.728400</td>\n",
       "      <td>1.047600</td>\n",
       "    </tr>\n",
       "    <tr>\n",
       "      <th>25%</th>\n",
       "      <td>120.000000</td>\n",
       "      <td>21.000000</td>\n",
       "      <td>23.150000</td>\n",
       "      <td>5.944800</td>\n",
       "      <td>3.385650</td>\n",
       "    </tr>\n",
       "    <tr>\n",
       "      <th>50%</th>\n",
       "      <td>273.000000</td>\n",
       "      <td>27.300000</td>\n",
       "      <td>29.400000</td>\n",
       "      <td>7.786000</td>\n",
       "      <td>4.248500</td>\n",
       "    </tr>\n",
       "    <tr>\n",
       "      <th>75%</th>\n",
       "      <td>650.000000</td>\n",
       "      <td>35.500000</td>\n",
       "      <td>39.650000</td>\n",
       "      <td>12.365900</td>\n",
       "      <td>5.584500</td>\n",
       "    </tr>\n",
       "    <tr>\n",
       "      <th>max</th>\n",
       "      <td>1650.000000</td>\n",
       "      <td>63.400000</td>\n",
       "      <td>68.000000</td>\n",
       "      <td>18.957000</td>\n",
       "      <td>8.142000</td>\n",
       "    </tr>\n",
       "  </tbody>\n",
       "</table>\n",
       "</div>"
      ],
      "text/plain": [
       "            Weight      Length    Diagonal      Height       Width\n",
       "count   159.000000  159.000000  159.000000  159.000000  159.000000\n",
       "mean    398.326415   28.415723   31.227044    8.970994    4.417486\n",
       "std     357.978317   10.716328   11.610246    4.286208    1.685804\n",
       "min       0.000000    8.400000    8.800000    1.728400    1.047600\n",
       "25%     120.000000   21.000000   23.150000    5.944800    3.385650\n",
       "50%     273.000000   27.300000   29.400000    7.786000    4.248500\n",
       "75%     650.000000   35.500000   39.650000   12.365900    5.584500\n",
       "max    1650.000000   63.400000   68.000000   18.957000    8.142000"
      ]
     },
     "execution_count": 5,
     "metadata": {},
     "output_type": "execute_result"
    }
   ],
   "source": [
    "fish.describe()"
   ]
  },
  {
   "cell_type": "code",
   "execution_count": 6,
   "id": "5218a98c-71fd-4c9c-b5b7-e4e40f47c5fc",
   "metadata": {},
   "outputs": [
    {
     "data": {
      "text/plain": [
       "array(['Bream', 'Roach', 'Whitefish', 'Parkki', 'Perch', 'Pike', 'Smelt'],\n",
       "      dtype=object)"
      ]
     },
     "execution_count": 6,
     "metadata": {},
     "output_type": "execute_result"
    }
   ],
   "source": [
    "fish[ 'Species' ].unique()"
   ]
  },
  {
   "cell_type": "code",
   "execution_count": 8,
   "id": "c90be6b3-788d-4a9c-ae5b-f277eea92b0d",
   "metadata": {},
   "outputs": [
    {
     "data": {
      "text/plain": [
       "Perch        56\n",
       "Bream        35\n",
       "Roach        20\n",
       "Pike         17\n",
       "Smelt        14\n",
       "Parkki       11\n",
       "Whitefish     6\n",
       "Name: Species, dtype: int64"
      ]
     },
     "execution_count": 8,
     "metadata": {},
     "output_type": "execute_result"
    }
   ],
   "source": [
    "fish[ 'Species' ].value_counts()"
   ]
  },
  {
   "cell_type": "code",
   "execution_count": 9,
   "id": "1ff12d24-fbcb-4033-9b75-a573e7b03252",
   "metadata": {},
   "outputs": [
    {
     "data": {
      "text/plain": [
       "<AxesSubplot:>"
      ]
     },
     "execution_count": 9,
     "metadata": {},
     "output_type": "execute_result"
    },
    {
     "data": {
      "image/png": "[encoded data removed]",
      "text/plain": [
       "<Figure size 432x288 with 1 Axes>"
      ]
     },
     "metadata": {
      "needs_background": "light"
     },
     "output_type": "display_data"
    }
   ],
   "source": [
    "fish[ 'Species' ].value_counts().plot( kind = 'bar' )"
   ]
  },
  {
   "cell_type": "markdown",
   "id": "89c6144f-2b7d-4e2c-b3cf-786af6395a0b",
   "metadata": {},
   "source": [
    "### 분류 모델 생성\n",
    "\n",
    "#### 입력 데이터와 정답 데이터 분리"
   ]
  },
  {
   "cell_type": "code",
   "execution_count": 10,
   "id": "a470c623-0917-4c1e-9e5d-556c239b14a5",
   "metadata": {},
   "outputs": [],
   "source": [
    "X = fish[ [ 'Weight', 'Length', 'Diagonal', 'Height', 'Width' ] ].to_numpy()\n",
    "y = fish[ 'Species' ].to_numpy()"
   ]
  },
  {
   "cell_type": "code",
   "execution_count": 11,
   "id": "1d1c4fc2-836f-4991-85e3-74a7dfa018f2",
   "metadata": {},
   "outputs": [
    {
     "name": "stdout",
     "output_type": "stream",
     "text": [
      "X shape : (159, 5)\n",
      "y shape : (159,)\n"
     ]
    }
   ],
   "source": [
    "print( f'X shape : {X.shape}' )\n",
    "print( f'y shape : {y.shape}' )"
   ]
  },
  {
   "cell_type": "markdown",
   "id": "0ac9b66f-b133-43ba-a449-8304892aeb33",
   "metadata": {},
   "source": [
    "#### 훈련 데이터와 테스트 데이터 분리"
   ]
  },
  {
   "cell_type": "code",
   "execution_count": 12,
   "id": "10e045bc-32d9-47f3-ae16-aef5bfdb8f9b",
   "metadata": {},
   "outputs": [],
   "source": [
    "from sklearn.model_selection import train_test_split"
   ]
  },
  {
   "cell_type": "code",
   "execution_count": 13,
   "id": "dc2ab4fd-bbe9-46f3-9d67-ee8a08b517be",
   "metadata": {},
   "outputs": [],
   "source": [
    "X_train, X_test, y_train, y_test = train_test_split( \n",
    "    X, y, test_size = 0.2, random_state = 1234 \n",
    ")"
   ]
  },
  {
   "cell_type": "code",
   "execution_count": 15,
   "id": "161fe929-37a4-4d6e-8359-48b0e88a459d",
   "metadata": {},
   "outputs": [
    {
     "name": "stdout",
     "output_type": "stream",
     "text": [
      "X_train shape : (127, 5)\n",
      "y_train shape : (127,)\n",
      "\n",
      "X_test shape : (32, 5)\n",
      "y_test shape : (32,)\n"
     ]
    }
   ],
   "source": [
    "print( f'X_train shape : {X_train.shape}' )\n",
    "print( f'y_train shape : {y_train.shape}' )\n",
    "print( f'\\nX_test shape : {X_test.shape}' )\n",
    "print( f'y_test shape : {y_test.shape}' )"
   ]
  },
  {
   "cell_type": "markdown",
   "id": "92b1398e-1a2f-4e06-b961-34278ded2230",
   "metadata": {},
   "source": [
    "#### 데이터 표준화"
   ]
  },
  {
   "cell_type": "code",
   "execution_count": 16,
   "id": "18271514-bc51-42d1-8868-141cfd992de9",
   "metadata": {},
   "outputs": [],
   "source": [
    "from sklearn.preprocessing import StandardScaler"
   ]
  },
  {
   "cell_type": "code",
   "execution_count": 19,
   "id": "d086b291-5788-41e6-8533-853a5eaa9659",
   "metadata": {},
   "outputs": [],
   "source": [
    "ss = StandardScaler()\n",
    "\n",
    "ss.fit( X_train )\n",
    "X_train_scaled = ss.transform( X_train )\n",
    "X_test_scaled = ss.transform( X_test )"
   ]
  },
  {
   "cell_type": "code",
   "execution_count": 22,
   "id": "f96c1a75-ce62-46e7-bc08-86e84e1e897e",
   "metadata": {},
   "outputs": [
    {
     "name": "stdout",
     "output_type": "stream",
     "text": [
      "X_train_scaled = [[-0.6872458  -0.79156968 -0.7675176  -0.01304324 -0.67031415]\n",
      " [-0.60489743 -0.32996003 -0.41802358 -0.59239607 -0.43701955]\n",
      " [-1.07236169 -1.62246705 -1.65403901 -1.59450904 -1.81248436]\n",
      " [ 1.92045267  1.33183471  1.20158286  0.84175782  1.79202761]\n",
      " [-1.06549933 -1.43782319 -1.50060262 -1.57538069 -1.8866466 ]]\n"
     ]
    }
   ],
   "source": [
    "print( f'X_train_scaled = {X_train_scaled[:5, :]}' )"
   ]
  },
  {
   "cell_type": "code",
   "execution_count": 23,
   "id": "cf1437ff-63a1-4608-94d8-6eed956230d7",
   "metadata": {},
   "outputs": [
    {
     "name": "stdout",
     "output_type": "stream",
     "text": [
      "X_test_scaled = [[-0.6872458  -0.79156968 -0.7675176  -0.01304324 -0.67031415]\n",
      " [-0.60489743 -0.32996003 -0.41802358 -0.59239607 -0.43701955]\n",
      " [-1.07236169 -1.62246705 -1.65403901 -1.59450904 -1.81248436]\n",
      " [ 1.92045267  1.33183471  1.20158286  0.84175782  1.79202761]\n",
      " [-1.06549933 -1.43782319 -1.50060262 -1.57538069 -1.8866466 ]]\n"
     ]
    }
   ],
   "source": [
    "print( f'X_test_scaled = {X_train_scaled[:5, :]}' )"
   ]
  },
  {
   "cell_type": "markdown",
   "id": "a6b474ce-4846-4eaf-a4b6-e05b857e8c67",
   "metadata": {},
   "source": [
    "#### 분류 모델 생성\n",
    "\n",
    "* K-NN이용한 분류 모델 생성 - 다중 클래스 모델"
   ]
  },
  {
   "cell_type": "code",
   "execution_count": 24,
   "id": "1d08c8a8-c058-4cf2-be7b-772c80b919d3",
   "metadata": {},
   "outputs": [],
   "source": [
    "from sklearn.neighbors import KNeighborsClassifier"
   ]
  },
  {
   "cell_type": "code",
   "execution_count": 27,
   "id": "befb48d4-0f87-4918-b328-d5f4560f8e8b",
   "metadata": {},
   "outputs": [
    {
     "data": {
      "text/plain": [
       "KNeighborsClassifier(n_neighbors=3)"
      ]
     },
     "execution_count": 27,
     "metadata": {},
     "output_type": "execute_result"
    }
   ],
   "source": [
    "kn = KNeighborsClassifier( n_neighbors = 3 ) # 최근접 이웃 개수가 3인 모델 생성\n",
    "\n",
    "kn.fit( X_train_scaled, y_train )"
   ]
  },
  {
   "cell_type": "code",
   "execution_count": 30,
   "id": "4c6b17e0-1dda-4e44-954c-0637d26d711c",
   "metadata": {},
   "outputs": [
    {
     "name": "stdout",
     "output_type": "stream",
     "text": [
      "생선 어종 분류 모델( KNN ) 훈련 데이터에 대한 정확도 : 0.9133858267716536\n",
      "생선 어종 분류 모델( KNN ) 테스트 데이터에 대한 정확도 : 0.75\n"
     ]
    }
   ],
   "source": [
    "print( f'생선 어종 분류 모델( KNN ) 훈련 데이터에 대한 정확도 : \\\n",
    "{kn.score( X_train_scaled, y_train ) }' )\n",
    "print( f'생선 어종 분류 모델( KNN ) 테스트 데이터에 대한 정확도 : \\\n",
    "{kn.score( X_test_scaled, y_test ) }' )"
   ]
  },
  {
   "cell_type": "code",
   "execution_count": 31,
   "id": "a0a3c1cc-6225-4f94-b6a7-f092956b3aee",
   "metadata": {},
   "outputs": [
    {
     "name": "stdout",
     "output_type": "stream",
     "text": [
      "['Bream' 'Parkki' 'Perch' 'Pike' 'Roach' 'Smelt' 'Whitefish']\n"
     ]
    }
   ],
   "source": [
    "# KNN에 의해서 생성된 분류 모델의 클래스 목록\n",
    "print( kn.classes_ )"
   ]
  },
  {
   "cell_type": "code",
   "execution_count": 33,
   "id": "f0c52f62-1fcd-4661-9562-f88fe486704b",
   "metadata": {},
   "outputs": [
    {
     "name": "stdout",
     "output_type": "stream",
     "text": [
      "['Perch' 'Bream' 'Roach' 'Pike' 'Smelt' 'Perch' 'Smelt' 'Smelt' 'Perch'\n",
      " 'Bream' 'Bream' 'Perch' 'Perch' 'Parkki' 'Perch' 'Parkki' 'Perch' 'Bream'\n",
      " 'Smelt' 'Pike' 'Bream' 'Perch' 'Perch' 'Roach' 'Perch' 'Bream' 'Perch'\n",
      " 'Perch' 'Smelt' 'Bream' 'Pike' 'Roach']\n"
     ]
    }
   ],
   "source": [
    "# KNN에 의해서 생성된 분류 모델로 테스트 데이터 예측 수행\n",
    "print( kn.predict( X_test_scaled ) )"
   ]
  },
  {
   "cell_type": "code",
   "execution_count": 36,
   "id": "afc0c1b6-46cd-470c-acb4-6880e65e342a",
   "metadata": {},
   "outputs": [
    {
     "data": {
      "text/plain": [
       "Text(0, 0.5, 'Weight')"
      ]
     },
     "execution_count": 36,
     "metadata": {},
     "output_type": "execute_result"
    },
    {
     "data": {
      "image/png": "[encoded data removed]",
      "text/plain": [
       "<Figure size 432x288 with 1 Axes>"
      ]
     },
     "metadata": {
      "needs_background": "light"
     },
     "output_type": "display_data"
    }
   ],
   "source": [
    "plt.scatter( X_train[ :, 0 ], X_train[ :, 1 ] )\n",
    "plt.scatter( 25, 150, marker = '^' )\n",
    "plt.xlabel( 'Length' )\n",
    "plt.ylabel( 'Weight' )"
   ]
  },
  {
   "cell_type": "code",
   "execution_count": 37,
   "id": "3573fa38-d532-4dc5-ac92-acc94a8894aa",
   "metadata": {},
   "outputs": [
    {
     "name": "stdout",
     "output_type": "stream",
     "text": [
      "[[0.     0.     0.6667 0.     0.3333 0.     0.    ]\n",
      " [1.     0.     0.     0.     0.     0.     0.    ]\n",
      " [0.     0.     0.3333 0.     0.6667 0.     0.    ]\n",
      " [0.     0.     0.     1.     0.     0.     0.    ]\n",
      " [0.     0.     0.     0.     0.     1.     0.    ]\n",
      " [0.     0.     1.     0.     0.     0.     0.    ]\n",
      " [0.     0.     0.3333 0.     0.     0.6667 0.    ]\n",
      " [0.     0.     0.     0.     0.     1.     0.    ]\n",
      " [0.     0.     0.6667 0.     0.3333 0.     0.    ]\n",
      " [1.     0.     0.     0.     0.     0.     0.    ]\n",
      " [1.     0.     0.     0.     0.     0.     0.    ]\n",
      " [0.     0.     1.     0.     0.     0.     0.    ]\n",
      " [0.     0.     0.6667 0.     0.3333 0.     0.    ]\n",
      " [0.     0.6667 0.     0.     0.3333 0.     0.    ]\n",
      " [0.     0.     1.     0.     0.     0.     0.    ]\n",
      " [0.     0.3333 0.3333 0.     0.3333 0.     0.    ]\n",
      " [0.     0.     0.6667 0.     0.3333 0.     0.    ]\n",
      " [1.     0.     0.     0.     0.     0.     0.    ]\n",
      " [0.     0.     0.3333 0.     0.     0.6667 0.    ]\n",
      " [0.     0.     0.     1.     0.     0.     0.    ]\n",
      " [1.     0.     0.     0.     0.     0.     0.    ]\n",
      " [0.     0.     1.     0.     0.     0.     0.    ]\n",
      " [0.     0.     1.     0.     0.     0.     0.    ]\n",
      " [0.     0.     0.3333 0.     0.6667 0.     0.    ]\n",
      " [0.     0.     0.6667 0.     0.3333 0.     0.    ]\n",
      " [1.     0.     0.     0.     0.     0.     0.    ]\n",
      " [0.     0.     0.6667 0.     0.     0.     0.3333]\n",
      " [0.     0.     1.     0.     0.     0.     0.    ]\n",
      " [0.     0.     0.     0.     0.     1.     0.    ]\n",
      " [1.     0.     0.     0.     0.     0.     0.    ]\n",
      " [0.     0.     0.     1.     0.     0.     0.    ]\n",
      " [0.     0.     0.     0.     1.     0.     0.    ]]\n"
     ]
    }
   ],
   "source": [
    "# 예측값에 대한 확률\n",
    "proba = kn.predict_proba( X_test_scaled )\n",
    "print( np.round( proba, decimals = 4 ) )"
   ]
  },
  {
   "cell_type": "markdown",
   "id": "885dddbc-a9fa-478f-add6-356acd914619",
   "metadata": {},
   "source": [
    "* Logistic Regressiong 이용한 분류 모델 생성 - 이진 분류 모델"
   ]
  },
  {
   "cell_type": "markdown",
   "id": "d9bf27ab-03a9-4100-94d6-0253ee35d2ef",
   "metadata": {},
   "source": [
    "#### 데이터 분리"
   ]
  },
  {
   "cell_type": "code",
   "execution_count": 40,
   "id": "604a0105-aaae-4afb-9d9a-e76cbf806b40",
   "metadata": {},
   "outputs": [
    {
     "data": {
      "text/html": [
       "<div>\n",
       "<style scoped>\n",
       "    .dataframe tbody tr th:only-of-type {\n",
       "        vertical-align: middle;\n",
       "    }\n",
       "\n",
       "    .dataframe tbody tr th {\n",
       "        vertical-align: top;\n",
       "    }\n",
       "\n",
       "    .dataframe thead th {\n",
       "        text-align: right;\n",
       "    }\n",
       "</style>\n",
       "<table border=\"1\" class=\"dataframe\">\n",
       "  <thead>\n",
       "    <tr style=\"text-align: right;\">\n",
       "      <th></th>\n",
       "      <th>Species</th>\n",
       "      <th>Weight</th>\n",
       "      <th>Length</th>\n",
       "      <th>Diagonal</th>\n",
       "      <th>Height</th>\n",
       "      <th>Width</th>\n",
       "    </tr>\n",
       "  </thead>\n",
       "  <tbody>\n",
       "    <tr>\n",
       "      <th>0</th>\n",
       "      <td>Bream</td>\n",
       "      <td>242.0</td>\n",
       "      <td>25.4</td>\n",
       "      <td>30.0</td>\n",
       "      <td>11.5200</td>\n",
       "      <td>4.0200</td>\n",
       "    </tr>\n",
       "    <tr>\n",
       "      <th>1</th>\n",
       "      <td>Bream</td>\n",
       "      <td>290.0</td>\n",
       "      <td>26.3</td>\n",
       "      <td>31.2</td>\n",
       "      <td>12.4800</td>\n",
       "      <td>4.3056</td>\n",
       "    </tr>\n",
       "    <tr>\n",
       "      <th>2</th>\n",
       "      <td>Bream</td>\n",
       "      <td>340.0</td>\n",
       "      <td>26.5</td>\n",
       "      <td>31.1</td>\n",
       "      <td>12.3778</td>\n",
       "      <td>4.6961</td>\n",
       "    </tr>\n",
       "    <tr>\n",
       "      <th>3</th>\n",
       "      <td>Bream</td>\n",
       "      <td>363.0</td>\n",
       "      <td>29.0</td>\n",
       "      <td>33.5</td>\n",
       "      <td>12.7300</td>\n",
       "      <td>4.4555</td>\n",
       "    </tr>\n",
       "    <tr>\n",
       "      <th>4</th>\n",
       "      <td>Bream</td>\n",
       "      <td>430.0</td>\n",
       "      <td>29.0</td>\n",
       "      <td>34.0</td>\n",
       "      <td>12.4440</td>\n",
       "      <td>5.1340</td>\n",
       "    </tr>\n",
       "  </tbody>\n",
       "</table>\n",
       "</div>"
      ],
      "text/plain": [
       "  Species  Weight  Length  Diagonal   Height   Width\n",
       "0   Bream   242.0    25.4      30.0  11.5200  4.0200\n",
       "1   Bream   290.0    26.3      31.2  12.4800  4.3056\n",
       "2   Bream   340.0    26.5      31.1  12.3778  4.6961\n",
       "3   Bream   363.0    29.0      33.5  12.7300  4.4555\n",
       "4   Bream   430.0    29.0      34.0  12.4440  5.1340"
      ]
     },
     "execution_count": 40,
     "metadata": {},
     "output_type": "execute_result"
    }
   ],
   "source": [
    "df = fish[ ( fish[ 'Species' ] == 'Bream' ) | ( fish[ 'Species' ] == 'Smelt' ) ]\n",
    "df.head()"
   ]
  },
  {
   "cell_type": "code",
   "execution_count": 43,
   "id": "774f2259-468a-4867-8742-2579eb009fe4",
   "metadata": {},
   "outputs": [
    {
     "data": {
      "text/plain": [
       "array(['Bream', 'Smelt'], dtype=object)"
      ]
     },
     "execution_count": 43,
     "metadata": {},
     "output_type": "execute_result"
    }
   ],
   "source": [
    "df[ 'Species' ].unique()"
   ]
  },
  {
   "cell_type": "code",
   "execution_count": 45,
   "id": "1fd6de92-e753-4499-ad91-597b7da64c92",
   "metadata": {},
   "outputs": [],
   "source": [
    "X = df.drop( [ 'Species' ], axis = 1 ).to_numpy()\n",
    "y = df[ 'Species' ].to_numpy()"
   ]
  },
  {
   "cell_type": "code",
   "execution_count": 46,
   "id": "c418eccf-8214-43c6-a0ab-5baf9ca78d56",
   "metadata": {},
   "outputs": [
    {
     "name": "stdout",
     "output_type": "stream",
     "text": [
      "X shape : (49, 5)\n",
      "y shape : (49,)\n"
     ]
    }
   ],
   "source": [
    "print( f'X shape : {X.shape}' )\n",
    "print( f'y shape : {y.shape}' )"
   ]
  },
  {
   "cell_type": "code",
   "execution_count": 47,
   "id": "2c8bffb9-51c3-4a1f-bee5-06f4a296f640",
   "metadata": {},
   "outputs": [],
   "source": [
    "X_train, X_test, y_train, y_test = train_test_split(\n",
    "    X, y, test_size = 0.2, random_state = 1234\n",
    ")"
   ]
  },
  {
   "cell_type": "code",
   "execution_count": 48,
   "id": "68be3ea1-0cdc-473f-8032-bf417b417450",
   "metadata": {},
   "outputs": [
    {
     "name": "stdout",
     "output_type": "stream",
     "text": [
      "X_train shape : (39, 5)\n",
      "y_train shape : (39,)\n",
      "\n",
      "X_test shape : (10, 5)\n",
      "y_test shape : (10,)\n"
     ]
    }
   ],
   "source": [
    "print( f'X_train shape : {X_train.shape}' )\n",
    "print( f'y_train shape : {y_train.shape}' )\n",
    "print( f'\\nX_test shape : {X_test.shape}' )\n",
    "print( f'y_test shape : {y_test.shape}' )"
   ]
  },
  {
   "cell_type": "code",
   "execution_count": 49,
   "id": "54c67188-b4ed-4efb-a48c-cfe1dd81ad07",
   "metadata": {},
   "outputs": [],
   "source": [
    "ss.fit( X_train )\n",
    "X_train_scaled = ss.transform( X_train )\n",
    "X_test_scaled = ss.transform( X_test )"
   ]
  },
  {
   "cell_type": "markdown",
   "id": "9d8d975b-f3ce-4d60-9439-a770151af196",
   "metadata": {},
   "source": [
    "#### Logistic Regression을 이용한 이진 분류 모델 생성"
   ]
  },
  {
   "cell_type": "code",
   "execution_count": 52,
   "id": "ef415896-a6df-438d-80e8-7b797da84093",
   "metadata": {},
   "outputs": [],
   "source": [
    "from sklearn.linear_model import LogisticRegression"
   ]
  },
  {
   "cell_type": "code",
   "execution_count": 54,
   "id": "e98fd1d2-3460-45fd-9709-ee698611f9b1",
   "metadata": {},
   "outputs": [
    {
     "data": {
      "text/plain": [
       "LogisticRegression()"
      ]
     },
     "execution_count": 54,
     "metadata": {},
     "output_type": "execute_result"
    }
   ],
   "source": [
    "# Logistic Regression 모델 생성\n",
    "lr = LogisticRegression()\n",
    "\n",
    "lr.fit( X_train_scaled, y_train )"
   ]
  },
  {
   "cell_type": "code",
   "execution_count": 56,
   "id": "3ec0ea8c-f62d-4b72-a585-f7bbdf66e8ae",
   "metadata": {},
   "outputs": [
    {
     "name": "stdout",
     "output_type": "stream",
     "text": [
      "생선 어종 분류 모델( Logistic Regression ) 훈련 데이터에 대한 정확도 : 1.0\n",
      "생선 어종 분류 모델( Logistic Regression ) 테스트 데이터에 대한 정확도 : 1.0\n"
     ]
    }
   ],
   "source": [
    "print( f'생선 어종 분류 모델( Logistic Regression ) 훈련 데이터에 대한 정확도 : \\\n",
    "{lr.score( X_train_scaled, y_train ) }' )\n",
    "print( f'생선 어종 분류 모델( Logistic Regression ) 테스트 데이터에 대한 정확도 : \\\n",
    "{lr.score( X_test_scaled, y_test ) }' )"
   ]
  },
  {
   "cell_type": "code",
   "execution_count": 57,
   "id": "45d54065-2fb7-4411-a548-26ebf95e48fd",
   "metadata": {},
   "outputs": [
    {
     "name": "stdout",
     "output_type": "stream",
     "text": [
      "['Bream' 'Smelt' 'Bream' 'Smelt' 'Bream' 'Smelt' 'Bream' 'Bream' 'Bream'\n",
      " 'Bream']\n"
     ]
    }
   ],
   "source": [
    "print( lr.predict( X_test_scaled ) )"
   ]
  },
  {
   "cell_type": "code",
   "execution_count": 63,
   "id": "c64c01fa-9bde-42e4-b170-a5d27716aa51",
   "metadata": {},
   "outputs": [
    {
     "name": "stdout",
     "output_type": "stream",
     "text": [
      "['Bream' 'Smelt']\n"
     ]
    }
   ],
   "source": [
    "print( lr.classes_ )"
   ]
  },
  {
   "cell_type": "code",
   "execution_count": 64,
   "id": "674ea454-7553-43b2-954d-a6cb3dbdcdd6",
   "metadata": {},
   "outputs": [
    {
     "name": "stdout",
     "output_type": "stream",
     "text": [
      "[[9.78365278e-01 2.16347216e-02]\n",
      " [9.59328561e-02 9.04067144e-01]\n",
      " [9.90569548e-01 9.43045155e-03]\n",
      " [4.23481000e-02 9.57651900e-01]\n",
      " [9.99329720e-01 6.70280023e-04]\n",
      " [4.80335625e-02 9.51966438e-01]\n",
      " [9.71190325e-01 2.88096752e-02]\n",
      " [9.99239756e-01 7.60244313e-04]\n",
      " [9.81961235e-01 1.80387649e-02]\n",
      " [9.93078820e-01 6.92118004e-03]]\n"
     ]
    }
   ],
   "source": [
    "print( lr.predict_proba( X_test_scaled ) )"
   ]
  },
  {
   "cell_type": "markdown",
   "id": "04296518-4942-4202-8680-91ae32f7cd55",
   "metadata": {},
   "source": [
    "### Logistic Regression을 이용한 다중 클래스 분류 모델 생성\n",
    "\n",
    "#### 데이터 분리"
   ]
  },
  {
   "cell_type": "code",
   "execution_count": 74,
   "id": "03632e1e-153e-42ef-8a3b-f7d9a68cbdb3",
   "metadata": {},
   "outputs": [],
   "source": [
    "X = fish.drop( [ 'Species' ], axis = 1 )\n",
    "y = fish[ 'Species' ]"
   ]
  },
  {
   "cell_type": "code",
   "execution_count": 75,
   "id": "9eb7c7a5-974d-47f9-a382-60012dd248fc",
   "metadata": {},
   "outputs": [
    {
     "name": "stdout",
     "output_type": "stream",
     "text": [
      "X shape : (159, 5)\n",
      "y shape : (159,)\n"
     ]
    }
   ],
   "source": [
    "print( f'X shape : {X.shape}' )\n",
    "print( f'y shape : {y.shape}' )"
   ]
  },
  {
   "cell_type": "code",
   "execution_count": 76,
   "id": "03216d10-b333-42ed-a766-55f0744e683d",
   "metadata": {},
   "outputs": [],
   "source": [
    "X_train, X_test, y_train, y_test = train_test_split(\n",
    "    X, y, test_size = 0.2, random_state = 1234\n",
    ")"
   ]
  },
  {
   "cell_type": "code",
   "execution_count": 77,
   "id": "9a058951-6035-415a-bbf9-8e29efc8d71f",
   "metadata": {},
   "outputs": [
    {
     "name": "stdout",
     "output_type": "stream",
     "text": [
      "X_train shape : (127, 5)\n",
      "y_train shape : (127,)\n",
      "\n",
      "X_test shape : (32, 5)\n",
      "y_test shape : (32,)\n"
     ]
    }
   ],
   "source": [
    "print( f'X_train shape : {X_train.shape}' )\n",
    "print( f'y_train shape : {y_train.shape}' )\n",
    "print( f'\\nX_test shape : {X_test.shape}' )\n",
    "print( f'y_test shape : {y_test.shape}' )"
   ]
  },
  {
   "cell_type": "code",
   "execution_count": 71,
   "id": "f3a17373-7479-4739-b979-537e055b9247",
   "metadata": {},
   "outputs": [],
   "source": [
    "#X_train, X_train_val, y_train, y_train_val = train_test_split(\n",
    "#   X_train, y_train, test_size = 0.2, random_state = 42\n",
    "#)"
   ]
  },
  {
   "cell_type": "code",
   "execution_count": 72,
   "id": "661aff31-6d3f-4843-8f99-3a6ba966fe8f",
   "metadata": {},
   "outputs": [
    {
     "name": "stdout",
     "output_type": "stream",
     "text": [
      "X_train shape : (101, 5)\n",
      "y_train shape : (101,)\n",
      "\n",
      "X_train_val shape : (26, 5)\n",
      "y_train_val shape : (26,)\n"
     ]
    }
   ],
   "source": [
    "#print( f'X_train shape : {X_train.shape}' )\n",
    "#print( f'y_train shape : {y_train.shape}' )\n",
    "#print( f'\\nX_train_val shape : {X_train_val.shape}' )\n",
    "#print( f'y_train_val shape : {y_train_val.shape}' )"
   ]
  },
  {
   "cell_type": "code",
   "execution_count": 78,
   "id": "24323bee-d0d8-442b-886d-92da0a61f8b5",
   "metadata": {},
   "outputs": [],
   "source": [
    "ss.fit( X_train )\n",
    "X_train_scaled = ss.transform( X_train )\n",
    "X_test_scaled = ss.transform( X_test )"
   ]
  },
  {
   "cell_type": "markdown",
   "id": "c08bbd8a-c0bd-4e3b-b265-fbf428adcc53",
   "metadata": {},
   "source": [
    "#### Logistic Regression 모델 생성"
   ]
  },
  {
   "cell_type": "code",
   "execution_count": 79,
   "id": "797feac4-7d8b-4f09-847f-697aee8026cd",
   "metadata": {},
   "outputs": [
    {
     "data": {
      "text/plain": [
       "LogisticRegression()"
      ]
     },
     "execution_count": 79,
     "metadata": {},
     "output_type": "execute_result"
    }
   ],
   "source": [
    "lr = LogisticRegression()\n",
    "\n",
    "lr.fit( X_train_scaled, y_train )"
   ]
  },
  {
   "cell_type": "code",
   "execution_count": 80,
   "id": "5ad0be84-73a2-4a0f-b05e-708cddb6072e",
   "metadata": {},
   "outputs": [
    {
     "name": "stdout",
     "output_type": "stream",
     "text": [
      "생선 어종 분류 모델( Logistic Regression ) 훈련 데이터에 대한 정확도 : 0.8188976377952756\n",
      "생선 어종 분류 모델( Logistic Regression ) 테스트 데이터에 대한 정확도 : 0.8125\n"
     ]
    }
   ],
   "source": [
    "print( f'생선 어종 분류 모델( Logistic Regression ) 훈련 데이터에 대한 정확도 : \\\n",
    "{lr.score( X_train_scaled, y_train ) }' )\n",
    "print( f'생선 어종 분류 모델( Logistic Regression ) 테스트 데이터에 대한 정확도 : \\\n",
    "{lr.score( X_test_scaled, y_test ) }' )"
   ]
  },
  {
   "cell_type": "code",
   "execution_count": 81,
   "id": "71b13d31-b07b-42ef-878b-7b1d24cd5a5c",
   "metadata": {},
   "outputs": [
    {
     "name": "stdout",
     "output_type": "stream",
     "text": [
      "['Perch' 'Bream' 'Perch' 'Pike' 'Smelt' 'Perch' 'Perch' 'Smelt' 'Perch'\n",
      " 'Bream' 'Bream' 'Perch' 'Perch' 'Parkki' 'Perch' 'Parkki' 'Perch' 'Bream'\n",
      " 'Smelt' 'Pike' 'Bream' 'Perch' 'Perch' 'Roach' 'Perch' 'Bream' 'Perch'\n",
      " 'Perch' 'Smelt' 'Bream' 'Pike' 'Perch']\n"
     ]
    }
   ],
   "source": [
    "print( lr.predict( X_test_scaled ) )"
   ]
  },
  {
   "cell_type": "code",
   "execution_count": 89,
   "id": "344fe22a-629a-4253-96f6-6933be1926d9",
   "metadata": {},
   "outputs": [
    {
     "name": "stdout",
     "output_type": "stream",
     "text": [
      "[[4.09864353e-03 2.91011941e-02 6.88082530e-01 2.57520672e-02\n",
      "  2.14447779e-01 1.97596881e-02 1.87580973e-02]\n",
      " [9.67025263e-01 8.57476532e-03 3.97851434e-03 2.29702037e-03\n",
      "  3.68321128e-03 2.83600908e-07 1.44409426e-02]\n",
      " [7.04532853e-02 4.62163121e-02 5.61840319e-01 4.24761401e-02\n",
      "  2.20948458e-01 1.16006409e-03 5.69054216e-02]\n",
      " [1.79600511e-02 2.38831442e-03 2.14908414e-01 6.43889687e-01\n",
      "  7.86010182e-02 2.15121237e-04 4.20373937e-02]\n",
      " [7.67006879e-04 9.19921650e-02 2.69695501e-01 3.26332114e-03\n",
      "  1.27407123e-01 5.01686958e-01 5.18792488e-03]]\n"
     ]
    }
   ],
   "source": [
    "print( lr.predict_proba( X_test_scaled )[ :5, ] )"
   ]
  },
  {
   "cell_type": "code",
   "execution_count": 87,
   "id": "dd8b152a-d2d7-4765-b6e2-e1f720632517",
   "metadata": {},
   "outputs": [
    {
     "name": "stdout",
     "output_type": "stream",
     "text": [
      "['Bream' 'Parkki' 'Perch' 'Pike' 'Roach' 'Smelt' 'Whitefish']\n"
     ]
    }
   ],
   "source": [
    "print( lr.classes_ )"
   ]
  },
  {
   "cell_type": "code",
   "execution_count": 88,
   "id": "4dea77bd-554f-4353-806f-bcbb41c5f178",
   "metadata": {},
   "outputs": [
    {
     "name": "stdout",
     "output_type": "stream",
     "text": [
      "(7, 5) (7,)\n"
     ]
    }
   ],
   "source": [
    "print( lr.coef_.shape, lr.intercept_.shape )"
   ]
  },
  {
   "cell_type": "code",
   "execution_count": 102,
   "id": "c74f9fdb-ff61-4016-a276-13491228130c",
   "metadata": {},
   "outputs": [
    {
     "data": {
      "text/plain": [
       "LogisticRegression(C=500, max_iter=1000)"
      ]
     },
     "execution_count": 102,
     "metadata": {},
     "output_type": "execute_result"
    }
   ],
   "source": [
    "# Logistic Regression 하이퍼파라리터\n",
    "#   C : 규제를 제어하는 하이퍼파라미터, L2 규제, 기본값은 1, 작을수록 규제가 커진다.\n",
    "#   max_iter : 반복 회수, 기본값은 100\n",
    "lr = LogisticRegression( C = 500, max_iter = 1000 )\n",
    "\n",
    "lr.fit( X_train_scaled, y_train )"
   ]
  },
  {
   "cell_type": "code",
   "execution_count": 103,
   "id": "d86ebdb3-4c3d-4bf2-9cf6-be7f37eb9cbe",
   "metadata": {},
   "outputs": [
    {
     "name": "stdout",
     "output_type": "stream",
     "text": [
      "생선 어종 분류 모델( Logistic Regression ) 훈련 데이터에 대한 정확도 : 0.9921259842519685\n",
      "생선 어종 분류 모델( Logistic Regression ) 테스트 데이터에 대한 정확도 : 0.875\n"
     ]
    }
   ],
   "source": [
    "print( f'생선 어종 분류 모델( Logistic Regression ) 훈련 데이터에 대한 정확도 : \\\n",
    "{lr.score( X_train_scaled, y_train ) }' )\n",
    "print( f'생선 어종 분류 모델( Logistic Regression ) 테스트 데이터에 대한 정확도 : \\\n",
    "{lr.score( X_test_scaled, y_test ) }' )"
   ]
  },
  {
   "cell_type": "code",
   "execution_count": 109,
   "id": "f4188d93-2db6-44d9-a8f6-130bbd84a439",
   "metadata": {},
   "outputs": [
    {
     "name": "stdout",
     "output_type": "stream",
     "text": [
      "C -     1인경우 훈련 데이터에 대한 정확도 :  1     0.8188976377952756\n",
      "C -     1인경우 테스트 데이터에 대한 정확도 : 1     0.8125\n",
      "\n",
      "C -     5인경우 훈련 데이터에 대한 정확도 :  5     0.8740157480314961\n",
      "C -     5인경우 테스트 데이터에 대한 정확도 : 5     0.84375\n",
      "\n",
      "C -     6인경우 훈련 데이터에 대한 정확도 :  6     0.889763779527559\n",
      "C -     6인경우 테스트 데이터에 대한 정확도 : 6     0.84375\n",
      "\n",
      "C -     7인경우 훈련 데이터에 대한 정확도 :  7     0.8976377952755905\n",
      "C -     7인경우 테스트 데이터에 대한 정확도 : 7     0.84375\n",
      "\n",
      "C -     8인경우 훈련 데이터에 대한 정확도 :  8     0.8976377952755905\n",
      "C -     8인경우 테스트 데이터에 대한 정확도 : 8     0.8125\n",
      "\n",
      "C -     9인경우 훈련 데이터에 대한 정확도 :  9     0.905511811023622\n",
      "C -     9인경우 테스트 데이터에 대한 정확도 : 9     0.8125\n",
      "\n",
      "C -    20인경우 훈련 데이터에 대한 정확도 :  20     0.9448818897637795\n",
      "C -    20인경우 테스트 데이터에 대한 정확도 : 20     0.78125\n",
      "\n",
      "C -    50인경우 훈련 데이터에 대한 정확도 :  50     0.952755905511811\n",
      "C -    50인경우 테스트 데이터에 대한 정확도 : 50     0.84375\n",
      "\n",
      "C -   100인경우 훈련 데이터에 대한 정확도 :  100     0.984251968503937\n",
      "C -   100인경우 테스트 데이터에 대한 정확도 : 100     0.84375\n",
      "\n",
      "C -   200인경우 훈련 데이터에 대한 정확도 :  200     0.984251968503937\n",
      "C -   200인경우 테스트 데이터에 대한 정확도 : 200     0.84375\n",
      "\n",
      "C -   300인경우 훈련 데이터에 대한 정확도 :  300     0.984251968503937\n",
      "C -   300인경우 테스트 데이터에 대한 정확도 : 300     0.875\n",
      "\n"
     ]
    }
   ],
   "source": [
    "c_list = [ 1, 5, 6, 7, 8, 9, 20, 50, 100, 200, 300 ]\n",
    "\n",
    "for c in c_list:\n",
    "    lr = LogisticRegression( C = c, max_iter = 1000 )\n",
    "    lr.fit( X_train_scaled, y_train )\n",
    "    \n",
    "    print( f'C - {c:5}인경우 훈련 데이터에 대한 정확도 :  {c} \\\n",
    "    {lr.score( X_train_scaled, y_train ) }' )\n",
    "    print( f'C - {c:5}인경우 테스트 데이터에 대한 정확도 : {c} \\\n",
    "    {lr.score( X_test_scaled, y_test ) }\\n' )"
   ]
  },
  {
   "cell_type": "markdown",
   "id": "741ab45f-4cf7-4560-bc63-9bb28d863d18",
   "metadata": {},
   "source": [
    "### 의사 결정 트리( Decision Tree ) 이용 분류 모델\n",
    "\n",
    "* 와인 종류 분류 모델( white/red 와인 분류 )"
   ]
  },
  {
   "cell_type": "code",
   "execution_count": 110,
   "id": "8e4121f4-6ffb-4fc1-abe1-bd112b8e839b",
   "metadata": {},
   "outputs": [],
   "source": [
    "wine = pd.read_csv( '../data/wine.csv' )"
   ]
  },
  {
   "cell_type": "code",
   "execution_count": 111,
   "id": "3f204416-4397-4d7b-80df-83326a0a5703",
   "metadata": {},
   "outputs": [
    {
     "data": {
      "text/html": [
       "<div>\n",
       "<style scoped>\n",
       "    .dataframe tbody tr th:only-of-type {\n",
       "        vertical-align: middle;\n",
       "    }\n",
       "\n",
       "    .dataframe tbody tr th {\n",
       "        vertical-align: top;\n",
       "    }\n",
       "\n",
       "    .dataframe thead th {\n",
       "        text-align: right;\n",
       "    }\n",
       "</style>\n",
       "<table border=\"1\" class=\"dataframe\">\n",
       "  <thead>\n",
       "    <tr style=\"text-align: right;\">\n",
       "      <th></th>\n",
       "      <th>index</th>\n",
       "      <th>quality</th>\n",
       "      <th>fixed acidity</th>\n",
       "      <th>volatile acidity</th>\n",
       "      <th>citric acid</th>\n",
       "      <th>residual sugar</th>\n",
       "      <th>chlorides</th>\n",
       "      <th>free sulfur dioxide</th>\n",
       "      <th>total sulfur dioxide</th>\n",
       "      <th>density</th>\n",
       "      <th>pH</th>\n",
       "      <th>sulphates</th>\n",
       "      <th>alcohol</th>\n",
       "      <th>type</th>\n",
       "    </tr>\n",
       "  </thead>\n",
       "  <tbody>\n",
       "    <tr>\n",
       "      <th>0</th>\n",
       "      <td>0</td>\n",
       "      <td>5</td>\n",
       "      <td>5.6</td>\n",
       "      <td>0.695</td>\n",
       "      <td>0.06</td>\n",
       "      <td>6.8</td>\n",
       "      <td>0.042</td>\n",
       "      <td>9.0</td>\n",
       "      <td>84.0</td>\n",
       "      <td>0.99432</td>\n",
       "      <td>3.44</td>\n",
       "      <td>0.44</td>\n",
       "      <td>10.2</td>\n",
       "      <td>white</td>\n",
       "    </tr>\n",
       "    <tr>\n",
       "      <th>1</th>\n",
       "      <td>1</td>\n",
       "      <td>5</td>\n",
       "      <td>8.8</td>\n",
       "      <td>0.610</td>\n",
       "      <td>0.14</td>\n",
       "      <td>2.4</td>\n",
       "      <td>0.067</td>\n",
       "      <td>10.0</td>\n",
       "      <td>42.0</td>\n",
       "      <td>0.99690</td>\n",
       "      <td>3.19</td>\n",
       "      <td>0.59</td>\n",
       "      <td>9.5</td>\n",
       "      <td>red</td>\n",
       "    </tr>\n",
       "    <tr>\n",
       "      <th>2</th>\n",
       "      <td>2</td>\n",
       "      <td>5</td>\n",
       "      <td>7.9</td>\n",
       "      <td>0.210</td>\n",
       "      <td>0.39</td>\n",
       "      <td>2.0</td>\n",
       "      <td>0.057</td>\n",
       "      <td>21.0</td>\n",
       "      <td>138.0</td>\n",
       "      <td>0.99176</td>\n",
       "      <td>3.05</td>\n",
       "      <td>0.52</td>\n",
       "      <td>10.9</td>\n",
       "      <td>white</td>\n",
       "    </tr>\n",
       "    <tr>\n",
       "      <th>3</th>\n",
       "      <td>3</td>\n",
       "      <td>6</td>\n",
       "      <td>7.0</td>\n",
       "      <td>0.210</td>\n",
       "      <td>0.31</td>\n",
       "      <td>6.0</td>\n",
       "      <td>0.046</td>\n",
       "      <td>29.0</td>\n",
       "      <td>108.0</td>\n",
       "      <td>0.99390</td>\n",
       "      <td>3.26</td>\n",
       "      <td>0.50</td>\n",
       "      <td>10.8</td>\n",
       "      <td>white</td>\n",
       "    </tr>\n",
       "    <tr>\n",
       "      <th>4</th>\n",
       "      <td>4</td>\n",
       "      <td>6</td>\n",
       "      <td>7.8</td>\n",
       "      <td>0.400</td>\n",
       "      <td>0.26</td>\n",
       "      <td>9.5</td>\n",
       "      <td>0.059</td>\n",
       "      <td>32.0</td>\n",
       "      <td>178.0</td>\n",
       "      <td>0.99550</td>\n",
       "      <td>3.04</td>\n",
       "      <td>0.43</td>\n",
       "      <td>10.9</td>\n",
       "      <td>white</td>\n",
       "    </tr>\n",
       "  </tbody>\n",
       "</table>\n",
       "</div>"
      ],
      "text/plain": [
       "   index  quality  fixed acidity  volatile acidity  citric acid  \\\n",
       "0      0        5            5.6             0.695         0.06   \n",
       "1      1        5            8.8             0.610         0.14   \n",
       "2      2        5            7.9             0.210         0.39   \n",
       "3      3        6            7.0             0.210         0.31   \n",
       "4      4        6            7.8             0.400         0.26   \n",
       "\n",
       "   residual sugar  chlorides  free sulfur dioxide  total sulfur dioxide  \\\n",
       "0             6.8      0.042                  9.0                  84.0   \n",
       "1             2.4      0.067                 10.0                  42.0   \n",
       "2             2.0      0.057                 21.0                 138.0   \n",
       "3             6.0      0.046                 29.0                 108.0   \n",
       "4             9.5      0.059                 32.0                 178.0   \n",
       "\n",
       "   density    pH  sulphates  alcohol   type  \n",
       "0  0.99432  3.44       0.44     10.2  white  \n",
       "1  0.99690  3.19       0.59      9.5    red  \n",
       "2  0.99176  3.05       0.52     10.9  white  \n",
       "3  0.99390  3.26       0.50     10.8  white  \n",
       "4  0.99550  3.04       0.43     10.9  white  "
      ]
     },
     "execution_count": 111,
     "metadata": {},
     "output_type": "execute_result"
    }
   ],
   "source": [
    "wine.head()"
   ]
  },
  {
   "cell_type": "code",
   "execution_count": 112,
   "id": "997e1c2a-47f0-437e-89a5-ec8256f479c7",
   "metadata": {},
   "outputs": [
    {
     "name": "stdout",
     "output_type": "stream",
     "text": [
      "<class 'pandas.core.frame.DataFrame'>\n",
      "RangeIndex: 5497 entries, 0 to 5496\n",
      "Data columns (total 14 columns):\n",
      " #   Column                Non-Null Count  Dtype  \n",
      "---  ------                --------------  -----  \n",
      " 0   index                 5497 non-null   int64  \n",
      " 1   quality               5497 non-null   int64  \n",
      " 2   fixed acidity         5497 non-null   float64\n",
      " 3   volatile acidity      5497 non-null   float64\n",
      " 4   citric acid           5497 non-null   float64\n",
      " 5   residual sugar        5497 non-null   float64\n",
      " 6   chlorides             5497 non-null   float64\n",
      " 7   free sulfur dioxide   5497 non-null   float64\n",
      " 8   total sulfur dioxide  5497 non-null   float64\n",
      " 9   density               5497 non-null   float64\n",
      " 10  pH                    5497 non-null   float64\n",
      " 11  sulphates             5497 non-null   float64\n",
      " 12  alcohol               5497 non-null   float64\n",
      " 13  type                  5497 non-null   object \n",
      "dtypes: float64(11), int64(2), object(1)\n",
      "memory usage: 601.4+ KB\n"
     ]
    }
   ],
   "source": [
    "wine.info()"
   ]
  },
  {
   "cell_type": "code",
   "execution_count": 113,
   "id": "b114badc-a27e-46e4-9368-2f3cb9b90f61",
   "metadata": {},
   "outputs": [
    {
     "data": {
      "text/plain": [
       "array(['white', 'red'], dtype=object)"
      ]
     },
     "execution_count": 113,
     "metadata": {},
     "output_type": "execute_result"
    }
   ],
   "source": [
    "wine[ 'type' ].unique()"
   ]
  },
  {
   "cell_type": "markdown",
   "id": "e176bbc2-4a00-41ed-92c6-a94da23a6b61",
   "metadata": {},
   "source": [
    "#### 데이터 전처리"
   ]
  },
  {
   "cell_type": "code",
   "execution_count": 114,
   "id": "be3fe33b-6385-4cd7-86c9-bc571eef70df",
   "metadata": {},
   "outputs": [],
   "source": [
    "df = wine.copy()"
   ]
  },
  {
   "cell_type": "code",
   "execution_count": 115,
   "id": "202b12b7-bfa0-46f6-abe4-dacb820266f6",
   "metadata": {},
   "outputs": [
    {
     "data": {
      "text/plain": [
       "array([0, 1])"
      ]
     },
     "execution_count": 115,
     "metadata": {},
     "output_type": "execute_result"
    }
   ],
   "source": [
    "# 이진 분류 - 양성 클래스/음성 클래스로 분류\n",
    "# 양성 클래스가 주 분류 목적\n",
    "df[ 'type' ] = df[ 'type' ].map( { 'white': 0, 'red': 1 } ).astype( int )\n",
    "df[ 'type' ].unique()"
   ]
  },
  {
   "cell_type": "code",
   "execution_count": 116,
   "id": "b6dfb387-57a5-4325-a78b-7017ddcd798e",
   "metadata": {},
   "outputs": [
    {
     "name": "stdout",
     "output_type": "stream",
     "text": [
      "<class 'pandas.core.frame.DataFrame'>\n",
      "RangeIndex: 5497 entries, 0 to 5496\n",
      "Data columns (total 14 columns):\n",
      " #   Column                Non-Null Count  Dtype  \n",
      "---  ------                --------------  -----  \n",
      " 0   index                 5497 non-null   int64  \n",
      " 1   quality               5497 non-null   int64  \n",
      " 2   fixed acidity         5497 non-null   float64\n",
      " 3   volatile acidity      5497 non-null   float64\n",
      " 4   citric acid           5497 non-null   float64\n",
      " 5   residual sugar        5497 non-null   float64\n",
      " 6   chlorides             5497 non-null   float64\n",
      " 7   free sulfur dioxide   5497 non-null   float64\n",
      " 8   total sulfur dioxide  5497 non-null   float64\n",
      " 9   density               5497 non-null   float64\n",
      " 10  pH                    5497 non-null   float64\n",
      " 11  sulphates             5497 non-null   float64\n",
      " 12  alcohol               5497 non-null   float64\n",
      " 13  type                  5497 non-null   int64  \n",
      "dtypes: float64(11), int64(3)\n",
      "memory usage: 601.4 KB\n"
     ]
    }
   ],
   "source": [
    "df.info()"
   ]
  },
  {
   "cell_type": "markdown",
   "id": "9a21edb9-b550-4cbc-993a-1c077c4e2113",
   "metadata": {},
   "source": [
    "#### 데이터 분리"
   ]
  },
  {
   "cell_type": "code",
   "execution_count": 125,
   "id": "6a5f1526-66a4-4bd9-95ff-f2f477c26a3c",
   "metadata": {},
   "outputs": [],
   "source": [
    "X = df.drop( [ 'index', 'quality', 'type' ], axis = 1 )\n",
    "y = df[ 'type' ]"
   ]
  },
  {
   "cell_type": "code",
   "execution_count": 126,
   "id": "54dc8c63-e280-4f8f-bc8f-484be78aea83",
   "metadata": {},
   "outputs": [
    {
     "name": "stdout",
     "output_type": "stream",
     "text": [
      "X shape : (5497, 11)\n",
      "y shape : (5497,)\n"
     ]
    }
   ],
   "source": [
    "print( f'X shape : {X.shape}' )\n",
    "print( f'y shape : {y.shape}' )"
   ]
  },
  {
   "cell_type": "code",
   "execution_count": 127,
   "id": "72dbd00b-e44b-4851-b1bc-212e959c1a82",
   "metadata": {},
   "outputs": [],
   "source": [
    "X_train, X_test, y_train, y_test = train_test_split(\n",
    "    X, y, test_size = 0.2, random_state = 42\n",
    ")"
   ]
  },
  {
   "cell_type": "code",
   "execution_count": 128,
   "id": "a4f51634-2987-4ff4-9388-f71420fd7811",
   "metadata": {},
   "outputs": [
    {
     "name": "stdout",
     "output_type": "stream",
     "text": [
      "X_train shape : (4397, 11)\n",
      "y_train shape : (4397,)\n",
      "\n",
      "X_test shape : (1100, 11)\n",
      "y_test shape : (1100,)\n"
     ]
    }
   ],
   "source": [
    "print( f'X_train shape : {X_train.shape}' )\n",
    "print( f'y_train shape : {y_train.shape}' )\n",
    "print( f'\\nX_test shape : {X_test.shape}' )\n",
    "print( f'y_test shape : {y_test.shape}' )"
   ]
  },
  {
   "cell_type": "markdown",
   "id": "f9d94326-b721-4452-a138-2524ded8673d",
   "metadata": {},
   "source": [
    "#### feature scaling - StandardScaler"
   ]
  },
  {
   "cell_type": "code",
   "execution_count": 129,
   "id": "a49a472d-0508-47fb-a806-9f98387f52c9",
   "metadata": {},
   "outputs": [],
   "source": [
    "ss.fit( X_train )\n",
    "X_train_scaled = ss.transform( X_train )\n",
    "X_test_scaled = ss.transform( X_test )"
   ]
  },
  {
   "cell_type": "markdown",
   "id": "18943dd4-6d07-461b-9a27-f5fd82ef8b3d",
   "metadata": {},
   "source": [
    "#### 분류 모델 생성 - Decision Tree"
   ]
  },
  {
   "cell_type": "code",
   "execution_count": 130,
   "id": "d40476c2-d1f7-4cc3-829a-58022ac57929",
   "metadata": {},
   "outputs": [],
   "source": [
    "from sklearn.tree import DecisionTreeClassifier"
   ]
  },
  {
   "cell_type": "code",
   "execution_count": 132,
   "id": "45c6014d-072f-4306-ab20-62450b79d658",
   "metadata": {},
   "outputs": [
    {
     "data": {
      "text/plain": [
       "DecisionTreeClassifier(random_state=42)"
      ]
     },
     "execution_count": 132,
     "metadata": {},
     "output_type": "execute_result"
    }
   ],
   "source": [
    "dt = DecisionTreeClassifier( random_state = 42 )\n",
    "dt.fit( X_train_scaled, y_train )"
   ]
  },
  {
   "cell_type": "code",
   "execution_count": 133,
   "id": "d72bc28e-fcaf-46a1-94f2-2d37e4bfc330",
   "metadata": {},
   "outputs": [
    {
     "name": "stdout",
     "output_type": "stream",
     "text": [
      "와인 종류 분류 모델( Decision Tree ) 훈련 데이터에 대한 정확도 : 0.9997725722083238\n",
      "와인 종류 분류 모델( Decision Tree ) 테스트 데이터에 대한 정확도 : 0.9827272727272728\n"
     ]
    }
   ],
   "source": [
    "print( f'와인 종류 분류 모델( Decision Tree ) 훈련 데이터에 대한 정확도 : \\\n",
    "{dt.score( X_train_scaled, y_train ) }' )\n",
    "print( f'와인 종류 분류 모델( Decision Tree ) 테스트 데이터에 대한 정확도 : \\\n",
    "{dt.score( X_test_scaled, y_test ) }' )"
   ]
  },
  {
   "cell_type": "code",
   "execution_count": 134,
   "id": "e4866f60-7e70-4be8-8671-81c55afd3b2b",
   "metadata": {},
   "outputs": [],
   "source": [
    "from sklearn.tree import plot_tree"
   ]
  },
  {
   "cell_type": "code",
   "execution_count": 137,
   "id": "886d24d4-4726-4a6f-803d-c7286b9dac41",
   "metadata": {},
   "outputs": [
    {
     "data": {
      "image/png": "[encoded data removed]",
      "text/plain": [
       "<Figure size 720x504 with 1 Axes>"
      ]
     },
     "metadata": {
      "needs_background": "light"
     },
     "output_type": "display_data"
    }
   ],
   "source": [
    "plt.figure( figsize = ( 10, 7 ) )\n",
    "plot_tree( dt, filled = True )\n",
    "plt.show()"
   ]
  },
  {
   "cell_type": "code",
   "execution_count": 139,
   "id": "54b3cfaa-fd48-4888-94ad-28f9f4856435",
   "metadata": {},
   "outputs": [
    {
     "data": {
      "text/plain": [
       "Index(['index', 'quality', 'fixed acidity', 'volatile acidity', 'citric acid',\n",
       "       'residual sugar', 'chlorides', 'free sulfur dioxide',\n",
       "       'total sulfur dioxide', 'density', 'pH', 'sulphates', 'alcohol',\n",
       "       'type'],\n",
       "      dtype='object')"
      ]
     },
     "execution_count": 139,
     "metadata": {},
     "output_type": "execute_result"
    }
   ],
   "source": [
    "wine.columns"
   ]
  },
  {
   "cell_type": "code",
   "execution_count": 144,
   "id": "ff9c3f64-f261-4c90-9557-039ad1159e96",
   "metadata": {},
   "outputs": [
    {
     "data": {
      "image/png": "[encoded data removed]",
      "text/plain": [
       "<Figure size 1440x504 with 1 Axes>"
      ]
     },
     "metadata": {
      "needs_background": "light"
     },
     "output_type": "display_data"
    }
   ],
   "source": [
    "plt.figure( figsize = ( 20, 7 ) )\n",
    "plot_tree( dt, max_depth = 1, filled = True,\n",
    "           feature_names = [ 'fixed acidity', 'volatile acidity', \n",
    "                             'citric acid', 'residual sugar', \n",
    "                             'chlorides', 'free sulfur dioxide',\n",
    "                             'total sulfur dioxide', 'density', \n",
    "                             'pH', 'sulphates', 'alcohol' ] )\n",
    "plt.show()"
   ]
  },
  {
   "cell_type": "markdown",
   "id": "7f1e9bb3-38bd-4c1a-8c16-bc302625f6ad",
   "metadata": {},
   "source": [
    "* 가지치기를 통한 의사 결정 트리 모델 생성 "
   ]
  },
  {
   "cell_type": "code",
   "execution_count": 153,
   "id": "98c9dacb-8171-45e6-b1eb-77937400fc86",
   "metadata": {},
   "outputs": [
    {
     "data": {
      "text/plain": [
       "DecisionTreeClassifier(max_depth=3, random_state=42)"
      ]
     },
     "execution_count": 153,
     "metadata": {},
     "output_type": "execute_result"
    }
   ],
   "source": [
    "dt = DecisionTreeClassifier( max_depth = 3, random_state = 42 )\n",
    "dt.fit( X_train_scaled, y_train )"
   ]
  },
  {
   "cell_type": "code",
   "execution_count": 154,
   "id": "9e606358-a89f-4ad1-b3f6-b1c45ef94007",
   "metadata": {},
   "outputs": [
    {
     "name": "stdout",
     "output_type": "stream",
     "text": [
      "와인 종류 분류 모델( Decision Tree ) 훈련 데이터에 대한 정확도 : 0.9822606322492609\n",
      "와인 종류 분류 모델( Decision Tree ) 테스트 데이터에 대한 정확도 : 0.9754545454545455\n"
     ]
    }
   ],
   "source": [
    "print( f'와인 종류 분류 모델( Decision Tree ) 훈련 데이터에 대한 정확도 : \\\n",
    "{dt.score( X_train_scaled, y_train ) }' )\n",
    "print( f'와인 종류 분류 모델( Decision Tree ) 테스트 데이터에 대한 정확도 : \\\n",
    "{dt.score( X_test_scaled, y_test ) }' )"
   ]
  },
  {
   "cell_type": "code",
   "execution_count": 155,
   "id": "ff375115-f8b6-4ebb-823b-69b13c2e0bd6",
   "metadata": {},
   "outputs": [
    {
     "data": {
      "image/png": "[encoded data removed]",
      "text/plain": [
       "<Figure size 1440x504 with 1 Axes>"
      ]
     },
     "metadata": {
      "needs_background": "light"
     },
     "output_type": "display_data"
    }
   ],
   "source": [
    "plt.figure( figsize = ( 20, 7 ) )\n",
    "plot_tree( dt, filled = True,\n",
    "           feature_names = [ 'fixed acidity', 'volatile acidity', \n",
    "                             'citric acid', 'residual sugar', \n",
    "                             'chlorides', 'free sulfur dioxide',\n",
    "                             'total sulfur dioxide', 'density', \n",
    "                             'pH', 'sulphates', 'alcohol' ])\n",
    "plt.show()"
   ]
  },
  {
   "cell_type": "markdown",
   "id": "37ab636f-2028-4737-ab23-48f6fdc469a2",
   "metadata": {},
   "source": [
    "* 표준화를 적용하지 않는 특성을 이용한 의사 결정 트리 모델 생성"
   ]
  },
  {
   "cell_type": "code",
   "execution_count": 160,
   "id": "f94c4998-5ed2-40a3-8ea0-98bdbc659df3",
   "metadata": {},
   "outputs": [
    {
     "data": {
      "text/plain": [
       "DecisionTreeClassifier(max_depth=3, random_state=42)"
      ]
     },
     "execution_count": 160,
     "metadata": {},
     "output_type": "execute_result"
    }
   ],
   "source": [
    "dt = DecisionTreeClassifier( max_depth = 3, random_state = 42 )\n",
    "dt.fit( X_train, y_train )"
   ]
  },
  {
   "cell_type": "code",
   "execution_count": 161,
   "id": "1053223c-8d53-4082-9668-61bab621146b",
   "metadata": {},
   "outputs": [
    {
     "name": "stdout",
     "output_type": "stream",
     "text": [
      "와인 종류 분류 모델( Decision Tree ) 훈련 데이터에 대한 정확도 : 0.9822606322492609\n",
      "와인 종류 분류 모델( Decision Tree ) 테스트 데이터에 대한 정확도 : 0.9754545454545455\n"
     ]
    }
   ],
   "source": [
    "print( f'와인 종류 분류 모델( Decision Tree ) 훈련 데이터에 대한 정확도 : \\\n",
    "{dt.score( X_train, y_train ) }' )\n",
    "print( f'와인 종류 분류 모델( Decision Tree ) 테스트 데이터에 대한 정확도 : \\\n",
    "{dt.score( X_test, y_test ) }' )"
   ]
  },
  {
   "cell_type": "code",
   "execution_count": 162,
   "id": "31e5bd34-191b-4ec4-8d9a-5713f08f92fa",
   "metadata": {},
   "outputs": [
    {
     "data": {
      "image/png": "[encoded data removed]",
      "text/plain": [
       "<Figure size 1440x504 with 1 Axes>"
      ]
     },
     "metadata": {
      "needs_background": "light"
     },
     "output_type": "display_data"
    }
   ],
   "source": [
    "plt.figure( figsize = ( 20, 7 ) )\n",
    "plot_tree( dt, filled = True,\n",
    "           feature_names = [ 'fixed acidity', 'volatile acidity', \n",
    "                             'citric acid', 'residual sugar', \n",
    "                             'chlorides', 'free sulfur dioxide',\n",
    "                             'total sulfur dioxide', 'density', \n",
    "                             'pH', 'sulphates', 'alcohol' ])\n",
    "plt.show()"
   ]
  },
  {
   "cell_type": "markdown",
   "id": "8f52f88a-a51d-45a9-83d8-c07f88983f30",
   "metadata": {},
   "source": [
    "* 특성 중요도"
   ]
  },
  {
   "cell_type": "code",
   "execution_count": 163,
   "id": "4201315f-5da0-468f-8cd3-87a33261994d",
   "metadata": {},
   "outputs": [
    {
     "data": {
      "text/plain": [
       "Index(['index', 'quality', 'fixed acidity', 'volatile acidity', 'citric acid',\n",
       "       'residual sugar', 'chlorides', 'free sulfur dioxide',\n",
       "       'total sulfur dioxide', 'density', 'pH', 'sulphates', 'alcohol',\n",
       "       'type'],\n",
       "      dtype='object')"
      ]
     },
     "execution_count": 163,
     "metadata": {},
     "output_type": "execute_result"
    }
   ],
   "source": [
    "wine.columns"
   ]
  },
  {
   "cell_type": "code",
   "execution_count": 165,
   "id": "46375c89-9522-4d65-adef-2913b36b94af",
   "metadata": {},
   "outputs": [
    {
     "name": "stdout",
     "output_type": "stream",
     "text": [
      "와인 분류 모델 의사 결정 트리 모델 특성 중요도 : [0.04314704 0.         0.         0.         0.69845448 0.\n",
      " 0.22124309 0.01557199 0.00264671 0.01893669 0.        ]\n"
     ]
    }
   ],
   "source": [
    "print( f'와인 분류 모델 의사 결정 트리 모델 특성 중요도 : {dt.feature_importances_}' )"
   ]
  },
  {
   "cell_type": "markdown",
   "id": "c8fcc14b-709a-4a35-996d-61f5b87ba2a5",
   "metadata": {},
   "source": [
    "* 특성 중요도에 따른 특성만으로 의사 결정 트리 생성"
   ]
  },
  {
   "cell_type": "code",
   "execution_count": 166,
   "id": "01fab421-768a-446b-abbd-de1fdd1b616a",
   "metadata": {},
   "outputs": [],
   "source": [
    "X = wine[ [ 'fixed acidity', 'chlorides', \n",
    "            'total sulfur dioxide', 'density', \n",
    "            'pH', 'sulphates' ] ]"
   ]
  },
  {
   "cell_type": "code",
   "execution_count": 167,
   "id": "de2adcd9-4a4a-43df-8b9d-6e5430b0b274",
   "metadata": {},
   "outputs": [],
   "source": [
    "X_train, X_test, y_train, y_test = train_test_split(\n",
    "    X, y, test_size = 0.2, random_state = 42 \n",
    ")"
   ]
  },
  {
   "cell_type": "code",
   "execution_count": 172,
   "id": "56c328e5-7f2e-4dbd-a0de-612657825367",
   "metadata": {},
   "outputs": [
    {
     "data": {
      "text/plain": [
       "DecisionTreeClassifier(max_depth=3, random_state=42)"
      ]
     },
     "execution_count": 172,
     "metadata": {},
     "output_type": "execute_result"
    }
   ],
   "source": [
    "dt = DecisionTreeClassifier( max_depth = 3, random_state = 42 )\n",
    "dt.fit( X_train, y_train )"
   ]
  },
  {
   "cell_type": "code",
   "execution_count": 173,
   "id": "4a989778-b530-4139-a669-009477ddad9e",
   "metadata": {},
   "outputs": [
    {
     "name": "stdout",
     "output_type": "stream",
     "text": [
      "와인 종류 분류 모델( Decision Tree ) 훈련 데이터에 대한 정확도 : 0.9822606322492609\n",
      "와인 종류 분류 모델( Decision Tree ) 테스트 데이터에 대한 정확도 : 0.9754545454545455\n"
     ]
    }
   ],
   "source": [
    "print( f'와인 종류 분류 모델( Decision Tree ) 훈련 데이터에 대한 정확도 : \\\n",
    "{dt.score( X_train, y_train ) }' )\n",
    "print( f'와인 종류 분류 모델( Decision Tree ) 테스트 데이터에 대한 정확도 : \\\n",
    "{dt.score( X_test, y_test ) }' )"
   ]
  },
  {
   "cell_type": "code",
   "execution_count": 174,
   "id": "d68605b5-0c43-4e35-a4b3-f9ec71329992",
   "metadata": {},
   "outputs": [
    {
     "data": {
      "image/png": "[encoded data removed]",
      "text/plain": [
       "<Figure size 1440x504 with 1 Axes>"
      ]
     },
     "metadata": {
      "needs_background": "light"
     },
     "output_type": "display_data"
    }
   ],
   "source": [
    "plt.figure( figsize = ( 20, 7 ) )\n",
    "plot_tree( dt, filled = True,\n",
    "           feature_names = [ 'fixed acidity', 'chlorides', \n",
    "                             'total sulfur dioxide', 'density', \n",
    "                             'pH', 'sulphates' ])\n",
    "plt.show()"
   ]
  },
  {
   "cell_type": "code",
   "execution_count": 175,
   "id": "d9079569-21e1-44aa-8ffd-63049ed7a4fc",
   "metadata": {},
   "outputs": [
    {
     "name": "stdout",
     "output_type": "stream",
     "text": [
      "와인 분류 모델 의사 결정 트리 모델 특성 중요도 : [0.04314704 0.69845448 0.22124309 0.01557199 0.00264671 0.01893669]\n"
     ]
    }
   ],
   "source": [
    "print( f'와인 분류 모델 의사 결정 트리 모델 특성 중요도 : {dt.feature_importances_}' )"
   ]
  },
  {
   "cell_type": "markdown",
   "id": "bfdd555b-8bcf-49d1-9c3d-a9da88a07680",
   "metadata": {},
   "source": [
    "## 교차 검증\n",
    "\n",
    "### 검증 데이터 세트( validation data set )"
   ]
  },
  {
   "cell_type": "code",
   "execution_count": 176,
   "id": "a0d4da7b-0a74-4797-bf0f-fcd4fff4cd75",
   "metadata": {},
   "outputs": [
    {
     "name": "stdout",
     "output_type": "stream",
     "text": [
      "전체 입력 데이터 차원 : (5497, 6)\n",
      "전체 정답 데이터 차원 : (5497,)\n"
     ]
    }
   ],
   "source": [
    "print( f'전체 입력 데이터 차원 : {X.shape}' )\n",
    "print( f'전체 정답 데이터 차원 : {y.shape}' )"
   ]
  },
  {
   "cell_type": "code",
   "execution_count": 177,
   "id": "e6d5c392-b4f6-43ee-b773-32dc1d7da364",
   "metadata": {},
   "outputs": [
    {
     "name": "stdout",
     "output_type": "stream",
     "text": [
      "전체 훈련 데이터 차원( 입력 ) : (4397, 6)\n",
      "전체 훈련 데이터 차원( 정답 ) : (4397,)\n"
     ]
    }
   ],
   "source": [
    "print( f'전체 훈련 데이터 차원( 입력 ) : {X_train.shape}' )\n",
    "print( f'전체 훈련 데이터 차원( 정답 ) : {y_train.shape}' )"
   ]
  },
  {
   "cell_type": "code",
   "execution_count": 178,
   "id": "e4f0522b-ca96-4d2c-8de9-1fec8a7c766f",
   "metadata": {},
   "outputs": [
    {
     "name": "stdout",
     "output_type": "stream",
     "text": [
      "전체 테스트 데이터 차원( 입력 ) : (1100, 6)\n",
      "전체 테스트 데이터 차원( 정답 ) : (1100,)\n"
     ]
    }
   ],
   "source": [
    "print( f'전체 테스트 데이터 차원( 입력 ) : {X_test.shape}' )\n",
    "print( f'전체 테스트 데이터 차원( 정답 ) : {y_test.shape}' )"
   ]
  },
  {
   "cell_type": "code",
   "execution_count": 179,
   "id": "631e327c-144b-4300-90eb-8d600e717c8b",
   "metadata": {},
   "outputs": [],
   "source": [
    "X_train, X_val, y_train, y_val = train_test_split(\n",
    "    X_train, y_train, test_size = 0.2, random_state = 42\n",
    ")"
   ]
  },
  {
   "cell_type": "code",
   "execution_count": 180,
   "id": "1413c260-130e-4e95-94d0-ced11c8fc829",
   "metadata": {},
   "outputs": [
    {
     "name": "stdout",
     "output_type": "stream",
     "text": [
      "훈련 데이터 차원( 입력 ) : (3517, 6)\n",
      "훈련 데이터 차원( 정답 ) : (3517,)\n"
     ]
    }
   ],
   "source": [
    "print( f'훈련 데이터 차원( 입력 ) : {X_train.shape}' )\n",
    "print( f'훈련 데이터 차원( 정답 ) : {y_train.shape}' )"
   ]
  },
  {
   "cell_type": "code",
   "execution_count": 181,
   "id": "bb7f0c02-f0fc-4a8f-8780-b4ece2e2d337",
   "metadata": {},
   "outputs": [
    {
     "name": "stdout",
     "output_type": "stream",
     "text": [
      "검증 데이터 차원( 입력 ) : (880, 6)\n",
      "검증 데이터 차원( 정답 ) : (880,)\n"
     ]
    }
   ],
   "source": [
    "print( f'검증 데이터 차원( 입력 ) : {X_val.shape}' )\n",
    "print( f'검증 데이터 차원( 정답 ) : {y_val.shape}' )"
   ]
  },
  {
   "cell_type": "code",
   "execution_count": 183,
   "id": "edb3c56e-099d-4e69-b225-710353d3d44d",
   "metadata": {},
   "outputs": [
    {
     "data": {
      "text/plain": [
       "DecisionTreeClassifier(random_state=42)"
      ]
     },
     "execution_count": 183,
     "metadata": {},
     "output_type": "execute_result"
    }
   ],
   "source": [
    "dt = DecisionTreeClassifier( random_state = 42 )\n",
    "dt.fit( X_train, y_train )"
   ]
  },
  {
   "cell_type": "code",
   "execution_count": 184,
   "id": "5934eff1-3e7e-45a8-934b-af319a0d48d9",
   "metadata": {},
   "outputs": [
    {
     "name": "stdout",
     "output_type": "stream",
     "text": [
      "와인 종류 분류 모델( Decision Tree ) 훈련 데이터에 대한 정확도 : 0.9997156667614444\n",
      "와인 종류 분류 모델( Decision Tree ) 테스트 데이터에 대한 정확도 : 0.9875\n"
     ]
    }
   ],
   "source": [
    "print( f'와인 종류 분류 모델( Decision Tree ) 훈련 데이터에 대한 정확도 : \\\n",
    "{dt.score( X_train, y_train ) }' )\n",
    "print( f'와인 종류 분류 모델( Decision Tree ) 검증 데이터에 대한 정확도 : \\\n",
    "{dt.score( X_val, y_val ) }' )"
   ]
  },
  {
   "cell_type": "markdown",
   "id": "eb9cb3c9-2203-4f0a-875c-a2b01211def0",
   "metadata": {},
   "source": [
    "#### 교차 검증( 5-fold 교차 검증 )"
   ]
  },
  {
   "cell_type": "code",
   "execution_count": 186,
   "id": "b7bcffb4-c864-46dc-8906-ab9caa213942",
   "metadata": {},
   "outputs": [],
   "source": [
    "X_train, X_val, y_train, y_val = train_test_split(\n",
    "    X, y, test_size = 0.2, random_state = 42\n",
    ")"
   ]
  },
  {
   "cell_type": "code",
   "execution_count": 187,
   "id": "b0aed2f1-6cd1-4f60-a504-7ffd7e1842a9",
   "metadata": {},
   "outputs": [],
   "source": [
    "from sklearn.model_selection import cross_validate"
   ]
  },
  {
   "cell_type": "code",
   "execution_count": 188,
   "id": "c7c416ca-73e8-47b6-812c-b5f300e4b02d",
   "metadata": {},
   "outputs": [],
   "source": [
    "scores = cross_validate( dt, X_train, y_train )"
   ]
  },
  {
   "cell_type": "code",
   "execution_count": 190,
   "id": "3bd52aaa-05f7-400a-ae88-e816f46177ef",
   "metadata": {},
   "outputs": [
    {
     "name": "stdout",
     "output_type": "stream",
     "text": [
      "교차 검증 결과 항목 : dict_keys(['fit_time', 'score_time', 'test_score'])\n",
      "\n",
      "교차 검증 결과 :\n",
      "{'fit_time': array([0.02221513, 0.0184021 , 0.011976  , 0.01122689, 0.0160079 ]), 'score_time': array([0.00284076, 0.00197196, 0.00204015, 0.00283599, 0.00195026]), 'test_score': array([0.98181818, 0.98409091, 0.98065984, 0.98634812, 0.97724687])}\n"
     ]
    }
   ],
   "source": [
    "print( f'교차 검증 결과 항목 : {scores.keys()}' )\n",
    "print( f'\\n교차 검증 결과 :\\n{scores}' )"
   ]
  },
  {
   "cell_type": "code",
   "execution_count": 193,
   "id": "a3e679cf-d179-434f-af9e-715bd9206057",
   "metadata": {},
   "outputs": [
    {
     "name": "stdout",
     "output_type": "stream",
     "text": [
      "교차 검증 결과 평균 : 0.9820327851897819\n"
     ]
    }
   ],
   "source": [
    "print( f'교차 검증 결과 평균 : {np.mean( scores[ \"test_score\" ] )}' )"
   ]
  },
  {
   "cell_type": "code",
   "execution_count": 194,
   "id": "d18dde23-9e2f-4f3e-b05f-30ab7f09a3db",
   "metadata": {},
   "outputs": [],
   "source": [
    "from sklearn.model_selection import StratifiedKFold # 분활기( splitter )"
   ]
  },
  {
   "cell_type": "code",
   "execution_count": 196,
   "id": "6dd2a9d7-dfd3-4745-9e27-36243df80a3d",
   "metadata": {},
   "outputs": [],
   "source": [
    "scores = cross_validate( dt, X_train, y_train,\n",
    "                         cv = StratifiedKFold() )"
   ]
  },
  {
   "cell_type": "code",
   "execution_count": 197,
   "id": "f7cd40e1-64e9-41e3-ac62-78fc798313e2",
   "metadata": {},
   "outputs": [
    {
     "name": "stdout",
     "output_type": "stream",
     "text": [
      "교차 검증 결과 평균 : 0.9820327851897819\n"
     ]
    }
   ],
   "source": [
    "print( f'교차 검증 결과 평균 : {np.mean( scores[ \"test_score\" ] )}' )"
   ]
  },
  {
   "cell_type": "code",
   "execution_count": 199,
   "id": "dd42289c-9166-4142-a70d-98ebfc783d9a",
   "metadata": {},
   "outputs": [],
   "source": [
    "# 10-fold 교차 검증\n",
    "splitter = StratifiedKFold( n_splits = 10, shuffle = True, random_state = 42 )\n",
    "scores = cross_validate( dt, X_train, y_train,\n",
    "                         cv = splitter )"
   ]
  },
  {
   "cell_type": "code",
   "execution_count": 200,
   "id": "beb28c81-d8f2-4625-ad49-387d0d9670ea",
   "metadata": {},
   "outputs": [
    {
     "name": "stdout",
     "output_type": "stream",
     "text": [
      "교차 검증 결과 평균 : 0.9833997722095674\n"
     ]
    }
   ],
   "source": [
    "print( f'교차 검증 결과 평균 : {np.mean( scores[ \"test_score\" ] )}' )"
   ]
  },
  {
   "cell_type": "code",
   "execution_count": 201,
   "id": "7c9af55f-c835-4ca4-9401-afd2e727364f",
   "metadata": {},
   "outputs": [],
   "source": [
    "# 20-fold 교차 검증\n",
    "splitter = StratifiedKFold( n_splits = 20, shuffle = True, random_state = 42 )\n",
    "scores = cross_validate( dt, X_train, y_train,\n",
    "                         cv = splitter )"
   ]
  },
  {
   "cell_type": "code",
   "execution_count": 202,
   "id": "58cb94b3-2094-44e6-aaf6-4c98e19ccf03",
   "metadata": {},
   "outputs": [
    {
     "name": "stdout",
     "output_type": "stream",
     "text": [
      "교차 검증 결과 평균 : 0.9852210460772103\n"
     ]
    }
   ],
   "source": [
    "print( f'교차 검증 결과 평균 : {np.mean( scores[ \"test_score\" ] )}' )"
   ]
  },
  {
   "cell_type": "code",
   "execution_count": 203,
   "id": "f2edd1fd-5e8f-469a-96b6-fa812be6f295",
   "metadata": {},
   "outputs": [],
   "source": [
    "# 30-fold 교차 검증\n",
    "splitter = StratifiedKFold( n_splits = 30, shuffle = True, random_state = 42 )\n",
    "scores = cross_validate( dt, X_train, y_train,\n",
    "                         cv = splitter )"
   ]
  },
  {
   "cell_type": "code",
   "execution_count": 204,
   "id": "98e0fde8-128d-42a2-b812-0e059068f92b",
   "metadata": {},
   "outputs": [
    {
     "name": "stdout",
     "output_type": "stream",
     "text": [
      "교차 검증 결과 평균 : 0.9859037678998541\n"
     ]
    }
   ],
   "source": [
    "print( f'교차 검증 결과 평균 : {np.mean( scores[ \"test_score\" ] )}' )"
   ]
  },
  {
   "cell_type": "markdown",
   "id": "96040ec3-9612-4503-9e84-a55e963d35f3",
   "metadata": {},
   "source": [
    "### 분류 모델 평가"
   ]
  },
  {
   "cell_type": "code",
   "execution_count": 205,
   "id": "e51068d6-d682-4c3f-bedd-cac20aa1a665",
   "metadata": {},
   "outputs": [],
   "source": [
    "from sklearn.metrics import accuracy_score, precision_score\n",
    "from sklearn.metrics import recall_score, confusion_matrix\n",
    "from sklearn.metrics import f1_score"
   ]
  },
  {
   "cell_type": "code",
   "execution_count": 215,
   "id": "b283f98e-e31b-4884-999b-8a5aee92fa8c",
   "metadata": {},
   "outputs": [],
   "source": [
    "pred = dt.predict( X_test )"
   ]
  },
  {
   "cell_type": "code",
   "execution_count": 220,
   "id": "fd625b8a-626b-4850-acda-2c57d02148f3",
   "metadata": {},
   "outputs": [],
   "source": [
    "confusion = confusion_matrix( y_test, pred )\n",
    "accuracy = accuracy_score( y_test, pred )\n",
    "precision = precision_score( y_test, pred )\n",
    "recall = recall_score( y_test, pred )\n",
    "f1 = f1_score( y_test, pred )"
   ]
  },
  {
   "cell_type": "code",
   "execution_count": 221,
   "id": "b56fe059-ae7f-4cbe-938e-91917146a3dc",
   "metadata": {},
   "outputs": [
    {
     "name": "stdout",
     "output_type": "stream",
     "text": [
      "혼동 행렬 :\n",
      "[[832   9]\n",
      " [ 10 249]]\n",
      "\n",
      "정확도 : 0.9827272727272728\n",
      "\n",
      "정밀도 : 0.9651162790697675\n",
      "\n",
      "재현율 : 0.9613899613899614\n",
      "\n",
      "F1 score : 0.9632495164410058\n"
     ]
    }
   ],
   "source": [
    "print( f'혼동 행렬 :\\n{confusion}' )\n",
    "print( f'\\n정확도 : {accuracy}' )\n",
    "print( f'\\n정밀도 : {precision}' )\n",
    "print( f'\\n재현율 : {recall}' )\n",
    "print( f'\\nF1 score : {f1}' )"
   ]
  },
  {
   "cell_type": "code",
   "execution_count": null,
   "id": "c5e8c03d-8855-43d7-a523-d802bb8e4aed",
   "metadata": {},
   "outputs": [],
   "source": []
  }
 ],
 "metadata": {
  "kernelspec": {
   "display_name": "Python 3",
   "language": "python",
   "name": "python3"
  },
  "language_info": {
   "codemirror_mode": {
    "name": "ipython",
    "version": 3
   },
   "file_extension": ".py",
   "mimetype": "text/x-python",
   "name": "python",
   "nbconvert_exporter": "python",
   "pygments_lexer": "ipython3",
   "version": "3.8.8"
  }
 },
 "nbformat": 4,
 "nbformat_minor": 5
}
