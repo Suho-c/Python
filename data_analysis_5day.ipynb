{
 "cells": [
  {
   "cell_type": "markdown",
   "id": "3854819a-db29-4c43-b984-816e0fce3de3",
   "metadata": {},
   "source": [
    "# 한글 자연어 처리"
   ]
  },
  {
   "cell_type": "code",
   "execution_count": 1,
   "id": "44b1c913-47b9-42c7-a973-e2a751b3e4bf",
   "metadata": {},
   "outputs": [],
   "source": [
    "# IPython 매직 명령\n",
    "%matplotlib inline\n",
    "\n",
    "# 라이브러리 import\n",
    "import numpy as np\n",
    "import pandas as pd\n",
    "import matplotlib.pyplot as plt\n",
    "import seaborn as sns\n",
    "\n",
    "# 환경 설정\n",
    "pd.set_option( 'display.max_columns', 20 )\n",
    "pd.set_option( 'display.max_colwidth', 20 )\n",
    "pd.set_option( 'display.unicode.east_asian_width', True )\n",
    "\n",
    "from matplotlib import font_manager, rc\n",
    "\n",
    "# Windows 사용시 matplotlib 한글 폰트 사용 설정\n",
    "# font_path = \"c:\\\\Windows\\\\Fonts\\\\malgun.ttf\"\n",
    "# font_name = font_manager.FontProperties( fname = font_path ).get_name()\n",
    "# rc( 'font', family = font_name )\n",
    "\n",
    "# Mac OS 사용시 matplotlib 한글 폰트 사용 설정\n",
    "rc( 'font', family = 'AppleGothic' )\n",
    "\n",
    "import warnings\n",
    "warnings.filterwarnings( 'ignore' )"
   ]
  },
  {
   "cell_type": "code",
   "execution_count": 4,
   "id": "e8a4dba6-ad4d-4aa2-892f-b14885c683a2",
   "metadata": {},
   "outputs": [],
   "source": [
    "import json\n",
    "import glob # 경로와 이름을 지정하여 파일을 다루는 파일 처리 작업을 위한 모듈\n",
    "import re # 정규표현식 모듈\n",
    "\n",
    "from functools import reduce # 2차원 리스트를 1차원 리스트로 차원을 축소하는 모듈\n",
    "from collections import Counter # 데이터 집합에서 개수를 자동으로 계산하는 모듈\n",
    "\n",
    "import nltk\n",
    "from nltk.tokenize import word_tokenize # 단어 토큰화 모듈\n",
    "from nltk.corpus import stopwords # 불용어 처리 모듈\n",
    "from nltk.stem import WordNetLemmatizer # 표제어 추출 모듈\n",
    "\n",
    "from konlpy.tag import Okt\n",
    "\n",
    "from wordcloud import STOPWORDS, WordCloud"
   ]
  },
  {
   "cell_type": "markdown",
   "id": "d23b5fd1-b41c-4e97-8a74-011558960eec",
   "metadata": {},
   "source": [
    "## 데이터 수집\n",
    "\n",
    "### json 파일 내용 읽기"
   ]
  },
  {
   "cell_type": "code",
   "execution_count": 3,
   "id": "75769d5b-a4e6-4b15-9a61-847e2c754af7",
   "metadata": {},
   "outputs": [
    {
     "data": {
      "text/plain": [
       "[{'created_time': '2018-06-20 18:06:39',\n",
       "  'link': 'https://www.facebook.com/etnews.kr/videos/1981346601899735/',\n",
       "  'message': '6월의 스파크포럼 - \"미래 시대, 조직의 변화도 시작됐다!\"\\n\\n스파크포럼은 현 사회의 사회문제 및 이슈를 제기하고, 그 이슈를 혁신적으로 해결하고자 하는 소셜이노베이터를 발굴, 지원하여 우리 사회 따뜻한 변화를 확산시키지 위해 만들어진 도전과 만남의 자리입니다.\\n\\n6월의 스파크포럼에서는 4차 산업혁명 시대의 기업조직과 조직문화를 살펴보고, 조직의 변화를 받아들이고 실험해나가는 사례를 통해 미래 시대 조직이 나아가야 할 방향을 함께 생각해보고자 합니다.',\n",
       "  'name': '6월의 스파크포럼 - \"미래 시대, 조직의 변화도 시작됐다!\"',\n",
       "  'post_id': '407886705912407_1981346601899735',\n",
       "  'total_comments': 3},\n",
       " {'created_time': '2018-06-14 10:41:16',\n",
       "  'link': 'http://www.etnews.com/20180612000347',\n",
       "  'message': '로봇이 4차 산업혁명 주요 성장 동력으로 떠오르면서 국내 로봇 기업에 재평가가 이뤄지고 있다는 분석입니다.',\n",
       "  'name': '기술력 갖춘 로봇기업 몸값 치솟는다',\n",
       "  'post_id': '407886705912407_1971252229575839',\n",
       "  'total_comments': 0},\n",
       " {'created_time': '2018-04-10 17:42:00',\n",
       "  'link': 'http://www.etnews.com/20180409000360?mc=em_002_00001',\n",
       "  'message': '4차 산업혁명 시대 금융 산업 전반 점검해야 한다는...',\n",
       "  'name': \"휘청거리는 대한민국 '금융'...서민도 기업도 ICT도 실종\",\n",
       "  'post_id': '407886705912407_1900738133293916',\n",
       "  'total_comments': 0},\n",
       " {'created_time': '2018-03-05 12:05:00',\n",
       "  'link': 'https://goo.gl/qPEyAJ',\n",
       "  'message': \"공통 간판 공약은 '4차 산업혁명 선도 도시 구현'과 '가상화폐·블록체인 기술 활용' 등입니다. https://goo.gl/qPEyAJ\",\n",
       "  'name': \"지방선거 D-100 정책 공약 '4차산업혁명'에 초점\",\n",
       "  'post_id': '407886705912407_1859978837369846',\n",
       "  'total_comments': 0},\n",
       " {'created_time': '2018-02-05 17:20:01',\n",
       "  'link': 'http://www.etnews.com/20180205000237',\n",
       "  'message': '이번 과정은 4차 산업혁명 핵심 기술인 AI에 대한 통찰력과 알파고를 통해 우리 일상과 익숙해진 로봇, 빅데이터 산업 흐름을 알려줍니다. #인공지능 #최고위과정 #산학연최고전문가 https://goo.gl/jSZSNX',\n",
       "  'name': '[알림]제2기 인공지능 최고위 과정 모집',\n",
       "  'post_id': '407886705912407_1829059807128416',\n",
       "  'total_comments': 0},\n",
       " {'created_time': '2018-01-29 23:39:00',\n",
       "  'link': 'http://www.etnews.com/20180129000403?mc=em_003_00001',\n",
       "  'message': '4차 산업혁명 모든 기술과 서비스 구현',\n",
       "  'name': \"첫 스마트시티 '부산·세종' 낙점...규제 프리존으로\",\n",
       "  'post_id': '407886705912407_1821177084583355',\n",
       "  'total_comments': 0},\n",
       " {'created_time': '2017-11-09 18:11:43',\n",
       "  'link': 'http://www.sek.co.kr/2017/nbf',\n",
       "  'message': '산업혁명의 나라, 영국엔 4차 산업혁명이 없다?\\n한국-영국 경험과 지혜를 모으는 ‘미래비즈니스포럼 2017’ 개최',\n",
       "  'name': '미래비즈니스포럼 2017 : 손에 잡히는 4차 산업혁명',\n",
       "  'post_id': '407886705912407_1735224763178588',\n",
       "  'total_comments': 0},\n",
       " {'created_time': '2017-10-25 13:08:49',\n",
       "  'link': 'https://www.facebook.com/etnews.kr/videos/1720053844695680/',\n",
       "  'message': \"[전자신문TV 라이브] SBA 신직업위크\\n\\n4차 산업혁명 시대의 경쟁력 확보와 일자리 창출의 해법을 신직업에서 찾고 있는 서울산업진흥원(SBA)이 자신들의 역량과 노력을 모두 담은 '제 2회 신직업위크'를 진행하고 있습니다.\\n\\n이번 전자신문TV라이브는 서울 대치동 SBA 신직업교육센터에서 강만구 신직업교육팀장과 서지윤 신직업리서치팀수석, 윤석원 테스트웍스 대표 등과 함께 '제 2회 신직업위크'와 최신 신직업트렌드를 알아보는 시간으로 마련했습니다. 많은 시청 바랍니다. \\n\\n#전자신문 #전자신문엔터 #전자신문TV #라이브 #소셜방송 #현장라이브 #손보련 #신직업위크 #서울산업진흥원 #SBA #신직업 #서울 #강만구 #서지윤 #윤석원 #테스트웍스 #소프트웨어 #테스터 #소프트웨어테스터\",\n",
       "  'name': '[전자신문TV 라이브] SBA 신직업위크',\n",
       "  'post_id': '407886705912407_1720053844695680',\n",
       "  'total_comments': 0},\n",
       " {'created_time': '2017-10-06 11:50:00',\n",
       "  'link': 'http://www.etnews.com/20171005000056?mc=em_011_00001',\n",
       "  'message': '혹시 우리나라도?~~4차 산업혁명 시대 떠오르는 일자리 전략으로 강추~~',\n",
       "  'name': '日, 인공지능 활용능력 자격시험 만든다',\n",
       "  'post_id': '407886705912407_1700789646622100',\n",
       "  'total_comments': 1},\n",
       " {'created_time': '2017-09-25 15:30:00',\n",
       "  'link': 'http://www.etnews.com/20170924000106?mc=em_003_00001',\n",
       "  'message': '4차 산업혁명 대응에 가장 강점 분야는 5세대 이동통신...건강한 산업 생태계 조성 노력 강조',\n",
       "  'name': \"김상조 공정위원장 “기업집단국, 조사국과 달라…'존경받는 기업' 만드는 게 핵심”\",\n",
       "  'post_id': '407886705912407_1691461310888267',\n",
       "  'total_comments': 0},\n",
       " {'created_time': '2017-08-29 00:54:00',\n",
       "  'link': 'http://www.etnews.com/20170825000162?mc=em_009_00001',\n",
       "  'message': \"중앙부처 공무원 51.3% '4차 산업혁명 관련 가장 시급히 대응해야 할 기술적 과제'로 빅데이터 활용 꼽\",\n",
       "  'name': '현직 공무원들 \"빅데이터·AI, 정책에 적극 활용\"…4차 산업혁명 인식 높아',\n",
       "  'post_id': '407886705912407_1665258370175228',\n",
       "  'total_comments': 1},\n",
       " {'created_time': '2017-08-17 15:37:14',\n",
       "  'link': 'https://www.facebook.com/etnews.kr/videos/1655135431187522/',\n",
       "  'message': '[전자신문TV 라이브] 직격인터뷰 - 서울산업진흥원(SBA) 주형철 대표이사\\n\\n최근 각급 공공기관들이 4차 산업혁명기를 맞은 국내 중소기업의 경쟁력과 일자리 창출을 위해 노력하고 있는데요.\\n\\n이번 전자신문TV 라이브는 중소기업 활성화와 일자리 창출에 앞장서는 공공기관 중 대표적 사례로 꼽히는 서울산업진흥원 주형철 대표이사를 모시고 다양한 이야기를 듣는 시간으로 진행됩니다.\\n\\n#전자신문 #전자신문TV #서울산업진흥원 #SBA #주형철 #소성렬',\n",
       "  'name': '[전자신문TV 라이브] 직격인터뷰 - 서울산업진흥원(SBA) 주형철 대표이사',\n",
       "  'post_id': '407886705912407_1655135431187522',\n",
       "  'total_comments': 15},\n",
       " {'created_time': '2017-08-12 17:48:00',\n",
       "  'link': 'http://www.etnews.com/20170810000414?mc=em_009_00001',\n",
       "  'message': '4차 산업혁명 대응은 일자리 창출과 함께 문재인 정부 주요 국정 과제인 데도 우선순위에서 밀렸다는 지적',\n",
       "  'name': '4차 산업혁명위 출범 후순위로 밀렸다',\n",
       "  'post_id': '407886705912407_1648865381814527',\n",
       "  'total_comments': 0},\n",
       " {'created_time': '2017-06-09 22:00:00',\n",
       "  'link': 'http://www.etnews.com/20170608000300?mc=em_009_00001',\n",
       "  'message': '통합·개혁 행보에서 빠른 움직임을 보였지만 4차 산업혁명 등 신성장동력 창출에서는 한 발짝도 못 나갔다는 평입니다...',\n",
       "  'name': \"새정부 출범 한 달...'통합·개혁'엔 진일보, '4차 산업혁명 대응' 한발짝도 못 나가\",\n",
       "  'post_id': '407886705912407_1579376925430040',\n",
       "  'total_comments': 4},\n",
       " {'created_time': '2017-05-24 18:30:00',\n",
       "  'link': 'http://www.etnews.com/20170524000281?mc=em_001_00001',\n",
       "  'message': \"미래창조과학부가 주최하고 전자신문사, 한국경제신문, 한국정보통신진흥협회(KAIT) 주관으로 24일 서울 강남구 삼성동 코엑스에서 개막된 '월드IT쇼(WIS) 2017'은 4차 산업혁명이 더 이상 개념이 아니라 현실로 다가왔음을 입증했습니다~\",\n",
       "  'name': '[WIS 2017]4차 산업혁명, 현실과 마주한 날',\n",
       "  'post_id': '407886705912407_1562807837086949',\n",
       "  'total_comments': 0},\n",
       " {'created_time': '2017-05-17 18:38:04',\n",
       "  'link': 'https://www.facebook.com/etnews.kr/photos/a.409377469096664/1556319464402453/?type=3',\n",
       "  'message': '[전자신문TV 라이브 예고]\\n이번 전자신문TV는 4차 산업혁명과 과학기술 영상컨퍼런스를 생중계합니다~! 광운대학교 이승현 교수님을 모시고 진행하는 이번 행사는 VR. AR 기술과 몰힙형 미디어에 대해 설명해 주신다고 합니다!\\n\\n이번 행사는 전자신문 Entertainment와 가상현실 스튜디오 솔루션을 제작한 다림비젼, 중견기업TV와 함께  4차 산업 정보 채널 IBSB(IT Tech. & Business SNS Broadcast)를 통해 진행합니다.\\n\\nIBSB는 전세계 4차 산업 혁명의 현장의 생생한 IT 소식과 정보, 컨퍼런스의 강연, VOD정보를 VR 기술과 원격 Live방송 기술을 중심으로 시간과 거리를 초월하는 실시간 TELE-Presentation 기술의 새로운 방송 서비스입니다.\\n\\n이런 유익한 강의를 전자신문 페이스북을 통해서 시청하실 수 있습니다~ 많은 관심부탁드립니다♥',\n",
       "  'name': 'Timeline Photos',\n",
       "  'post_id': '407886705912407_1556319464402453',\n",
       "  'total_comments': 1},\n",
       " {'created_time': '2017-04-05 07:00:00',\n",
       "  'link': 'http://www.etnews.com/20170404000230',\n",
       "  'message': '대선 국면이지만 법안의 시급성 때문에 4차 산업혁명 대비 법제 개편 논의가 불붙을 전망입니다...',\n",
       "  'name': \"'4차 산업혁명 기본법' 나왔다…대선 기간 법제화 논의 불붙을듯\",\n",
       "  'post_id': '407886705912407_1505222409512159',\n",
       "  'total_comments': 1},\n",
       " {'created_time': '2017-02-14 08:30:01',\n",
       "  'link': 'http://www.etnews.com/20170213000307',\n",
       "  'message': '4차 산업혁명 시대 대비!!!',\n",
       "  'name': '[차기 정부 거버넌스 개편 방향 좌담회]\"400조 정부, 혁신부총리가 답이다\"',\n",
       "  'post_id': '407886705912407_1452393468128387',\n",
       "  'total_comments': 0},\n",
       " {'created_time': '2016-01-25 06:00:00',\n",
       "  'link': 'http://www.etnews.com/20160124000075',\n",
       "  'message': '‘#4차산업혁명 의 이해(Mastering the Fourth Industrial Revolution)’...\\n23일 폐막한 #다보스포럼 에서는  4차 산업혁명 기대와 우려가 교차했는데요. 구글, 애플, 페이스북, 삼성전자, LG전자가 앞다퉈 4차 산업혁명 흐름에 뛰어 들고 있습니다.',\n",
       "  'name': '[이슈분석]다보스포럼, 4차 산업혁명 기대와 우려 교차',\n",
       "  'post_id': '407886705912407_1106254916075579',\n",
       "  'total_comments': 0}]"
      ]
     },
     "execution_count": 3,
     "metadata": {},
     "output_type": "execute_result"
    }
   ],
   "source": [
    "filename = '../data/etnews.kr_facebook_2016-01-01_2018-08-01_4차 산업혁명'\n",
    "data = json.loads( open( filename + '.json', 'r', encoding = 'utf-8'\n",
    "                       ).read() )\n",
    "data"
   ]
  },
  {
   "cell_type": "markdown",
   "id": "05bceb16-8446-4fcb-bb16-22b484bebf8d",
   "metadata": {},
   "source": [
    "### message 내용 추출"
   ]
  },
  {
   "cell_type": "code",
   "execution_count": 6,
   "id": "6fe79077-a043-48a7-bcd8-378f8f8371b2",
   "metadata": {},
   "outputs": [
    {
     "data": {
      "text/plain": [
       "'6월의 스파크포럼    미래 시대  조직의 변화도 시작됐다    스파크포럼은 현 사회의 사회문제 및 이슈를 제기하고  그 이슈를 혁신적으로 해결하고자 하는 소셜이노베이터를 발굴  지원하여 우리 사회 따뜻한 변화를 확산시키지 위해 만들어진 도전과 만남의 자리입니다   6월의 스파크포럼에서는 4차 산업혁명 시대의 기업조직과 조직문화를 살펴보고  조직의 변화를 받아들이고 실험해나가는 사례를 통해 미래 시대 조직이 나아가야 할 방향을 함께 생각해보고자 합니다 로봇이 4차 산업혁명 주요 성장 동력으로 떠오르면서 국내 로봇 기업에 재평가가 이뤄지고 있다는 분석입니다 4차 산업혁명 시대 금융 산업 전반 점검해야 한다는   공통 간판 공약은  4차 산업혁명 선도 도시 구현 과  가상화폐 블록체인 기술 활용  등입니다  https   goo gl qPEyAJ이번 과정은 4차 산업혁명 핵심 기술인 AI에 대한 통찰력과 알파고를 통해 우리 일상과 익숙해진 로봇  빅데이터 산업 흐름을 알려줍니다   인공지능  최고위과정  산학연최고전문가 https   goo gl jSZSNX4차 산업혁명 모든 기술과 서비스 구현산업혁명의 나라  영국엔 4차 산업혁명이 없다  한국 영국 경험과 지혜를 모으는  미래비즈니스포럼 2017  개최 전자신문TV 라이브  SBA 신직업위크  4차 산업혁명 시대의 경쟁력 확보와 일자리 창출의 해법을 신직업에서 찾고 있는 서울산업진흥원 SBA 이 자신들의 역량과 노력을 모두 담은  제 2회 신직업위크 를 진행하고 있습니다   이번 전자신문TV라이브는 서울 대치동 SBA 신직업교육센터에서 강만구 신직업교육팀장과 서지윤 신직업리서치팀수석  윤석원 테스트웍스 대표 등과 함께  제 2회 신직업위크 와 최신 신직업트렌드를 알아보는 시간으로 마련했습니다  많은 시청 바랍니다     전자신문  전자신문엔터  전자신문TV  라이브  소셜방송  현장라이브  손보련  신직업위크  서울산업진흥원  SBA  신직업  서울  강만구  서지윤  윤석원  테스트웍스  소프트웨어  테스터  소프트웨어테스터혹시 우리나라도   4차 산업혁명 시대 떠오르는 일자리 전략으로 강추  4차 산업혁명 대응에 가장 강점 분야는 5세대 이동통신   건강한 산업 생태계 조성 노력 강조중앙부처 공무원 51 3   4차 산업혁명 관련 가장 시급히 대응해야 할 기술적 과제 로 빅데이터 활용 꼽 전자신문TV 라이브  직격인터뷰   서울산업진흥원 SBA  주형철 대표이사  최근 각급 공공기관들이 4차 산업혁명기를 맞은 국내 중소기업의 경쟁력과 일자리 창출을 위해 노력하고 있는데요   이번 전자신문TV 라이브는 중소기업 활성화와 일자리 창출에 앞장서는 공공기관 중 대표적 사례로 꼽히는 서울산업진흥원 주형철 대표이사를 모시고 다양한 이야기를 듣는 시간으로 진행됩니다    전자신문  전자신문TV  서울산업진흥원  SBA  주형철  소성렬4차 산업혁명 대응은 일자리 창출과 함께 문재인 정부 주요 국정 과제인 데도 우선순위에서 밀렸다는 지적통합 개혁 행보에서 빠른 움직임을 보였지만 4차 산업혁명 등 신성장동력 창출에서는 한 발짝도 못 나갔다는 평입니다   미래창조과학부가 주최하고 전자신문사  한국경제신문  한국정보통신진흥협회 KAIT  주관으로 24일 서울 강남구 삼성동 코엑스에서 개막된  월드IT쇼 WIS  2017 은 4차 산업혁명이 더 이상 개념이 아니라 현실로 다가왔음을 입증했습니다  전자신문TV 라이브 예고  이번 전자신문TV는 4차 산업혁명과 과학기술 영상컨퍼런스를 생중계합니다   광운대학교 이승현 교수님을 모시고 진행하는 이번 행사는 VR  AR 기술과 몰힙형 미디어에 대해 설명해 주신다고 합니다   이번 행사는 전자신문 Entertainment와 가상현실 스튜디오 솔루션을 제작한 다림비젼  중견기업TV와 함께  4차 산업 정보 채널 IBSB IT Tech    Business SNS Broadcast 를 통해 진행합니다   IBSB는 전세계 4차 산업 혁명의 현장의 생생한 IT 소식과 정보  컨퍼런스의 강연  VOD정보를 VR 기술과 원격 Live방송 기술을 중심으로 시간과 거리를 초월하는 실시간 TELE Presentation 기술의 새로운 방송 서비스입니다   이런 유익한 강의를 전자신문 페이스북을 통해서 시청하실 수 있습니다  많은 관심부탁드립니다 대선 국면이지만 법안의 시급성 때문에 4차 산업혁명 대비 법제 개편 논의가 불붙을 전망입니다   4차 산업혁명 시대 대비     4차산업혁명 의 이해 Mastering the Fourth Industrial Revolution      23일 폐막한  다보스포럼 에서는  4차 산업혁명 기대와 우려가 교차했는데요  구글  애플  페이스북  삼성전자  LG전자가 앞다퉈 4차 산업혁명 흐름에 뛰어 들고 있습니다 '"
      ]
     },
     "execution_count": 6,
     "metadata": {},
     "output_type": "execute_result"
    }
   ],
   "source": [
    "message = ''\n",
    "for item in data:\n",
    "    if 'message' in item.keys():\n",
    "        # [^\\w] : 문자나 숫자가 아닌것은 제외\n",
    "        message = message + re.sub( r'[^\\w]', ' ', item[ 'message' ] ) + ''\n",
    "message"
   ]
  },
  {
   "cell_type": "markdown",
   "id": "dabdf6fe-da81-41fb-b731-90e4ddac33e2",
   "metadata": {},
   "source": [
    "### 형태소 분석기를 이용한 형태소 분석"
   ]
  },
  {
   "cell_type": "code",
   "execution_count": 7,
   "id": "819ed95e-b6a7-4c72-ba66-4f51ed5202df",
   "metadata": {},
   "outputs": [
    {
     "data": {
      "text/plain": [
       "['스파크',\n",
       " '포럼',\n",
       " '미래',\n",
       " '시대',\n",
       " '조직',\n",
       " '변화',\n",
       " '시작',\n",
       " '스파크',\n",
       " '포럼',\n",
       " '현',\n",
       " '사회',\n",
       " '사회',\n",
       " '문제',\n",
       " '및',\n",
       " '이슈',\n",
       " '제기',\n",
       " '그',\n",
       " '이슈',\n",
       " '혁신',\n",
       " '해결',\n",
       " '소셜',\n",
       " '이노',\n",
       " '베이',\n",
       " '터',\n",
       " '발굴',\n",
       " '지원',\n",
       " '우리',\n",
       " '사회',\n",
       " '변화',\n",
       " '확산',\n",
       " '위해',\n",
       " '도전',\n",
       " '만남',\n",
       " '자리',\n",
       " '스파크',\n",
       " '포럼',\n",
       " '차',\n",
       " '산업혁명',\n",
       " '시대',\n",
       " '기업',\n",
       " '조직',\n",
       " '직문',\n",
       " '조직',\n",
       " '변화',\n",
       " '실험',\n",
       " '사례',\n",
       " '통해',\n",
       " '미래',\n",
       " '시대',\n",
       " '조직',\n",
       " '방향',\n",
       " '생각',\n",
       " '로봇',\n",
       " '차',\n",
       " '산업혁명',\n",
       " '주요',\n",
       " '성장',\n",
       " '동력',\n",
       " '국내',\n",
       " '로봇',\n",
       " '기업',\n",
       " '재',\n",
       " '평가',\n",
       " '분석',\n",
       " '차',\n",
       " '산업혁명',\n",
       " '시대',\n",
       " '금융',\n",
       " '산업',\n",
       " '전반',\n",
       " '점검',\n",
       " '공통',\n",
       " '간판',\n",
       " '공약',\n",
       " '차',\n",
       " '산업혁명',\n",
       " '선도',\n",
       " '도시',\n",
       " '구현',\n",
       " '과',\n",
       " '가상',\n",
       " '화폐',\n",
       " '블록',\n",
       " '체인',\n",
       " '기술',\n",
       " '활용',\n",
       " '등',\n",
       " '이번',\n",
       " '과정',\n",
       " '차',\n",
       " '산업혁명',\n",
       " '핵심',\n",
       " '기술',\n",
       " '대한',\n",
       " '통찰',\n",
       " '알파',\n",
       " '통해',\n",
       " '우리',\n",
       " '일상',\n",
       " '로봇',\n",
       " '빅데이터',\n",
       " '산업',\n",
       " '흐름',\n",
       " '인공',\n",
       " '지능',\n",
       " '최고',\n",
       " '위',\n",
       " '과정',\n",
       " '산학',\n",
       " '최고',\n",
       " '전문가',\n",
       " '차',\n",
       " '산업혁명',\n",
       " '모든',\n",
       " '기술',\n",
       " '서비스',\n",
       " '산업혁명',\n",
       " '나라',\n",
       " '영국',\n",
       " '차',\n",
       " '산업혁명',\n",
       " '한국',\n",
       " '영국',\n",
       " '경험',\n",
       " '지혜',\n",
       " '미래',\n",
       " '비즈니스',\n",
       " '포럼',\n",
       " '개최',\n",
       " '전자신문',\n",
       " '라이브',\n",
       " '직업',\n",
       " '위',\n",
       " '차',\n",
       " '산업혁명',\n",
       " '시대',\n",
       " '경쟁력',\n",
       " '확보',\n",
       " '일자리',\n",
       " '창',\n",
       " '해법',\n",
       " '직업',\n",
       " '산업',\n",
       " '진흥',\n",
       " '이',\n",
       " '자신',\n",
       " '역량',\n",
       " '노력',\n",
       " '모두',\n",
       " '제',\n",
       " '직업',\n",
       " '위',\n",
       " '를',\n",
       " '진행',\n",
       " '이번',\n",
       " '전자신문',\n",
       " '라이브',\n",
       " '서울',\n",
       " '대치동',\n",
       " '직업',\n",
       " '교육',\n",
       " '센터',\n",
       " '강',\n",
       " '만구',\n",
       " '직업',\n",
       " '교육',\n",
       " '팀',\n",
       " '지윤',\n",
       " '직업',\n",
       " '리서치',\n",
       " '팀',\n",
       " '수석',\n",
       " '윤석',\n",
       " '테스트',\n",
       " '웍스',\n",
       " '대표',\n",
       " '등',\n",
       " '제',\n",
       " '직업',\n",
       " '위',\n",
       " '최신',\n",
       " '직업',\n",
       " '트렌드',\n",
       " '시간',\n",
       " '마련',\n",
       " '시청',\n",
       " '전자신문',\n",
       " '전자신문',\n",
       " '터',\n",
       " '전자신문',\n",
       " '라이브',\n",
       " '소셜',\n",
       " '방송',\n",
       " '현장',\n",
       " '라이브',\n",
       " '손',\n",
       " '보련',\n",
       " '직업',\n",
       " '위',\n",
       " '산업',\n",
       " '진흥',\n",
       " '직업',\n",
       " '서울',\n",
       " '강',\n",
       " '만구',\n",
       " '지윤',\n",
       " '윤석',\n",
       " '테스트',\n",
       " '웍스',\n",
       " '소프트웨어',\n",
       " '테스',\n",
       " '터',\n",
       " '소프트웨어',\n",
       " '테스',\n",
       " '터',\n",
       " '혹시',\n",
       " '우리나라',\n",
       " '차',\n",
       " '산업혁명',\n",
       " '시대',\n",
       " '일자리',\n",
       " '전략',\n",
       " '강추',\n",
       " '차',\n",
       " '산업혁명',\n",
       " '대응',\n",
       " '가장',\n",
       " '강점',\n",
       " '분야',\n",
       " '세대',\n",
       " '이동통신',\n",
       " '산업',\n",
       " '생태계',\n",
       " '조성',\n",
       " '노력',\n",
       " '강조',\n",
       " '중앙',\n",
       " '부처',\n",
       " '공무원',\n",
       " '차',\n",
       " '산업혁명',\n",
       " '관련',\n",
       " '가장',\n",
       " '대응',\n",
       " '기술',\n",
       " '과제',\n",
       " '로',\n",
       " '빅데이터',\n",
       " '활용',\n",
       " '꼽',\n",
       " '전자신문',\n",
       " '라이브',\n",
       " '직',\n",
       " '격인',\n",
       " '터뷰',\n",
       " '산업',\n",
       " '진흥',\n",
       " '주형',\n",
       " '철',\n",
       " '대표이사',\n",
       " '최근',\n",
       " '급',\n",
       " '공공기관',\n",
       " '차',\n",
       " '산업혁명',\n",
       " '국내',\n",
       " '중소기업',\n",
       " '경쟁력',\n",
       " '일자리',\n",
       " '창',\n",
       " '위해',\n",
       " '노력',\n",
       " '이번',\n",
       " '전자신문',\n",
       " '라이브',\n",
       " '중소기업',\n",
       " '활성화',\n",
       " '일자리',\n",
       " '창',\n",
       " '공공기관',\n",
       " '중',\n",
       " '대표',\n",
       " '사례',\n",
       " '산업',\n",
       " '진흥',\n",
       " '주형',\n",
       " '철',\n",
       " '대표이사',\n",
       " '모시',\n",
       " '이야기',\n",
       " '시간',\n",
       " '진행',\n",
       " '전자신문',\n",
       " '전자신문',\n",
       " '산업',\n",
       " '진흥',\n",
       " '주형',\n",
       " '철',\n",
       " '렬',\n",
       " '차',\n",
       " '산업혁명',\n",
       " '대응',\n",
       " '일자리',\n",
       " '창',\n",
       " '문재인',\n",
       " '정부',\n",
       " '주요',\n",
       " '국정',\n",
       " '과제',\n",
       " '우선',\n",
       " '순위',\n",
       " '지적',\n",
       " '통합',\n",
       " '개혁',\n",
       " '행보',\n",
       " '움직임',\n",
       " '차',\n",
       " '산업혁명',\n",
       " '등',\n",
       " '성장동력',\n",
       " '창',\n",
       " '발짝',\n",
       " '못',\n",
       " '평',\n",
       " '미래창조과학부',\n",
       " '주최',\n",
       " '전자',\n",
       " '신문사',\n",
       " '한국',\n",
       " '경제',\n",
       " '신문',\n",
       " '국정',\n",
       " '보통신',\n",
       " '진흥',\n",
       " '협회',\n",
       " '주관',\n",
       " '서울',\n",
       " '강남구',\n",
       " '삼성동',\n",
       " '코엑스',\n",
       " '개막',\n",
       " '월드',\n",
       " '쇼',\n",
       " '은',\n",
       " '차',\n",
       " '산업혁명',\n",
       " '더',\n",
       " '이상',\n",
       " '개념',\n",
       " '현실',\n",
       " '음',\n",
       " '입증',\n",
       " '전자신문',\n",
       " '라이브',\n",
       " '예고',\n",
       " '이번',\n",
       " '전자신문',\n",
       " '차',\n",
       " '산업혁명',\n",
       " '과학기술',\n",
       " '영상',\n",
       " '컨퍼런스',\n",
       " '생중계',\n",
       " '광운대',\n",
       " '학교',\n",
       " '이승현',\n",
       " '교수',\n",
       " '모시',\n",
       " '진행',\n",
       " '이번',\n",
       " '행사',\n",
       " '기술',\n",
       " '몰힙형',\n",
       " '미디어',\n",
       " '대해',\n",
       " '설명',\n",
       " '이번',\n",
       " '행사',\n",
       " '전자신문',\n",
       " '가상현실',\n",
       " '스튜디오',\n",
       " '솔루션',\n",
       " '제작',\n",
       " '다림',\n",
       " '비젼',\n",
       " '중견',\n",
       " '기업',\n",
       " '차',\n",
       " '산업',\n",
       " '정보',\n",
       " '채널',\n",
       " '를',\n",
       " '통해',\n",
       " '진행',\n",
       " '전세계',\n",
       " '차',\n",
       " '산업',\n",
       " '혁명',\n",
       " '현장',\n",
       " '소식',\n",
       " '정보',\n",
       " '컨퍼런스',\n",
       " '강연',\n",
       " '정보',\n",
       " '기술',\n",
       " '원격',\n",
       " '방송',\n",
       " '기술',\n",
       " '중심',\n",
       " '시간',\n",
       " '거리',\n",
       " '초월',\n",
       " '실시간',\n",
       " '기술',\n",
       " '방송',\n",
       " '서비스',\n",
       " '강의',\n",
       " '전자신문',\n",
       " '페이스북',\n",
       " '통해',\n",
       " '시청',\n",
       " '수',\n",
       " '관심',\n",
       " '대선',\n",
       " '국면',\n",
       " '법안',\n",
       " '시급',\n",
       " '때문',\n",
       " '차',\n",
       " '산업혁명',\n",
       " '대비',\n",
       " '법제',\n",
       " '개편',\n",
       " '논의',\n",
       " '불',\n",
       " '전망',\n",
       " '차',\n",
       " '산업혁명',\n",
       " '시대',\n",
       " '대비',\n",
       " '차',\n",
       " '산업혁명',\n",
       " '의',\n",
       " '이해',\n",
       " '폐막',\n",
       " '다보스',\n",
       " '포럼',\n",
       " '차',\n",
       " '산업혁명',\n",
       " '기대',\n",
       " '우려',\n",
       " '교차',\n",
       " '구글',\n",
       " '애플',\n",
       " '페이스북',\n",
       " '삼성',\n",
       " '전자',\n",
       " '전자',\n",
       " '앞',\n",
       " '차',\n",
       " '산업혁명',\n",
       " '흐름']"
      ]
     },
     "execution_count": 7,
     "metadata": {},
     "output_type": "execute_result"
    }
   ],
   "source": [
    "nlp = Okt() # Okt 형태소 분석기 객체 생성\n",
    "message_n = nlp.nouns( message ) # 형태소 분석기를 이용하여 명사만 추출\n",
    "message_n"
   ]
  },
  {
   "cell_type": "markdown",
   "id": "45ce6e57-d850-41ad-87e1-b70060303bbb",
   "metadata": {},
   "source": [
    "## 데이터 탐색\n",
    "\n",
    "### 단어별 빈도수 계산"
   ]
  },
  {
   "cell_type": "code",
   "execution_count": 9,
   "id": "4a3578c1-6379-4db0-8577-d8df4a3803f4",
   "metadata": {},
   "outputs": [
    {
     "data": {
      "text/plain": [
       "Counter({'스파크': 3,\n",
       "         '포럼': 5,\n",
       "         '미래': 3,\n",
       "         '시대': 7,\n",
       "         '조직': 4,\n",
       "         '변화': 3,\n",
       "         '시작': 1,\n",
       "         '현': 1,\n",
       "         '사회': 3,\n",
       "         '문제': 1,\n",
       "         '및': 1,\n",
       "         '이슈': 2,\n",
       "         '제기': 1,\n",
       "         '그': 1,\n",
       "         '혁신': 1,\n",
       "         '해결': 1,\n",
       "         '소셜': 2,\n",
       "         '이노': 1,\n",
       "         '베이': 1,\n",
       "         '터': 4,\n",
       "         '발굴': 1,\n",
       "         '지원': 1,\n",
       "         '우리': 2,\n",
       "         '확산': 1,\n",
       "         '위해': 2,\n",
       "         '도전': 1,\n",
       "         '만남': 1,\n",
       "         '자리': 1,\n",
       "         '차': 23,\n",
       "         '산업혁명': 22,\n",
       "         '기업': 3,\n",
       "         '직문': 1,\n",
       "         '실험': 1,\n",
       "         '사례': 2,\n",
       "         '통해': 4,\n",
       "         '방향': 1,\n",
       "         '생각': 1,\n",
       "         '로봇': 3,\n",
       "         '주요': 2,\n",
       "         '성장': 1,\n",
       "         '동력': 1,\n",
       "         '국내': 2,\n",
       "         '재': 1,\n",
       "         '평가': 1,\n",
       "         '분석': 1,\n",
       "         '금융': 1,\n",
       "         '산업': 10,\n",
       "         '전반': 1,\n",
       "         '점검': 1,\n",
       "         '공통': 1,\n",
       "         '간판': 1,\n",
       "         '공약': 1,\n",
       "         '선도': 1,\n",
       "         '도시': 1,\n",
       "         '구현': 1,\n",
       "         '과': 1,\n",
       "         '가상': 1,\n",
       "         '화폐': 1,\n",
       "         '블록': 1,\n",
       "         '체인': 1,\n",
       "         '기술': 8,\n",
       "         '활용': 2,\n",
       "         '등': 3,\n",
       "         '이번': 6,\n",
       "         '과정': 2,\n",
       "         '핵심': 1,\n",
       "         '대한': 1,\n",
       "         '통찰': 1,\n",
       "         '알파': 1,\n",
       "         '일상': 1,\n",
       "         '빅데이터': 2,\n",
       "         '흐름': 2,\n",
       "         '인공': 1,\n",
       "         '지능': 1,\n",
       "         '최고': 2,\n",
       "         '위': 5,\n",
       "         '산학': 1,\n",
       "         '전문가': 1,\n",
       "         '모든': 1,\n",
       "         '서비스': 2,\n",
       "         '나라': 1,\n",
       "         '영국': 2,\n",
       "         '한국': 2,\n",
       "         '경험': 1,\n",
       "         '지혜': 1,\n",
       "         '비즈니스': 1,\n",
       "         '개최': 1,\n",
       "         '전자신문': 13,\n",
       "         '라이브': 7,\n",
       "         '직업': 10,\n",
       "         '경쟁력': 2,\n",
       "         '확보': 1,\n",
       "         '일자리': 5,\n",
       "         '창': 5,\n",
       "         '해법': 1,\n",
       "         '진흥': 6,\n",
       "         '이': 1,\n",
       "         '자신': 1,\n",
       "         '역량': 1,\n",
       "         '노력': 3,\n",
       "         '모두': 1,\n",
       "         '제': 2,\n",
       "         '를': 2,\n",
       "         '진행': 4,\n",
       "         '서울': 3,\n",
       "         '대치동': 1,\n",
       "         '교육': 2,\n",
       "         '센터': 1,\n",
       "         '강': 2,\n",
       "         '만구': 2,\n",
       "         '팀': 2,\n",
       "         '지윤': 2,\n",
       "         '리서치': 1,\n",
       "         '수석': 1,\n",
       "         '윤석': 2,\n",
       "         '테스트': 2,\n",
       "         '웍스': 2,\n",
       "         '대표': 2,\n",
       "         '최신': 1,\n",
       "         '트렌드': 1,\n",
       "         '시간': 3,\n",
       "         '마련': 1,\n",
       "         '시청': 2,\n",
       "         '방송': 3,\n",
       "         '현장': 2,\n",
       "         '손': 1,\n",
       "         '보련': 1,\n",
       "         '소프트웨어': 2,\n",
       "         '테스': 2,\n",
       "         '혹시': 1,\n",
       "         '우리나라': 1,\n",
       "         '전략': 1,\n",
       "         '강추': 1,\n",
       "         '대응': 3,\n",
       "         '가장': 2,\n",
       "         '강점': 1,\n",
       "         '분야': 1,\n",
       "         '세대': 1,\n",
       "         '이동통신': 1,\n",
       "         '생태계': 1,\n",
       "         '조성': 1,\n",
       "         '강조': 1,\n",
       "         '중앙': 1,\n",
       "         '부처': 1,\n",
       "         '공무원': 1,\n",
       "         '관련': 1,\n",
       "         '과제': 2,\n",
       "         '로': 1,\n",
       "         '꼽': 1,\n",
       "         '직': 1,\n",
       "         '격인': 1,\n",
       "         '터뷰': 1,\n",
       "         '주형': 3,\n",
       "         '철': 3,\n",
       "         '대표이사': 2,\n",
       "         '최근': 1,\n",
       "         '급': 1,\n",
       "         '공공기관': 2,\n",
       "         '중소기업': 2,\n",
       "         '활성화': 1,\n",
       "         '중': 1,\n",
       "         '모시': 2,\n",
       "         '이야기': 1,\n",
       "         '렬': 1,\n",
       "         '문재인': 1,\n",
       "         '정부': 1,\n",
       "         '국정': 2,\n",
       "         '우선': 1,\n",
       "         '순위': 1,\n",
       "         '지적': 1,\n",
       "         '통합': 1,\n",
       "         '개혁': 1,\n",
       "         '행보': 1,\n",
       "         '움직임': 1,\n",
       "         '성장동력': 1,\n",
       "         '발짝': 1,\n",
       "         '못': 1,\n",
       "         '평': 1,\n",
       "         '미래창조과학부': 1,\n",
       "         '주최': 1,\n",
       "         '전자': 3,\n",
       "         '신문사': 1,\n",
       "         '경제': 1,\n",
       "         '신문': 1,\n",
       "         '보통신': 1,\n",
       "         '협회': 1,\n",
       "         '주관': 1,\n",
       "         '강남구': 1,\n",
       "         '삼성동': 1,\n",
       "         '코엑스': 1,\n",
       "         '개막': 1,\n",
       "         '월드': 1,\n",
       "         '쇼': 1,\n",
       "         '은': 1,\n",
       "         '더': 1,\n",
       "         '이상': 1,\n",
       "         '개념': 1,\n",
       "         '현실': 1,\n",
       "         '음': 1,\n",
       "         '입증': 1,\n",
       "         '예고': 1,\n",
       "         '과학기술': 1,\n",
       "         '영상': 1,\n",
       "         '컨퍼런스': 2,\n",
       "         '생중계': 1,\n",
       "         '광운대': 1,\n",
       "         '학교': 1,\n",
       "         '이승현': 1,\n",
       "         '교수': 1,\n",
       "         '행사': 2,\n",
       "         '몰힙형': 1,\n",
       "         '미디어': 1,\n",
       "         '대해': 1,\n",
       "         '설명': 1,\n",
       "         '가상현실': 1,\n",
       "         '스튜디오': 1,\n",
       "         '솔루션': 1,\n",
       "         '제작': 1,\n",
       "         '다림': 1,\n",
       "         '비젼': 1,\n",
       "         '중견': 1,\n",
       "         '정보': 3,\n",
       "         '채널': 1,\n",
       "         '전세계': 1,\n",
       "         '혁명': 1,\n",
       "         '소식': 1,\n",
       "         '강연': 1,\n",
       "         '원격': 1,\n",
       "         '중심': 1,\n",
       "         '거리': 1,\n",
       "         '초월': 1,\n",
       "         '실시간': 1,\n",
       "         '강의': 1,\n",
       "         '페이스북': 2,\n",
       "         '수': 1,\n",
       "         '관심': 1,\n",
       "         '대선': 1,\n",
       "         '국면': 1,\n",
       "         '법안': 1,\n",
       "         '시급': 1,\n",
       "         '때문': 1,\n",
       "         '대비': 2,\n",
       "         '법제': 1,\n",
       "         '개편': 1,\n",
       "         '논의': 1,\n",
       "         '불': 1,\n",
       "         '전망': 1,\n",
       "         '의': 1,\n",
       "         '이해': 1,\n",
       "         '폐막': 1,\n",
       "         '다보스': 1,\n",
       "         '기대': 1,\n",
       "         '우려': 1,\n",
       "         '교차': 1,\n",
       "         '구글': 1,\n",
       "         '애플': 1,\n",
       "         '삼성': 1,\n",
       "         '앞': 1})"
      ]
     },
     "execution_count": 9,
     "metadata": {},
     "output_type": "execute_result"
    }
   ],
   "source": [
    "count = Counter( message_n )\n",
    "count"
   ]
  },
  {
   "cell_type": "code",
   "execution_count": 10,
   "id": "9d97f3c1-1264-4cc2-a92b-4f24bbd04f30",
   "metadata": {},
   "outputs": [
    {
     "name": "stdout",
     "output_type": "stream",
     "text": [
      "산업혁명: 22\n",
      "전자신문: 13\n",
      "산업: 10\n",
      "직업: 10\n",
      "기술: 8\n",
      "시대: 7\n",
      "라이브: 7\n",
      "이번: 6\n",
      "진흥: 6\n",
      "포럼: 5\n",
      "일자리: 5\n",
      "조직: 4\n",
      "통해: 4\n",
      "진행: 4\n",
      "스파크: 3\n",
      "미래: 3\n",
      "변화: 3\n",
      "사회: 3\n",
      "기업: 3\n",
      "로봇: 3\n",
      "노력: 3\n",
      "서울: 3\n",
      "시간: 3\n",
      "방송: 3\n",
      "대응: 3\n",
      "주형: 3\n",
      "전자: 3\n",
      "정보: 3\n",
      "이슈: 2\n",
      "소셜: 2\n",
      "우리: 2\n",
      "위해: 2\n",
      "사례: 2\n",
      "주요: 2\n",
      "국내: 2\n",
      "활용: 2\n",
      "과정: 2\n",
      "빅데이터: 2\n",
      "흐름: 2\n",
      "최고: 2\n",
      "서비스: 2\n",
      "영국: 2\n",
      "한국: 2\n",
      "경쟁력: 2\n",
      "교육: 2\n",
      "만구: 2\n",
      "지윤: 2\n",
      "윤석: 2\n",
      "테스트: 2\n",
      "웍스: 2\n",
      "대표: 2\n",
      "시청: 2\n",
      "현장: 2\n",
      "소프트웨어: 2\n",
      "테스: 2\n",
      "가장: 2\n",
      "과제: 2\n",
      "대표이사: 2\n",
      "공공기관: 2\n",
      "중소기업: 2\n",
      "모시: 2\n",
      "국정: 2\n",
      "컨퍼런스: 2\n",
      "행사: 2\n",
      "페이스북: 2\n",
      "대비: 2\n",
      "시작: 1\n",
      "문제: 1\n"
     ]
    }
   ],
   "source": [
    "word_count = dict()\n",
    "# 단어 출현 빈도가 많은 상위 80개중 단어 길이가 1이상인 단어 추출\n",
    "for tag, count in count.most_common( 80 ):\n",
    "    if ( len( str( tag ) ) > 1 ):\n",
    "        word_count[ tag ] = count\n",
    "        print( f'{tag}: {count}' )"
   ]
  },
  {
   "cell_type": "code",
   "execution_count": 11,
   "id": "70c78722-0377-4012-8675-8fe19d8530bb",
   "metadata": {},
   "outputs": [
    {
     "data": {
      "image/png": "[encoded data removed]",
      "text/plain": [
       "<Figure size 1080x360 with 1 Axes>"
      ]
     },
     "metadata": {
      "needs_background": "light"
     },
     "output_type": "display_data"
    }
   ],
   "source": [
    "plt.figure( figsize = ( 15, 5 ) )\n",
    "plt.xlabel( '키워드' )\n",
    "plt.ylabel( '빈도수' )\n",
    "plt.grid( True )\n",
    "\n",
    "sorted_keys = sorted( word_count, key = word_count.get, reverse = True )\n",
    "sorted_values = sorted( word_count.values(), reverse = True )\n",
    "plt.bar( range( len( word_count ) ), sorted_values, align = 'center' )\n",
    "plt.xticks( range( len( word_count ) ), list( sorted_keys ), rotation = '75' )\n",
    "plt.show()"
   ]
  },
  {
   "cell_type": "code",
   "execution_count": 13,
   "id": "16a47d36-3f77-4d70-ac97-f3fcebde2dd7",
   "metadata": {},
   "outputs": [
    {
     "data": {
      "image/png": "[encoded data removed]",
      "text/plain": [
       "<Figure size 576x576 with 1 Axes>"
      ]
     },
     "metadata": {
      "needs_background": "light"
     },
     "output_type": "display_data"
    }
   ],
   "source": [
    "# Windows font 설정 : 'C:\\\\Windos\\\\Fonts\\\\malgun.ttf'\n",
    "wc = WordCloud( font_path = '/Library/Fonts/AppleGothic.ttf',\n",
    "                background_color = 'ivory', width = 800, height = 600 )\n",
    "cloud = wc.generate_from_frequencies( word_count )\n",
    "plt.figure( figsize = ( 8, 8 ) )\n",
    "plt.imshow( cloud )\n",
    "plt.axis( 'off' )\n",
    "plt.show()"
   ]
  },
  {
   "cell_type": "code",
   "execution_count": 15,
   "id": "53ba1986-84aa-4bee-b4fa-2f54bf638197",
   "metadata": {},
   "outputs": [
    {
     "data": {
      "text/plain": [
       "<wordcloud.wordcloud.WordCloud at 0x7f91c8048a90>"
      ]
     },
     "execution_count": 15,
     "metadata": {},
     "output_type": "execute_result"
    }
   ],
   "source": [
    "cloud.to_file( 'word_cloud.jpg' )"
   ]
  },
  {
   "cell_type": "markdown",
   "id": "7f897222-df9a-4d4a-aff6-cbd5d189967e",
   "metadata": {},
   "source": [
    "# Web Crawling"
   ]
  },
  {
   "cell_type": "code",
   "execution_count": 16,
   "id": "dd703230-d1f1-4cd1-a519-5e0e518862a2",
   "metadata": {},
   "outputs": [
    {
     "name": "stdout",
     "output_type": "stream",
     "text": [
      "# packages in environment at /Users/imac4.5k-r.g./opt/anaconda3:\n",
      "#\n",
      "# Name                    Version                   Build  Channel\n",
      "beautifulsoup4            4.6.0                    pypi_0    pypi\n"
     ]
    }
   ],
   "source": [
    "!conda list BeautifulSoup"
   ]
  },
  {
   "cell_type": "code",
   "execution_count": 17,
   "id": "f1c7cf02-e7bb-419f-9c81-77ec2676f138",
   "metadata": {},
   "outputs": [
    {
     "name": "stdout",
     "output_type": "stream",
     "text": [
      "# packages in environment at /Users/imac4.5k-r.g./opt/anaconda3:\n",
      "#\n",
      "# Name                    Version                   Build  Channel\n",
      "selenium                  3.141.0         py38h1de35cc_1001  \n"
     ]
    }
   ],
   "source": [
    "!conda list selenium"
   ]
  },
  {
   "cell_type": "markdown",
   "id": "f8493186-0952-44a3-8eff-7d03d5928045",
   "metadata": {},
   "source": [
    "## webbrowser 모듈을 이용한 웹 사이트 접속"
   ]
  },
  {
   "cell_type": "code",
   "execution_count": 18,
   "id": "5505b3ec-ef95-4c36-a3cf-f335ca19c1ee",
   "metadata": {},
   "outputs": [],
   "source": [
    "import webbrowser"
   ]
  },
  {
   "cell_type": "code",
   "execution_count": 19,
   "id": "a85727ba-13a8-4f00-8c2b-f08f768c4140",
   "metadata": {},
   "outputs": [
    {
     "data": {
      "text/plain": [
       "True"
      ]
     },
     "execution_count": 19,
     "metadata": {},
     "output_type": "execute_result"
    }
   ],
   "source": [
    "url = 'https://www.naver.com'\n",
    "webbrowser.open( url )"
   ]
  },
  {
   "cell_type": "code",
   "execution_count": 22,
   "id": "4218e87d-5186-4b86-9ee1-cfb790bbb08e",
   "metadata": {},
   "outputs": [
    {
     "data": {
      "text/plain": [
       "True"
      ]
     },
     "execution_count": 22,
     "metadata": {},
     "output_type": "execute_result"
    }
   ],
   "source": [
    "naver_search_url = 'https://search.naver.com/search.naver?query='\n",
    "search_word = 'python'\n",
    "url = naver_search_url + search_word\n",
    "webbrowser.open_new( url )"
   ]
  },
  {
   "cell_type": "code",
   "execution_count": 23,
   "id": "ad7edd7e-ac48-4a04-a1cd-17ffad1c00df",
   "metadata": {},
   "outputs": [
    {
     "data": {
      "text/plain": [
       "True"
      ]
     },
     "execution_count": 23,
     "metadata": {},
     "output_type": "execute_result"
    }
   ],
   "source": [
    "google_search_url = 'https://www.google.com?q='\n",
    "search_word = 'python'\n",
    "url = google_search_url + search_word\n",
    "webbrowser.open_new( url )"
   ]
  },
  {
   "cell_type": "markdown",
   "id": "1afec905-41a8-4d69-815c-a0534a5beda0",
   "metadata": {},
   "source": [
    "## 정적 웹 크롤링\n",
    "\n",
    "### HTML 구조 이해"
   ]
  },
  {
   "cell_type": "code",
   "execution_count": 58,
   "id": "ac91f540-b704-48b6-8a4d-7724254b3dc0",
   "metadata": {},
   "outputs": [
    {
     "name": "stdout",
     "output_type": "stream",
     "text": [
      "Overwriting HTML_example.html\n"
     ]
    }
   ],
   "source": [
    "%%writefile HTML_example.html\n",
    "<!doctype html>\n",
    "<html>\n",
    "    <head>\n",
    "        <title>HTML example</title>\n",
    "        <style>\n",
    "            h1, p, div { text-align: center; }\n",
    "        </style>\n",
    "    </head>\n",
    "    <body>\n",
    "        <h1>HTML Example</h1>\n",
    "        <hr>\n",
    "        <p id=\"name\">이름 : 홍길동</p>\n",
    "        <p id=\"kor\" class=\"subject\">국어 : 50</p>\n",
    "        <p id=\"eng\" class=\"subject\">영어 : 50</p>\n",
    "        <p id=\"math\" class=\"subject\">수학 : 50</p>\n",
    "        <p id=\"total\">총점 : 150</p>\n",
    "        <p id=\"average\">평균 : 50.0</p>\n",
    "        <hr>\n",
    "        <div id=\"link\">\n",
    "            <a href=https://www.naver.com>Naver</a>\n",
    "            <a href=https://www.google.com>Google</a>\n",
    "        </div>\n",
    "    </body>\n",
    "</html>"
   ]
  },
  {
   "cell_type": "markdown",
   "id": "42ccafc0-ffb9-462a-9cca-4a113e4d01d0",
   "metadata": {},
   "source": [
    "### 웹 페이지 소스 제어\n",
    "\n",
    "#### web server로 부터 web page 소스( html ) 수신"
   ]
  },
  {
   "cell_type": "code",
   "execution_count": 25,
   "id": "912a9fa4-327c-436f-a54a-852bb402abaf",
   "metadata": {},
   "outputs": [],
   "source": [
    "import requests"
   ]
  },
  {
   "cell_type": "code",
   "execution_count": 29,
   "id": "a2d8a7a7-c131-4b8f-8107-d12264a787d5",
   "metadata": {},
   "outputs": [
    {
     "data": {
      "text/plain": [
       "<Response [200]>"
      ]
     },
     "execution_count": 29,
     "metadata": {},
     "output_type": "execute_result"
    }
   ],
   "source": [
    "r = requests.get( 'https://www.google.com' ) # web page 소스( html 코드 )를 가져오는 함수\n",
    "r"
   ]
  },
  {
   "cell_type": "code",
   "execution_count": 27,
   "id": "1e302cb9-2a34-4b9d-b76a-ae49fa0e79aa",
   "metadata": {},
   "outputs": [
    {
     "data": {
      "text/plain": [
       "'<!doctype html><html itemscope=\"\" itemtype=\"http://schema.org/WebPage\" lang=\"ko\"><head><meta content'"
      ]
     },
     "execution_count": 27,
     "metadata": {},
     "output_type": "execute_result"
    }
   ],
   "source": [
    "r.text[ :100 ] # 가져온 html 코드 "
   ]
  },
  {
   "cell_type": "markdown",
   "id": "9fa6fbab-552b-4716-98e5-e1a0613a4907",
   "metadata": {},
   "source": [
    "#### HTML 소스 코드 분석"
   ]
  },
  {
   "cell_type": "code",
   "execution_count": 30,
   "id": "b4756501-3ba6-46fb-b6a3-1e82df2390de",
   "metadata": {},
   "outputs": [],
   "source": [
    "from bs4 import BeautifulSoup"
   ]
  },
  {
   "cell_type": "code",
   "execution_count": 52,
   "id": "651f89b8-f9de-4f14-b656-895edc5d16d0",
   "metadata": {},
   "outputs": [],
   "source": [
    "html = '''<!doctype html><html><head><title>HTML example</title><style>h1, p, div { text-align: center; }\n",
    "</style></head><body><h1>HTML Example</h1><hr>\n",
    "<p id=\"name\">이름 : 홍길동</p>\n",
    "<p id=\"kor\" class=\"subject\">국어 : 50</p>\n",
    "<p id=\"eng\" class=\"subject\">영어 : 50</p>\n",
    "<p id=\"math\" class=\"subject\">수학 : 50</p>\n",
    "<p id=\"total\">총점 : 150</p>\n",
    "<p id=\"average\">평균 : 50.0</p><hr>\n",
    "<div id=\"link\"><a href=https://www.naver.com>Naver</a>\n",
    "<a href=https://www.google.com>Google</a></div></body></html>\n",
    "'''"
   ]
  },
  {
   "cell_type": "code",
   "execution_count": 54,
   "id": "b3c52255-0f85-425e-af40-f31933e58738",
   "metadata": {},
   "outputs": [
    {
     "data": {
      "text/plain": [
       "<!DOCTYPE html>\n",
       "<html><head><title>HTML example</title><style>h1, p, div { text-align: center; }\n",
       "</style></head><body><h1>HTML Example</h1><hr/>\n",
       "<p id=\"name\">이름 : 홍길동</p>\n",
       "<p class=\"subject\" id=\"kor\">국어 : 50</p>\n",
       "<p class=\"subject\" id=\"eng\">영어 : 50</p>\n",
       "<p class=\"subject\" id=\"math\">수학 : 50</p>\n",
       "<p id=\"total\">총점 : 150</p>\n",
       "<p id=\"average\">평균 : 50.0</p><hr/>\n",
       "<div id=\"link\"><a href=\"https://www.naver.com\">Naver</a>\n",
       "<a href=\"https://www.google.com\">Google</a></div></body></html>"
      ]
     },
     "execution_count": 54,
     "metadata": {},
     "output_type": "execute_result"
    }
   ],
   "source": [
    "# 분석할 대상 html 파싱( parsing )\n",
    "soup = BeautifulSoup( html, 'lxml' ) # 'lxml' : html 파서( parser )\n",
    "soup"
   ]
  },
  {
   "cell_type": "code",
   "execution_count": 35,
   "id": "5a9cb74a-250b-4374-a77e-8cbd82b14db2",
   "metadata": {},
   "outputs": [
    {
     "name": "stdout",
     "output_type": "stream",
     "text": [
      "<!DOCTYPE html>\n",
      "<html>\n",
      " <head>\n",
      "  <title>\n",
      "   HTML example\n",
      "  </title>\n",
      "  <style>\n",
      "   h1, p, div { text-align: center; }\n",
      "  </style>\n",
      " </head>\n",
      " <body>\n",
      "  <h1>\n",
      "   HTML Example\n",
      "  </h1>\n",
      "  <hr/>\n",
      "  <p id=\"name\">\n",
      "   이름 : 홍길동\n",
      "  </p>\n",
      "  <p id=\"kor\">\n",
      "   국어 : 50\n",
      "  </p>\n",
      "  <p id=\"eng\">\n",
      "   영어 : 50\n",
      "  </p>\n",
      "  <p id=\"math\">\n",
      "   수학 : 50\n",
      "  </p>\n",
      "  <p id=\"total\">\n",
      "   총점 : 150\n",
      "  </p>\n",
      "  <p id=\"average\">\n",
      "   평균 : 50.0\n",
      "  </p>\n",
      "  <hr/>\n",
      "  <div id=\"link\">\n",
      "   <a href=\"https://www.naver.com\">\n",
      "    Naver\n",
      "   </a>\n",
      "   <a href=\"https://www.google.com\">\n",
      "    Google\n",
      "   </a>\n",
      "  </div>\n",
      " </body>\n",
      "</html>\n",
      "\n"
     ]
    }
   ],
   "source": [
    "print( soup.prettify() ) # html 형태로 표현"
   ]
  },
  {
   "cell_type": "code",
   "execution_count": 36,
   "id": "ee371c1d-53c8-4a44-978d-885cb348b525",
   "metadata": {},
   "outputs": [
    {
     "data": {
      "text/plain": [
       "<p id=\"name\">이름 : 홍길동</p>"
      ]
     },
     "execution_count": 36,
     "metadata": {},
     "output_type": "execute_result"
    }
   ],
   "source": [
    "soup.find( 'p' ) # p 태그 첫 번째 항목 검색"
   ]
  },
  {
   "cell_type": "code",
   "execution_count": 37,
   "id": "d0a16a52-5548-4483-bf57-de3d5b7ef284",
   "metadata": {},
   "outputs": [
    {
     "data": {
      "text/plain": [
       "'이름 : 홍길동'"
      ]
     },
     "execution_count": 37,
     "metadata": {},
     "output_type": "execute_result"
    }
   ],
   "source": [
    "soup.find( 'p' ).get_text() # p 태그 첫 번째 항목 검색 결과에서 text 반환"
   ]
  },
  {
   "cell_type": "code",
   "execution_count": 38,
   "id": "8b16adae-e4c9-48ce-88d7-5b7b0791464b",
   "metadata": {},
   "outputs": [
    {
     "data": {
      "text/plain": [
       "<a href=\"https://www.naver.com\">Naver</a>"
      ]
     },
     "execution_count": 38,
     "metadata": {},
     "output_type": "execute_result"
    }
   ],
   "source": [
    "soup.find( 'a' ) "
   ]
  },
  {
   "cell_type": "code",
   "execution_count": 39,
   "id": "a441b9c1-e08d-4b5b-8b05-82ecd3c1b765",
   "metadata": {},
   "outputs": [
    {
     "data": {
      "text/plain": [
       "'Naver'"
      ]
     },
     "execution_count": 39,
     "metadata": {},
     "output_type": "execute_result"
    }
   ],
   "source": [
    "soup.find( 'a' ).get_text()"
   ]
  },
  {
   "cell_type": "code",
   "execution_count": 40,
   "id": "7f272bf6-f5a9-4666-9045-db4076663d0e",
   "metadata": {},
   "outputs": [
    {
     "data": {
      "text/plain": [
       "[<p id=\"name\">이름 : 홍길동</p>,\n",
       " <p id=\"kor\">국어 : 50</p>,\n",
       " <p id=\"eng\">영어 : 50</p>,\n",
       " <p id=\"math\">수학 : 50</p>,\n",
       " <p id=\"total\">총점 : 150</p>,\n",
       " <p id=\"average\">평균 : 50.0</p>]"
      ]
     },
     "execution_count": 40,
     "metadata": {},
     "output_type": "execute_result"
    }
   ],
   "source": [
    "soup.find_all( 'p' ) # p 태그 전체 검색"
   ]
  },
  {
   "cell_type": "code",
   "execution_count": 43,
   "id": "07c3c7f5-b186-4ee9-ada7-cc973bbf7765",
   "metadata": {},
   "outputs": [
    {
     "name": "stdout",
     "output_type": "stream",
     "text": [
      "이름 : 홍길동\n",
      "국어 : 50\n",
      "영어 : 50\n",
      "수학 : 50\n",
      "총점 : 150\n",
      "평균 : 50.0\n"
     ]
    }
   ],
   "source": [
    "students = soup.find_all( 'p' )\n",
    "for student in students:\n",
    "    print( student.get_text() )"
   ]
  },
  {
   "cell_type": "code",
   "execution_count": 46,
   "id": "0e6fdf5f-c8d8-4555-a467-aa367b0de280",
   "metadata": {},
   "outputs": [
    {
     "data": {
      "text/plain": [
       "<title>HTML example</title>"
      ]
     },
     "execution_count": 46,
     "metadata": {},
     "output_type": "execute_result"
    }
   ],
   "source": [
    "soup.title # title 태그 정보"
   ]
  },
  {
   "cell_type": "code",
   "execution_count": 47,
   "id": "4a844738-c33a-4f75-9c1f-8fa1435a3daa",
   "metadata": {},
   "outputs": [
    {
     "data": {
      "text/plain": [
       "<body><h1>HTML Example</h1><hr/><p id=\"name\">이름 : 홍길동</p>\n",
       "<p id=\"kor\">국어 : 50</p><p id=\"eng\">영어 : 50</p><p id=\"math\">수학 : 50</p>\n",
       "<p id=\"total\">총점 : 150</p><p id=\"average\">평균 : 50.0</p><hr/>\n",
       "<div id=\"link\"><a href=\"https://www.naver.com\">Naver</a>\n",
       "<a href=\"https://www.google.com\">Google</a></div></body>"
      ]
     },
     "execution_count": 47,
     "metadata": {},
     "output_type": "execute_result"
    }
   ],
   "source": [
    "soup.body # body 태그 정보"
   ]
  },
  {
   "cell_type": "code",
   "execution_count": 48,
   "id": "179d2497-a108-499f-9c6e-f997ca24b6a9",
   "metadata": {},
   "outputs": [
    {
     "data": {
      "text/plain": [
       "<p id=\"name\">이름 : 홍길동</p>"
      ]
     },
     "execution_count": 48,
     "metadata": {},
     "output_type": "execute_result"
    }
   ],
   "source": [
    "soup.body.p"
   ]
  },
  {
   "cell_type": "code",
   "execution_count": 49,
   "id": "4281a124-1a5f-4b26-b42d-98e26ab33b41",
   "metadata": {},
   "outputs": [
    {
     "data": {
      "text/plain": [
       "<h1>HTML Example</h1>"
      ]
     },
     "execution_count": 49,
     "metadata": {},
     "output_type": "execute_result"
    }
   ],
   "source": [
    "soup.body.h1"
   ]
  },
  {
   "cell_type": "code",
   "execution_count": 50,
   "id": "62914c84-bbe3-47cf-8449-d4029750bacb",
   "metadata": {},
   "outputs": [
    {
     "data": {
      "text/plain": [
       "<p id=\"kor\">국어 : 50</p>"
      ]
     },
     "execution_count": 50,
     "metadata": {},
     "output_type": "execute_result"
    }
   ],
   "source": [
    "soup.find( 'p', { 'id': 'kor' } ) # p 태그의 id 속성( attribute )의 정보"
   ]
  },
  {
   "cell_type": "code",
   "execution_count": 51,
   "id": "f1f3a529-9eee-4527-bf5a-16bb9dd94830",
   "metadata": {},
   "outputs": [
    {
     "data": {
      "text/plain": [
       "<p id=\"name\">이름 : 홍길동</p>"
      ]
     },
     "execution_count": 51,
     "metadata": {},
     "output_type": "execute_result"
    }
   ],
   "source": [
    "soup.find( 'p', { 'id': 'name' } )"
   ]
  },
  {
   "cell_type": "code",
   "execution_count": 56,
   "id": "943de397-e9a9-4af2-8f8e-7503369e0498",
   "metadata": {},
   "outputs": [
    {
     "data": {
      "text/plain": [
       "[<p class=\"subject\" id=\"kor\">국어 : 50</p>,\n",
       " <p class=\"subject\" id=\"eng\">영어 : 50</p>,\n",
       " <p class=\"subject\" id=\"math\">수학 : 50</p>]"
      ]
     },
     "execution_count": 56,
     "metadata": {},
     "output_type": "execute_result"
    }
   ],
   "source": [
    "soup.find_all( 'p', { 'class': 'subject' } )"
   ]
  },
  {
   "cell_type": "code",
   "execution_count": 57,
   "id": "fd6abfd9-d263-4fea-8111-c00700e1056a",
   "metadata": {},
   "outputs": [
    {
     "data": {
      "text/plain": [
       "[<p id=\"name\">이름 : 홍길동</p>,\n",
       " <p class=\"subject\" id=\"kor\">국어 : 50</p>,\n",
       " <p class=\"subject\" id=\"eng\">영어 : 50</p>,\n",
       " <p class=\"subject\" id=\"math\">수학 : 50</p>,\n",
       " <p id=\"total\">총점 : 150</p>,\n",
       " <p id=\"average\">평균 : 50.0</p>]"
      ]
     },
     "execution_count": 57,
     "metadata": {},
     "output_type": "execute_result"
    }
   ],
   "source": [
    "soup.find_all( 'p' )"
   ]
  },
  {
   "cell_type": "code",
   "execution_count": 60,
   "id": "d7a1b9bd-919b-4e49-ac34-8e01cdf09a12",
   "metadata": {},
   "outputs": [
    {
     "name": "stdout",
     "output_type": "stream",
     "text": [
      "국어 : 50\n",
      "영어 : 50\n",
      "수학 : 50\n"
     ]
    }
   ],
   "source": [
    "subjects = soup.find_all( 'p', { 'class': 'subject' } )\n",
    "for subject in subjects:\n",
    "    print( subject.get_text() )"
   ]
  },
  {
   "cell_type": "markdown",
   "id": "96fb55b0-8a49-4893-95c4-1c65e123daa7",
   "metadata": {},
   "source": [
    "#### CSS 선택자 사용"
   ]
  },
  {
   "cell_type": "code",
   "execution_count": 61,
   "id": "882018ee-3420-4b85-870e-a84fcaf4f040",
   "metadata": {},
   "outputs": [
    {
     "data": {
      "text/plain": [
       "[<h1>HTML Example</h1>]"
      ]
     },
     "execution_count": 61,
     "metadata": {},
     "output_type": "execute_result"
    }
   ],
   "source": [
    "soup.select( 'body h1' ) # select() 메서드 : CSS 선택자를 적용한 내용 반환"
   ]
  },
  {
   "cell_type": "code",
   "execution_count": 62,
   "id": "6a2d6fac-9447-489e-a190-55382800a753",
   "metadata": {},
   "outputs": [
    {
     "data": {
      "text/plain": [
       "[<p id=\"name\">이름 : 홍길동</p>,\n",
       " <p class=\"subject\" id=\"kor\">국어 : 50</p>,\n",
       " <p class=\"subject\" id=\"eng\">영어 : 50</p>,\n",
       " <p class=\"subject\" id=\"math\">수학 : 50</p>,\n",
       " <p id=\"total\">총점 : 150</p>,\n",
       " <p id=\"average\">평균 : 50.0</p>]"
      ]
     },
     "execution_count": 62,
     "metadata": {},
     "output_type": "execute_result"
    }
   ],
   "source": [
    "soup.select( 'body p' )"
   ]
  },
  {
   "cell_type": "code",
   "execution_count": 66,
   "id": "7c0842dd-9ac5-4d43-8c2e-99bdd47a12f6",
   "metadata": {},
   "outputs": [
    {
     "data": {
      "text/plain": [
       "[<p class=\"subject\" id=\"kor\">국어 : 50</p>]"
      ]
     },
     "execution_count": 66,
     "metadata": {},
     "output_type": "execute_result"
    }
   ],
   "source": [
    "soup.select( 'p#kor' ) # p태그의 id 속성에 대한 내용"
   ]
  },
  {
   "cell_type": "code",
   "execution_count": 67,
   "id": "4d672c0a-f998-4514-9eff-a95d165e29d6",
   "metadata": {},
   "outputs": [
    {
     "data": {
      "text/plain": [
       "[<p class=\"subject\" id=\"kor\">국어 : 50</p>,\n",
       " <p class=\"subject\" id=\"eng\">영어 : 50</p>,\n",
       " <p class=\"subject\" id=\"math\">수학 : 50</p>]"
      ]
     },
     "execution_count": 67,
     "metadata": {},
     "output_type": "execute_result"
    }
   ],
   "source": [
    "soup.select( 'p.subject' ) # p태그의 class 속성에 대한 내용"
   ]
  },
  {
   "cell_type": "code",
   "execution_count": 70,
   "id": "739247b4-a36a-4e85-be15-07abe91ed796",
   "metadata": {},
   "outputs": [
    {
     "name": "stdout",
     "output_type": "stream",
     "text": [
      "국어 : 50\n",
      "영어 : 50\n",
      "수학 : 50\n"
     ]
    }
   ],
   "source": [
    "for subject in soup.select( 'p.subject' ):\n",
    "    print( subject.get_text() )"
   ]
  },
  {
   "cell_type": "code",
   "execution_count": 68,
   "id": "11d80252-e39c-4fcc-84c3-983f56a21c14",
   "metadata": {},
   "outputs": [
    {
     "data": {
      "text/plain": [
       "[<a href=\"https://www.naver.com\">Naver</a>,\n",
       " <a href=\"https://www.google.com\">Google</a>]"
      ]
     },
     "execution_count": 68,
     "metadata": {},
     "output_type": "execute_result"
    }
   ],
   "source": [
    "soup.select( 'a' )"
   ]
  },
  {
   "cell_type": "markdown",
   "id": "a8f19e39-605c-468b-8167-d7b97be14ee0",
   "metadata": {},
   "source": [
    "### 정적 웹 사이트 크롤링\n",
    "\n",
    "https://www.alexa.com/topsites"
   ]
  },
  {
   "cell_type": "code",
   "execution_count": 71,
   "id": "c0382c9c-59fa-40e3-950a-1fa38aa3751e",
   "metadata": {},
   "outputs": [],
   "source": [
    "import requests\n",
    "from bs4 import BeautifulSoup"
   ]
  },
  {
   "cell_type": "code",
   "execution_count": 72,
   "id": "eb33aac6-0a26-41c3-bc79-befb932058f7",
   "metadata": {},
   "outputs": [],
   "source": [
    "url = 'https://www.alexa.com/topsites'\n",
    "\n",
    "html_website_ranking = requests.get( url ).text\n",
    "soup_website_ranking = BeautifulSoup( html_website_ranking, 'lxml' )"
   ]
  },
  {
   "cell_type": "code",
   "execution_count": 73,
   "id": "327cf77e-36c8-470c-9a31-9bbf75d81918",
   "metadata": {},
   "outputs": [
    {
     "data": {
      "text/plain": [
       "[<a href=\"https://support.alexa.com/hc/en-us/articles/200444340\" target=\"_blank\">this explanation</a>,\n",
       " <a href=\"/siteinfo/google.com\">Google.com</a>,\n",
       " <a href=\"/siteinfo/youtube.com\">Youtube.com</a>,\n",
       " <a href=\"/siteinfo/tmall.com\">Tmall.com</a>,\n",
       " <a href=\"/siteinfo/facebook.com\">Facebook.com</a>,\n",
       " <a href=\"/siteinfo/qq.com\">Qq.com</a>,\n",
       " <a href=\"/siteinfo/baidu.com\">Baidu.com</a>,\n",
       " <a href=\"/siteinfo/sohu.com\">Sohu.com</a>,\n",
       " <a href=\"/siteinfo/taobao.com\">Taobao.com</a>,\n",
       " <a href=\"/siteinfo/360.cn\">360.cn</a>,\n",
       " <a href=\"/siteinfo/jd.com\">Jd.com</a>,\n",
       " <a href=\"/siteinfo/amazon.com\">Amazon.com</a>,\n",
       " <a href=\"/siteinfo/yahoo.com\">Yahoo.com</a>,\n",
       " <a href=\"/siteinfo/wikipedia.org\">Wikipedia.org</a>,\n",
       " <a href=\"/siteinfo/weibo.com\">Weibo.com</a>,\n",
       " <a href=\"/siteinfo/sina.com.cn\">Sina.com.cn</a>,\n",
       " <a href=\"/siteinfo/xinhuanet.com\">Xinhuanet.com</a>,\n",
       " <a href=\"/siteinfo/zoom.us\">Zoom.us</a>,\n",
       " <a href=\"/siteinfo/live.com\">Live.com</a>,\n",
       " <a href=\"/siteinfo/netflix.com\">Netflix.com</a>,\n",
       " <a href=\"/siteinfo/reddit.com\">Reddit.com</a>,\n",
       " <a href=\"/siteinfo/microsoft.com\">Microsoft.com</a>,\n",
       " <a href=\"/siteinfo/office.com\">Office.com</a>,\n",
       " <a href=\"/siteinfo/instagram.com\">Instagram.com</a>,\n",
       " <a href=\"/siteinfo/panda.tv\">Panda.tv</a>,\n",
       " <a href=\"/siteinfo/zhanqi.tv\">Zhanqi.tv</a>,\n",
       " <a href=\"/siteinfo/google.com.hk\">Google.com.hk</a>,\n",
       " <a href=\"/siteinfo/alipay.com\">Alipay.com</a>,\n",
       " <a href=\"/siteinfo/bing.com\">Bing.com</a>,\n",
       " <a href=\"/siteinfo/csdn.net\">Csdn.net</a>,\n",
       " <a href=\"/siteinfo/myshopify.com\">Myshopify.com</a>,\n",
       " <a href=\"/siteinfo/vk.com\">Vk.com</a>,\n",
       " <a href=\"/siteinfo/microsoftonline.com\">Microsoftonline.com</a>,\n",
       " <a href=\"/siteinfo/yahoo.co.jp\">Yahoo.co.jp</a>,\n",
       " <a href=\"/siteinfo/twitter.com\">Twitter.com</a>,\n",
       " <a href=\"/siteinfo/bongacams.com\">Bongacams.com</a>,\n",
       " <a href=\"/siteinfo/naver.com\">Naver.com</a>,\n",
       " <a href=\"/siteinfo/twitch.tv\">Twitch.tv</a>,\n",
       " <a href=\"/siteinfo/canva.com\">Canva.com</a>,\n",
       " <a href=\"/siteinfo/amazon.in\">Amazon.in</a>,\n",
       " <a href=\"/siteinfo/tianya.cn\">Tianya.cn</a>,\n",
       " <a href=\"/siteinfo/aliexpress.com\">Aliexpress.com</a>,\n",
       " <a href=\"/siteinfo/adobe.com\">Adobe.com</a>,\n",
       " <a href=\"/siteinfo/force.com\">Force.com</a>,\n",
       " <a href=\"/siteinfo/ebay.com\">Ebay.com</a>,\n",
       " <a href=\"/siteinfo/linkedin.com\">Linkedin.com</a>,\n",
       " <a href=\"/siteinfo/chaturbate.com\">Chaturbate.com</a>,\n",
       " <a href=\"/siteinfo/huanqiu.com\">Huanqiu.com</a>,\n",
       " <a href=\"/siteinfo/yy.com\">Yy.com</a>,\n",
       " <a href=\"/siteinfo/okezone.com\">Okezone.com</a>,\n",
       " <a href=\"/siteinfo/amazon.co.jp\">Amazon.co.jp</a>]"
      ]
     },
     "execution_count": 73,
     "metadata": {},
     "output_type": "execute_result"
    }
   ],
   "source": [
    "website_ranking = soup_website_ranking.select( 'p a' )\n",
    "website_ranking"
   ]
  },
  {
   "cell_type": "code",
   "execution_count": 74,
   "id": "ade10625-8eea-4114-9834-683baa8fb987",
   "metadata": {},
   "outputs": [
    {
     "data": {
      "text/plain": [
       "'Google.com'"
      ]
     },
     "execution_count": 74,
     "metadata": {},
     "output_type": "execute_result"
    }
   ],
   "source": [
    "website_ranking[ 1 ].get_text()"
   ]
  },
  {
   "cell_type": "code",
   "execution_count": 75,
   "id": "ae2fa789-2935-401d-ba35-911e6c2e19d4",
   "metadata": {},
   "outputs": [],
   "source": [
    "website_ranking_address = [ website_ranking_element.get_text() for \\\n",
    "                            website_ranking_element in website_ranking[ 1: ] ]"
   ]
  },
  {
   "cell_type": "code",
   "execution_count": 76,
   "id": "75ba670f-2542-491e-8bda-273d3b7cdaf6",
   "metadata": {},
   "outputs": [
    {
     "data": {
      "text/plain": [
       "['Google.com',\n",
       " 'Youtube.com',\n",
       " 'Tmall.com',\n",
       " 'Facebook.com',\n",
       " 'Qq.com',\n",
       " 'Baidu.com',\n",
       " 'Sohu.com',\n",
       " 'Taobao.com',\n",
       " '360.cn',\n",
       " 'Jd.com']"
      ]
     },
     "execution_count": 76,
     "metadata": {},
     "output_type": "execute_result"
    }
   ],
   "source": [
    "website_ranking_address[ :10 ]"
   ]
  },
  {
   "cell_type": "code",
   "execution_count": 81,
   "id": "57ee2020-0e72-44c7-813a-782cf5457940",
   "metadata": {},
   "outputs": [
    {
     "name": "stdout",
     "output_type": "stream",
     "text": [
      "[ Top sites ]\n",
      "\n",
      "1 : Google.com\n",
      "2 : Youtube.com\n",
      "3 : Tmall.com\n",
      "4 : Facebook.com\n",
      "5 : Qq.com\n",
      "6 : Baidu.com\n",
      "7 : Sohu.com\n",
      "8 : Taobao.com\n",
      "9 : 360.cn\n",
      "10 : Jd.com\n",
      "11 : Amazon.com\n",
      "12 : Yahoo.com\n",
      "13 : Wikipedia.org\n",
      "14 : Weibo.com\n",
      "15 : Sina.com.cn\n",
      "16 : Xinhuanet.com\n",
      "17 : Zoom.us\n",
      "18 : Live.com\n",
      "19 : Netflix.com\n",
      "20 : Reddit.com\n",
      "21 : Microsoft.com\n",
      "22 : Office.com\n",
      "23 : Instagram.com\n",
      "24 : Panda.tv\n",
      "25 : Zhanqi.tv\n",
      "26 : Google.com.hk\n",
      "27 : Alipay.com\n",
      "28 : Bing.com\n",
      "29 : Csdn.net\n",
      "30 : Myshopify.com\n",
      "31 : Vk.com\n",
      "32 : Microsoftonline.com\n",
      "33 : Yahoo.co.jp\n",
      "34 : Twitter.com\n",
      "35 : Bongacams.com\n",
      "36 : Naver.com\n",
      "37 : Twitch.tv\n",
      "38 : Canva.com\n",
      "39 : Amazon.in\n",
      "40 : Tianya.cn\n",
      "41 : Aliexpress.com\n",
      "42 : Adobe.com\n",
      "43 : Force.com\n",
      "44 : Ebay.com\n",
      "45 : Linkedin.com\n",
      "46 : Chaturbate.com\n",
      "47 : Huanqiu.com\n",
      "48 : Yy.com\n",
      "49 : Okezone.com\n",
      "50 : Amazon.co.jp\n"
     ]
    }
   ],
   "source": [
    "print( '[ Top sites ]\\n' )\n",
    "for i, site in enumerate( website_ranking_address ):\n",
    "    print( f'{i + 1} : {site}' ) "
   ]
  },
  {
   "cell_type": "code",
   "execution_count": 84,
   "id": "b18e8099-627a-4279-9633-5b218b3fd177",
   "metadata": {},
   "outputs": [
    {
     "data": {
      "text/html": [
       "<div>\n",
       "<style scoped>\n",
       "    .dataframe tbody tr th:only-of-type {\n",
       "        vertical-align: middle;\n",
       "    }\n",
       "\n",
       "    .dataframe tbody tr th {\n",
       "        vertical-align: top;\n",
       "    }\n",
       "\n",
       "    .dataframe thead th {\n",
       "        text-align: right;\n",
       "    }\n",
       "</style>\n",
       "<table border=\"1\" class=\"dataframe\">\n",
       "  <thead>\n",
       "    <tr style=\"text-align: right;\">\n",
       "      <th></th>\n",
       "      <th>website</th>\n",
       "    </tr>\n",
       "  </thead>\n",
       "  <tbody>\n",
       "    <tr>\n",
       "      <th>1</th>\n",
       "      <td>Google.com</td>\n",
       "    </tr>\n",
       "    <tr>\n",
       "      <th>2</th>\n",
       "      <td>Youtube.com</td>\n",
       "    </tr>\n",
       "    <tr>\n",
       "      <th>3</th>\n",
       "      <td>Tmall.com</td>\n",
       "    </tr>\n",
       "    <tr>\n",
       "      <th>4</th>\n",
       "      <td>Facebook.com</td>\n",
       "    </tr>\n",
       "    <tr>\n",
       "      <th>5</th>\n",
       "      <td>Qq.com</td>\n",
       "    </tr>\n",
       "    <tr>\n",
       "      <th>6</th>\n",
       "      <td>Baidu.com</td>\n",
       "    </tr>\n",
       "    <tr>\n",
       "      <th>7</th>\n",
       "      <td>Sohu.com</td>\n",
       "    </tr>\n",
       "    <tr>\n",
       "      <th>8</th>\n",
       "      <td>Taobao.com</td>\n",
       "    </tr>\n",
       "    <tr>\n",
       "      <th>9</th>\n",
       "      <td>360.cn</td>\n",
       "    </tr>\n",
       "    <tr>\n",
       "      <th>10</th>\n",
       "      <td>Jd.com</td>\n",
       "    </tr>\n",
       "    <tr>\n",
       "      <th>11</th>\n",
       "      <td>Amazon.com</td>\n",
       "    </tr>\n",
       "    <tr>\n",
       "      <th>12</th>\n",
       "      <td>Yahoo.com</td>\n",
       "    </tr>\n",
       "    <tr>\n",
       "      <th>13</th>\n",
       "      <td>Wikipedia.org</td>\n",
       "    </tr>\n",
       "    <tr>\n",
       "      <th>14</th>\n",
       "      <td>Weibo.com</td>\n",
       "    </tr>\n",
       "    <tr>\n",
       "      <th>15</th>\n",
       "      <td>Sina.com.cn</td>\n",
       "    </tr>\n",
       "    <tr>\n",
       "      <th>16</th>\n",
       "      <td>Xinhuanet.com</td>\n",
       "    </tr>\n",
       "    <tr>\n",
       "      <th>17</th>\n",
       "      <td>Zoom.us</td>\n",
       "    </tr>\n",
       "    <tr>\n",
       "      <th>18</th>\n",
       "      <td>Live.com</td>\n",
       "    </tr>\n",
       "    <tr>\n",
       "      <th>19</th>\n",
       "      <td>Netflix.com</td>\n",
       "    </tr>\n",
       "    <tr>\n",
       "      <th>20</th>\n",
       "      <td>Reddit.com</td>\n",
       "    </tr>\n",
       "    <tr>\n",
       "      <th>21</th>\n",
       "      <td>Microsoft.com</td>\n",
       "    </tr>\n",
       "    <tr>\n",
       "      <th>22</th>\n",
       "      <td>Office.com</td>\n",
       "    </tr>\n",
       "    <tr>\n",
       "      <th>23</th>\n",
       "      <td>Instagram.com</td>\n",
       "    </tr>\n",
       "    <tr>\n",
       "      <th>24</th>\n",
       "      <td>Panda.tv</td>\n",
       "    </tr>\n",
       "    <tr>\n",
       "      <th>25</th>\n",
       "      <td>Zhanqi.tv</td>\n",
       "    </tr>\n",
       "    <tr>\n",
       "      <th>26</th>\n",
       "      <td>Google.com.hk</td>\n",
       "    </tr>\n",
       "    <tr>\n",
       "      <th>27</th>\n",
       "      <td>Alipay.com</td>\n",
       "    </tr>\n",
       "    <tr>\n",
       "      <th>28</th>\n",
       "      <td>Bing.com</td>\n",
       "    </tr>\n",
       "    <tr>\n",
       "      <th>29</th>\n",
       "      <td>Csdn.net</td>\n",
       "    </tr>\n",
       "    <tr>\n",
       "      <th>30</th>\n",
       "      <td>Myshopify.com</td>\n",
       "    </tr>\n",
       "    <tr>\n",
       "      <th>31</th>\n",
       "      <td>Vk.com</td>\n",
       "    </tr>\n",
       "    <tr>\n",
       "      <th>32</th>\n",
       "      <td>Microsoftonline.com</td>\n",
       "    </tr>\n",
       "    <tr>\n",
       "      <th>33</th>\n",
       "      <td>Yahoo.co.jp</td>\n",
       "    </tr>\n",
       "    <tr>\n",
       "      <th>34</th>\n",
       "      <td>Twitter.com</td>\n",
       "    </tr>\n",
       "    <tr>\n",
       "      <th>35</th>\n",
       "      <td>Bongacams.com</td>\n",
       "    </tr>\n",
       "    <tr>\n",
       "      <th>36</th>\n",
       "      <td>Naver.com</td>\n",
       "    </tr>\n",
       "    <tr>\n",
       "      <th>37</th>\n",
       "      <td>Twitch.tv</td>\n",
       "    </tr>\n",
       "    <tr>\n",
       "      <th>38</th>\n",
       "      <td>Canva.com</td>\n",
       "    </tr>\n",
       "    <tr>\n",
       "      <th>39</th>\n",
       "      <td>Amazon.in</td>\n",
       "    </tr>\n",
       "    <tr>\n",
       "      <th>40</th>\n",
       "      <td>Tianya.cn</td>\n",
       "    </tr>\n",
       "    <tr>\n",
       "      <th>41</th>\n",
       "      <td>Aliexpress.com</td>\n",
       "    </tr>\n",
       "    <tr>\n",
       "      <th>42</th>\n",
       "      <td>Adobe.com</td>\n",
       "    </tr>\n",
       "    <tr>\n",
       "      <th>43</th>\n",
       "      <td>Force.com</td>\n",
       "    </tr>\n",
       "    <tr>\n",
       "      <th>44</th>\n",
       "      <td>Ebay.com</td>\n",
       "    </tr>\n",
       "    <tr>\n",
       "      <th>45</th>\n",
       "      <td>Linkedin.com</td>\n",
       "    </tr>\n",
       "    <tr>\n",
       "      <th>46</th>\n",
       "      <td>Chaturbate.com</td>\n",
       "    </tr>\n",
       "    <tr>\n",
       "      <th>47</th>\n",
       "      <td>Huanqiu.com</td>\n",
       "    </tr>\n",
       "    <tr>\n",
       "      <th>48</th>\n",
       "      <td>Yy.com</td>\n",
       "    </tr>\n",
       "    <tr>\n",
       "      <th>49</th>\n",
       "      <td>Okezone.com</td>\n",
       "    </tr>\n",
       "    <tr>\n",
       "      <th>50</th>\n",
       "      <td>Amazon.co.jp</td>\n",
       "    </tr>\n",
       "  </tbody>\n",
       "</table>\n",
       "</div>"
      ],
      "text/plain": [
       "                website\n",
       "1            Google.com\n",
       "2           Youtube.com\n",
       "3             Tmall.com\n",
       "4          Facebook.com\n",
       "5                Qq.com\n",
       "6             Baidu.com\n",
       "7              Sohu.com\n",
       "8            Taobao.com\n",
       "9                360.cn\n",
       "10               Jd.com\n",
       "11           Amazon.com\n",
       "12            Yahoo.com\n",
       "13        Wikipedia.org\n",
       "14            Weibo.com\n",
       "15          Sina.com.cn\n",
       "16        Xinhuanet.com\n",
       "17              Zoom.us\n",
       "18             Live.com\n",
       "19          Netflix.com\n",
       "20           Reddit.com\n",
       "21        Microsoft.com\n",
       "22           Office.com\n",
       "23        Instagram.com\n",
       "24             Panda.tv\n",
       "25            Zhanqi.tv\n",
       "26        Google.com.hk\n",
       "27           Alipay.com\n",
       "28             Bing.com\n",
       "29             Csdn.net\n",
       "30        Myshopify.com\n",
       "31               Vk.com\n",
       "32  Microsoftonline.com\n",
       "33          Yahoo.co.jp\n",
       "34          Twitter.com\n",
       "35        Bongacams.com\n",
       "36            Naver.com\n",
       "37            Twitch.tv\n",
       "38            Canva.com\n",
       "39            Amazon.in\n",
       "40            Tianya.cn\n",
       "41       Aliexpress.com\n",
       "42            Adobe.com\n",
       "43            Force.com\n",
       "44             Ebay.com\n",
       "45         Linkedin.com\n",
       "46       Chaturbate.com\n",
       "47          Huanqiu.com\n",
       "48               Yy.com\n",
       "49          Okezone.com\n",
       "50         Amazon.co.jp"
      ]
     },
     "execution_count": 84,
     "metadata": {},
     "output_type": "execute_result"
    }
   ],
   "source": [
    "website_ranking_dict = { 'website': website_ranking_address }\n",
    "df = pd.DataFrame( website_ranking_dict, columns = [ 'website' ],\n",
    "                   index = range( 1, len( website_ranking_address ) + 1 ) )\n",
    "df.head( 50 )"
   ]
  },
  {
   "cell_type": "markdown",
   "id": "7b8aeafc-0f9d-4912-b8f7-5cd57aa82614",
   "metadata": {},
   "source": [
    "## 동적 웹 사이트 크롤링"
   ]
  },
  {
   "cell_type": "code",
   "execution_count": 85,
   "id": "6265465c-6d28-43aa-a9f9-7cbbeefc2e05",
   "metadata": {},
   "outputs": [],
   "source": [
    "import requests\n",
    "from bs4 import BeautifulSoup\n",
    "from selenium import webdriver\n",
    "\n",
    "import math\n",
    "import time"
   ]
  },
  {
   "cell_type": "code",
   "execution_count": 87,
   "id": "ce28a390-346e-4398-a936-634f630ae0c1",
   "metadata": {},
   "outputs": [
    {
     "ename": "WebDriverException",
     "evalue": "Message: Service /Users/imac4.5k-r.g./chromedriver unexpectedly exited. Status code was: -9\n",
     "output_type": "error",
     "traceback": [
      "\u001b[0;31m---------------------------------------------------------------------------\u001b[0m",
      "\u001b[0;31mWebDriverException\u001b[0m                        Traceback (most recent call last)",
      "\u001b[0;32m<ipython-input-87-af4036624af7>\u001b[0m in \u001b[0;36m<module>\u001b[0;34m\u001b[0m\n\u001b[1;32m      1\u001b[0m \u001b[0;31m# Chromedriver로 chrome browser 실행\u001b[0m\u001b[0;34m\u001b[0m\u001b[0;34m\u001b[0m\u001b[0;34m\u001b[0m\u001b[0m\n\u001b[1;32m      2\u001b[0m \u001b[0mpath\u001b[0m \u001b[0;34m=\u001b[0m \u001b[0;34m'/Users/imac4.5k-r.g./chromedriver'\u001b[0m\u001b[0;34m\u001b[0m\u001b[0;34m\u001b[0m\u001b[0m\n\u001b[0;32m----> 3\u001b[0;31m \u001b[0mbrowser\u001b[0m \u001b[0;34m=\u001b[0m \u001b[0mwebdriver\u001b[0m\u001b[0;34m.\u001b[0m\u001b[0mChrome\u001b[0m\u001b[0;34m(\u001b[0m \u001b[0mpath\u001b[0m \u001b[0;34m)\u001b[0m\u001b[0;34m\u001b[0m\u001b[0;34m\u001b[0m\u001b[0m\n\u001b[0m\u001b[1;32m      4\u001b[0m \u001b[0;34m\u001b[0m\u001b[0m\n\u001b[1;32m      5\u001b[0m \u001b[0;31m# Naver 영화 페이지 '1917' 영화 페이지 이동\u001b[0m\u001b[0;34m\u001b[0m\u001b[0;34m\u001b[0m\u001b[0;34m\u001b[0m\u001b[0m\n",
      "\u001b[0;32m~/opt/anaconda3/lib/python3.8/site-packages/selenium/webdriver/chrome/webdriver.py\u001b[0m in \u001b[0;36m__init__\u001b[0;34m(self, executable_path, port, options, service_args, desired_capabilities, service_log_path, chrome_options, keep_alive)\u001b[0m\n\u001b[1;32m     71\u001b[0m             \u001b[0mservice_args\u001b[0m\u001b[0;34m=\u001b[0m\u001b[0mservice_args\u001b[0m\u001b[0;34m,\u001b[0m\u001b[0;34m\u001b[0m\u001b[0;34m\u001b[0m\u001b[0m\n\u001b[1;32m     72\u001b[0m             log_path=service_log_path)\n\u001b[0;32m---> 73\u001b[0;31m         \u001b[0mself\u001b[0m\u001b[0;34m.\u001b[0m\u001b[0mservice\u001b[0m\u001b[0;34m.\u001b[0m\u001b[0mstart\u001b[0m\u001b[0;34m(\u001b[0m\u001b[0;34m)\u001b[0m\u001b[0;34m\u001b[0m\u001b[0;34m\u001b[0m\u001b[0m\n\u001b[0m\u001b[1;32m     74\u001b[0m \u001b[0;34m\u001b[0m\u001b[0m\n\u001b[1;32m     75\u001b[0m         \u001b[0;32mtry\u001b[0m\u001b[0;34m:\u001b[0m\u001b[0;34m\u001b[0m\u001b[0;34m\u001b[0m\u001b[0m\n",
      "\u001b[0;32m~/opt/anaconda3/lib/python3.8/site-packages/selenium/webdriver/common/service.py\u001b[0m in \u001b[0;36mstart\u001b[0;34m(self)\u001b[0m\n\u001b[1;32m     96\u001b[0m         \u001b[0mcount\u001b[0m \u001b[0;34m=\u001b[0m \u001b[0;36m0\u001b[0m\u001b[0;34m\u001b[0m\u001b[0;34m\u001b[0m\u001b[0m\n\u001b[1;32m     97\u001b[0m         \u001b[0;32mwhile\u001b[0m \u001b[0;32mTrue\u001b[0m\u001b[0;34m:\u001b[0m\u001b[0;34m\u001b[0m\u001b[0;34m\u001b[0m\u001b[0m\n\u001b[0;32m---> 98\u001b[0;31m             \u001b[0mself\u001b[0m\u001b[0;34m.\u001b[0m\u001b[0massert_process_still_running\u001b[0m\u001b[0;34m(\u001b[0m\u001b[0;34m)\u001b[0m\u001b[0;34m\u001b[0m\u001b[0;34m\u001b[0m\u001b[0m\n\u001b[0m\u001b[1;32m     99\u001b[0m             \u001b[0;32mif\u001b[0m \u001b[0mself\u001b[0m\u001b[0;34m.\u001b[0m\u001b[0mis_connectable\u001b[0m\u001b[0;34m(\u001b[0m\u001b[0;34m)\u001b[0m\u001b[0;34m:\u001b[0m\u001b[0;34m\u001b[0m\u001b[0;34m\u001b[0m\u001b[0m\n\u001b[1;32m    100\u001b[0m                 \u001b[0;32mbreak\u001b[0m\u001b[0;34m\u001b[0m\u001b[0;34m\u001b[0m\u001b[0m\n",
      "\u001b[0;32m~/opt/anaconda3/lib/python3.8/site-packages/selenium/webdriver/common/service.py\u001b[0m in \u001b[0;36massert_process_still_running\u001b[0;34m(self)\u001b[0m\n\u001b[1;32m    107\u001b[0m         \u001b[0mreturn_code\u001b[0m \u001b[0;34m=\u001b[0m \u001b[0mself\u001b[0m\u001b[0;34m.\u001b[0m\u001b[0mprocess\u001b[0m\u001b[0;34m.\u001b[0m\u001b[0mpoll\u001b[0m\u001b[0;34m(\u001b[0m\u001b[0;34m)\u001b[0m\u001b[0;34m\u001b[0m\u001b[0;34m\u001b[0m\u001b[0m\n\u001b[1;32m    108\u001b[0m         \u001b[0;32mif\u001b[0m \u001b[0mreturn_code\u001b[0m \u001b[0;32mis\u001b[0m \u001b[0;32mnot\u001b[0m \u001b[0;32mNone\u001b[0m\u001b[0;34m:\u001b[0m\u001b[0;34m\u001b[0m\u001b[0;34m\u001b[0m\u001b[0m\n\u001b[0;32m--> 109\u001b[0;31m             raise WebDriverException(\n\u001b[0m\u001b[1;32m    110\u001b[0m                 \u001b[0;34m'Service %s unexpectedly exited. Status code was: %s'\u001b[0m\u001b[0;34m\u001b[0m\u001b[0;34m\u001b[0m\u001b[0m\n\u001b[1;32m    111\u001b[0m                 \u001b[0;34m%\u001b[0m \u001b[0;34m(\u001b[0m\u001b[0mself\u001b[0m\u001b[0;34m.\u001b[0m\u001b[0mpath\u001b[0m\u001b[0;34m,\u001b[0m \u001b[0mreturn_code\u001b[0m\u001b[0;34m)\u001b[0m\u001b[0;34m\u001b[0m\u001b[0;34m\u001b[0m\u001b[0m\n",
      "\u001b[0;31mWebDriverException\u001b[0m: Message: Service /Users/imac4.5k-r.g./chromedriver unexpectedly exited. Status code was: -9\n"
     ]
    }
   ],
   "source": [
    "# Chromedriver로 chrome browser 실행\n",
    "path = '/Users/imac4.5k-r.g./chromedriver'\n",
    "browser = webdriver.Chrome( path )\n",
    "\n",
    "# Naver 영화 페이지 '1917' 영화 페이지 이동\n",
    "url = 'https://movie.naver.com/movie/bi/mi/point.naver?code=187321'\n",
    "broser.get( url )\n",
    "\n",
    "# 평점 더보기 링크 클릭\n",
    "view_more = browser.find_element_by_xpath( '//*[@id=\"content\"] \\\n",
    "/div[1]/div[4]/div[5]/div[2]/div[1]/a' )\n",
    "view_more.click()\n",
    "\n",
    "browser.switch_to_frame( browser.find_element_by_id( 'pointAfterListframe' ) )"
   ]
  },
  {
   "cell_type": "code",
   "execution_count": null,
   "id": "d9d5daef-e9d5-4d4e-9745-b2cc14e0c0af",
   "metadata": {},
   "outputs": [],
   "source": [
    "# 전체 댓글수에 따른 페이지 계산\n",
    "html0 = browser.page_source\n",
    "html1 = BeautifulSoup( html0, 'lxml' )\n",
    "html2 = html1.find( 'div', { 'class': 'score_total' } ).find( 'strong' ). \\\n",
    "findChildren( 'em' )[ 0 ].getText()\n",
    "\n",
    "total_comment = int( html2.replace( ',', '' ) )\n",
    "total_page = total_comment / 10\n",
    "\n",
    "print( total_comment )\n",
    "print( total_page )\n",
    "print( math.trunc( total_page ) )"
   ]
  },
  {
   "cell_type": "code",
   "execution_count": null,
   "id": "32075415-c27c-4d82-a136-47260c930fc0",
   "metadata": {},
   "outputs": [],
   "source": [
    "movie_comments = []\n",
    "\n",
    "for page in range( 0, math.trunc( total_page ) ):\n",
    "    time.sleep( 1 )\n",
    "    html0 = browser.page_source\n",
    "    html1 = BeautifulSoup( html0, 'lxml' )\n",
    "    html2 = html1.find( 'div', { 'class': 'ifr_area_basic_ifr' } )\n",
    "    review0 = html2.find( 'div', { 'class': 'score_result' } ). \\\n",
    "    find_all( 'li' )\n",
    "    \n",
    "    for i in range( len( review0 ) ):\n",
    "        review = review0[ i ].find( 'div', { 'class': 'score_reple' } ). \\\n",
    "        find( 'span' ).text_strip()\n",
    "        if review not in '관람객':\n",
    "            movie_comments.append( review + '\\n' )\n",
    "            \n",
    "    if page == 0:\n",
    "        browser.find_element_by_xpath( '//*[@class=\"paging\"]/div/a')[10].click()\n",
    "    else:\n",
    "        browser.find_element_by_xpath( '//*[@class=\"paging\"]/div/a')[11].click()"
   ]
  }
 ],
 "metadata": {
  "kernelspec": {
   "display_name": "Python 3",
   "language": "python",
   "name": "python3"
  },
  "language_info": {
   "codemirror_mode": {
    "name": "ipython",
    "version": 3
   },
   "file_extension": ".py",
   "mimetype": "text/x-python",
   "name": "python",
   "nbconvert_exporter": "python",
   "pygments_lexer": "ipython3",
   "version": "3.8.8"
  }
 },
 "nbformat": 4,
 "nbformat_minor": 5
}
