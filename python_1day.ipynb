{
 "cells": [
  {
   "cell_type": "markdown",
   "id": "761c7f05-1b16-4d2b-97ee-fbe8b4372db2",
   "metadata": {},
   "source": [
    "# 표준 입출력 장치를 이용한 I/O"
   ]
  },
  {
   "cell_type": "code",
   "execution_count": 5,
   "id": "e99249c6-72cf-4c4d-ac92-c6cfbe8ae281",
   "metadata": {},
   "outputs": [
    {
     "name": "stdin",
     "output_type": "stream",
     "text": [
      "숫자를 입력 하세요 :  10\n"
     ]
    }
   ],
   "source": [
    "number = input( '숫자를 입력 하세요 : ' )"
   ]
  },
  {
   "cell_type": "code",
   "execution_count": 3,
   "id": "c95ba487-297a-4ebc-bd00-f6c5db03d4af",
   "metadata": {},
   "outputs": [
    {
     "name": "stdout",
     "output_type": "stream",
     "text": [
      "number = 10\n"
     ]
    }
   ],
   "source": [
    "print( f'number = {number}' )"
   ]
  },
  {
   "cell_type": "code",
   "execution_count": 4,
   "id": "9cbcd45c-864f-4e1f-91d7-51c497df3302",
   "metadata": {},
   "outputs": [
    {
     "name": "stdout",
     "output_type": "stream",
     "text": [
      "number type = <class 'str'>\n"
     ]
    }
   ],
   "source": [
    "print( f'number type = {type( number )}' )"
   ]
  },
  {
   "cell_type": "code",
   "execution_count": 6,
   "id": "daf30404-c8c1-4782-8bba-c02ead029b97",
   "metadata": {},
   "outputs": [
    {
     "name": "stdout",
     "output_type": "stream",
     "text": [
      "10 * 2 = 1010\n"
     ]
    }
   ],
   "source": [
    "print( f'{number} * 2 = {number * 2}' )"
   ]
  },
  {
   "cell_type": "markdown",
   "id": "9cace68a-0af6-452b-b1c2-8a5603d2605d",
   "metadata": {},
   "source": [
    "## 자료형 변환"
   ]
  },
  {
   "cell_type": "code",
   "execution_count": 9,
   "id": "c1796c99-0391-42cd-aa64-4bf15f4af070",
   "metadata": {},
   "outputs": [
    {
     "name": "stdin",
     "output_type": "stream",
     "text": [
      "숫자를 입력 하세요 :  10.5\n"
     ]
    },
    {
     "name": "stdout",
     "output_type": "stream",
     "text": [
      "number = 10.5\n",
      "number type = <class 'str'>\n",
      "number type = <class 'int'>\n",
      "10 * 2 = 20\n"
     ]
    }
   ],
   "source": [
    "number = input( '숫자를 입력 하세요 : ' )\n",
    "print( f'number = {number}' )\n",
    "print( f'number type = {type( number )}' )\n",
    "\n",
    "number = int( float( number ) ) # 타입변환( 형변환 )\n",
    "print( f'number type = {type( number )}' )\n",
    "print( f'{number} * 2 = {number * 2}' )"
   ]
  },
  {
   "cell_type": "code",
   "execution_count": 10,
   "id": "02cec43d-77d1-43db-b326-977130537e91",
   "metadata": {},
   "outputs": [
    {
     "name": "stdin",
     "output_type": "stream",
     "text": [
      "숫자를 입력 하세요 :  10.5\n"
     ]
    },
    {
     "name": "stdout",
     "output_type": "stream",
     "text": [
      "number = 10\n",
      "number type = <class 'int'>\n",
      "10 * 2 = 20\n"
     ]
    }
   ],
   "source": [
    "number = int( float( input( '숫자를 입력 하세요 : ' ) ) )\n",
    "print( f'number = {number}' )\n",
    "print( f'number type = {type( number )}' )\n",
    "print( f'{number} * 2 = {number * 2}' )"
   ]
  },
  {
   "cell_type": "markdown",
   "id": "3810f9f4-dd2c-4774-999a-38ab1617b811",
   "metadata": {},
   "source": [
    "## 출력 형식 지정"
   ]
  },
  {
   "cell_type": "code",
   "execution_count": 20,
   "id": "01ad4f3d-8c39-4bbc-9297-9ce1ef64076d",
   "metadata": {},
   "outputs": [],
   "source": [
    "# 변수 정의 -> 메모리에 직접 값을 지정하는 방식\n",
    "name = 'hong' # str\n",
    "age = 25 # int\n",
    "email = 'hong@korea.com' # str\n",
    "weight = 75.2923 # float"
   ]
  },
  {
   "cell_type": "code",
   "execution_count": 25,
   "id": "e3e700c9-d56e-45aa-9fbe-4887ea97660d",
   "metadata": {},
   "outputs": [
    {
     "name": "stdout",
     "output_type": "stream",
     "text": [
      "name   = hong                \n",
      "age    =                   25\n",
      "email  = hong@korea.com      \n",
      "weight =               75.292\n"
     ]
    }
   ],
   "source": [
    "print( f'name   = {name:20}' )\n",
    "print( f'age    = {age:20}' )\n",
    "print( f'email  = {email:<20}' )\n",
    "print( f'weight = {weight:20.3f}' )"
   ]
  },
  {
   "cell_type": "code",
   "execution_count": 26,
   "id": "da1800aa-0458-4e45-9597-03ff52501fe0",
   "metadata": {},
   "outputs": [
    {
     "name": "stdin",
     "output_type": "stream",
     "text": [
      "이름 입력 :  hong\n",
      "나이 입력 :  25\n",
      "e-mail 입력 :  hong@korea.com\n",
      "몸무게 입력 :  75.2923\n"
     ]
    }
   ],
   "source": [
    "# 변수 정의 -> 외부 입력 받은 값을 변수에 저장하는 방식\n",
    "name = input( '이름 입력 : ' )\n",
    "age = int( float( input( '나이 입력 : ' ) ) )\n",
    "email = input( 'e-mail 입력 : ' ) \n",
    "weight = float( input( '몸무게 입력 : ' ) )"
   ]
  },
  {
   "cell_type": "code",
   "execution_count": 27,
   "id": "107db91f-78a4-4fc2-b3c8-49466b248dd4",
   "metadata": {},
   "outputs": [
    {
     "name": "stdout",
     "output_type": "stream",
     "text": [
      "name   = hong                \n",
      "age    =                   25\n",
      "email  = hong@korea.com      \n",
      "weight =               75.292\n"
     ]
    }
   ],
   "source": [
    "print( f'name   = {name:20}' )\n",
    "print( f'age    = {age:20}' )\n",
    "print( f'email  = {email:<20}' )\n",
    "print( f'weight = {weight:20.3f}' )"
   ]
  },
  {
   "cell_type": "markdown",
   "id": "8b6a45f1-c4d1-41dd-9093-15c5485a8e25",
   "metadata": {},
   "source": [
    "## 반복 기능을 제공하는 경우\n",
    "\n",
    "### 반복 횟수 지정"
   ]
  },
  {
   "cell_type": "code",
   "execution_count": 29,
   "id": "d57b5318-08fb-4529-8bdc-c3e18aff82f0",
   "metadata": {},
   "outputs": [
    {
     "name": "stdin",
     "output_type": "stream",
     "text": [
      "이름 입력 :  hong\n",
      "나이 입력 :  25\n",
      "e-mail 입력 :  hong@korea.com\n",
      "몸무게 입력 :  75.9232\n"
     ]
    },
    {
     "name": "stdout",
     "output_type": "stream",
     "text": [
      "name   = hong                \n",
      "age    =                   25\n",
      "email  = hong@korea.com      \n",
      "weight =               75.923\n",
      "\n"
     ]
    },
    {
     "name": "stdin",
     "output_type": "stream",
     "text": [
      "이름 입력 :  kim\n",
      "나이 입력 :  32\n",
      "e-mail 입력 :  kim@korea.com\n",
      "몸무게 입력 :  43.52\n"
     ]
    },
    {
     "name": "stdout",
     "output_type": "stream",
     "text": [
      "name   = kim                 \n",
      "age    =                   32\n",
      "email  = kim@korea.com       \n",
      "weight =               43.520\n",
      "\n"
     ]
    }
   ],
   "source": [
    "for _ in range( 2 ):\n",
    "    # 변수 정의 -> 외부 입력 받은 값을 변수에 저장하는 방식\n",
    "    name = input( '이름 입력 : ' )\n",
    "    age = int( float( input( '나이 입력 : ' ) ) )\n",
    "    email = input( 'e-mail 입력 : ' ) \n",
    "    weight = float( input( '몸무게 입력 : ' ) )\n",
    "    \n",
    "    print( f'name   = {name:20}' )\n",
    "    print( f'age    = {age:20}' )\n",
    "    print( f'email  = {email:<20}' )\n",
    "    print( f'weight = {weight:20.3f}\\n' )"
   ]
  },
  {
   "cell_type": "markdown",
   "id": "86145d6b-c988-4b40-a042-2b277be2ccac",
   "metadata": {},
   "source": [
    "### 반복 횟수가 지정되지 않는 경우"
   ]
  },
  {
   "cell_type": "code",
   "execution_count": 30,
   "id": "e7a953f7-3213-47d4-8312-e328e64d9197",
   "metadata": {},
   "outputs": [
    {
     "name": "stdin",
     "output_type": "stream",
     "text": [
      "이름 입력 ( 종료 = \"end\" ):  hong\n",
      "나이 입력 :  25\n",
      "e-mail 입력 :  hong@korea.com\n",
      "몸무게 입력 :  79.2134\n"
     ]
    },
    {
     "name": "stdout",
     "output_type": "stream",
     "text": [
      "name   = hong                \n",
      "age    =                   25\n",
      "email  = hong@korea.com      \n",
      "weight =               79.213\n",
      "\n"
     ]
    },
    {
     "name": "stdin",
     "output_type": "stream",
     "text": [
      "이름 입력 :  kim\n",
      "나이 입력 :  39\n",
      "e-mail 입력 :  kim@korea.com\n",
      "몸무게 입력 :  29.1234\n"
     ]
    },
    {
     "name": "stdout",
     "output_type": "stream",
     "text": [
      "name   = kim                 \n",
      "age    =                   39\n",
      "email  = kim@korea.com       \n",
      "weight =               29.123\n",
      "\n"
     ]
    },
    {
     "name": "stdin",
     "output_type": "stream",
     "text": [
      "이름 입력 :  end\n"
     ]
    }
   ],
   "source": [
    "# 2-read 방식을 이용한 종료 조건 검사\n",
    "name = input( '이름 입력 ( 종료 = \"end\" ): ' )\n",
    "while name != 'end':\n",
    "    # 변수 정의 -> 외부 입력 받은 값을 변수에 저장하는 방식\n",
    "    age = int( float( input( '나이 입력 : ' ) ) )\n",
    "    email = input( 'e-mail 입력 : ' ) \n",
    "    weight = float( input( '몸무게 입력 : ' ) )\n",
    "    \n",
    "    print( f'name   = {name:20}' )\n",
    "    print( f'age    = {age:20}' )\n",
    "    print( f'email  = {email:<20}' )\n",
    "    print( f'weight = {weight:20.3f}\\n' )\n",
    "    \n",
    "    name = input( '이름 입력 : ' )"
   ]
  },
  {
   "cell_type": "code",
   "execution_count": 34,
   "id": "862cd38b-edf8-4223-ae89-27ee956c3bd0",
   "metadata": {},
   "outputs": [
    {
     "name": "stdin",
     "output_type": "stream",
     "text": [
      "이름 입력 ( 종료 = \"end\" ):  hong\n",
      "나이 입력 :  25\n",
      "e-mail 입력 :  hong@korea.com\n",
      "몸무게 입력 :  79.2345\n"
     ]
    },
    {
     "name": "stdout",
     "output_type": "stream",
     "text": [
      "name   = hong                \n",
      "age    =                   25\n",
      "email  = hong@korea.com      \n",
      "weight =               79.234\n",
      "\n"
     ]
    },
    {
     "name": "stdin",
     "output_type": "stream",
     "text": [
      "이름 입력 ( 종료 = \"end\" ):  kim\n",
      "나이 입력 :  31\n",
      "e-mail 입력 :  kim@korea.com\n",
      "몸무게 입력 :  42.5968\n"
     ]
    },
    {
     "name": "stdout",
     "output_type": "stream",
     "text": [
      "name   = kim                 \n",
      "age    =                   31\n",
      "email  = kim@korea.com       \n",
      "weight =               42.597\n",
      "\n"
     ]
    },
    {
     "name": "stdin",
     "output_type": "stream",
     "text": [
      "이름 입력 ( 종료 = \"end\" ):  end\n"
     ]
    }
   ],
   "source": [
    "# 무한 루프 방식으로 종료 조건 적용\n",
    "while True:\n",
    "    # 변수 정의 -> 외부 입력 받은 값을 변수에 저장하는 방식\n",
    "    name = input( '이름 입력 ( 종료 = \"end\" ): ' )\n",
    "    if name == 'end':\n",
    "        break\n",
    "    age = int( float( input( '나이 입력 : ' ) ) )\n",
    "    email = input( 'e-mail 입력 : ' ) \n",
    "    weight = float( input( '몸무게 입력 : ' ) )\n",
    "    \n",
    "    print( f'name   = {name:20}' )\n",
    "    print( f'age    = {age:20}' )\n",
    "    print( f'email  = {email:<20}' )\n",
    "    print( f'weight = {weight:20.3f}\\n' )"
   ]
  },
  {
   "cell_type": "markdown",
   "id": "fdd8d7bb-2826-4929-858d-f7fa1255f442",
   "metadata": {},
   "source": [
    "## 실습 문제) 5개의 정수를 입력 받아 합과 평균을 출력하는 파이썬 스크립트"
   ]
  },
  {
   "cell_type": "code",
   "execution_count": 36,
   "id": "368a559b-212a-4524-b4e6-7a29f6019c12",
   "metadata": {},
   "outputs": [
    {
     "name": "stdin",
     "output_type": "stream",
     "text": [
      "[ 1] 번째 정수 입력 :  19\n",
      "[ 2] 번째 정수 입력 :  29\n",
      "[ 3] 번째 정수 입력 :  39\n",
      "[ 4] 번째 정수 입력 :  59\n",
      "[ 5] 번째 정수 입력 :  9\n"
     ]
    },
    {
     "name": "stdout",
     "output_type": "stream",
     "text": [
      "\n",
      "total =        155\n",
      "average =       31.00\n"
     ]
    }
   ],
   "source": [
    "# symbolic constant( 의미화 상수 )\n",
    "MAX_COUNT = 5\n",
    "\n",
    "total = 0 # 초기값 설정\n",
    "\n",
    "for i in range( 1, MAX_COUNT + 1 ):\n",
    "    number = int( float( input( f'[{i:2}] 번째 정수 입력 : ' ) ) )\n",
    "    total += number\n",
    "average = total / MAX_COUNT\n",
    "\n",
    "print( f'\\ntotal = {total:10}\\naverage = {average:11.2f}' )"
   ]
  },
  {
   "cell_type": "markdown",
   "id": "74f7b254-b4d3-4436-b02e-91979b2b4131",
   "metadata": {},
   "source": [
    "# 파일을 이용한 I/O"
   ]
  },
  {
   "cell_type": "code",
   "execution_count": 79,
   "id": "a2d390c8-81f5-416e-b6a4-e5d29b528854",
   "metadata": {},
   "outputs": [
    {
     "name": "stdout",
     "output_type": "stream",
     "text": [
      "f -> <_io.TextIOWrapper name='person.txt' mode='r' encoding='UTF-8'>\n"
     ]
    }
   ],
   "source": [
    "# 1. 파일 open\n",
    "f = open( 'person.txt', 'r' ) # person.txt 파일을 읽기 전용으로 오픈\n",
    "print( f'f -> {f}' ) # 파일 객체 "
   ]
  },
  {
   "cell_type": "code",
   "execution_count": 80,
   "id": "780722db-d29f-471f-ba35-ed1af4139884",
   "metadata": {},
   "outputs": [
    {
     "name": "stdout",
     "output_type": "stream",
     "text": [
      "name   = hong                \n",
      "age    =                   25\n",
      "email  = hong@korea.com      \n",
      "weight =                79.23\n",
      "name   = kim                 \n",
      "age    =                   31\n",
      "email  = kim@korea.com       \n",
      "weight =                42.12\n"
     ]
    }
   ],
   "source": [
    "# 2. 레코드 단위 읽기 / 쓰기\n",
    "record = f.readline() # record 단위로 읽는 함수, 파일에서 enter를 입력하면 레코드가 된다.\n",
    "while record: # EOF( End Of File )가 아닌동안 반복\n",
    "    name = record[ :len( record ) - 1 ]\n",
    "    record = f.readline()\n",
    "    age = int( record[ :len( record ) - 1 ] )\n",
    "    record = f.readline()\n",
    "    email = record[ :len( record ) - 1 ]\n",
    "    record = f.readline()\n",
    "    weight = float( record[ :len( record ) - 1 ] )\n",
    "    \n",
    "    print( f'name   = {name:20}' )\n",
    "    print( f'age    = {age:20}' )\n",
    "    print( f'email  = {email:<20}' )\n",
    "    print( f'weight = {weight:20.2f}' )\n",
    "    \n",
    "    record = f.readline()"
   ]
  },
  {
   "cell_type": "code",
   "execution_count": 81,
   "id": "d335ae17-6c48-41c4-acb2-3c8e4e2606c3",
   "metadata": {},
   "outputs": [],
   "source": [
    "# 3. 파일 close\n",
    "f.close()"
   ]
  },
  {
   "cell_type": "markdown",
   "id": "56efec1e-62fb-4d1f-a2e9-56991ca914e8",
   "metadata": {},
   "source": [
    "### with문을 이용"
   ]
  },
  {
   "cell_type": "code",
   "execution_count": 84,
   "id": "9c36bc9c-522b-4c33-b3fc-33c24e167ec0",
   "metadata": {},
   "outputs": [
    {
     "name": "stdout",
     "output_type": "stream",
     "text": [
      "name   = hong                \n",
      "age    =                   25\n",
      "email  = hong@korea.com      \n",
      "weight =                79.23\n",
      "name   = kim                 \n",
      "age    =                   31\n",
      "email  = kim@korea.com       \n",
      "weight =                42.12\n"
     ]
    }
   ],
   "source": [
    "with open( 'person.txt', 'r' ) as f:\n",
    "    record = f.readline() # record 단위로 읽는 함수, 파일에서 enter를 입력하면 레코드가 된다.\n",
    "    while record: # EOF( End Of File )가 아닌동안 반복\n",
    "        name = record[ :len( record ) - 1 ]\n",
    "        record = f.readline()\n",
    "        age = int( record[ :len( record ) - 1 ] )\n",
    "        record = f.readline()\n",
    "        email = record[ :len( record ) - 1 ]\n",
    "        record = f.readline()\n",
    "        weight = float( record[ :len( record ) - 1 ] )\n",
    "\n",
    "        print( f'name   = {name:20}' )\n",
    "        print( f'age    = {age:20}' )\n",
    "        print( f'email  = {email:<20}' )\n",
    "        print( f'weight = {weight:20.2f}' )\n",
    "\n",
    "        record = f.readline()"
   ]
  },
  {
   "cell_type": "markdown",
   "id": "cadbca51-322f-42ee-8d61-60b1af78ee6b",
   "metadata": {},
   "source": [
    "## 실습 문제) numbers.txt 파일로 부터 정수를 입력 받아 합과 평균을 출력하는 파이썬 스크립트"
   ]
  },
  {
   "cell_type": "code",
   "execution_count": 87,
   "id": "924e6fdb-ac0e-4f35-b14d-123d379d1cdb",
   "metadata": {},
   "outputs": [
    {
     "name": "stdout",
     "output_type": "stream",
     "text": [
      "19\n",
      "39\n",
      "49\n",
      "59\n",
      "79\n",
      "\n",
      "total =        245\n",
      "average =       49.00\n"
     ]
    }
   ],
   "source": [
    "total = 0 # 초기값 설정\n",
    "\n",
    "with open( 'numbers.txt', 'r' ) as f: \n",
    "    record = f.readline()\n",
    "    while record:\n",
    "        number = int( record[ : len( record ) - 1 ] )\n",
    "        print( number )\n",
    "    \n",
    "        total += number\n",
    "        record = f.readline()\n",
    "        \n",
    "average = total / MAX_COUNT\n",
    "\n",
    "print( f'\\ntotal = {total:10}\\naverage = {average:11.2f}' )"
   ]
  },
  {
   "cell_type": "code",
   "execution_count": null,
   "id": "96a8cc6e-a5fc-4f4f-a69c-3b0dd7119001",
   "metadata": {},
   "outputs": [],
   "source": []
  }
 ],
 "metadata": {
  "kernelspec": {
   "display_name": "Python 3",
   "language": "python",
   "name": "python3"
  },
  "language_info": {
   "codemirror_mode": {
    "name": "ipython",
    "version": 3
   },
   "file_extension": ".py",
   "mimetype": "text/x-python",
   "name": "python",
   "nbconvert_exporter": "python",
   "pygments_lexer": "ipython3",
   "version": "3.8.8"
  }
 },
 "nbformat": 4,
 "nbformat_minor": 5
}
