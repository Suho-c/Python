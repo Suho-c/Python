{
 "cells": [
  {
   "cell_type": "markdown",
   "id": "611f6b64-5dda-4451-8e6e-3f5700a2b77f",
   "metadata": {},
   "source": [
    "# Sequence 자료형"
   ]
  },
  {
   "cell_type": "code",
   "execution_count": 4,
   "id": "dfbc3971-e1cb-4d21-9907-cfde0b50fd95",
   "metadata": {},
   "outputs": [
    {
     "name": "stdout",
     "output_type": "stream",
     "text": [
      "record -> 1,George Washington,189\n",
      "\n",
      "record -> 2,John Adams,170\n",
      "\n",
      "record -> 3,Thomas Jefferson,189\n",
      "\n",
      "record -> 4,James Madison,163\n",
      "\n",
      "record -> 5,James Monroe,183\n",
      "\n",
      "record -> 6,John Quincy Adams,171\n",
      "\n",
      "record -> 7,Andrew Jackson,185\n",
      "\n",
      "record -> 8,Martin Van Buren,168\n",
      "\n",
      "record -> 9,William Henry Harrison,173\n",
      "\n",
      "record -> 10,John Tyler,183\n",
      "\n",
      "record -> 11,James K. Polk,173\n",
      "\n",
      "record -> 12,Zachary Taylor,173\n",
      "\n",
      "record -> 13,Millard Fillmore,175\n",
      "\n",
      "record -> 14,Franklin Pierce,178\n",
      "\n",
      "record -> 15,James Buchanan,183\n",
      "\n",
      "record -> 16,Abraham Lincoln,193\n",
      "\n",
      "record -> 17,Andrew Johnson,178\n",
      "\n",
      "record -> 18,Ulysses S. Grant,173\n",
      "\n",
      "record -> 19,Rutherford B. Hayes,174\n",
      "\n",
      "record -> 20,James A. Garfield,183\n",
      "\n",
      "record -> 21,Chester A. Arthur,183\n",
      "\n",
      "record -> 23,Benjamin Harrison,168\n",
      "\n",
      "record -> 25,William McKinley,170\n",
      "\n",
      "record -> 26,Theodore Roosevelt,178\n",
      "\n",
      "record -> 27,William Howard Taft,182\n",
      "\n",
      "record -> 28,Woodrow Wilson,180\n",
      "\n",
      "record -> 29,Warren G. Harding,183\n",
      "\n",
      "record -> 30,Calvin Coolidge,178\n",
      "\n",
      "record -> 31,Herbert Hoover,182\n",
      "\n",
      "record -> 32,Franklin D. Roosevelt,188\n",
      "\n",
      "record -> 33,Harry S. Truman,175\n",
      "\n",
      "record -> 34,Dwight D. Eisenhower,179\n",
      "\n",
      "record -> 35,John F. Kennedy,183\n",
      "\n",
      "record -> 36,Lyndon B. Johnson,193\n",
      "\n",
      "record -> 37,Richard Nixon,182\n",
      "\n",
      "record -> 38,Gerald Ford,183\n",
      "\n",
      "record -> 39,Jimmy Carter,177\n",
      "\n",
      "record -> 40,Ronald Reagan,185\n",
      "\n",
      "record -> 41,George H. W. Bush,188\n",
      "\n",
      "record -> 42,Bill Clinton,188\n",
      "\n",
      "record -> 43,George W. Bush,182\n",
      "\n",
      "record -> 44,Barack Obama,185\n",
      "\n"
     ]
    }
   ],
   "source": [
    "with open( 'president_heights.csv', 'r' ) as f:\n",
    "    f.readline()\n",
    "    record = f.readline()\n",
    "    while record:\n",
    "        print( f'record -> {record}' )\n",
    "        record = f.readline()"
   ]
  },
  {
   "cell_type": "code",
   "execution_count": 6,
   "id": "38e54678-a184-410e-87cb-050c9019acce",
   "metadata": {},
   "outputs": [
    {
     "name": "stdout",
     "output_type": "stream",
     "text": [
      "| 홍길동 | hong@korea.com |\n"
     ]
    }
   ],
   "source": [
    "string1 = ' 홍길동 '\n",
    "string2 = ' hong@korea.com '\n",
    "\n",
    "print( f'|{string1}|{string2}|' )"
   ]
  },
  {
   "cell_type": "code",
   "execution_count": 7,
   "id": "44154507-2739-4a2d-bc88-248de5b3098f",
   "metadata": {},
   "outputs": [
    {
     "name": "stdout",
     "output_type": "stream",
     "text": [
      "|홍길동|hong@korea.com|\n"
     ]
    }
   ],
   "source": [
    "print( f'|{string1.strip()}|{string2.strip()}|' )"
   ]
  },
  {
   "cell_type": "code",
   "execution_count": 8,
   "id": "a080f987-16a2-40cd-8f56-905a198928be",
   "metadata": {},
   "outputs": [
    {
     "name": "stdout",
     "output_type": "stream",
     "text": [
      "홍길동,hong@korea.com\n"
     ]
    }
   ],
   "source": [
    "string3 = '홍길동,hong@korea.com'\n",
    "\n",
    "print( f'{string3}' )"
   ]
  },
  {
   "cell_type": "code",
   "execution_count": 10,
   "id": "71a58775-1a58-4a8f-833c-e42b2739bbf1",
   "metadata": {},
   "outputs": [
    {
     "name": "stdout",
     "output_type": "stream",
     "text": [
      "['홍길동', 'hong@korea.com']\n"
     ]
    }
   ],
   "source": [
    "print( f'{string3.split( \",\" )}' )"
   ]
  },
  {
   "cell_type": "code",
   "execution_count": 12,
   "id": "bb56ac4b-279e-4311-9f3a-2be11e6220b4",
   "metadata": {},
   "outputs": [
    {
     "name": "stdout",
     "output_type": "stream",
     "text": [
      "record -> ['1', 'George Washington', '189\\n']\n",
      "record -> ['2', 'John Adams', '170\\n']\n",
      "record -> ['3', 'Thomas Jefferson', '189\\n']\n",
      "record -> ['4', 'James Madison', '163\\n']\n",
      "record -> ['5', 'James Monroe', '183\\n']\n",
      "record -> ['6', 'John Quincy Adams', '171\\n']\n",
      "record -> ['7', 'Andrew Jackson', '185\\n']\n",
      "record -> ['8', 'Martin Van Buren', '168\\n']\n",
      "record -> ['9', 'William Henry Harrison', '173\\n']\n",
      "record -> ['10', 'John Tyler', '183\\n']\n",
      "record -> ['11', 'James K. Polk', '173\\n']\n",
      "record -> ['12', 'Zachary Taylor', '173\\n']\n",
      "record -> ['13', 'Millard Fillmore', '175\\n']\n",
      "record -> ['14', 'Franklin Pierce', '178\\n']\n",
      "record -> ['15', 'James Buchanan', '183\\n']\n",
      "record -> ['16', 'Abraham Lincoln', '193\\n']\n",
      "record -> ['17', 'Andrew Johnson', '178\\n']\n",
      "record -> ['18', 'Ulysses S. Grant', '173\\n']\n",
      "record -> ['19', 'Rutherford B. Hayes', '174\\n']\n",
      "record -> ['20', 'James A. Garfield', '183\\n']\n",
      "record -> ['21', 'Chester A. Arthur', '183\\n']\n",
      "record -> ['23', 'Benjamin Harrison', '168\\n']\n",
      "record -> ['25', 'William McKinley', '170\\n']\n",
      "record -> ['26', 'Theodore Roosevelt', '178\\n']\n",
      "record -> ['27', 'William Howard Taft', '182\\n']\n",
      "record -> ['28', 'Woodrow Wilson', '180\\n']\n",
      "record -> ['29', 'Warren G. Harding', '183\\n']\n",
      "record -> ['30', 'Calvin Coolidge', '178\\n']\n",
      "record -> ['31', 'Herbert Hoover', '182\\n']\n",
      "record -> ['32', 'Franklin D. Roosevelt', '188\\n']\n",
      "record -> ['33', 'Harry S. Truman', '175\\n']\n",
      "record -> ['34', 'Dwight D. Eisenhower', '179\\n']\n",
      "record -> ['35', 'John F. Kennedy', '183\\n']\n",
      "record -> ['36', 'Lyndon B. Johnson', '193\\n']\n",
      "record -> ['37', 'Richard Nixon', '182\\n']\n",
      "record -> ['38', 'Gerald Ford', '183\\n']\n",
      "record -> ['39', 'Jimmy Carter', '177\\n']\n",
      "record -> ['40', 'Ronald Reagan', '185\\n']\n",
      "record -> ['41', 'George H. W. Bush', '188\\n']\n",
      "record -> ['42', 'Bill Clinton', '188\\n']\n",
      "record -> ['43', 'George W. Bush', '182\\n']\n",
      "record -> ['44', 'Barack Obama', '185\\n']\n"
     ]
    }
   ],
   "source": [
    "with open( 'president_heights.csv', 'r' ) as f:\n",
    "    f.readline()\n",
    "    record = f.readline()\n",
    "    while record:\n",
    "        print( f'record -> {record.split( \",\" )}' )\n",
    "        record = f.readline()"
   ]
  },
  {
   "cell_type": "markdown",
   "id": "fac51b7e-b389-48fb-97e6-31c913ecc2f5",
   "metadata": {},
   "source": [
    "#### 실습) president_heights.csv 파일을 읽어들여 height가 가장 큰 값과 가장 작은 값을 출력하는 스크립트"
   ]
  },
  {
   "cell_type": "code",
   "execution_count": 23,
   "id": "b6932074-239a-424d-b7b7-692c74fbaa6e",
   "metadata": {},
   "outputs": [
    {
     "name": "stdout",
     "output_type": "stream",
     "text": [
      "total record count : 42\n",
      "max height : 193\n",
      "min height : 163\n"
     ]
    }
   ],
   "source": [
    "count = 0\n",
    "max_height = 100\n",
    "min_height = 200\n",
    "\n",
    "with open( 'president_heights.csv', 'r' ) as f:\n",
    "    f.readline()\n",
    "    record = f.readline()\n",
    "    while record:\n",
    "        count +=1\n",
    "        \n",
    "        record = record.split( ',' )\n",
    "        height = int( record[2][:3] )\n",
    "        \n",
    "        if height > max_height:\n",
    "            max_height = height\n",
    "        if height < min_height:\n",
    "            min_height = height\n",
    "        \n",
    "        record = f.readline()\n",
    "        \n",
    "print( f'total record count : {count}' )\n",
    "print( f'max height : {max_height}' )\n",
    "print( f'min height : {min_height}' )"
   ]
  },
  {
   "cell_type": "markdown",
   "id": "f2a39004-6917-471b-9e98-53c7244633ca",
   "metadata": {},
   "source": [
    "#### 실습 문제) president_heights.csv 파일을 읽어들여 height가 가장 큰 키 인원수와  가장 작은 키 인원수를  출력하는 스크립트"
   ]
  },
  {
   "cell_type": "code",
   "execution_count": 26,
   "id": "a5c80a77-56e3-4d24-afc9-ca6cc5b2b11f",
   "metadata": {},
   "outputs": [
    {
     "name": "stdout",
     "output_type": "stream",
     "text": [
      "total record count : 42\n",
      "max height : 193 ( 2명 )\n",
      "min height : 163 ( 1명 )\n"
     ]
    }
   ],
   "source": [
    "count = 0\n",
    "max_height = 100\n",
    "min_height = 200\n",
    "max_height_count = 0\n",
    "min_height_count = 0\n",
    "\n",
    "# 가장 큰 키와 가장 작은 키 계산\n",
    "with open( 'president_heights.csv', 'r' ) as f:\n",
    "    f.readline()\n",
    "    record = f.readline()\n",
    "    while record:\n",
    "        count +=1      \n",
    "        record = record.split( ',' )\n",
    "        height = int( record[2][:3] )\n",
    "        if height > max_height:\n",
    "            max_height = height\n",
    "        if height < min_height:\n",
    "            min_height = height\n",
    "        record = f.readline()\n",
    "\n",
    "# 가장 큰 키 인원수와 가장 작은 키 인원수 계산\n",
    "with open( 'president_heights.csv', 'r' ) as f:\n",
    "    f.readline()\n",
    "    record = f.readline()\n",
    "    while record:\n",
    "        record = record.split( ',' )\n",
    "        height = int( record[2][:3] )\n",
    "        if height == max_height:\n",
    "            max_height_count += 1\n",
    "        if height == min_height:\n",
    "            min_height_count += 1\n",
    "        record = f.readline()\n",
    "\n",
    "\n",
    "print( f'total record count : {count}' )\n",
    "print( f'max height : {max_height} ( {max_height_count}명 )' )\n",
    "print( f'min height : {min_height} ( {min_height_count}명 )' )"
   ]
  },
  {
   "cell_type": "markdown",
   "id": "25be3353-ff54-48c1-8b75-ec8f697d1696",
   "metadata": {},
   "source": [
    "## list를 이용한 처리"
   ]
  },
  {
   "cell_type": "code",
   "execution_count": 29,
   "id": "a432471f-5388-488b-9d96-4a2c3bc1a036",
   "metadata": {},
   "outputs": [
    {
     "name": "stdout",
     "output_type": "stream",
     "text": [
      "1\tGeorge Washington   \t189cm\n",
      "2\tJohn Adams          \t170cm\n",
      "3\tThomas Jefferson    \t189cm\n",
      "4\tJames Madison       \t163cm\n",
      "5\tJames Monroe        \t183cm\n",
      "6\tJohn Quincy Adams   \t171cm\n",
      "7\tAndrew Jackson      \t185cm\n",
      "8\tMartin Van Buren    \t168cm\n",
      "9\tWilliam Henry Harrison\t173cm\n",
      "10\tJohn Tyler          \t183cm\n",
      "11\tJames K. Polk       \t173cm\n",
      "12\tZachary Taylor      \t173cm\n",
      "13\tMillard Fillmore    \t175cm\n",
      "14\tFranklin Pierce     \t178cm\n",
      "15\tJames Buchanan      \t183cm\n",
      "16\tAbraham Lincoln     \t193cm\n",
      "17\tAndrew Johnson      \t178cm\n",
      "18\tUlysses S. Grant    \t173cm\n",
      "19\tRutherford B. Hayes \t174cm\n",
      "20\tJames A. Garfield   \t183cm\n",
      "21\tChester A. Arthur   \t183cm\n",
      "23\tBenjamin Harrison   \t168cm\n",
      "25\tWilliam McKinley    \t170cm\n",
      "26\tTheodore Roosevelt  \t178cm\n",
      "27\tWilliam Howard Taft \t182cm\n",
      "28\tWoodrow Wilson      \t180cm\n",
      "29\tWarren G. Harding   \t183cm\n",
      "30\tCalvin Coolidge     \t178cm\n",
      "31\tHerbert Hoover      \t182cm\n",
      "32\tFranklin D. Roosevelt\t188cm\n",
      "33\tHarry S. Truman     \t175cm\n",
      "34\tDwight D. Eisenhower\t179cm\n",
      "35\tJohn F. Kennedy     \t183cm\n",
      "36\tLyndon B. Johnson   \t193cm\n",
      "37\tRichard Nixon       \t182cm\n",
      "38\tGerald Ford         \t183cm\n",
      "39\tJimmy Carter        \t177cm\n",
      "40\tRonald Reagan       \t185cm\n",
      "41\tGeorge H. W. Bush   \t188cm\n",
      "42\tBill Clinton        \t188cm\n",
      "43\tGeorge W. Bush      \t182cm\n",
      "44\tBarack Obama        \t185cm\n"
     ]
    }
   ],
   "source": [
    "orders = []\n",
    "names = []\n",
    "heights = []\n",
    "\n",
    "with open( 'president_heights.csv', 'r' ) as f:\n",
    "    f.readline()\n",
    "    record = f.readline()\n",
    "    while record:\n",
    "        record = record.split( ',' )\n",
    "        \n",
    "        orders.append( record[ 0 ] )\n",
    "        names.append( record[ 1 ] )\n",
    "        heights.append( int( record[ 2 ][ : 3] ) )\n",
    "        \n",
    "        record = f.readline()\n",
    "\n",
    "for order, name, height in zip( orders, names, heights ):\n",
    "    print( f'{order}\\t{name:20}\\t{height}cm' )"
   ]
  },
  {
   "cell_type": "code",
   "execution_count": 32,
   "id": "fe109a63-7319-4a1e-8d45-40536799bade",
   "metadata": {},
   "outputs": [
    {
     "name": "stdout",
     "output_type": "stream",
     "text": [
      "total count : 42\n",
      "max height : 193cm ( 2명 )\n",
      "min height : 163cm ( 1명 )\n"
     ]
    }
   ],
   "source": [
    "max_height = heights[ 0 ]\n",
    "min_height = heights[ 0 ]\n",
    "\n",
    "max_height_count = 0\n",
    "min_height_count = 0 \n",
    "\n",
    "# iterator( 반복자 ) 이용\n",
    "#for value in heights:\n",
    "#    if value > max_height:\n",
    "#        max_height = value\n",
    "        \n",
    "#    if value < min_height:\n",
    "#        min_height = value\n",
    "\n",
    "# index 이용\n",
    "for i in range( len( heights ) ):\n",
    "    if heights[ i ] > max_height:\n",
    "        max_height = heights[ i ]\n",
    "    if heights[ i ] < min_height:\n",
    "        min_height = heights[ i ]    \n",
    "        \n",
    "for value in heights:\n",
    "    if value == max_height:\n",
    "        max_height_count += 1\n",
    "        \n",
    "    if value == min_height:\n",
    "        min_height_count += 1\n",
    "\n",
    "print( f'total count : {len( heights )}' )\n",
    "print( f'max height : {max_height}cm ( {max_height_count}명 )' )\n",
    "print( f'min height : {min_height}cm ( {min_height_count}명 )' )"
   ]
  },
  {
   "cell_type": "markdown",
   "id": "666c1518-1b37-4430-a67b-2c890f285069",
   "metadata": {},
   "source": [
    "#### 실습 문제) president_heights.csv 파일을 읽어들여 height가 가장 큰 키 인원수와  가장 작은 키 인원수, 가장 큰 키의 대통령 정보, 가장 작은 키의 대통령 정보를  출력하는 스크립트"
   ]
  },
  {
   "cell_type": "code",
   "execution_count": 35,
   "id": "26ff31a4-dc44-4eb1-85b0-930f4cad652d",
   "metadata": {},
   "outputs": [
    {
     "name": "stdout",
     "output_type": "stream",
     "text": [
      "total count : 42\n",
      "\n",
      "max height : 193cm ( 2명 )\n",
      "\t[16] Abraham Lincoln\n",
      "\t[36] Lyndon B. Johnson\n",
      "\n",
      "min height : 163cm ( 1명 )\n",
      "\t[ 4] James Madison\n"
     ]
    }
   ],
   "source": [
    "max_height = heights[ 0 ] # 최고 신장\n",
    "min_height = heights[ 0 ] # 최저 신장\n",
    "\n",
    "max_height_count = 0 # 최고 신장 인원수\n",
    "min_height_count = 0 # 최저 신장 인원수\n",
    "\n",
    "max_height_info = [] # 최고 신장 대통령 정보\n",
    "min_height_info = [] # 최저 신장 대통령 정보\n",
    "\n",
    "for value in heights:\n",
    "    if value > max_height:\n",
    "        max_height = value      \n",
    "    if value < min_height:\n",
    "        min_height = value\n",
    "        \n",
    "for i, value in enumerate( heights ):\n",
    "    if value == max_height:\n",
    "        max_height_count += 1\n",
    "        max_height_info.append( i )\n",
    "        \n",
    "    if value == min_height:\n",
    "        min_height_count += 1\n",
    "        min_height_info.append( i )\n",
    "\n",
    "print( f'total count : {len( heights )}\\n' )\n",
    "print( f'max height : {max_height}cm ( {max_height_count}명 )' )\n",
    "for i in max_height_info:\n",
    "    print( f'\\t[{orders[ i ]:>2}] {names[ i ]}' )\n",
    "    \n",
    "print( f'\\nmin height : {min_height}cm ( {min_height_count}명 )' )\n",
    "for i in min_height_info:\n",
    "    print( f'\\t[{orders[ i ]:>2}] {names[ i ]}' )"
   ]
  },
  {
   "cell_type": "markdown",
   "id": "395dc8bc-c04c-4e37-b045-e3e00a509c9e",
   "metadata": {},
   "source": [
    "#### 파이썬 내장함수와 list 메서드를 이용한 최고 신장 및 정보, 최저 신장 및 정보 출력"
   ]
  },
  {
   "cell_type": "code",
   "execution_count": 40,
   "id": "1fcf1206-3c21-4785-86ee-4415bd0b8aad",
   "metadata": {},
   "outputs": [
    {
     "name": "stdout",
     "output_type": "stream",
     "text": [
      "total count : 42\n",
      "\n",
      "max height : 193cm ( 2명 )\n",
      "\t[16] Abraham Lincoln\n",
      "\t[36] Lyndon B. Johnson\n",
      "\n",
      "min height : 163cm ( 1명 )\n",
      "\t[ 4] James Madison\n"
     ]
    }
   ],
   "source": [
    "max_height = max( heights ) # 최고 신장\n",
    "min_height = min( heights ) # 최저 신장\n",
    "\n",
    "max_height_count = heights.count( max_height ) # 최고 신장 인원수\n",
    "min_height_count = heights.count( min_height ) # 최저 신장 인원수\n",
    "\n",
    "max_height_info = [] # 최고 신장 대통령 정보\n",
    "min_height_info = [] # 최저 신장 대통령 정보\n",
    "\n",
    "start = -1\n",
    "for _ in range( max_height_count ):\n",
    "    start = heights.index( max_height, start + 1 )\n",
    "    max_height_info.append( start )\n",
    "\n",
    "start = -1\n",
    "for _ in range( min_height_count ):\n",
    "    start = heights.index( min_height, start + 1 )\n",
    "    min_height_info.append( start )\n",
    "    \n",
    "print( f'total count : {len( heights )}\\n' )\n",
    "print( f'max height : {max_height}cm ( {max_height_count}명 )' )\n",
    "for i in max_height_info:\n",
    "    print( f'\\t[{orders[ i ]:>2}] {names[ i ]}' )\n",
    "    \n",
    "print( f'\\nmin height : {min_height}cm ( {min_height_count}명 )' )\n",
    "for i in min_height_info:\n",
    "    print( f'\\t[{orders[ i ]:>2}] {names[ i ]}' )"
   ]
  },
  {
   "cell_type": "markdown",
   "id": "9c231ffb-520c-43c2-9182-6954c6164617",
   "metadata": {},
   "source": [
    "#### 실습 문제) president_heights.csv 파일을 읽어들여 신장별 인원수를 출력하는 스크립트"
   ]
  },
  {
   "cell_type": "code",
   "execution_count": 46,
   "id": "a0f6030b-b891-4053-bf36-0a59c3873978",
   "metadata": {},
   "outputs": [
    {
     "name": "stdout",
     "output_type": "stream",
     "text": [
      "height count : 17\n",
      "\n",
      "189cm\t 2명\n",
      "170cm\t 2명\n",
      "163cm\t 1명\n",
      "183cm\t 8명\n",
      "171cm\t 1명\n",
      "185cm\t 3명\n",
      "168cm\t 2명\n",
      "173cm\t 4명\n",
      "175cm\t 2명\n",
      "178cm\t 4명\n",
      "193cm\t 2명\n",
      "174cm\t 1명\n",
      "182cm\t 4명\n",
      "180cm\t 1명\n",
      "188cm\t 3명\n",
      "179cm\t 1명\n",
      "177cm\t 1명\n"
     ]
    }
   ],
   "source": [
    "height_counts = {}\n",
    "\n",
    "for value in heights:\n",
    "    height_counts[ value ] = heights.count( value )\n",
    "\n",
    "\n",
    "print( f'height count : {len( height_counts )}\\n' )\n",
    "for key, value in height_counts.items():\n",
    "    print( f'{key}cm\\t{value:2}명' )"
   ]
  },
  {
   "cell_type": "code",
   "execution_count": 49,
   "id": "406a20a8-13db-47c3-ba00-712b96b66d21",
   "metadata": {},
   "outputs": [
    {
     "name": "stdout",
     "output_type": "stream",
     "text": [
      "[(193, 2), (189, 2), (188, 3), (185, 3), (183, 8), (182, 4), (180, 1), (179, 1), (178, 4), (177, 1), (175, 2), (174, 1), (173, 4), (171, 1), (170, 2), (168, 2), (163, 1)]\n",
      "\n",
      "193cm\t 2명\n",
      "189cm\t 2명\n",
      "188cm\t 3명\n",
      "185cm\t 3명\n",
      "183cm\t 8명\n",
      "182cm\t 4명\n",
      "180cm\t 1명\n",
      "179cm\t 1명\n",
      "178cm\t 4명\n",
      "177cm\t 1명\n",
      "175cm\t 2명\n",
      "174cm\t 1명\n",
      "173cm\t 4명\n",
      "171cm\t 1명\n",
      "170cm\t 2명\n",
      "168cm\t 2명\n",
      "163cm\t 1명\n"
     ]
    }
   ],
   "source": [
    "sorted_height_counts = sorted( height_counts.items(), reverse = True )\n",
    "print( sorted_height_counts )\n",
    "print()\n",
    "\n",
    "for key, value in sorted_height_counts:\n",
    "    print( f'{key}cm\\t{value:2}명' )"
   ]
  },
  {
   "cell_type": "code",
   "execution_count": 51,
   "id": "58fae2b9-e3cf-42b7-8a3e-dc2017722d71",
   "metadata": {},
   "outputs": [
    {
     "name": "stdout",
     "output_type": "stream",
     "text": [
      "183cm\t 8명\n",
      "173cm\t 4명\n",
      "178cm\t 4명\n",
      "182cm\t 4명\n",
      "185cm\t 3명\n",
      "188cm\t 3명\n",
      "189cm\t 2명\n",
      "170cm\t 2명\n",
      "168cm\t 2명\n",
      "175cm\t 2명\n",
      "193cm\t 2명\n",
      "163cm\t 1명\n",
      "171cm\t 1명\n",
      "174cm\t 1명\n",
      "180cm\t 1명\n",
      "179cm\t 1명\n",
      "177cm\t 1명\n"
     ]
    }
   ],
   "source": [
    "import operator\n",
    "\n",
    "# key = operator.itemgetter( 1 ) : sort 기준값 지정, \n",
    "#       operator.itemgetter( 1 ) : value를 기준으로 정렬\n",
    "#       operator.itemgetter( 0 ) : key를 기준으로 정렬\n",
    "sorted_height_counts = sorted( height_counts.items(), \n",
    "                               key = operator.itemgetter( 1 ),\n",
    "                               reverse = True )\n",
    "\n",
    "for key, value in sorted_height_counts:\n",
    "    print( f'{key}cm\\t{value:2}명' )"
   ]
  },
  {
   "cell_type": "markdown",
   "id": "503bcfb5-d191-4281-947c-d5c7502426c2",
   "metadata": {},
   "source": [
    "## president_height.csv 파일에 대한 탐색적 데이터 분석( EDA ) 실습\n",
    "\n",
    "- 전체 데이터 \n",
    "- 최고 신장 및 대통령 정보 \n",
    "- 최저 신장 및 대통령 정보\n",
    "- 평균 신장\n",
    "- 신장에 대한 표준 편차\n",
    "    * 표준 편차 : 분산에 대한 제곱근\n",
    "    * 분산 : 편차 제곱의 평균\n",
    "    * 편차 : 값을 평균으로 뺀값\n",
    "- 신장별 정렬 데이터( 최고 신장에서 최저 신장으로 )\n",
    "- 신장별 정렬 데이터( 최저 신장에서 최고 신장으로 )\n",
    "- 신장별 인원수와 비율"
   ]
  },
  {
   "cell_type": "code",
   "execution_count": 15,
   "id": "c5ad7e4e-a1af-4caa-9d66-4cf807a4ac26",
   "metadata": {},
   "outputs": [
    {
     "name": "stdout",
     "output_type": "stream",
     "text": [
      "order\tname\t\t\theight(cm)\n",
      "1\tGeorge Washington   \t189cm\n",
      "2\tJohn Adams          \t170cm\n",
      "3\tThomas Jefferson    \t189cm\n",
      "4\tJames Madison       \t163cm\n",
      "5\tJames Monroe        \t183cm\n",
      "6\tJohn Quincy Adams   \t171cm\n",
      "7\tAndrew Jackson      \t185cm\n",
      "8\tMartin Van Buren    \t168cm\n",
      "9\tWilliam Henry Harrison\t173cm\n",
      "10\tJohn Tyler          \t183cm\n",
      "11\tJames K. Polk       \t173cm\n",
      "12\tZachary Taylor      \t173cm\n",
      "13\tMillard Fillmore    \t175cm\n",
      "14\tFranklin Pierce     \t178cm\n",
      "15\tJames Buchanan      \t183cm\n",
      "16\tAbraham Lincoln     \t193cm\n",
      "17\tAndrew Johnson      \t178cm\n",
      "18\tUlysses S. Grant    \t173cm\n",
      "19\tRutherford B. Hayes \t174cm\n",
      "20\tJames A. Garfield   \t183cm\n",
      "21\tChester A. Arthur   \t183cm\n",
      "23\tBenjamin Harrison   \t168cm\n",
      "25\tWilliam McKinley    \t170cm\n",
      "26\tTheodore Roosevelt  \t178cm\n",
      "27\tWilliam Howard Taft \t182cm\n",
      "28\tWoodrow Wilson      \t180cm\n",
      "29\tWarren G. Harding   \t183cm\n",
      "30\tCalvin Coolidge     \t178cm\n",
      "31\tHerbert Hoover      \t182cm\n",
      "32\tFranklin D. Roosevelt\t188cm\n",
      "33\tHarry S. Truman     \t175cm\n",
      "34\tDwight D. Eisenhower\t179cm\n",
      "35\tJohn F. Kennedy     \t183cm\n",
      "36\tLyndon B. Johnson   \t193cm\n",
      "37\tRichard Nixon       \t182cm\n",
      "38\tGerald Ford         \t183cm\n",
      "39\tJimmy Carter        \t177cm\n",
      "40\tRonald Reagan       \t185cm\n",
      "41\tGeorge H. W. Bush   \t188cm\n",
      "42\tBill Clinton        \t188cm\n",
      "43\tGeorge W. Bush      \t182cm\n",
      "44\tBarack Obama        \t185cm\n",
      "\n",
      "total : 42명\n"
     ]
    }
   ],
   "source": [
    "orders = []\n",
    "names = []\n",
    "heights = []\n",
    "\n",
    "presidents = {}\n",
    "\n",
    "with open( 'president_heights.csv', 'r' ) as f:\n",
    "    f.readline()\n",
    "    record = f.readline()\n",
    "    while record:\n",
    "        record = record.split( ',' )\n",
    "        \n",
    "        orders.append( record[ 0 ] )\n",
    "        names.append( record[ 1 ] )\n",
    "        heights.append( int( record[ 2 ][ :3 ] ) )\n",
    "        \n",
    "        presidents[ record[ 0 ] ] = [ int( record[ 2 ][ :3 ] ), record[ 1 ] ]\n",
    "        \n",
    "        record = f.readline()\n",
    "\n",
    "print( 'order\\tname\\t\\t\\theight(cm)' )\n",
    "for order, name, height in zip( orders, names, heights ):\n",
    "    print( f'{order}\\t{name:20}\\t{height}cm' )\n",
    "print( f'\\ntotal : {len(orders)}명' )"
   ]
  },
  {
   "cell_type": "code",
   "execution_count": 16,
   "id": "e28270de-88ae-41f1-947a-a5a41ce92964",
   "metadata": {},
   "outputs": [],
   "source": [
    "max_height = max( heights ) # 최고 신장\n",
    "min_height = min( heights ) # 최저 신장\n",
    "\n",
    "max_height_count = heights.count( max_height ) # 최고 신장 인원수\n",
    "min_height_count = heights.count( min_height ) # 최저 신장 인원수\n",
    "\n",
    "max_height_info = [] # 최고 신장 대통령 정보\n",
    "min_height_info = [] # 최저 신장 대통령 정보\n",
    "\n",
    "# 최고 신장 대통령 정보 추출\n",
    "start = -1\n",
    "for _ in range( max_height_count ):\n",
    "    start = heights.index( max_height, start + 1 )\n",
    "    max_height_info.append( start )\n",
    "\n",
    "# 최저 신장 대통령 정보 추출\n",
    "start = -1\n",
    "for _ in range( min_height_count ):\n",
    "    start = heights.index( min_height, start + 1 )\n",
    "    min_height_info.append( start )\n",
    "\n",
    "# 평균 신장 계산\n",
    "average_height = sum( heights ) / len( heights )\n",
    "\n",
    "# 편차 계산\n",
    "deviation = []\n",
    "for value in heights:\n",
    "    deviation.append( value - average_height )\n",
    "\n",
    "# 편차 제곱\n",
    "deviation_square = []\n",
    "for value in deviation:\n",
    "    deviation_square.append( value * value )\n",
    "\n",
    "# 분산\n",
    "dispersion = sum( deviation_square ) / len( deviation_square )\n",
    "\n",
    "# 표준 편차\n",
    "standard_deviation = dispersion ** ( 1 / 3 )"
   ]
  },
  {
   "cell_type": "code",
   "execution_count": 29,
   "id": "f66e80b8-f86f-4a1f-bafb-adad37863269",
   "metadata": {},
   "outputs": [
    {
     "name": "stdout",
     "output_type": "stream",
     "text": [
      "최고 신장 : 193cm ( 2명 )\n",
      "\t[16] Abraham Lincoln\n",
      "\t[36] Lyndon B. Johnson\n",
      "\n",
      "최저 신장 : 163cm ( 1명 )\n",
      "\t[ 4] James Madison\n",
      "\n",
      "평균 신   장 :   179.74cm\n",
      "신장 표준편차 :     3.64\n"
     ]
    }
   ],
   "source": [
    "print( f'최고 신장 : {max_height}cm ( {max_height_count}명 )' )\n",
    "for i in max_height_info:\n",
    "    print( f'\\t[{orders[ i ]:>2}] {names[ i ]}' )\n",
    "    \n",
    "print( f'\\n최저 신장 : {min_height}cm ( {min_height_count}명 )' )\n",
    "for i in min_height_info:\n",
    "    print( f'\\t[{orders[ i ]:>2}] {names[ i ]}' )\n",
    "    \n",
    "print( f'\\n평균 신   장 : {average_height:8.2f}cm' )\n",
    "print( f'신장 표준편차 : {standard_deviation:8.2f}' )"
   ]
  },
  {
   "cell_type": "code",
   "execution_count": 24,
   "id": "b7b7cc93-6714-49e9-af09-c19a1a7c4c8d",
   "metadata": {},
   "outputs": [
    {
     "name": "stdout",
     "output_type": "stream",
     "text": [
      "역대 대통령 신장별 list( 최저 신장 -> 최고 신장 )\n",
      "\n",
      "4\tJames Madison       \t163cm\n",
      "23\tBenjamin Harrison   \t168cm\n",
      "8\tMartin Van Buren    \t168cm\n",
      "2\tJohn Adams          \t170cm\n",
      "25\tWilliam McKinley    \t170cm\n",
      "6\tJohn Quincy Adams   \t171cm\n",
      "11\tJames K. Polk       \t173cm\n",
      "18\tUlysses S. Grant    \t173cm\n",
      "9\tWilliam Henry Harrison\t173cm\n",
      "12\tZachary Taylor      \t173cm\n",
      "19\tRutherford B. Hayes \t174cm\n",
      "33\tHarry S. Truman     \t175cm\n",
      "13\tMillard Fillmore    \t175cm\n",
      "39\tJimmy Carter        \t177cm\n",
      "17\tAndrew Johnson      \t178cm\n",
      "30\tCalvin Coolidge     \t178cm\n",
      "14\tFranklin Pierce     \t178cm\n",
      "26\tTheodore Roosevelt  \t178cm\n",
      "34\tDwight D. Eisenhower\t179cm\n",
      "28\tWoodrow Wilson      \t180cm\n",
      "43\tGeorge W. Bush      \t182cm\n",
      "31\tHerbert Hoover      \t182cm\n",
      "37\tRichard Nixon       \t182cm\n",
      "27\tWilliam Howard Taft \t182cm\n",
      "21\tChester A. Arthur   \t183cm\n",
      "38\tGerald Ford         \t183cm\n",
      "20\tJames A. Garfield   \t183cm\n",
      "15\tJames Buchanan      \t183cm\n",
      "5\tJames Monroe        \t183cm\n",
      "35\tJohn F. Kennedy     \t183cm\n",
      "10\tJohn Tyler          \t183cm\n",
      "29\tWarren G. Harding   \t183cm\n",
      "7\tAndrew Jackson      \t185cm\n",
      "44\tBarack Obama        \t185cm\n",
      "40\tRonald Reagan       \t185cm\n",
      "42\tBill Clinton        \t188cm\n",
      "32\tFranklin D. Roosevelt\t188cm\n",
      "41\tGeorge H. W. Bush   \t188cm\n",
      "1\tGeorge Washington   \t189cm\n",
      "3\tThomas Jefferson    \t189cm\n",
      "16\tAbraham Lincoln     \t193cm\n",
      "36\tLyndon B. Johnson   \t193cm\n"
     ]
    }
   ],
   "source": [
    "import operator\n",
    "\n",
    "sorted_presidents = sorted( presidents.items(), \n",
    "                            key = operator.itemgetter( 1 ) )\n",
    "\n",
    "print( '역대 대통령 신장별 list( 최저 신장 -> 최고 신장 )\\n' )\n",
    "for value in sorted_presidents:\n",
    "    print( f'{value[ 0 ]}\\t{value[ 1 ][ 1 ]:20}\\t{value[ 1 ][ 0 ]}cm' )"
   ]
  },
  {
   "cell_type": "code",
   "execution_count": 25,
   "id": "d0b1b389-47e4-429a-9b86-33c2df7d1365",
   "metadata": {},
   "outputs": [
    {
     "name": "stdout",
     "output_type": "stream",
     "text": [
      "역대 대통령 신장별 list( 최고 신장 -> 최저 신장 )\n",
      "\n",
      "36\tLyndon B. Johnson   \t193cm\n",
      "16\tAbraham Lincoln     \t193cm\n",
      "3\tThomas Jefferson    \t189cm\n",
      "1\tGeorge Washington   \t189cm\n",
      "41\tGeorge H. W. Bush   \t188cm\n",
      "32\tFranklin D. Roosevelt\t188cm\n",
      "42\tBill Clinton        \t188cm\n",
      "40\tRonald Reagan       \t185cm\n",
      "44\tBarack Obama        \t185cm\n",
      "7\tAndrew Jackson      \t185cm\n",
      "29\tWarren G. Harding   \t183cm\n",
      "10\tJohn Tyler          \t183cm\n",
      "35\tJohn F. Kennedy     \t183cm\n",
      "5\tJames Monroe        \t183cm\n",
      "15\tJames Buchanan      \t183cm\n",
      "20\tJames A. Garfield   \t183cm\n",
      "38\tGerald Ford         \t183cm\n",
      "21\tChester A. Arthur   \t183cm\n",
      "27\tWilliam Howard Taft \t182cm\n",
      "37\tRichard Nixon       \t182cm\n",
      "31\tHerbert Hoover      \t182cm\n",
      "43\tGeorge W. Bush      \t182cm\n",
      "28\tWoodrow Wilson      \t180cm\n",
      "34\tDwight D. Eisenhower\t179cm\n",
      "26\tTheodore Roosevelt  \t178cm\n",
      "14\tFranklin Pierce     \t178cm\n",
      "30\tCalvin Coolidge     \t178cm\n",
      "17\tAndrew Johnson      \t178cm\n",
      "39\tJimmy Carter        \t177cm\n",
      "13\tMillard Fillmore    \t175cm\n",
      "33\tHarry S. Truman     \t175cm\n",
      "19\tRutherford B. Hayes \t174cm\n",
      "12\tZachary Taylor      \t173cm\n",
      "9\tWilliam Henry Harrison\t173cm\n",
      "18\tUlysses S. Grant    \t173cm\n",
      "11\tJames K. Polk       \t173cm\n",
      "6\tJohn Quincy Adams   \t171cm\n",
      "25\tWilliam McKinley    \t170cm\n",
      "2\tJohn Adams          \t170cm\n",
      "8\tMartin Van Buren    \t168cm\n",
      "23\tBenjamin Harrison   \t168cm\n",
      "4\tJames Madison       \t163cm\n"
     ]
    }
   ],
   "source": [
    "sorted_presidents = sorted( presidents.items(), \n",
    "                            key = operator.itemgetter( 1 ),\n",
    "                            reverse = True )\n",
    "\n",
    "print( '역대 대통령 신장별 list( 최고 신장 -> 최저 신장 )\\n' )\n",
    "for value in sorted_presidents:\n",
    "    print( f'{value[ 0 ]}\\t{value[ 1 ][ 1 ]:20}\\t{value[ 1 ][ 0 ]}cm' )"
   ]
  },
  {
   "cell_type": "code",
   "execution_count": 28,
   "id": "037d7f2a-2498-4af9-ac3b-cb66f1eaf9ce",
   "metadata": {},
   "outputs": [
    {
     "name": "stdout",
     "output_type": "stream",
     "text": [
      "신장별 인원수와 비율\n",
      "\n",
      "183cm\t 8명 ( 19.05% )\n",
      "173cm\t 4명 (  9.52% )\n",
      "178cm\t 4명 (  9.52% )\n",
      "182cm\t 4명 (  9.52% )\n",
      "185cm\t 3명 (  7.14% )\n",
      "188cm\t 3명 (  7.14% )\n",
      "189cm\t 2명 (  4.76% )\n",
      "170cm\t 2명 (  4.76% )\n",
      "168cm\t 2명 (  4.76% )\n",
      "175cm\t 2명 (  4.76% )\n",
      "193cm\t 2명 (  4.76% )\n",
      "163cm\t 1명 (  2.38% )\n",
      "171cm\t 1명 (  2.38% )\n",
      "174cm\t 1명 (  2.38% )\n",
      "180cm\t 1명 (  2.38% )\n",
      "179cm\t 1명 (  2.38% )\n",
      "177cm\t 1명 (  2.38% )\n"
     ]
    }
   ],
   "source": [
    "height_counts = {}\n",
    "\n",
    "for value in heights:\n",
    "    height_counts[ value ] = heights.count( value )\n",
    "\n",
    "\n",
    "sorted_height_counts = sorted( height_counts.items(), \n",
    "                               key = operator.itemgetter( 1 ),\n",
    "                               reverse = True )\n",
    "\n",
    "print( '신장별 인원수와 비율\\n' )\n",
    "for key, value in sorted_height_counts:\n",
    "    print( f'{key}cm\\t{value:2}명 ( {value / len( heights ) * 100:5.2f}% )' )"
   ]
  },
  {
   "cell_type": "code",
   "execution_count": null,
   "id": "cedcd8da-4f16-4e8b-ac41-f99786030109",
   "metadata": {},
   "outputs": [],
   "source": []
  }
 ],
 "metadata": {
  "kernelspec": {
   "display_name": "Python 3",
   "language": "python",
   "name": "python3"
  },
  "language_info": {
   "codemirror_mode": {
    "name": "ipython",
    "version": 3
   },
   "file_extension": ".py",
   "mimetype": "text/x-python",
   "name": "python",
   "nbconvert_exporter": "python",
   "pygments_lexer": "ipython3",
   "version": "3.8.8"
  }
 },
 "nbformat": 4,
 "nbformat_minor": 5
}
