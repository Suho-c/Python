{
 "cells": [
  {
   "cell_type": "markdown",
   "id": "5788b275-771a-4356-8b87-6fb73805e82c",
   "metadata": {},
   "source": [
    "# DNN( Deep Neural Network, 심층 신경망 )"
   ]
  },
  {
   "cell_type": "code",
   "execution_count": 1,
   "id": "ee4612b1-80ac-4e29-870d-d559e30ced3e",
   "metadata": {},
   "outputs": [],
   "source": [
    "import tensorflow as tf"
   ]
  },
  {
   "cell_type": "code",
   "execution_count": 2,
   "id": "0e624f69-43fa-4120-9405-1df3d072f2a9",
   "metadata": {},
   "outputs": [
    {
     "data": {
      "text/plain": [
       "'2.0.0'"
      ]
     },
     "execution_count": 2,
     "metadata": {},
     "output_type": "execute_result"
    }
   ],
   "source": [
    "tf.__version__"
   ]
  },
  {
   "cell_type": "code",
   "execution_count": 3,
   "id": "c71d1b6f-12e1-455b-bf6f-88e5b807b0b3",
   "metadata": {},
   "outputs": [],
   "source": [
    "import numpy as np\n",
    "import pandas as pd\n",
    "import matplotlib.pyplot as plt\n",
    "import seaborn as sns\n",
    "\n",
    "%matplotlib inline\n",
    "\n",
    "pd.set_option( 'display.max_columns', 20 )\n",
    "pd.set_option( 'display.max_colwidth', 20 )\n",
    "pd.set_option( 'display.unicode.east_asian_width', True )\n",
    "\n",
    "import warnings\n",
    "warnings.filterwarnings( 'ignore' )"
   ]
  },
  {
   "cell_type": "markdown",
   "id": "512965d9-1887-4810-91b7-0e07a21b3809",
   "metadata": {},
   "source": [
    "## 자동차 연비 예측 모델 ( MLP 딥러닝 모델 - 단순 선형 회귀 모델 )\n",
    "\n",
    "* MLP( Multipele Layer Perceptron )"
   ]
  },
  {
   "cell_type": "code",
   "execution_count": 5,
   "id": "82bca063-68e8-4a25-8a2d-33f02ff6c917",
   "metadata": {},
   "outputs": [],
   "source": [
    "import tensorflow as tf\n",
    "from tensorflow import keras\n",
    "from tensorflow.keras import layers"
   ]
  },
  {
   "cell_type": "markdown",
   "id": "81a17d44-e600-43e4-ad7f-ac313f654973",
   "metadata": {},
   "source": [
    "### 데이터 준비"
   ]
  },
  {
   "cell_type": "code",
   "execution_count": 7,
   "id": "8da288e2-607b-407c-b4b7-0524b3b5bf69",
   "metadata": {},
   "outputs": [],
   "source": [
    "mpg_df = pd.read_csv( '../data/auto-mpg-clean.csv' )"
   ]
  },
  {
   "cell_type": "code",
   "execution_count": 8,
   "id": "0f922d4e-57e4-4aa0-ae5f-1982479c19d7",
   "metadata": {},
   "outputs": [
    {
     "data": {
      "text/html": [
       "<div>\n",
       "<style scoped>\n",
       "    .dataframe tbody tr th:only-of-type {\n",
       "        vertical-align: middle;\n",
       "    }\n",
       "\n",
       "    .dataframe tbody tr th {\n",
       "        vertical-align: top;\n",
       "    }\n",
       "\n",
       "    .dataframe thead th {\n",
       "        text-align: right;\n",
       "    }\n",
       "</style>\n",
       "<table border=\"1\" class=\"dataframe\">\n",
       "  <thead>\n",
       "    <tr style=\"text-align: right;\">\n",
       "      <th></th>\n",
       "      <th>mpg</th>\n",
       "      <th>cylinders</th>\n",
       "      <th>displacement</th>\n",
       "      <th>horsepower</th>\n",
       "      <th>weight</th>\n",
       "      <th>acceleration</th>\n",
       "      <th>year</th>\n",
       "      <th>origin</th>\n",
       "      <th>name</th>\n",
       "    </tr>\n",
       "  </thead>\n",
       "  <tbody>\n",
       "    <tr>\n",
       "      <th>0</th>\n",
       "      <td>18.0</td>\n",
       "      <td>8</td>\n",
       "      <td>307.0</td>\n",
       "      <td>130.0</td>\n",
       "      <td>3504.0</td>\n",
       "      <td>12.0</td>\n",
       "      <td>70</td>\n",
       "      <td>1</td>\n",
       "      <td>chevrolet chevel...</td>\n",
       "    </tr>\n",
       "    <tr>\n",
       "      <th>1</th>\n",
       "      <td>15.0</td>\n",
       "      <td>8</td>\n",
       "      <td>350.0</td>\n",
       "      <td>165.0</td>\n",
       "      <td>3693.0</td>\n",
       "      <td>11.5</td>\n",
       "      <td>70</td>\n",
       "      <td>1</td>\n",
       "      <td>buick skylark 320</td>\n",
       "    </tr>\n",
       "    <tr>\n",
       "      <th>2</th>\n",
       "      <td>18.0</td>\n",
       "      <td>8</td>\n",
       "      <td>318.0</td>\n",
       "      <td>150.0</td>\n",
       "      <td>3436.0</td>\n",
       "      <td>11.0</td>\n",
       "      <td>70</td>\n",
       "      <td>1</td>\n",
       "      <td>plymouth satellite</td>\n",
       "    </tr>\n",
       "    <tr>\n",
       "      <th>3</th>\n",
       "      <td>16.0</td>\n",
       "      <td>8</td>\n",
       "      <td>304.0</td>\n",
       "      <td>150.0</td>\n",
       "      <td>3433.0</td>\n",
       "      <td>12.0</td>\n",
       "      <td>70</td>\n",
       "      <td>1</td>\n",
       "      <td>amc rebel sst</td>\n",
       "    </tr>\n",
       "    <tr>\n",
       "      <th>4</th>\n",
       "      <td>17.0</td>\n",
       "      <td>8</td>\n",
       "      <td>302.0</td>\n",
       "      <td>140.0</td>\n",
       "      <td>3449.0</td>\n",
       "      <td>10.5</td>\n",
       "      <td>70</td>\n",
       "      <td>1</td>\n",
       "      <td>ford torino</td>\n",
       "    </tr>\n",
       "  </tbody>\n",
       "</table>\n",
       "</div>"
      ],
      "text/plain": [
       "    mpg  cylinders  displacement  horsepower  weight  acceleration  year  \\\n",
       "0  18.0          8         307.0       130.0  3504.0          12.0    70   \n",
       "1  15.0          8         350.0       165.0  3693.0          11.5    70   \n",
       "2  18.0          8         318.0       150.0  3436.0          11.0    70   \n",
       "3  16.0          8         304.0       150.0  3433.0          12.0    70   \n",
       "4  17.0          8         302.0       140.0  3449.0          10.5    70   \n",
       "\n",
       "   origin                 name  \n",
       "0       1  chevrolet chevel...  \n",
       "1       1    buick skylark 320  \n",
       "2       1   plymouth satellite  \n",
       "3       1        amc rebel sst  \n",
       "4       1          ford torino  "
      ]
     },
     "execution_count": 8,
     "metadata": {},
     "output_type": "execute_result"
    }
   ],
   "source": [
    "mpg_df.head()"
   ]
  },
  {
   "cell_type": "code",
   "execution_count": 9,
   "id": "4afda88c-d8e0-4aaf-86f4-0b9a2638a981",
   "metadata": {},
   "outputs": [
    {
     "data": {
      "text/html": [
       "<div>\n",
       "<style scoped>\n",
       "    .dataframe tbody tr th:only-of-type {\n",
       "        vertical-align: middle;\n",
       "    }\n",
       "\n",
       "    .dataframe tbody tr th {\n",
       "        vertical-align: top;\n",
       "    }\n",
       "\n",
       "    .dataframe thead th {\n",
       "        text-align: right;\n",
       "    }\n",
       "</style>\n",
       "<table border=\"1\" class=\"dataframe\">\n",
       "  <thead>\n",
       "    <tr style=\"text-align: right;\">\n",
       "      <th></th>\n",
       "      <th>mpg</th>\n",
       "      <th>cylinders</th>\n",
       "      <th>displacement</th>\n",
       "      <th>horsepower</th>\n",
       "      <th>weight</th>\n",
       "      <th>acceleration</th>\n",
       "      <th>year</th>\n",
       "      <th>origin</th>\n",
       "      <th>name</th>\n",
       "    </tr>\n",
       "  </thead>\n",
       "  <tbody>\n",
       "    <tr>\n",
       "      <th>0</th>\n",
       "      <td>18.0</td>\n",
       "      <td>8</td>\n",
       "      <td>307.0</td>\n",
       "      <td>130.0</td>\n",
       "      <td>3504.0</td>\n",
       "      <td>12.0</td>\n",
       "      <td>70</td>\n",
       "      <td>1</td>\n",
       "      <td>chevrolet chevel...</td>\n",
       "    </tr>\n",
       "    <tr>\n",
       "      <th>1</th>\n",
       "      <td>15.0</td>\n",
       "      <td>8</td>\n",
       "      <td>350.0</td>\n",
       "      <td>165.0</td>\n",
       "      <td>3693.0</td>\n",
       "      <td>11.5</td>\n",
       "      <td>70</td>\n",
       "      <td>1</td>\n",
       "      <td>buick skylark 320</td>\n",
       "    </tr>\n",
       "    <tr>\n",
       "      <th>2</th>\n",
       "      <td>18.0</td>\n",
       "      <td>8</td>\n",
       "      <td>318.0</td>\n",
       "      <td>150.0</td>\n",
       "      <td>3436.0</td>\n",
       "      <td>11.0</td>\n",
       "      <td>70</td>\n",
       "      <td>1</td>\n",
       "      <td>plymouth satellite</td>\n",
       "    </tr>\n",
       "    <tr>\n",
       "      <th>3</th>\n",
       "      <td>16.0</td>\n",
       "      <td>8</td>\n",
       "      <td>304.0</td>\n",
       "      <td>150.0</td>\n",
       "      <td>3433.0</td>\n",
       "      <td>12.0</td>\n",
       "      <td>70</td>\n",
       "      <td>1</td>\n",
       "      <td>amc rebel sst</td>\n",
       "    </tr>\n",
       "    <tr>\n",
       "      <th>4</th>\n",
       "      <td>17.0</td>\n",
       "      <td>8</td>\n",
       "      <td>302.0</td>\n",
       "      <td>140.0</td>\n",
       "      <td>3449.0</td>\n",
       "      <td>10.5</td>\n",
       "      <td>70</td>\n",
       "      <td>1</td>\n",
       "      <td>ford torino</td>\n",
       "    </tr>\n",
       "  </tbody>\n",
       "</table>\n",
       "</div>"
      ],
      "text/plain": [
       "    mpg  cylinders  displacement  horsepower  weight  acceleration  year  \\\n",
       "0  18.0          8         307.0       130.0  3504.0          12.0    70   \n",
       "1  15.0          8         350.0       165.0  3693.0          11.5    70   \n",
       "2  18.0          8         318.0       150.0  3436.0          11.0    70   \n",
       "3  16.0          8         304.0       150.0  3433.0          12.0    70   \n",
       "4  17.0          8         302.0       140.0  3449.0          10.5    70   \n",
       "\n",
       "   origin                 name  \n",
       "0       1  chevrolet chevel...  \n",
       "1       1    buick skylark 320  \n",
       "2       1   plymouth satellite  \n",
       "3       1        amc rebel sst  \n",
       "4       1          ford torino  "
      ]
     },
     "execution_count": 9,
     "metadata": {},
     "output_type": "execute_result"
    }
   ],
   "source": [
    "df = mpg_df[:]\n",
    "df.head()"
   ]
  },
  {
   "cell_type": "code",
   "execution_count": 10,
   "id": "7846598b-f08e-407a-85da-5a519aca205e",
   "metadata": {},
   "outputs": [
    {
     "data": {
      "text/html": [
       "<div>\n",
       "<style scoped>\n",
       "    .dataframe tbody tr th:only-of-type {\n",
       "        vertical-align: middle;\n",
       "    }\n",
       "\n",
       "    .dataframe tbody tr th {\n",
       "        vertical-align: top;\n",
       "    }\n",
       "\n",
       "    .dataframe thead th {\n",
       "        text-align: right;\n",
       "    }\n",
       "</style>\n",
       "<table border=\"1\" class=\"dataframe\">\n",
       "  <thead>\n",
       "    <tr style=\"text-align: right;\">\n",
       "      <th></th>\n",
       "      <th>mpg</th>\n",
       "      <th>cylinders</th>\n",
       "      <th>displacement</th>\n",
       "      <th>horsepower</th>\n",
       "      <th>weight</th>\n",
       "      <th>acceleration</th>\n",
       "      <th>year</th>\n",
       "      <th>origin</th>\n",
       "    </tr>\n",
       "  </thead>\n",
       "  <tbody>\n",
       "    <tr>\n",
       "      <th>0</th>\n",
       "      <td>18.0</td>\n",
       "      <td>8</td>\n",
       "      <td>307.0</td>\n",
       "      <td>130.0</td>\n",
       "      <td>3504.0</td>\n",
       "      <td>12.0</td>\n",
       "      <td>70</td>\n",
       "      <td>1</td>\n",
       "    </tr>\n",
       "    <tr>\n",
       "      <th>1</th>\n",
       "      <td>15.0</td>\n",
       "      <td>8</td>\n",
       "      <td>350.0</td>\n",
       "      <td>165.0</td>\n",
       "      <td>3693.0</td>\n",
       "      <td>11.5</td>\n",
       "      <td>70</td>\n",
       "      <td>1</td>\n",
       "    </tr>\n",
       "    <tr>\n",
       "      <th>2</th>\n",
       "      <td>18.0</td>\n",
       "      <td>8</td>\n",
       "      <td>318.0</td>\n",
       "      <td>150.0</td>\n",
       "      <td>3436.0</td>\n",
       "      <td>11.0</td>\n",
       "      <td>70</td>\n",
       "      <td>1</td>\n",
       "    </tr>\n",
       "    <tr>\n",
       "      <th>3</th>\n",
       "      <td>16.0</td>\n",
       "      <td>8</td>\n",
       "      <td>304.0</td>\n",
       "      <td>150.0</td>\n",
       "      <td>3433.0</td>\n",
       "      <td>12.0</td>\n",
       "      <td>70</td>\n",
       "      <td>1</td>\n",
       "    </tr>\n",
       "    <tr>\n",
       "      <th>4</th>\n",
       "      <td>17.0</td>\n",
       "      <td>8</td>\n",
       "      <td>302.0</td>\n",
       "      <td>140.0</td>\n",
       "      <td>3449.0</td>\n",
       "      <td>10.5</td>\n",
       "      <td>70</td>\n",
       "      <td>1</td>\n",
       "    </tr>\n",
       "  </tbody>\n",
       "</table>\n",
       "</div>"
      ],
      "text/plain": [
       "    mpg  cylinders  displacement  horsepower  weight  acceleration  year  \\\n",
       "0  18.0          8         307.0       130.0  3504.0          12.0    70   \n",
       "1  15.0          8         350.0       165.0  3693.0          11.5    70   \n",
       "2  18.0          8         318.0       150.0  3436.0          11.0    70   \n",
       "3  16.0          8         304.0       150.0  3433.0          12.0    70   \n",
       "4  17.0          8         302.0       140.0  3449.0          10.5    70   \n",
       "\n",
       "   origin  \n",
       "0       1  \n",
       "1       1  \n",
       "2       1  \n",
       "3       1  \n",
       "4       1  "
      ]
     },
     "execution_count": 10,
     "metadata": {},
     "output_type": "execute_result"
    }
   ],
   "source": [
    "df = df.drop( [ 'name' ], axis = 1 )\n",
    "df.head()"
   ]
  },
  {
   "cell_type": "code",
   "execution_count": 11,
   "id": "24df8f99-a452-4b5a-81bd-61a27566c04c",
   "metadata": {},
   "outputs": [],
   "source": [
    "origin = df.pop( 'origin' )\n",
    "\n",
    "df[ 'USA' ] = ( origin == 1 ) * 1.0\n",
    "df[ 'EU' ] = ( origin == 2 ) * 1.0\n",
    "df[ 'JPN' ] = ( origin == 3 ) * 1.0"
   ]
  },
  {
   "cell_type": "code",
   "execution_count": 12,
   "id": "8361f690-e745-44b9-a502-233510ebcf02",
   "metadata": {},
   "outputs": [
    {
     "data": {
      "text/html": [
       "<div>\n",
       "<style scoped>\n",
       "    .dataframe tbody tr th:only-of-type {\n",
       "        vertical-align: middle;\n",
       "    }\n",
       "\n",
       "    .dataframe tbody tr th {\n",
       "        vertical-align: top;\n",
       "    }\n",
       "\n",
       "    .dataframe thead th {\n",
       "        text-align: right;\n",
       "    }\n",
       "</style>\n",
       "<table border=\"1\" class=\"dataframe\">\n",
       "  <thead>\n",
       "    <tr style=\"text-align: right;\">\n",
       "      <th></th>\n",
       "      <th>mpg</th>\n",
       "      <th>cylinders</th>\n",
       "      <th>displacement</th>\n",
       "      <th>horsepower</th>\n",
       "      <th>weight</th>\n",
       "      <th>acceleration</th>\n",
       "      <th>year</th>\n",
       "      <th>USA</th>\n",
       "      <th>EU</th>\n",
       "      <th>JPN</th>\n",
       "    </tr>\n",
       "  </thead>\n",
       "  <tbody>\n",
       "    <tr>\n",
       "      <th>0</th>\n",
       "      <td>18.0</td>\n",
       "      <td>8</td>\n",
       "      <td>307.0</td>\n",
       "      <td>130.0</td>\n",
       "      <td>3504.0</td>\n",
       "      <td>12.0</td>\n",
       "      <td>70</td>\n",
       "      <td>1.0</td>\n",
       "      <td>0.0</td>\n",
       "      <td>0.0</td>\n",
       "    </tr>\n",
       "    <tr>\n",
       "      <th>1</th>\n",
       "      <td>15.0</td>\n",
       "      <td>8</td>\n",
       "      <td>350.0</td>\n",
       "      <td>165.0</td>\n",
       "      <td>3693.0</td>\n",
       "      <td>11.5</td>\n",
       "      <td>70</td>\n",
       "      <td>1.0</td>\n",
       "      <td>0.0</td>\n",
       "      <td>0.0</td>\n",
       "    </tr>\n",
       "    <tr>\n",
       "      <th>2</th>\n",
       "      <td>18.0</td>\n",
       "      <td>8</td>\n",
       "      <td>318.0</td>\n",
       "      <td>150.0</td>\n",
       "      <td>3436.0</td>\n",
       "      <td>11.0</td>\n",
       "      <td>70</td>\n",
       "      <td>1.0</td>\n",
       "      <td>0.0</td>\n",
       "      <td>0.0</td>\n",
       "    </tr>\n",
       "    <tr>\n",
       "      <th>3</th>\n",
       "      <td>16.0</td>\n",
       "      <td>8</td>\n",
       "      <td>304.0</td>\n",
       "      <td>150.0</td>\n",
       "      <td>3433.0</td>\n",
       "      <td>12.0</td>\n",
       "      <td>70</td>\n",
       "      <td>1.0</td>\n",
       "      <td>0.0</td>\n",
       "      <td>0.0</td>\n",
       "    </tr>\n",
       "    <tr>\n",
       "      <th>4</th>\n",
       "      <td>17.0</td>\n",
       "      <td>8</td>\n",
       "      <td>302.0</td>\n",
       "      <td>140.0</td>\n",
       "      <td>3449.0</td>\n",
       "      <td>10.5</td>\n",
       "      <td>70</td>\n",
       "      <td>1.0</td>\n",
       "      <td>0.0</td>\n",
       "      <td>0.0</td>\n",
       "    </tr>\n",
       "  </tbody>\n",
       "</table>\n",
       "</div>"
      ],
      "text/plain": [
       "    mpg  cylinders  displacement  horsepower  weight  acceleration  year  USA  \\\n",
       "0  18.0          8         307.0       130.0  3504.0          12.0    70  1.0   \n",
       "1  15.0          8         350.0       165.0  3693.0          11.5    70  1.0   \n",
       "2  18.0          8         318.0       150.0  3436.0          11.0    70  1.0   \n",
       "3  16.0          8         304.0       150.0  3433.0          12.0    70  1.0   \n",
       "4  17.0          8         302.0       140.0  3449.0          10.5    70  1.0   \n",
       "\n",
       "    EU  JPN  \n",
       "0  0.0  0.0  \n",
       "1  0.0  0.0  \n",
       "2  0.0  0.0  \n",
       "3  0.0  0.0  \n",
       "4  0.0  0.0  "
      ]
     },
     "execution_count": 12,
     "metadata": {},
     "output_type": "execute_result"
    }
   ],
   "source": [
    "df.head()"
   ]
  },
  {
   "cell_type": "markdown",
   "id": "df2d8ce0-8995-4f8a-a750-e4fbd8ae5299",
   "metadata": {},
   "source": [
    "### 입력/정답, 훈련/테스트 데이터 분리"
   ]
  },
  {
   "cell_type": "code",
   "execution_count": 13,
   "id": "7a1c190e-b8a9-42fa-92cf-344a1a3d7ace",
   "metadata": {},
   "outputs": [],
   "source": [
    "from sklearn.model_selection import train_test_split"
   ]
  },
  {
   "cell_type": "code",
   "execution_count": 14,
   "id": "bc51cf31-60fc-446c-878a-a4dd1a20c46a",
   "metadata": {},
   "outputs": [],
   "source": [
    "X = df[ [ 'weight' ] ].to_numpy()\n",
    "y = df[ [ 'mpg' ] ].to_numpy()"
   ]
  },
  {
   "cell_type": "code",
   "execution_count": 15,
   "id": "64575724-2c0a-4f9f-af50-5ac170e78ffe",
   "metadata": {},
   "outputs": [
    {
     "name": "stdout",
     "output_type": "stream",
     "text": [
      "X shape : (392, 1)\n",
      "y shape : (392, 1)\n"
     ]
    }
   ],
   "source": [
    "print( f'X shape : {X.shape}' )\n",
    "print( f'y shape : {y.shape}' )"
   ]
  },
  {
   "cell_type": "code",
   "execution_count": 16,
   "id": "a8c11134-de5b-4530-9cb4-a5362f16ea2a",
   "metadata": {},
   "outputs": [],
   "source": [
    "X_train, X_test, y_train, y_test = train_test_split(\n",
    "    X, y, test_size = 0.2, random_state = 42\n",
    ")"
   ]
  },
  {
   "cell_type": "code",
   "execution_count": 17,
   "id": "99ff8aa9-e03a-4216-9003-41dcd35167c2",
   "metadata": {},
   "outputs": [
    {
     "name": "stdout",
     "output_type": "stream",
     "text": [
      "X_train shape : (313, 1)\n",
      "y_train shape : (313, 1)\n",
      "\n",
      "X_test shape : (79, 1)\n",
      "y_test shape : (79, 1)\n"
     ]
    }
   ],
   "source": [
    "print( f'X_train shape : {X_train.shape}' )\n",
    "print( f'y_train shape : {y_train.shape}' )\n",
    "print( f'\\nX_test shape : {X_test.shape}' )\n",
    "print( f'y_test shape : {y_test.shape}' )"
   ]
  },
  {
   "cell_type": "markdown",
   "id": "b3174db8-3a4a-430c-a1e3-782d8f445d18",
   "metadata": {},
   "source": [
    "### feature scaling"
   ]
  },
  {
   "cell_type": "code",
   "execution_count": 18,
   "id": "53447578-559f-412e-8f64-d5593e6b8afe",
   "metadata": {},
   "outputs": [],
   "source": [
    "from sklearn.preprocessing import StandardScaler"
   ]
  },
  {
   "cell_type": "code",
   "execution_count": 19,
   "id": "acab29fc-a5a2-4e78-80ae-0ff8c27460e6",
   "metadata": {},
   "outputs": [],
   "source": [
    "ss = StandardScaler()\n",
    "ss.fit( X_train )\n",
    "X_train_scaled = ss.transform( X_train )\n",
    "X_test_scaled = ss.transform( X_test )"
   ]
  },
  {
   "cell_type": "markdown",
   "id": "bf87a131-a0d9-4032-a334-2eea2b595318",
   "metadata": {},
   "source": [
    "### MLP 모델 생성 및 컴파일"
   ]
  },
  {
   "cell_type": "code",
   "execution_count": 124,
   "id": "6b8fe406-4eb2-4be4-939b-89c4e7656a2f",
   "metadata": {},
   "outputs": [],
   "source": [
    "def build_model():\n",
    "    model = keras.Sequential()\n",
    "    model.add( layers.Dense( 256, activation = 'relu', \n",
    "                                 input_shape = ( X_train_scaled.shape[ 1 ], ) ) )\n",
    "    model.add( layers.Dense( 256, activation = 'relu' ) )\n",
    "    model.add( layers.Dense( 256, activation = 'relu' ) )\n",
    "    model.add( layers.Dense( 1 ) )\n",
    "    \n",
    "    optimizer = tf.keras.optimizers.RMSprop( 0.0001 ) # 0.0001 : 학습률( learning rate )\n",
    "    model.compile( loss = 'mse', optimizer = optimizer, metrics = [ 'mae', 'mse' ] )\n",
    "    \n",
    "    return model"
   ]
  },
  {
   "cell_type": "code",
   "execution_count": 77,
   "id": "8dfcb674-880f-4402-82b1-b53abe9ed7cc",
   "metadata": {},
   "outputs": [],
   "source": [
    "model = build_model()"
   ]
  },
  {
   "cell_type": "code",
   "execution_count": 78,
   "id": "acab4b9a-547b-4258-96e5-1d84045dea26",
   "metadata": {},
   "outputs": [
    {
     "name": "stdout",
     "output_type": "stream",
     "text": [
      "Model: \"sequential_4\"\n",
      "_________________________________________________________________\n",
      "Layer (type)                 Output Shape              Param #   \n",
      "=================================================================\n",
      "dense_12 (Dense)             (None, 128)               256       \n",
      "_________________________________________________________________\n",
      "dense_13 (Dense)             (None, 128)               16512     \n",
      "_________________________________________________________________\n",
      "dense_14 (Dense)             (None, 1)                 129       \n",
      "=================================================================\n",
      "Total params: 16,897\n",
      "Trainable params: 16,897\n",
      "Non-trainable params: 0\n",
      "_________________________________________________________________\n"
     ]
    }
   ],
   "source": [
    "model.summary()"
   ]
  },
  {
   "cell_type": "code",
   "execution_count": 43,
   "id": "a7a8f7eb-9782-41c4-8b0a-d5a3a86c5045",
   "metadata": {},
   "outputs": [
    {
     "name": "stdout",
     "output_type": "stream",
     "text": [
      "Failed to import pydot. You must install pydot and graphviz for `pydotprint` to work.\n"
     ]
    }
   ],
   "source": [
    "keras.utils.plot_model( model )"
   ]
  },
  {
   "cell_type": "markdown",
   "id": "247ef6b6-b845-484a-8325-c5ae553d4b5a",
   "metadata": {},
   "source": [
    "### 모델 훈련"
   ]
  },
  {
   "cell_type": "code",
   "execution_count": 57,
   "id": "b57894cd-8e76-423b-a866-eb650eadf274",
   "metadata": {},
   "outputs": [],
   "source": [
    "# callback 함수 : 함수내에서 자동으로 호출하는 함수\n",
    "# 훈련 과정에 대한 진행 정도를 표시하는 함수\n",
    "class PrintDot( keras.callbacks.Callback ):\n",
    "    def on_epoch_end( self, epoch, logs ):\n",
    "        if epoch % 100 == 0:\n",
    "            print( '' )\n",
    "        print( '.', end = '' )"
   ]
  },
  {
   "cell_type": "code",
   "execution_count": 72,
   "id": "a623f69e-d277-4019-a6a7-2219b1a29890",
   "metadata": {},
   "outputs": [
    {
     "name": "stdout",
     "output_type": "stream",
     "text": [
      "\n",
      "....................................................................................................\n",
      "....................................................................................................\n",
      "....................................................................................................\n",
      "....................................................................................................\n",
      "....................................................................................................\n",
      "....................................................................................................\n",
      "....................................................................................................\n",
      "....................................................................................................\n",
      "....................................................................................................\n",
      "...................................................................................................."
     ]
    }
   ],
   "source": [
    "history = model.fit( X_train_scaled, y_train, epochs = 1000,\n",
    "                     validation_split = 0.2, verbose = 0, \n",
    "                     callbacks = [ PrintDot() ] )"
   ]
  },
  {
   "cell_type": "code",
   "execution_count": 45,
   "id": "da06b49d-8674-47a5-ad1e-59fd01b05968",
   "metadata": {},
   "outputs": [
    {
     "data": {
      "text/plain": [
       "tensorflow.python.keras.callbacks.History"
      ]
     },
     "execution_count": 45,
     "metadata": {},
     "output_type": "execute_result"
    }
   ],
   "source": [
    "type( history )"
   ]
  },
  {
   "cell_type": "code",
   "execution_count": 49,
   "id": "db2b7ffb-eb94-4983-8ee9-09655056c2e3",
   "metadata": {},
   "outputs": [
    {
     "data": {
      "text/plain": [
       "dict_keys(['loss', 'mae', 'mse', 'val_loss', 'val_mae', 'val_mse'])"
      ]
     },
     "execution_count": 49,
     "metadata": {},
     "output_type": "execute_result"
    }
   ],
   "source": [
    "history.history.keys()"
   ]
  },
  {
   "cell_type": "code",
   "execution_count": 73,
   "id": "b440b113-6641-4f95-a52f-90892890c2a4",
   "metadata": {},
   "outputs": [
    {
     "data": {
      "text/html": [
       "<div>\n",
       "<style scoped>\n",
       "    .dataframe tbody tr th:only-of-type {\n",
       "        vertical-align: middle;\n",
       "    }\n",
       "\n",
       "    .dataframe tbody tr th {\n",
       "        vertical-align: top;\n",
       "    }\n",
       "\n",
       "    .dataframe thead th {\n",
       "        text-align: right;\n",
       "    }\n",
       "</style>\n",
       "<table border=\"1\" class=\"dataframe\">\n",
       "  <thead>\n",
       "    <tr style=\"text-align: right;\">\n",
       "      <th></th>\n",
       "      <th>loss</th>\n",
       "      <th>mae</th>\n",
       "      <th>mse</th>\n",
       "      <th>val_loss</th>\n",
       "      <th>val_mae</th>\n",
       "      <th>val_mse</th>\n",
       "      <th>epoch</th>\n",
       "    </tr>\n",
       "  </thead>\n",
       "  <tbody>\n",
       "    <tr>\n",
       "      <th>995</th>\n",
       "      <td>18.099286</td>\n",
       "      <td>3.097198</td>\n",
       "      <td>18.099285</td>\n",
       "      <td>15.340167</td>\n",
       "      <td>3.033389</td>\n",
       "      <td>15.340167</td>\n",
       "      <td>995</td>\n",
       "    </tr>\n",
       "    <tr>\n",
       "      <th>996</th>\n",
       "      <td>18.082002</td>\n",
       "      <td>3.090886</td>\n",
       "      <td>18.082003</td>\n",
       "      <td>15.346871</td>\n",
       "      <td>3.032056</td>\n",
       "      <td>15.346871</td>\n",
       "      <td>996</td>\n",
       "    </tr>\n",
       "    <tr>\n",
       "      <th>997</th>\n",
       "      <td>18.090184</td>\n",
       "      <td>3.089158</td>\n",
       "      <td>18.090183</td>\n",
       "      <td>15.347714</td>\n",
       "      <td>3.030309</td>\n",
       "      <td>15.347714</td>\n",
       "      <td>997</td>\n",
       "    </tr>\n",
       "    <tr>\n",
       "      <th>998</th>\n",
       "      <td>18.082563</td>\n",
       "      <td>3.094721</td>\n",
       "      <td>18.082563</td>\n",
       "      <td>15.347830</td>\n",
       "      <td>3.032906</td>\n",
       "      <td>15.347830</td>\n",
       "      <td>998</td>\n",
       "    </tr>\n",
       "    <tr>\n",
       "      <th>999</th>\n",
       "      <td>18.067605</td>\n",
       "      <td>3.086238</td>\n",
       "      <td>18.067606</td>\n",
       "      <td>15.343149</td>\n",
       "      <td>3.045174</td>\n",
       "      <td>15.343149</td>\n",
       "      <td>999</td>\n",
       "    </tr>\n",
       "  </tbody>\n",
       "</table>\n",
       "</div>"
      ],
      "text/plain": [
       "          loss       mae        mse   val_loss   val_mae    val_mse  epoch\n",
       "995  18.099286  3.097198  18.099285  15.340167  3.033389  15.340167    995\n",
       "996  18.082002  3.090886  18.082003  15.346871  3.032056  15.346871    996\n",
       "997  18.090184  3.089158  18.090183  15.347714  3.030309  15.347714    997\n",
       "998  18.082563  3.094721  18.082563  15.347830  3.032906  15.347830    998\n",
       "999  18.067605  3.086238  18.067606  15.343149  3.045174  15.343149    999"
      ]
     },
     "execution_count": 73,
     "metadata": {},
     "output_type": "execute_result"
    }
   ],
   "source": [
    "hist_df = pd.DataFrame( history.history )\n",
    "hist_df[ 'epoch' ] = history.epoch\n",
    "hist_df.tail()"
   ]
  },
  {
   "cell_type": "code",
   "execution_count": 74,
   "id": "3bf06c88-62c9-4cac-9809-cff1edc5cdd3",
   "metadata": {},
   "outputs": [],
   "source": [
    "def plot_metric( history ):\n",
    "    hist_df = pd.DataFrame( history.history )\n",
    "    hist_df[ 'epoch' ] = history.epoch\n",
    "    \n",
    "    plt.figure( figsize = ( 8, 12 ) )\n",
    "    plt.subplot( 2, 1, 1 )\n",
    "    plt.xlabel( 'Epoch' )\n",
    "    plt.ylabel( 'Mean Abs Error [ mpg ]' )\n",
    "    plt.plot( hist_df[ 'epoch' ], hist_df[ 'mae' ], label = 'Train Error' )\n",
    "    plt.plot( hist_df[ 'epoch' ], hist_df[ 'val_mae' ], label = 'Val Error' )\n",
    "    plt.ylim( [ 0, 5 ] )\n",
    "    plt.legend()\n",
    "    \n",
    "    plt.subplot( 2, 1, 2 )\n",
    "    plt.xlabel( 'Epoch' )\n",
    "    plt.ylabel( 'Mean Square Error [ $mpg^2$ ]' )\n",
    "    plt.plot( hist_df[ 'epoch' ], hist_df[ 'mse' ], label = 'Train Error' )\n",
    "    plt.plot( hist_df[ 'epoch' ], hist_df[ 'val_mse' ], label = 'Val Error' )\n",
    "    plt.ylim( [ 0, 20 ] )\n",
    "    plt.legend()\n",
    "    \n",
    "    plt.show()"
   ]
  },
  {
   "cell_type": "code",
   "execution_count": 75,
   "id": "7819ccc1-8d4a-4098-95d8-02d09bee249d",
   "metadata": {},
   "outputs": [
    {
     "data": {
      "image/png": "[encoded data removed]",
      "text/plain": [
       "<Figure size 576x864 with 2 Axes>"
      ]
     },
     "metadata": {
      "needs_background": "light"
     },
     "output_type": "display_data"
    }
   ],
   "source": [
    "plot_metric( history )"
   ]
  },
  {
   "cell_type": "markdown",
   "id": "1b610080-448b-4460-8e52-a9c665e197cf",
   "metadata": {},
   "source": [
    "#### 조기 종료를 적용하여 모델 생성"
   ]
  },
  {
   "cell_type": "code",
   "execution_count": 79,
   "id": "6f540ac2-cbc3-464c-abbf-8275ec86e700",
   "metadata": {},
   "outputs": [],
   "source": [
    "model = build_model()"
   ]
  },
  {
   "cell_type": "code",
   "execution_count": 80,
   "id": "ee2016ea-c4ff-435f-91ae-f218f47c27a0",
   "metadata": {},
   "outputs": [
    {
     "name": "stdout",
     "output_type": "stream",
     "text": [
      "\n",
      "....................................................................................................\n",
      "....................................................................................................\n",
      "....................................................................................................\n",
      "....................................................................................................\n",
      "...................................................."
     ]
    }
   ],
   "source": [
    "# EarlyStopping() : 조기 종료\n",
    "#      patience : 성능 향상을 체크하는 epoch 회수\n",
    "early_stop = keras.callbacks.EarlyStopping( monitor = 'val_loss', patience = 10 )\n",
    "\n",
    "history = model.fit( X_train_scaled, y_train, epochs = 1000,\n",
    "                     validation_split = 0.2, verbose = 0,\n",
    "                     callbacks = [ early_stop, PrintDot() ] )"
   ]
  },
  {
   "cell_type": "code",
   "execution_count": 83,
   "id": "cda9b627-9cef-4124-b6ab-29b5fe1000f2",
   "metadata": {},
   "outputs": [
    {
     "data": {
      "image/png": "[encoded data removed]",
      "text/plain": [
       "<Figure size 576x864 with 2 Axes>"
      ]
     },
     "metadata": {
      "needs_background": "light"
     },
     "output_type": "display_data"
    }
   ],
   "source": [
    "plot_metric( history )"
   ]
  },
  {
   "cell_type": "markdown",
   "id": "a8366692-31b4-45b4-bf7c-c456c19e5251",
   "metadata": {},
   "source": [
    "### 평가"
   ]
  },
  {
   "cell_type": "code",
   "execution_count": 84,
   "id": "8e187cd5-1954-49f5-bd1c-400500495766",
   "metadata": {},
   "outputs": [
    {
     "name": "stdout",
     "output_type": "stream",
     "text": [
      "79/1 - 0s - loss: 19.0225 - mae: 3.1297 - mse: 16.6354\n"
     ]
    }
   ],
   "source": [
    "loss, mae, mse = model.evaluate( X_test_scaled, y_test, verbose = 2 )"
   ]
  },
  {
   "cell_type": "code",
   "execution_count": 85,
   "id": "a3ad8624-d450-4a00-8a96-85124cbc52b0",
   "metadata": {},
   "outputs": [
    {
     "name": "stdout",
     "output_type": "stream",
     "text": [
      "테스트 데이터에 대한 평균 절대 오차 :       3.13\n"
     ]
    }
   ],
   "source": [
    "print( f'테스트 데이터에 대한 평균 절대 오차 : {mae:10.2f}' )"
   ]
  },
  {
   "cell_type": "markdown",
   "id": "0cd10316-f3b8-4f34-af8d-a85368412d8c",
   "metadata": {},
   "source": [
    "### 예측 "
   ]
  },
  {
   "cell_type": "code",
   "execution_count": 89,
   "id": "f3ed7fe7-6bec-4ece-8364-868c3ce414fd",
   "metadata": {},
   "outputs": [],
   "source": [
    "predicts = model.predict( X_test_scaled ).flatten()"
   ]
  },
  {
   "cell_type": "code",
   "execution_count": 90,
   "id": "1214ca36-5e90-46fd-93e4-f6cf64619bd6",
   "metadata": {},
   "outputs": [
    {
     "data": {
      "text/plain": [
       "array([30.332441, 24.313358, 34.87297 , 33.06516 , 24.35776 , 30.729761,\n",
       "       13.059916, 29.444317, 20.145283, 34.091526, 16.0318  , 23.114586,\n",
       "       14.056725, 30.54279 , 18.877275, 26.00052 , 21.587261, 28.45102 ,\n",
       "       25.423334, 26.934278, 23.97593 , 31.021904, 32.715256, 18.25771 ,\n",
       "       32.97185 , 29.444317, 22.679478, 18.66065 , 33.12347 , 26.836008,\n",
       "       13.792682, 20.628242, 17.54253 , 25.734129, 13.721479, 32.598625,\n",
       "       13.253601, 31.068651, 14.29056 , 13.305187, 14.987947, 31.278996,\n",
       "       32.773575, 29.03531 , 13.216904, 13.076958, 19.982357, 31.021904,\n",
       "       27.858429, 33.275097, 14.786573, 29.292402, 29.456005, 30.671333,\n",
       "       23.958168, 17.345863, 20.530565, 23.256664, 28.158873, 29.876694,\n",
       "       13.021828, 21.738216, 25.15694 , 22.87483 , 26.80035 , 29.970179,\n",
       "       24.979343, 33.275097, 19.2415  , 14.124042, 27.78001 , 14.980372,\n",
       "       24.135765, 31.092022, 18.485424, 30.624586, 15.053328, 18.704123,\n",
       "       31.021906], dtype=float32)"
      ]
     },
     "execution_count": 90,
     "metadata": {},
     "output_type": "execute_result"
    }
   ],
   "source": [
    "# 예측값\n",
    "predicts"
   ]
  },
  {
   "cell_type": "code",
   "execution_count": 92,
   "id": "28144ee3-8722-405e-9979-e8439d197621",
   "metadata": {},
   "outputs": [
    {
     "data": {
      "text/plain": [
       "array([26. , 21.6, 36.1, 26. , 27. , 28. , 13. , 26. , 19. , 29. , 15. ,\n",
       "       19. , 16.9, 29. , 16.2, 28. , 20. , 32.4, 27.4, 35. , 22. , 44. ,\n",
       "       34.1, 18. , 26. , 26. , 21. , 16. , 26. , 22. , 15. , 19.4, 19.2,\n",
       "       31.6, 13. , 38. , 14. , 25. , 13. , 10. , 13. , 24. , 36. , 26. ,\n",
       "       14. , 13. , 19. , 37.3, 21. , 29. , 14. , 24. , 28. , 36. , 22. ,\n",
       "       16. , 20. , 20. , 25. , 25. , 12. , 22.5, 26.8, 23. , 21.1, 25. ,\n",
       "       25.1, 29. , 19.9, 15. , 22. , 13. , 22. , 18. , 17.6, 28. , 15. ,\n",
       "       16. , 27. ])"
      ]
     },
     "execution_count": 92,
     "metadata": {},
     "output_type": "execute_result"
    }
   ],
   "source": [
    "# 정답\n",
    "y_test.flatten()"
   ]
  },
  {
   "cell_type": "code",
   "execution_count": 93,
   "id": "d56d9593-a3cc-45e5-b93b-19d77f751f53",
   "metadata": {},
   "outputs": [
    {
     "data": {
      "image/png": "[encoded data removed]",
      "text/plain": [
       "<Figure size 432x288 with 1 Axes>"
      ]
     },
     "metadata": {
      "needs_background": "light"
     },
     "output_type": "display_data"
    }
   ],
   "source": [
    "plt.scatter( y_test, predicts )\n",
    "plt.xlabel( 'True Value [ mpg ]' )\n",
    "plt.ylabel( 'Predict [ mpg ]' )\n",
    "plt.axis( 'equal' )\n",
    "plt.axis( 'square' )\n",
    "plt.xlim( [ 0, plt.xlim()[ 1 ] ] )\n",
    "plt.ylim( [ 0, plt.ylim()[ 1 ] ] )\n",
    "_ = plt.plot( [ -100, 100 ], [ -100, 100 ] )"
   ]
  },
  {
   "cell_type": "code",
   "execution_count": 94,
   "id": "306e83b0-55c0-4082-a560-168fe6e72e05",
   "metadata": {},
   "outputs": [],
   "source": [
    "error = predicts - y_test"
   ]
  },
  {
   "cell_type": "code",
   "execution_count": 97,
   "id": "c267e5df-bbb3-407a-9578-ef70094bb620",
   "metadata": {},
   "outputs": [
    {
     "data": {
      "text/plain": [
       "79"
      ]
     },
     "execution_count": 97,
     "metadata": {},
     "output_type": "execute_result"
    }
   ],
   "source": [
    "len( predicts )"
   ]
  },
  {
   "cell_type": "code",
   "execution_count": 98,
   "id": "ba059f51-c9ae-42b0-8999-de791ca85736",
   "metadata": {},
   "outputs": [
    {
     "data": {
      "text/plain": [
       "79"
      ]
     },
     "execution_count": 98,
     "metadata": {},
     "output_type": "execute_result"
    }
   ],
   "source": [
    "len( y_test )"
   ]
  },
  {
   "cell_type": "code",
   "execution_count": 96,
   "id": "d4456be8-ea97-4a81-be3d-51d9a56a0cd1",
   "metadata": {},
   "outputs": [
    {
     "data": {
      "text/plain": [
       "array([  4.33244133,  -1.68664169,   8.87297058, ..., -11.94667244,\n",
       "        -8.29587746,   4.0219059 ])"
      ]
     },
     "execution_count": 96,
     "metadata": {},
     "output_type": "execute_result"
    }
   ],
   "source": [
    "error.flatten()"
   ]
  },
  {
   "cell_type": "code",
   "execution_count": 101,
   "id": "1ee0488c-04a3-4140-83e8-8bdf6d26a96a",
   "metadata": {},
   "outputs": [
    {
     "data": {
      "image/png": "[encoded data removed]",
      "text/plain": [
       "<Figure size 432x288 with 1 Axes>"
      ]
     },
     "metadata": {
      "needs_background": "light"
     },
     "output_type": "display_data"
    }
   ],
   "source": [
    "plt.hist( error.flatten(), bins = 25 )\n",
    "plt.xlabel( 'Predict error [ mpg ]' )\n",
    "plt.ylabel( 'Count' )\n",
    "plt.show()"
   ]
  },
  {
   "cell_type": "markdown",
   "id": "69481824-99c5-4f9e-b986-5185692416dd",
   "metadata": {},
   "source": [
    "## 자동차 연비 예측 모델 ( MLP 딥러닝 모델 - 다중 선형 회귀 모델 )"
   ]
  },
  {
   "cell_type": "code",
   "execution_count": 102,
   "id": "21ef8121-83d0-47d2-81f8-c8649273c1e1",
   "metadata": {},
   "outputs": [],
   "source": [
    "X = df[ [ 'cylinders', 'displacement', 'horsepower',\n",
    "          'weight', 'acceleration' ] ].to_numpy()"
   ]
  },
  {
   "cell_type": "code",
   "execution_count": 103,
   "id": "8fcc78c5-92ed-4436-8cc4-44e0389e085f",
   "metadata": {},
   "outputs": [],
   "source": [
    "X_train, X_test, y_train, y_test = train_test_split(\n",
    "    X, y, test_size = 0.2, random_state = 42 \n",
    ")"
   ]
  },
  {
   "cell_type": "code",
   "execution_count": 104,
   "id": "e271cda0-ebad-4105-896c-ed38e55e2dda",
   "metadata": {},
   "outputs": [
    {
     "name": "stdout",
     "output_type": "stream",
     "text": [
      "X_train shape : (313, 5)\n",
      "y_train shape : (313, 1)\n",
      "\n",
      "X_test shape : (79, 5)\n",
      "y_test shape : (79, 1)\n"
     ]
    }
   ],
   "source": [
    "print( f'X_train shape : {X_train.shape}' )\n",
    "print( f'y_train shape : {y_train.shape}' )\n",
    "print( f'\\nX_test shape : {X_test.shape}' )\n",
    "print( f'y_test shape : {y_test.shape}' )"
   ]
  },
  {
   "cell_type": "code",
   "execution_count": 105,
   "id": "a33ffdeb-1fbd-4340-a9be-1a46ac2c39e8",
   "metadata": {},
   "outputs": [],
   "source": [
    "ss.fit( X_train )\n",
    "X_train_scaled = ss.transform( X_train )\n",
    "X_test_scaled = ss.transform( X_test )"
   ]
  },
  {
   "cell_type": "code",
   "execution_count": 125,
   "id": "04b8f3a6-3e98-4510-b23d-e257199123a6",
   "metadata": {},
   "outputs": [],
   "source": [
    "model = build_model()"
   ]
  },
  {
   "cell_type": "code",
   "execution_count": 126,
   "id": "869d1698-0ab4-4b28-a4c6-9ce95de13fc9",
   "metadata": {},
   "outputs": [
    {
     "name": "stdout",
     "output_type": "stream",
     "text": [
      "Model: \"sequential_8\"\n",
      "_________________________________________________________________\n",
      "Layer (type)                 Output Shape              Param #   \n",
      "=================================================================\n",
      "dense_25 (Dense)             (None, 256)               1536      \n",
      "_________________________________________________________________\n",
      "dense_26 (Dense)             (None, 256)               65792     \n",
      "_________________________________________________________________\n",
      "dense_27 (Dense)             (None, 256)               65792     \n",
      "_________________________________________________________________\n",
      "dense_28 (Dense)             (None, 1)                 257       \n",
      "=================================================================\n",
      "Total params: 133,377\n",
      "Trainable params: 133,377\n",
      "Non-trainable params: 0\n",
      "_________________________________________________________________\n"
     ]
    }
   ],
   "source": [
    "model.summary()"
   ]
  },
  {
   "cell_type": "code",
   "execution_count": 127,
   "id": "8efb859d-60ae-4b08-af66-1ee1877c2295",
   "metadata": {},
   "outputs": [
    {
     "name": "stdout",
     "output_type": "stream",
     "text": [
      "\n",
      "....................................................................................................\n",
      "....................................................................................................\n",
      "....................................................................................................\n",
      "....................................................................................................\n",
      "....................................................................................................\n",
      "....................................................................................................\n",
      "....................................................................................................\n",
      "....................................................................................................\n",
      "....................................................................................................\n",
      "...................................................................................................."
     ]
    }
   ],
   "source": [
    "history = model.fit( X_train_scaled, y_train, epochs = 1000,\n",
    "                     validation_split = 0.2, verbose = 0, \n",
    "                     callbacks = [ PrintDot() ] )"
   ]
  },
  {
   "cell_type": "code",
   "execution_count": 128,
   "id": "5b6decda-b183-4abb-8933-429d16ea3984",
   "metadata": {},
   "outputs": [
    {
     "data": {
      "image/png": "[encoded data removed]",
      "text/plain": [
       "<Figure size 576x864 with 2 Axes>"
      ]
     },
     "metadata": {
      "needs_background": "light"
     },
     "output_type": "display_data"
    }
   ],
   "source": [
    "plot_metric( history )"
   ]
  },
  {
   "cell_type": "code",
   "execution_count": 129,
   "id": "f54348de-dddf-49a6-bc81-1a2f6e765242",
   "metadata": {},
   "outputs": [
    {
     "name": "stdout",
     "output_type": "stream",
     "text": [
      "\n",
      "............."
     ]
    }
   ],
   "source": [
    "history = model.fit( X_train_scaled, y_train, epochs = 1000,\n",
    "                     validation_split = 0.2, verbose = 0,\n",
    "                     callbacks = [ early_stop, PrintDot() ] )"
   ]
  },
  {
   "cell_type": "code",
   "execution_count": 130,
   "id": "d3556167-4282-4998-bff7-9328b0d635e9",
   "metadata": {},
   "outputs": [
    {
     "data": {
      "image/png": "[encoded data removed]",
      "text/plain": [
       "<Figure size 576x864 with 2 Axes>"
      ]
     },
     "metadata": {
      "needs_background": "light"
     },
     "output_type": "display_data"
    }
   ],
   "source": [
    "plot_metric( history )"
   ]
  },
  {
   "cell_type": "code",
   "execution_count": 131,
   "id": "ced5489b-37db-4896-acab-50493fab6ae1",
   "metadata": {},
   "outputs": [
    {
     "name": "stdout",
     "output_type": "stream",
     "text": [
      "79/1 - 0s - loss: 12.1109 - mae: 2.8369 - mse: 14.2625\n"
     ]
    }
   ],
   "source": [
    "loss, mae, mse = model.evaluate( X_test_scaled, y_test, verbose = 2 )"
   ]
  },
  {
   "cell_type": "code",
   "execution_count": 132,
   "id": "faaf07e6-a29b-4320-8768-30ad26ae5397",
   "metadata": {},
   "outputs": [
    {
     "name": "stdout",
     "output_type": "stream",
     "text": [
      "테스트 데이터에 대한 평균 절대 오차 :       2.84\n"
     ]
    }
   ],
   "source": [
    "print( f'테스트 데이터에 대한 평균 절대 오차 : {mae:10.2f}' )"
   ]
  },
  {
   "cell_type": "code",
   "execution_count": 133,
   "id": "5f261a04-00a1-4ba8-90c9-4e22f0c45aee",
   "metadata": {},
   "outputs": [],
   "source": [
    "predicts = model.predict( X_test_scaled ).flatten()"
   ]
  },
  {
   "cell_type": "code",
   "execution_count": 134,
   "id": "98bf3769-9895-4766-8d67-6ee060647cfc",
   "metadata": {},
   "outputs": [
    {
     "data": {
      "image/png": "[encoded data removed]",
      "text/plain": [
       "<Figure size 432x288 with 1 Axes>"
      ]
     },
     "metadata": {
      "needs_background": "light"
     },
     "output_type": "display_data"
    }
   ],
   "source": [
    "plt.scatter( y_test, predicts )\n",
    "plt.xlabel( 'True Value [ mpg ]' )\n",
    "plt.ylabel( 'Predict [ mpg ]' )\n",
    "plt.axis( 'equal' )\n",
    "plt.axis( 'square' )\n",
    "plt.xlim( [ 0, plt.xlim()[ 1 ] ] )\n",
    "plt.ylim( [ 0, plt.ylim()[ 1 ] ] )\n",
    "_ = plt.plot( [ -100, 100 ], [ -100, 100 ] )"
   ]
  },
  {
   "cell_type": "code",
   "execution_count": 136,
   "id": "0b92f893-dfaf-478d-93ef-756c71d69dce",
   "metadata": {},
   "outputs": [
    {
     "data": {
      "image/png": "[encoded data removed]",
      "text/plain": [
       "<Figure size 432x288 with 1 Axes>"
      ]
     },
     "metadata": {
      "needs_background": "light"
     },
     "output_type": "display_data"
    }
   ],
   "source": [
    "plt.hist( error.flatten(), bins = 25 )\n",
    "plt.xlabel( 'Predict error [ mpg ]' )\n",
    "plt.ylabel( 'Count' )\n",
    "plt.show()"
   ]
  },
  {
   "cell_type": "markdown",
   "id": "e0a94650-39ba-4ed7-b3ab-50c201924c58",
   "metadata": {},
   "source": [
    "## 타이타닉 사망자 예측 모델 ( MLP 딥러닝 모델 - 분류 모델 )"
   ]
  },
  {
   "cell_type": "markdown",
   "id": "ec836e59-2336-4bd2-8fba-49dcfd66112b",
   "metadata": {},
   "source": [
    "### 데이터 준비"
   ]
  },
  {
   "cell_type": "code",
   "execution_count": 137,
   "id": "13ef8cbf-3343-4b78-859d-8afe91befea2",
   "metadata": {},
   "outputs": [
    {
     "data": {
      "text/html": [
       "<div>\n",
       "<style scoped>\n",
       "    .dataframe tbody tr th:only-of-type {\n",
       "        vertical-align: middle;\n",
       "    }\n",
       "\n",
       "    .dataframe tbody tr th {\n",
       "        vertical-align: top;\n",
       "    }\n",
       "\n",
       "    .dataframe thead th {\n",
       "        text-align: right;\n",
       "    }\n",
       "</style>\n",
       "<table border=\"1\" class=\"dataframe\">\n",
       "  <thead>\n",
       "    <tr style=\"text-align: right;\">\n",
       "      <th></th>\n",
       "      <th>PassengerId</th>\n",
       "      <th>Survived</th>\n",
       "      <th>Pclass</th>\n",
       "      <th>Name</th>\n",
       "      <th>Sex</th>\n",
       "      <th>Age</th>\n",
       "      <th>SibSp</th>\n",
       "      <th>Parch</th>\n",
       "      <th>Ticket</th>\n",
       "      <th>Fare</th>\n",
       "      <th>Embarked</th>\n",
       "    </tr>\n",
       "  </thead>\n",
       "  <tbody>\n",
       "    <tr>\n",
       "      <th>0</th>\n",
       "      <td>1</td>\n",
       "      <td>0</td>\n",
       "      <td>3</td>\n",
       "      <td>Braund, Mr. Owen...</td>\n",
       "      <td>male</td>\n",
       "      <td>22.0</td>\n",
       "      <td>1</td>\n",
       "      <td>0</td>\n",
       "      <td>A/5 21171</td>\n",
       "      <td>7.2500</td>\n",
       "      <td>S</td>\n",
       "    </tr>\n",
       "    <tr>\n",
       "      <th>1</th>\n",
       "      <td>2</td>\n",
       "      <td>1</td>\n",
       "      <td>1</td>\n",
       "      <td>Cumings, Mrs. Jo...</td>\n",
       "      <td>female</td>\n",
       "      <td>38.0</td>\n",
       "      <td>1</td>\n",
       "      <td>0</td>\n",
       "      <td>PC 17599</td>\n",
       "      <td>71.2833</td>\n",
       "      <td>C</td>\n",
       "    </tr>\n",
       "    <tr>\n",
       "      <th>2</th>\n",
       "      <td>3</td>\n",
       "      <td>1</td>\n",
       "      <td>3</td>\n",
       "      <td>Heikkinen, Miss....</td>\n",
       "      <td>female</td>\n",
       "      <td>26.0</td>\n",
       "      <td>0</td>\n",
       "      <td>0</td>\n",
       "      <td>STON/O2. 3101282</td>\n",
       "      <td>7.9250</td>\n",
       "      <td>S</td>\n",
       "    </tr>\n",
       "    <tr>\n",
       "      <th>3</th>\n",
       "      <td>4</td>\n",
       "      <td>1</td>\n",
       "      <td>1</td>\n",
       "      <td>Futrelle, Mrs. J...</td>\n",
       "      <td>female</td>\n",
       "      <td>35.0</td>\n",
       "      <td>1</td>\n",
       "      <td>0</td>\n",
       "      <td>113803</td>\n",
       "      <td>53.1000</td>\n",
       "      <td>S</td>\n",
       "    </tr>\n",
       "    <tr>\n",
       "      <th>4</th>\n",
       "      <td>5</td>\n",
       "      <td>0</td>\n",
       "      <td>3</td>\n",
       "      <td>Allen, Mr. Willi...</td>\n",
       "      <td>male</td>\n",
       "      <td>35.0</td>\n",
       "      <td>0</td>\n",
       "      <td>0</td>\n",
       "      <td>373450</td>\n",
       "      <td>8.0500</td>\n",
       "      <td>S</td>\n",
       "    </tr>\n",
       "  </tbody>\n",
       "</table>\n",
       "</div>"
      ],
      "text/plain": [
       "   PassengerId  Survived  Pclass                 Name     Sex   Age  SibSp  \\\n",
       "0            1         0       3  Braund, Mr. Owen...    male  22.0      1   \n",
       "1            2         1       1  Cumings, Mrs. Jo...  female  38.0      1   \n",
       "2            3         1       3  Heikkinen, Miss....  female  26.0      0   \n",
       "3            4         1       1  Futrelle, Mrs. J...  female  35.0      1   \n",
       "4            5         0       3  Allen, Mr. Willi...    male  35.0      0   \n",
       "\n",
       "   Parch            Ticket     Fare Embarked  \n",
       "0      0         A/5 21171   7.2500        S  \n",
       "1      0          PC 17599  71.2833        C  \n",
       "2      0  STON/O2. 3101282   7.9250        S  \n",
       "3      0            113803  53.1000        S  \n",
       "4      0            373450   8.0500        S  "
      ]
     },
     "execution_count": 137,
     "metadata": {},
     "output_type": "execute_result"
    }
   ],
   "source": [
    "titanic = pd.read_csv( '../data/titanic_clean.csv' )\n",
    "titanic.head()"
   ]
  },
  {
   "cell_type": "code",
   "execution_count": 138,
   "id": "b6525f6f-1124-4b23-92a8-d3b6b0ba3308",
   "metadata": {},
   "outputs": [
    {
     "data": {
      "text/plain": [
       "PassengerId    0\n",
       "Survived       0\n",
       "Pclass         0\n",
       "Name           0\n",
       "Sex            0\n",
       "Age            0\n",
       "SibSp          0\n",
       "Parch          0\n",
       "Ticket         0\n",
       "Fare           0\n",
       "Embarked       0\n",
       "dtype: int64"
      ]
     },
     "execution_count": 138,
     "metadata": {},
     "output_type": "execute_result"
    }
   ],
   "source": [
    "titanic.isnull().sum()"
   ]
  },
  {
   "cell_type": "markdown",
   "id": "8172e619-5c8f-4e80-9f79-84245cdf78d6",
   "metadata": {},
   "source": [
    "### 데이터 분리"
   ]
  },
  {
   "cell_type": "code",
   "execution_count": 139,
   "id": "6b215ffd-dc47-4739-9af7-973876e4d958",
   "metadata": {},
   "outputs": [
    {
     "data": {
      "text/html": [
       "<div>\n",
       "<style scoped>\n",
       "    .dataframe tbody tr th:only-of-type {\n",
       "        vertical-align: middle;\n",
       "    }\n",
       "\n",
       "    .dataframe tbody tr th {\n",
       "        vertical-align: top;\n",
       "    }\n",
       "\n",
       "    .dataframe thead th {\n",
       "        text-align: right;\n",
       "    }\n",
       "</style>\n",
       "<table border=\"1\" class=\"dataframe\">\n",
       "  <thead>\n",
       "    <tr style=\"text-align: right;\">\n",
       "      <th></th>\n",
       "      <th>PassengerId</th>\n",
       "      <th>Survived</th>\n",
       "      <th>Pclass</th>\n",
       "      <th>Name</th>\n",
       "      <th>Sex</th>\n",
       "      <th>Age</th>\n",
       "      <th>SibSp</th>\n",
       "      <th>Parch</th>\n",
       "      <th>Ticket</th>\n",
       "      <th>Fare</th>\n",
       "      <th>Embarked</th>\n",
       "    </tr>\n",
       "  </thead>\n",
       "  <tbody>\n",
       "    <tr>\n",
       "      <th>0</th>\n",
       "      <td>1</td>\n",
       "      <td>0</td>\n",
       "      <td>3</td>\n",
       "      <td>Braund, Mr. Owen...</td>\n",
       "      <td>male</td>\n",
       "      <td>22.0</td>\n",
       "      <td>1</td>\n",
       "      <td>0</td>\n",
       "      <td>A/5 21171</td>\n",
       "      <td>7.2500</td>\n",
       "      <td>S</td>\n",
       "    </tr>\n",
       "    <tr>\n",
       "      <th>1</th>\n",
       "      <td>2</td>\n",
       "      <td>1</td>\n",
       "      <td>1</td>\n",
       "      <td>Cumings, Mrs. Jo...</td>\n",
       "      <td>female</td>\n",
       "      <td>38.0</td>\n",
       "      <td>1</td>\n",
       "      <td>0</td>\n",
       "      <td>PC 17599</td>\n",
       "      <td>71.2833</td>\n",
       "      <td>C</td>\n",
       "    </tr>\n",
       "    <tr>\n",
       "      <th>2</th>\n",
       "      <td>3</td>\n",
       "      <td>1</td>\n",
       "      <td>3</td>\n",
       "      <td>Heikkinen, Miss....</td>\n",
       "      <td>female</td>\n",
       "      <td>26.0</td>\n",
       "      <td>0</td>\n",
       "      <td>0</td>\n",
       "      <td>STON/O2. 3101282</td>\n",
       "      <td>7.9250</td>\n",
       "      <td>S</td>\n",
       "    </tr>\n",
       "    <tr>\n",
       "      <th>3</th>\n",
       "      <td>4</td>\n",
       "      <td>1</td>\n",
       "      <td>1</td>\n",
       "      <td>Futrelle, Mrs. J...</td>\n",
       "      <td>female</td>\n",
       "      <td>35.0</td>\n",
       "      <td>1</td>\n",
       "      <td>0</td>\n",
       "      <td>113803</td>\n",
       "      <td>53.1000</td>\n",
       "      <td>S</td>\n",
       "    </tr>\n",
       "    <tr>\n",
       "      <th>4</th>\n",
       "      <td>5</td>\n",
       "      <td>0</td>\n",
       "      <td>3</td>\n",
       "      <td>Allen, Mr. Willi...</td>\n",
       "      <td>male</td>\n",
       "      <td>35.0</td>\n",
       "      <td>0</td>\n",
       "      <td>0</td>\n",
       "      <td>373450</td>\n",
       "      <td>8.0500</td>\n",
       "      <td>S</td>\n",
       "    </tr>\n",
       "  </tbody>\n",
       "</table>\n",
       "</div>"
      ],
      "text/plain": [
       "   PassengerId  Survived  Pclass                 Name     Sex   Age  SibSp  \\\n",
       "0            1         0       3  Braund, Mr. Owen...    male  22.0      1   \n",
       "1            2         1       1  Cumings, Mrs. Jo...  female  38.0      1   \n",
       "2            3         1       3  Heikkinen, Miss....  female  26.0      0   \n",
       "3            4         1       1  Futrelle, Mrs. J...  female  35.0      1   \n",
       "4            5         0       3  Allen, Mr. Willi...    male  35.0      0   \n",
       "\n",
       "   Parch            Ticket     Fare Embarked  \n",
       "0      0         A/5 21171   7.2500        S  \n",
       "1      0          PC 17599  71.2833        C  \n",
       "2      0  STON/O2. 3101282   7.9250        S  \n",
       "3      0            113803  53.1000        S  \n",
       "4      0            373450   8.0500        S  "
      ]
     },
     "execution_count": 139,
     "metadata": {},
     "output_type": "execute_result"
    }
   ],
   "source": [
    "df = titanic[ : ]\n",
    "df.head()"
   ]
  },
  {
   "cell_type": "code",
   "execution_count": 141,
   "id": "a03f5f86-e12f-4eb5-8650-27cd9ec6bee8",
   "metadata": {},
   "outputs": [],
   "source": [
    "df[ 'Sex' ] = df[ 'Sex' ].map( { 'male': 0, 'female': 1 } ).astype( int )"
   ]
  },
  {
   "cell_type": "code",
   "execution_count": 142,
   "id": "05d7ad41-dd99-40c9-97f0-695d4510fc98",
   "metadata": {},
   "outputs": [
    {
     "data": {
      "text/html": [
       "<div>\n",
       "<style scoped>\n",
       "    .dataframe tbody tr th:only-of-type {\n",
       "        vertical-align: middle;\n",
       "    }\n",
       "\n",
       "    .dataframe tbody tr th {\n",
       "        vertical-align: top;\n",
       "    }\n",
       "\n",
       "    .dataframe thead th {\n",
       "        text-align: right;\n",
       "    }\n",
       "</style>\n",
       "<table border=\"1\" class=\"dataframe\">\n",
       "  <thead>\n",
       "    <tr style=\"text-align: right;\">\n",
       "      <th></th>\n",
       "      <th>PassengerId</th>\n",
       "      <th>Survived</th>\n",
       "      <th>Pclass</th>\n",
       "      <th>Name</th>\n",
       "      <th>Sex</th>\n",
       "      <th>Age</th>\n",
       "      <th>SibSp</th>\n",
       "      <th>Parch</th>\n",
       "      <th>Ticket</th>\n",
       "      <th>Fare</th>\n",
       "      <th>Embarked</th>\n",
       "    </tr>\n",
       "  </thead>\n",
       "  <tbody>\n",
       "    <tr>\n",
       "      <th>0</th>\n",
       "      <td>1</td>\n",
       "      <td>0</td>\n",
       "      <td>3</td>\n",
       "      <td>Braund, Mr. Owen...</td>\n",
       "      <td>0</td>\n",
       "      <td>22.0</td>\n",
       "      <td>1</td>\n",
       "      <td>0</td>\n",
       "      <td>A/5 21171</td>\n",
       "      <td>7.2500</td>\n",
       "      <td>S</td>\n",
       "    </tr>\n",
       "    <tr>\n",
       "      <th>1</th>\n",
       "      <td>2</td>\n",
       "      <td>1</td>\n",
       "      <td>1</td>\n",
       "      <td>Cumings, Mrs. Jo...</td>\n",
       "      <td>1</td>\n",
       "      <td>38.0</td>\n",
       "      <td>1</td>\n",
       "      <td>0</td>\n",
       "      <td>PC 17599</td>\n",
       "      <td>71.2833</td>\n",
       "      <td>C</td>\n",
       "    </tr>\n",
       "    <tr>\n",
       "      <th>2</th>\n",
       "      <td>3</td>\n",
       "      <td>1</td>\n",
       "      <td>3</td>\n",
       "      <td>Heikkinen, Miss....</td>\n",
       "      <td>1</td>\n",
       "      <td>26.0</td>\n",
       "      <td>0</td>\n",
       "      <td>0</td>\n",
       "      <td>STON/O2. 3101282</td>\n",
       "      <td>7.9250</td>\n",
       "      <td>S</td>\n",
       "    </tr>\n",
       "    <tr>\n",
       "      <th>3</th>\n",
       "      <td>4</td>\n",
       "      <td>1</td>\n",
       "      <td>1</td>\n",
       "      <td>Futrelle, Mrs. J...</td>\n",
       "      <td>1</td>\n",
       "      <td>35.0</td>\n",
       "      <td>1</td>\n",
       "      <td>0</td>\n",
       "      <td>113803</td>\n",
       "      <td>53.1000</td>\n",
       "      <td>S</td>\n",
       "    </tr>\n",
       "    <tr>\n",
       "      <th>4</th>\n",
       "      <td>5</td>\n",
       "      <td>0</td>\n",
       "      <td>3</td>\n",
       "      <td>Allen, Mr. Willi...</td>\n",
       "      <td>0</td>\n",
       "      <td>35.0</td>\n",
       "      <td>0</td>\n",
       "      <td>0</td>\n",
       "      <td>373450</td>\n",
       "      <td>8.0500</td>\n",
       "      <td>S</td>\n",
       "    </tr>\n",
       "  </tbody>\n",
       "</table>\n",
       "</div>"
      ],
      "text/plain": [
       "   PassengerId  Survived  Pclass                 Name  Sex   Age  SibSp  \\\n",
       "0            1         0       3  Braund, Mr. Owen...    0  22.0      1   \n",
       "1            2         1       1  Cumings, Mrs. Jo...    1  38.0      1   \n",
       "2            3         1       3  Heikkinen, Miss....    1  26.0      0   \n",
       "3            4         1       1  Futrelle, Mrs. J...    1  35.0      1   \n",
       "4            5         0       3  Allen, Mr. Willi...    0  35.0      0   \n",
       "\n",
       "   Parch            Ticket     Fare Embarked  \n",
       "0      0         A/5 21171   7.2500        S  \n",
       "1      0          PC 17599  71.2833        C  \n",
       "2      0  STON/O2. 3101282   7.9250        S  \n",
       "3      0            113803  53.1000        S  \n",
       "4      0            373450   8.0500        S  "
      ]
     },
     "execution_count": 142,
     "metadata": {},
     "output_type": "execute_result"
    }
   ],
   "source": [
    "df.head()"
   ]
  },
  {
   "cell_type": "code",
   "execution_count": 145,
   "id": "58603301-cf4c-4b88-b517-21c0b685c40e",
   "metadata": {},
   "outputs": [],
   "source": [
    "X = df[ [ 'Pclass', 'Sex', 'Age', 'SibSp', 'Parch', 'Fare' ] ].to_numpy()\n",
    "y = df[ [ 'Survived' ] ].to_numpy()"
   ]
  },
  {
   "cell_type": "code",
   "execution_count": 146,
   "id": "cea1861e-ad7e-4bd8-88bb-b6954294720c",
   "metadata": {},
   "outputs": [
    {
     "data": {
      "text/plain": [
       "(891, 6)"
      ]
     },
     "execution_count": 146,
     "metadata": {},
     "output_type": "execute_result"
    }
   ],
   "source": [
    "X.shape"
   ]
  },
  {
   "cell_type": "code",
   "execution_count": 147,
   "id": "33172b31-d31b-4d81-ac92-c713f2a7af69",
   "metadata": {},
   "outputs": [
    {
     "data": {
      "text/plain": [
       "(891, 1)"
      ]
     },
     "execution_count": 147,
     "metadata": {},
     "output_type": "execute_result"
    }
   ],
   "source": [
    "y.shape"
   ]
  },
  {
   "cell_type": "code",
   "execution_count": 148,
   "id": "2a096bee-0367-4e74-b616-7c38dbaebc12",
   "metadata": {},
   "outputs": [],
   "source": [
    "X_train, X_test, y_train, y_test = train_test_split(\n",
    "        X, y, test_size = 0.2, random_state = 42 \n",
    ")"
   ]
  },
  {
   "cell_type": "code",
   "execution_count": 149,
   "id": "ca71a3b9-6dc9-4f67-bcfa-7299e24d200d",
   "metadata": {},
   "outputs": [
    {
     "name": "stdout",
     "output_type": "stream",
     "text": [
      "(712, 6) \t (712, 1)\n",
      "(179, 6) \t (179, 1)\n"
     ]
    }
   ],
   "source": [
    "print( X_train.shape, '\\t', y_train.shape )\n",
    "print( X_test.shape, '\\t', y_test.shape )"
   ]
  },
  {
   "cell_type": "markdown",
   "id": "f8d84c2e-2359-48d7-b7b9-b89f28547cb6",
   "metadata": {},
   "source": [
    "### feature scaling"
   ]
  },
  {
   "cell_type": "code",
   "execution_count": 151,
   "id": "1e8253e6-2de7-4a56-94b2-d56c1741b4e8",
   "metadata": {},
   "outputs": [],
   "source": [
    "from sklearn.preprocessing import MinMaxScaler"
   ]
  },
  {
   "cell_type": "code",
   "execution_count": 166,
   "id": "9ab87346-1110-4f89-96cd-df581292e989",
   "metadata": {},
   "outputs": [],
   "source": [
    "ns = MinMaxScaler()\n",
    "ns.fit( X_train )\n",
    "X_train_scaled = ns.transform( X_train )\n",
    "X_test_scaled = ns.transform( X_test )"
   ]
  },
  {
   "cell_type": "code",
   "execution_count": 193,
   "id": "145e24d6-fec6-417f-94b4-27b40450b852",
   "metadata": {},
   "outputs": [],
   "source": [
    "def build_model():\n",
    "    model = keras.Sequential()\n",
    "    # Flatten층은 입력 데이터를 1차원으로 만들어주는 역활, 학습에는 영향을 주지 않는다.\n",
    "    model.add( layers.Flatten( input_shape = [ X_train_scaled.shape[ 1 ] ] ) )\n",
    "    model.add( layers.Dense( 128, activation = 'relu' ) )\n",
    "    model.add( layers.Dropout( 0.2 ) )\n",
    "    model.add( layers.Dense( 128, activation = 'relu' ) )\n",
    "    model.add( layers.Dropout( 0.2 ) )          \n",
    "    model.add( layers.Dense( 1, activation = 'sigmoid' ) )\n",
    "    \n",
    "    model.compile( loss = 'binary_crossentropy',\n",
    "                   optimizer = 'sgd',\n",
    "                   metrics = [ 'accuracy' ] )\n",
    "    \n",
    "    return model"
   ]
  },
  {
   "cell_type": "code",
   "execution_count": 194,
   "id": "fedb6507-45d5-4849-9ef6-69ebc7dd09c4",
   "metadata": {},
   "outputs": [],
   "source": [
    "model = build_model()"
   ]
  },
  {
   "cell_type": "code",
   "execution_count": 195,
   "id": "9302d992-a90f-45e3-addf-ad20019f2a8a",
   "metadata": {},
   "outputs": [
    {
     "name": "stdout",
     "output_type": "stream",
     "text": [
      "Model: \"sequential_13\"\n",
      "_________________________________________________________________\n",
      "Layer (type)                 Output Shape              Param #   \n",
      "=================================================================\n",
      "flatten_4 (Flatten)          (None, 6)                 0         \n",
      "_________________________________________________________________\n",
      "dense_41 (Dense)             (None, 128)               896       \n",
      "_________________________________________________________________\n",
      "dropout_4 (Dropout)          (None, 128)               0         \n",
      "_________________________________________________________________\n",
      "dense_42 (Dense)             (None, 128)               16512     \n",
      "_________________________________________________________________\n",
      "dropout_5 (Dropout)          (None, 128)               0         \n",
      "_________________________________________________________________\n",
      "dense_43 (Dense)             (None, 1)                 129       \n",
      "=================================================================\n",
      "Total params: 17,537\n",
      "Trainable params: 17,537\n",
      "Non-trainable params: 0\n",
      "_________________________________________________________________\n"
     ]
    }
   ],
   "source": [
    "model.summary()"
   ]
  },
  {
   "cell_type": "code",
   "execution_count": 196,
   "id": "fb80f346-b38c-47f8-8cd9-39d234fb3b1a",
   "metadata": {},
   "outputs": [
    {
     "name": "stdout",
     "output_type": "stream",
     "text": [
      "\n",
      "....................................................................................................\n",
      "....................................................................................................\n",
      "....................................................................................................\n",
      "....................................................................................................\n",
      "...................................................................................................."
     ]
    }
   ],
   "source": [
    "history = model.fit( X_train_scaled, y_train, epochs = 500,\n",
    "                     validation_split = 0.2, verbose = 0,\n",
    "                     callbacks = [ PrintDot() ] )"
   ]
  },
  {
   "cell_type": "code",
   "execution_count": 197,
   "id": "9fe9c365-c21a-41d4-95cc-81d21ff33f4c",
   "metadata": {},
   "outputs": [],
   "source": [
    "def plot_metric_accuracy( history ):\n",
    "    hist_df = pd.DataFrame( history.history )\n",
    "    hist_df[ 'epoch' ] = history.epoch\n",
    "    \n",
    "    plt.figure( figsize = ( 8, 12 ) )\n",
    "    plt.subplot( 2, 1, 1 )\n",
    "    plt.xlabel( 'Epoch' )\n",
    "    plt.ylabel( 'Accuracy [ Survived ]' )\n",
    "    plt.plot( hist_df[ 'epoch' ], hist_df[ 'accuracy' ], label = 'Train Error' )\n",
    "    plt.plot( hist_df[ 'epoch' ], hist_df[ 'val_accuracy' ], label = 'Val Error' )\n",
    "    plt.ylim( [ 0, 5 ] )\n",
    "    plt.legend()\n",
    "\n",
    "    plt.show()"
   ]
  },
  {
   "cell_type": "code",
   "execution_count": 198,
   "id": "9857804d-b699-497a-a33b-6a810bb7225f",
   "metadata": {},
   "outputs": [
    {
     "data": {
      "image/png": "[encoded data removed]",
      "text/plain": [
       "<Figure size 576x864 with 1 Axes>"
      ]
     },
     "metadata": {
      "needs_background": "light"
     },
     "output_type": "display_data"
    }
   ],
   "source": [
    "plot_metric_accuracy( history )"
   ]
  },
  {
   "cell_type": "code",
   "execution_count": 199,
   "id": "1341c016-3ff4-4f83-834b-d3a79e5159da",
   "metadata": {},
   "outputs": [
    {
     "name": "stdout",
     "output_type": "stream",
     "text": [
      "179/1 - 0s - loss: 0.4033 - accuracy: 0.8156\n",
      "테스트 데이터 정확도 :    0.81564\n"
     ]
    }
   ],
   "source": [
    "loss, accuracy = model.evaluate( X_test_scaled, y_test, verbose = 2 )\n",
    "\n",
    "print( f'테스트 데이터 정확도 : {accuracy:10.5f}' )"
   ]
  },
  {
   "cell_type": "code",
   "execution_count": 179,
   "id": "13305bee-0e01-4947-9c11-781993a56222",
   "metadata": {},
   "outputs": [
    {
     "data": {
      "text/plain": [
       "array([0., 0., 0., 1., 0., 1., 0., 0., 0., 0., 0., 0., 0., 0., 0., 1., 0.,\n",
       "       0., 0., 0.], dtype=float32)"
      ]
     },
     "execution_count": 179,
     "metadata": {},
     "output_type": "execute_result"
    }
   ],
   "source": [
    "predict = model.predict( X_test[ :20 ] ).flatten()\n",
    "predict.round( 2 )"
   ]
  },
  {
   "cell_type": "code",
   "execution_count": 180,
   "id": "6bbe1a05-5cd3-46ec-a4f6-3fa148ff12d8",
   "metadata": {},
   "outputs": [
    {
     "data": {
      "text/plain": [
       "array([[0],\n",
       "       [0],\n",
       "       [0],\n",
       "       [1],\n",
       "       [0],\n",
       "       [1],\n",
       "       [0],\n",
       "       [0],\n",
       "       [0],\n",
       "       [0],\n",
       "       [0],\n",
       "       [0],\n",
       "       [0],\n",
       "       [0],\n",
       "       [0],\n",
       "       [1],\n",
       "       [0],\n",
       "       [0],\n",
       "       [0],\n",
       "       [0]], dtype=int32)"
      ]
     },
     "execution_count": 180,
     "metadata": {},
     "output_type": "execute_result"
    }
   ],
   "source": [
    "predict = model.predict_classes( X_test[ :20 ] )\n",
    "predict"
   ]
  },
  {
   "cell_type": "code",
   "execution_count": 182,
   "id": "f61ac705-b501-4810-8e4e-e15832c60031",
   "metadata": {},
   "outputs": [
    {
     "name": "stdout",
     "output_type": "stream",
     "text": [
      "실제값\t예측값\n",
      "[1]\t0\n",
      "[0]\t0\n",
      "[0]\t0\n",
      "[1]\t1\n",
      "[1]\t0\n",
      "[1]\t1\n",
      "[1]\t0\n",
      "[0]\t0\n",
      "[1]\t0\n",
      "[1]\t0\n",
      "[0]\t0\n",
      "[0]\t0\n",
      "[0]\t0\n",
      "[0]\t0\n",
      "[0]\t0\n",
      "[1]\t1\n",
      "[1]\t0\n",
      "[1]\t0\n",
      "[0]\t0\n",
      "[0]\t0\n",
      "\n",
      "맞은 갯수 : 13\t틀린 갯수 : 7\n",
      "실제 예측 정확도 :      65.00%\n"
     ]
    }
   ],
   "source": [
    "count = len( y_test[ :20 ] )\n",
    "results = []\n",
    "\n",
    "print( '실제값\\t예측값' )\n",
    "for i in range( count ):\n",
    "    print( f'{y_test[ i ]}\\t{predict[ i ][ 0 ]}' )\n",
    "    if y_test[ i ] == predict[ i ][ 0 ]:\n",
    "        results.append( True )\n",
    "    else:\n",
    "        results.append( False )\n",
    "\n",
    "print( f'\\n맞은 갯수 : {sum( results )}\\t틀린 갯수 : {count - sum( results )}' )\n",
    "print( f'실제 예측 정확도 : {sum( results ) / count * 100:10.2f}%' )"
   ]
  },
  {
   "cell_type": "code",
   "execution_count": null,
   "id": "f84a9265-74ec-4244-9c06-0de503900271",
   "metadata": {},
   "outputs": [],
   "source": []
  }
 ],
 "metadata": {
  "kernelspec": {
   "display_name": "Python 3 (ipykernel)",
   "language": "python",
   "name": "python3"
  },
  "language_info": {
   "codemirror_mode": {
    "name": "ipython",
    "version": 3
   },
   "file_extension": ".py",
   "mimetype": "text/x-python",
   "name": "python",
   "nbconvert_exporter": "python",
   "pygments_lexer": "ipython3",
   "version": "3.7.5"
  }
 },
 "nbformat": 4,
 "nbformat_minor": 5
}
