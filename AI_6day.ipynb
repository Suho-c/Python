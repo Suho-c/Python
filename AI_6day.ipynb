{
 "cells": [
  {
   "cell_type": "markdown",
   "id": "cd453576-46d7-4eed-983a-99e4fa9d80c9",
   "metadata": {},
   "source": [
    "# CNN( Convolutional Neural Network, 합성곱 신경망 )"
   ]
  },
  {
   "cell_type": "code",
   "execution_count": 1,
   "id": "ae0b1967-f537-45be-8304-29daa96657c8",
   "metadata": {},
   "outputs": [],
   "source": [
    "# 라이브러리 import\n",
    "import numpy as np\n",
    "import pandas as pd\n",
    "import matplotlib.pyplot as plt\n",
    "import seaborn as sns\n",
    "\n",
    "# 환경 설정\n",
    "pd.set_option( 'display.max_columns', 20 )\n",
    "pd.set_option( 'display.max_colwidth', 20 )\n",
    "pd.set_option( 'display.unicode.east_asian_width', True )\n",
    "\n",
    "from matplotlib import font_manager, rc\n",
    "\n",
    "# Windows 사용시 matplotlib 한글 폰트 사용 설정\n",
    "# font_path = \"c:\\\\Windows\\\\Fonts\\\\malgun.ttf\"\n",
    "# font_name = font_manager.FontProperties( fname = font_path ).get_name()\n",
    "# rc( 'font', family = font_name )\n",
    "\n",
    "# Mac OS 사용시 matplotlib 한글 폰트 사용 설정\n",
    "rc( 'font', family = 'AppleGothic' )\n",
    "\n",
    "import warnings\n",
    "warnings.filterwarnings( 'ignore' )"
   ]
  },
  {
   "cell_type": "code",
   "execution_count": 2,
   "id": "9a5f6877-1885-4658-aa18-a62c02a41644",
   "metadata": {},
   "outputs": [],
   "source": [
    "from tensorflow import keras\n",
    "from sklearn.model_selection import train_test_split"
   ]
  },
  {
   "cell_type": "markdown",
   "id": "104eb0ae-cc6a-4ee1-8424-8fcb9ff1a5ae",
   "metadata": {},
   "source": [
    "* 패션 MNIST 데이터셋 로드"
   ]
  },
  {
   "cell_type": "code",
   "execution_count": 25,
   "id": "b49398ed-15b8-466f-ad03-643e166f3bb2",
   "metadata": {},
   "outputs": [],
   "source": [
    "( X_train, y_train ), ( X_test, y_test_org ) =\\\n",
    "    keras.datasets.fashion_mnist.load_data()"
   ]
  },
  {
   "cell_type": "code",
   "execution_count": 4,
   "id": "10ecea3a-3b50-400e-8a94-b1586fc2152a",
   "metadata": {},
   "outputs": [
    {
     "name": "stdout",
     "output_type": "stream",
     "text": [
      "X_train shape : (60000, 28, 28)\n",
      "y_train shape : (60000,)\n"
     ]
    }
   ],
   "source": [
    "print( f'X_train shape : {X_train.shape}' )\n",
    "print( f'y_train shape : {y_train.shape}' )"
   ]
  },
  {
   "cell_type": "code",
   "execution_count": 5,
   "id": "f053b8c6-e0f3-49d6-8520-d3b5d3e49ce9",
   "metadata": {},
   "outputs": [
    {
     "name": "stdout",
     "output_type": "stream",
     "text": [
      "X_test shape : (10000, 28, 28)\n",
      "y_test shape : (10000,)\n"
     ]
    }
   ],
   "source": [
    "print( f'X_test shape : {X_test.shape}' )\n",
    "print( f'y_test shape : {y_test.shape}' )"
   ]
  },
  {
   "cell_type": "markdown",
   "id": "6cbc8d79-690d-4d20-a517-fad33c0b24d0",
   "metadata": {},
   "source": [
    "* 패션 MNIST 이미지 "
   ]
  },
  {
   "cell_type": "code",
   "execution_count": 6,
   "id": "d7eb5b2b-8fa1-4802-94d0-2130e5f9a6ce",
   "metadata": {},
   "outputs": [
    {
     "data": {
      "image/png": "[encoded data removed]",
      "text/plain": [
       "<Figure size 720x720 with 10 Axes>"
      ]
     },
     "metadata": {
      "needs_background": "light"
     },
     "output_type": "display_data"
    }
   ],
   "source": [
    "fig, axs = plt.subplots( 1, 10, figsize = ( 10, 10 ) )\n",
    "for i in range( 10 ):\n",
    "    axs[ i ].imshow( X_train[ i ], cmap = 'gray_r' )\n",
    "    axs[ i ].axis( 'off' )\n",
    "plt.show()"
   ]
  },
  {
   "cell_type": "markdown",
   "id": "30a2e360-8cea-4010-af1b-4d7a592998e1",
   "metadata": {},
   "source": [
    "* 이미지에 채널 정보 추가"
   ]
  },
  {
   "cell_type": "code",
   "execution_count": 7,
   "id": "c5c92524-abcd-4301-a6cf-572e8f9255e7",
   "metadata": {},
   "outputs": [],
   "source": [
    "X_train_reshape = X_train.reshape( -1, 28, 28, 1 ) / 255.0"
   ]
  },
  {
   "cell_type": "code",
   "execution_count": 8,
   "id": "d542187f-d3ae-4e3e-8bde-bb49318388d7",
   "metadata": {},
   "outputs": [],
   "source": [
    "X_train_scaled, X_test_scaled, y_train, y_test = train_test_split(\n",
    "    X_train_reshape, y_train, test_size = 0.2, random_state = 42\n",
    ")"
   ]
  },
  {
   "cell_type": "code",
   "execution_count": 9,
   "id": "47586fe1-3477-4ddd-a6cb-5c60e7097fbc",
   "metadata": {},
   "outputs": [
    {
     "name": "stdout",
     "output_type": "stream",
     "text": [
      "X_train_scaled shape : (48000, 28, 28, 1)\n",
      "X_test_scaled shape : (12000, 28, 28, 1)\n"
     ]
    }
   ],
   "source": [
    "print( f'X_train_scaled shape : {X_train_scaled.shape}' )\n",
    "print( f'X_test_scaled shape : {X_test_scaled.shape}' )"
   ]
  },
  {
   "cell_type": "markdown",
   "id": "5b3a0126-b19f-405e-8f36-10232ad4d164",
   "metadata": {},
   "source": [
    "* 합성곱 신경망 모델 구성"
   ]
  },
  {
   "cell_type": "code",
   "execution_count": 10,
   "id": "b8a39c44-afe9-49a4-ac0f-efd82c167fde",
   "metadata": {},
   "outputs": [
    {
     "name": "stderr",
     "output_type": "stream",
     "text": [
      "2021-11-25 16:37:06.302807: I tensorflow/core/platform/cpu_feature_guard.cc:145] This TensorFlow binary is optimized with Intel(R) MKL-DNN to use the following CPU instructions in performance critical operations:  SSE4.1 SSE4.2\n",
      "To enable them in non-MKL-DNN operations, rebuild TensorFlow with the appropriate compiler flags.\n",
      "2021-11-25 16:37:06.304759: I tensorflow/core/common_runtime/process_util.cc:115] Creating new thread pool with default inter op setting: 8. Tune using inter_op_parallelism_threads for best performance.\n"
     ]
    }
   ],
   "source": [
    "model = keras.Sequential()\n",
    "# 32개 필터 사용\n",
    "# kernel size : 3 X 3\n",
    "# padding : 특성 맵의 크기를 입력 이미지와 같은 크기\n",
    "model.add( keras.layers.Conv2D( 32, kernel_size = 3, activation = 'relu',\n",
    "                                padding = 'same', input_shape = ( 28, 28, 1 ) ) )\n",
    "# kernel size : 2 x 2\n",
    "model.add( keras.layers.MaxPooling2D( 2 ) )\n",
    "model.add( keras.layers.Conv2D( 64, kernel_size = 3, activation = 'relu',\n",
    "                                padding = 'same' ) )\n",
    "model.add( keras.layers.MaxPooling2D( 2 ) )\n",
    "model.add( keras.layers.Flatten() ) # 1차원 형태로 변환\n",
    "\n",
    "# Fully-Connected\n",
    "model.add( keras.layers.Dense( 100, activation = 'relu' ) )\n",
    "model.add( keras.layers.Dropout( 0.4 ) )\n",
    "model.add( keras.layers.Dense( 10, activation = 'softmax' ) )"
   ]
  },
  {
   "cell_type": "code",
   "execution_count": 11,
   "id": "9bc42bf7-eaa5-4770-ab9c-90a4a24f3c6a",
   "metadata": {},
   "outputs": [
    {
     "name": "stdout",
     "output_type": "stream",
     "text": [
      "Model: \"sequential\"\n",
      "_________________________________________________________________\n",
      "Layer (type)                 Output Shape              Param #   \n",
      "=================================================================\n",
      "conv2d (Conv2D)              (None, 28, 28, 32)        320       \n",
      "_________________________________________________________________\n",
      "max_pooling2d (MaxPooling2D) (None, 14, 14, 32)        0         \n",
      "_________________________________________________________________\n",
      "conv2d_1 (Conv2D)            (None, 14, 14, 64)        18496     \n",
      "_________________________________________________________________\n",
      "max_pooling2d_1 (MaxPooling2 (None, 7, 7, 64)          0         \n",
      "_________________________________________________________________\n",
      "flatten (Flatten)            (None, 3136)              0         \n",
      "_________________________________________________________________\n",
      "dense (Dense)                (None, 100)               313700    \n",
      "_________________________________________________________________\n",
      "dropout (Dropout)            (None, 100)               0         \n",
      "_________________________________________________________________\n",
      "dense_1 (Dense)              (None, 10)                1010      \n",
      "=================================================================\n",
      "Total params: 333,526\n",
      "Trainable params: 333,526\n",
      "Non-trainable params: 0\n",
      "_________________________________________________________________\n"
     ]
    }
   ],
   "source": [
    "model.summary()"
   ]
  },
  {
   "cell_type": "markdown",
   "id": "7d0c6422-029b-4f9a-b8cb-2842852eb5a9",
   "metadata": {},
   "source": [
    "* 합성곱 신경망 모델 생성"
   ]
  },
  {
   "cell_type": "code",
   "execution_count": 14,
   "id": "0e1bea8f-2d14-4e43-bb5d-3aac6dd144a2",
   "metadata": {},
   "outputs": [],
   "source": [
    "model.compile( optimizer = 'adam', loss = 'sparse_categorical_crossentropy',\n",
    "               metrics = [ 'accuracy' ] )"
   ]
  },
  {
   "cell_type": "markdown",
   "id": "1a368f83-baa5-4347-8396-64f2013b240f",
   "metadata": {},
   "source": [
    "* 합성곱 신경망 학습"
   ]
  },
  {
   "cell_type": "code",
   "execution_count": 16,
   "id": "602cc7cb-377f-4c77-ae47-eae4b256071c",
   "metadata": {},
   "outputs": [
    {
     "name": "stdout",
     "output_type": "stream",
     "text": [
      "Train on 48000 samples, validate on 12000 samples\n",
      "Epoch 1/20\n",
      "48000/48000 [==============================] - 148s 3ms/sample - loss: 0.5372 - accuracy: 0.8077 - val_loss: 0.3354 - val_accuracy: 0.8749\n",
      "Epoch 2/20\n",
      "48000/48000 [==============================] - 150s 3ms/sample - loss: 0.3564 - accuracy: 0.8726 - val_loss: 0.2872 - val_accuracy: 0.8934\n",
      "Epoch 3/20\n",
      "48000/48000 [==============================] - 139s 3ms/sample - loss: 0.3016 - accuracy: 0.8917 - val_loss: 0.2582 - val_accuracy: 0.9053\n",
      "Epoch 4/20\n",
      "48000/48000 [==============================] - 134s 3ms/sample - loss: 0.2672 - accuracy: 0.9035 - val_loss: 0.2492 - val_accuracy: 0.9100\n",
      "Epoch 5/20\n",
      "48000/48000 [==============================] - 134s 3ms/sample - loss: 0.2453 - accuracy: 0.9108 - val_loss: 0.2288 - val_accuracy: 0.9165\n",
      "Epoch 6/20\n",
      "48000/48000 [==============================] - 133s 3ms/sample - loss: 0.2254 - accuracy: 0.9173 - val_loss: 0.2317 - val_accuracy: 0.9172\n",
      "Epoch 7/20\n",
      "48000/48000 [==============================] - 132s 3ms/sample - loss: 0.2057 - accuracy: 0.9245 - val_loss: 0.2285 - val_accuracy: 0.9202\n",
      "Epoch 8/20\n",
      "48000/48000 [==============================] - 132s 3ms/sample - loss: 0.1915 - accuracy: 0.9286 - val_loss: 0.2195 - val_accuracy: 0.9234\n",
      "Epoch 9/20\n",
      "48000/48000 [==============================] - 131s 3ms/sample - loss: 0.1764 - accuracy: 0.9344 - val_loss: 0.2386 - val_accuracy: 0.9200\n",
      "Epoch 10/20\n",
      "48000/48000 [==============================] - 145s 3ms/sample - loss: 0.1624 - accuracy: 0.9388 - val_loss: 0.2202 - val_accuracy: 0.9215\n"
     ]
    }
   ],
   "source": [
    "checkpoint_cb = keras.callbacks.ModelCheckpoint( 'best-cnn-model.h5' )\n",
    "early_stopping_cb = keras.callbacks.EarlyStopping( patience = 2,\n",
    "                                                   restore_best_weights = True )\n",
    "\n",
    "history = model.fit( X_train_scaled, y_train, epochs = 20,\n",
    "                     validation_data = ( X_test_scaled, y_test ),\n",
    "                     callbacks = [ checkpoint_cb, early_stopping_cb ] )"
   ]
  },
  {
   "cell_type": "markdown",
   "id": "11ff2de8-66c3-4020-9fe8-9a5d4c1ae790",
   "metadata": {},
   "source": [
    "* 학습 과정 시각화"
   ]
  },
  {
   "cell_type": "code",
   "execution_count": 17,
   "id": "f87f88ab-14cd-407b-b28f-f60cbd8a69c5",
   "metadata": {},
   "outputs": [
    {
     "data": {
      "image/png": "[encoded data removed]",
      "text/plain": [
       "<Figure size 432x288 with 1 Axes>"
      ]
     },
     "metadata": {
      "needs_background": "light"
     },
     "output_type": "display_data"
    }
   ],
   "source": [
    "plt.plot( history.history[ 'loss' ] )\n",
    "plt.plot( history.history[ 'val_loss' ] )\n",
    "plt.xlabel( 'epoch' )\n",
    "plt.ylabel( 'loss' )\n",
    "plt.legend( [ 'train', 'val' ] )\n",
    "plt.show()"
   ]
  },
  {
   "cell_type": "markdown",
   "id": "d34699b9-f98c-4908-b5cf-28034fb8746e",
   "metadata": {},
   "source": [
    "* 합성곱 신경망 생성 모델 평가"
   ]
  },
  {
   "cell_type": "code",
   "execution_count": 19,
   "id": "abf99c53-6010-44a7-9353-1d8ef384d4fb",
   "metadata": {},
   "outputs": [
    {
     "name": "stdout",
     "output_type": "stream",
     "text": [
      "12000/1 - 14s - loss: 0.3048 - accuracy: 0.9234\n"
     ]
    },
    {
     "data": {
      "text/plain": [
       "[0.21951183512806893, 0.9234167]"
      ]
     },
     "execution_count": 19,
     "metadata": {},
     "output_type": "execute_result"
    }
   ],
   "source": [
    "model.evaluate( X_test_scaled, y_test, verbose = 2 )"
   ]
  },
  {
   "cell_type": "markdown",
   "id": "fa6180b6-6195-4787-94be-8cb901879171",
   "metadata": {},
   "source": [
    "* 첫 번째 샘플 이미지에 대한 예측 결과 확인"
   ]
  },
  {
   "cell_type": "code",
   "execution_count": 20,
   "id": "ccd8edca-1634-4483-987c-dbc8be91710a",
   "metadata": {},
   "outputs": [
    {
     "data": {
      "image/png": "[encoded data removed]",
      "text/plain": [
       "<Figure size 432x288 with 1 Axes>"
      ]
     },
     "metadata": {
      "needs_background": "light"
     },
     "output_type": "display_data"
    }
   ],
   "source": [
    "plt.imshow( X_test_scaled[ 0 ].reshape( 28, 28 ), cmap = 'gray_r' )\n",
    "plt.show()"
   ]
  },
  {
   "cell_type": "code",
   "execution_count": 21,
   "id": "3598cfd6-038f-414c-99bc-15ad45e418e3",
   "metadata": {},
   "outputs": [
    {
     "data": {
      "text/plain": [
       "array([[9.7861402e-17, 1.0450675e-27, 4.0678545e-20, 2.5224818e-20,\n",
       "        2.1322471e-19, 1.3579353e-16, 2.2384503e-16, 1.6151144e-21,\n",
       "        1.0000000e+00, 5.2196975e-21]], dtype=float32)"
      ]
     },
     "execution_count": 21,
     "metadata": {},
     "output_type": "execute_result"
    }
   ],
   "source": [
    "predict = model.predict( X_test_scaled[ 0:1 ] )\n",
    "predict"
   ]
  },
  {
   "cell_type": "code",
   "execution_count": 22,
   "id": "8454d52e-9871-4dd8-95f1-73e045ccbe69",
   "metadata": {},
   "outputs": [
    {
     "data": {
      "image/png": "[encoded data removed]",
      "text/plain": [
       "<Figure size 432x288 with 1 Axes>"
      ]
     },
     "metadata": {
      "needs_background": "light"
     },
     "output_type": "display_data"
    }
   ],
   "source": [
    "plt.bar( range( 1, 11 ), predict[ 0 ] )\n",
    "plt.xlabel( 'class' )\n",
    "plt.ylabel( 'predict' )\n",
    "plt.show()"
   ]
  },
  {
   "cell_type": "code",
   "execution_count": 23,
   "id": "e801d9ac-6e10-4f9a-9cf2-b790b6ce74d9",
   "metadata": {},
   "outputs": [
    {
     "name": "stdout",
     "output_type": "stream",
     "text": [
      "가방\n"
     ]
    }
   ],
   "source": [
    "classes = [ '티셔츠', '바지', '스웨터', '드레스', '코트', '샌달', \n",
    "            '셔츠', '스니커즈', '가방', '앵글부츠' ]\n",
    "print( classes[ np.argmax( predict ) ] )"
   ]
  },
  {
   "cell_type": "markdown",
   "id": "3baf9509-644e-47ab-a49f-a1f8dc0c2427",
   "metadata": {},
   "source": [
    "* 테스트 데이터에 대한 평가"
   ]
  },
  {
   "cell_type": "code",
   "execution_count": 24,
   "id": "14776dca-e28c-4bce-8a3a-bece691ec2dd",
   "metadata": {},
   "outputs": [],
   "source": [
    "X_test_reshape = X_test.reshape( -1, 28, 28, 1 ) / 255.0"
   ]
  },
  {
   "cell_type": "code",
   "execution_count": 27,
   "id": "bf1d644c-3511-4e90-9e7b-9dd12812adb2",
   "metadata": {},
   "outputs": [
    {
     "name": "stdout",
     "output_type": "stream",
     "text": [
      "10000/1 - 12s - loss: 0.1886 - accuracy: 0.9163\n"
     ]
    },
    {
     "data": {
      "text/plain": [
       "[0.23794933788478376, 0.9163]"
      ]
     },
     "execution_count": 27,
     "metadata": {},
     "output_type": "execute_result"
    }
   ],
   "source": [
    "model.evaluate( X_test_reshape, y_test_org, verbose = 2 )"
   ]
  },
  {
   "cell_type": "code",
   "execution_count": null,
   "id": "5693eda4-a2a5-4ec7-a563-20d4d954315a",
   "metadata": {},
   "outputs": [],
   "source": []
  }
 ],
 "metadata": {
  "kernelspec": {
   "display_name": "Python 3 (ipykernel)",
   "language": "python",
   "name": "python3"
  },
  "language_info": {
   "codemirror_mode": {
    "name": "ipython",
    "version": 3
   },
   "file_extension": ".py",
   "mimetype": "text/x-python",
   "name": "python",
   "nbconvert_exporter": "python",
   "pygments_lexer": "ipython3",
   "version": "3.7.5"
  }
 },
 "nbformat": 4,
 "nbformat_minor": 5
}
