{
 "cells": [
  {
   "cell_type": "markdown",
   "id": "1f94b3be-9283-4090-8e83-029f5497a3f5",
   "metadata": {},
   "source": [
    "# class 실습\n",
    "\n",
    "## stack class 구현 실습"
   ]
  },
  {
   "cell_type": "code",
   "execution_count": 66,
   "id": "d3e001bd-fa2b-4c15-acb8-2fef2c062752",
   "metadata": {},
   "outputs": [],
   "source": [
    "from my_lib import Stack"
   ]
  },
  {
   "cell_type": "code",
   "execution_count": 67,
   "id": "1cd57e4e-8b4c-4603-8d10-1b920e9afb66",
   "metadata": {},
   "outputs": [],
   "source": [
    "stack = Stack( 5 )"
   ]
  },
  {
   "cell_type": "code",
   "execution_count": 68,
   "id": "5fe77a46-9b11-4c56-b780-dfe6a0575121",
   "metadata": {},
   "outputs": [
    {
     "data": {
      "text/plain": [
       "True"
      ]
     },
     "execution_count": 68,
     "metadata": {},
     "output_type": "execute_result"
    }
   ],
   "source": [
    "stack.stack_push( 10 )\n",
    "stack.stack_push( 20 )"
   ]
  },
  {
   "cell_type": "code",
   "execution_count": 69,
   "id": "729a7296-f926-42a9-9577-0a87330de0ba",
   "metadata": {},
   "outputs": [
    {
     "name": "stdout",
     "output_type": "stream",
     "text": [
      "top : 1\n",
      "length : 2\n",
      " 10 20\n"
     ]
    }
   ],
   "source": [
    "print( f'top : {stack.get_top()}' )\n",
    "print( f'length : {stack.get_length()}' )\n",
    "print( stack )"
   ]
  },
  {
   "cell_type": "code",
   "execution_count": 70,
   "id": "1ce92bbb-321e-4240-b0f3-a907e2086e6c",
   "metadata": {},
   "outputs": [
    {
     "name": "stdout",
     "output_type": "stream",
     "text": [
      "top : 2\n",
      "length : 3\n",
      " 10 20 30\n"
     ]
    }
   ],
   "source": [
    "stack.stack_push( 30 )\n",
    "print( f'top : {stack.get_top()}' )\n",
    "print( f'length : {stack.get_length()}' )\n",
    "print( stack )"
   ]
  },
  {
   "cell_type": "code",
   "execution_count": 71,
   "id": "e79f49c1-cc13-4454-91d1-14d873bf96e8",
   "metadata": {},
   "outputs": [
    {
     "name": "stdout",
     "output_type": "stream",
     "text": [
      "top : 4\n",
      "length : 5\n",
      " 10 20 30 40 50\n"
     ]
    }
   ],
   "source": [
    "stack.stack_push( 40 )\n",
    "stack.stack_push( 50 )\n",
    "print( f'top : {stack.get_top()}' )\n",
    "print( f'length : {stack.get_length()}' )\n",
    "print( stack )"
   ]
  },
  {
   "cell_type": "code",
   "execution_count": 72,
   "id": "beb8a303-9f09-48ce-b4c1-bf36eb41d033",
   "metadata": {},
   "outputs": [
    {
     "name": "stdout",
     "output_type": "stream",
     "text": [
      "top : 4\n",
      "length : 5\n",
      " 10 20 30 40 50\n"
     ]
    }
   ],
   "source": [
    "stack.stack_push( 60 )\n",
    "print( f'top : {stack.get_top()}' )\n",
    "print( f'length : {stack.get_length()}' )\n",
    "print( stack )"
   ]
  },
  {
   "cell_type": "code",
   "execution_count": 73,
   "id": "f98682f2-3f04-42ac-8ec9-1596dcef943a",
   "metadata": {},
   "outputs": [
    {
     "name": "stdout",
     "output_type": "stream",
     "text": [
      "50\n",
      "top : 3\n",
      "length : 4\n",
      " 10 20 30 40\n"
     ]
    }
   ],
   "source": [
    "print( stack.stack_pop() )\n",
    "print( f'top : {stack.get_top()}' )\n",
    "print( f'length : {stack.get_length()}' )\n",
    "print( stack )"
   ]
  },
  {
   "cell_type": "code",
   "execution_count": 74,
   "id": "c98b203a-870b-474a-b21c-a3f67dbe0b80",
   "metadata": {},
   "outputs": [
    {
     "name": "stdout",
     "output_type": "stream",
     "text": [
      "40\n",
      "30\n",
      "20\n",
      "10\n",
      "top : -1\n",
      "length : 0\n",
      "\n"
     ]
    }
   ],
   "source": [
    "print( stack.stack_pop() )\n",
    "print( stack.stack_pop() )\n",
    "print( stack.stack_pop() )\n",
    "print( stack.stack_pop() )\n",
    "print( f'top : {stack.get_top()}' )\n",
    "print( f'length : {stack.get_length()}' )\n",
    "print( stack )"
   ]
  },
  {
   "cell_type": "code",
   "execution_count": 75,
   "id": "0ca5a51d-74a5-460a-ac6d-d33d13ff8d20",
   "metadata": {},
   "outputs": [
    {
     "name": "stdout",
     "output_type": "stream",
     "text": [
      "None\n",
      "top : -1\n",
      "length : 0\n",
      "\n"
     ]
    }
   ],
   "source": [
    "print( stack.stack_pop() )\n",
    "print( f'top : {stack.get_top()}' )\n",
    "print( f'length : {stack.get_length()}' )\n",
    "print( stack )"
   ]
  },
  {
   "cell_type": "markdown",
   "id": "ad085856-6f7c-4726-aa4a-cdfb6027ab14",
   "metadata": {},
   "source": [
    "## 성적 처리 프로그램"
   ]
  },
  {
   "cell_type": "markdown",
   "id": "a0a87e52-c678-4a1c-9466-b576a8038a15",
   "metadata": {},
   "source": [
    "### 학생 클래스( Entity, Model )"
   ]
  },
  {
   "cell_type": "code",
   "execution_count": 87,
   "id": "8ef37cb4-1ea2-4aca-ab28-1732136187d3",
   "metadata": {},
   "outputs": [],
   "source": [
    "class Student:\n",
    "    MAX_SCORE = 3 # 과목수, 클래스 변수\n",
    "    \n",
    "    def __init__( self, no, name, score1, score2, score3 ):\n",
    "        self.__no = no # 학번\n",
    "        self.__name = name # 이름\n",
    "        self.__score1 = score1 # 과목1 점수\n",
    "        self.__score2 = score2 # 과목2 점수\n",
    "        self.__score3 = score3 # 과목3 점수\n",
    "        self.__calculate_score()\n",
    "        \n",
    "    def get_no( self ):\n",
    "        return self.__no\n",
    "    \n",
    "    def __calculate_score( self ):\n",
    "        self.__total = self.__score1 + self.__score2 + self.__score3 # 총점\n",
    "        self.__average = self.__total / Student.MAX_SCORE # 평균\n",
    "        if self.__average >= 90:\n",
    "            self.__grade = 'A' # 평점\n",
    "        elif self.__average >= 80:\n",
    "            self.__grade = 'B'\n",
    "        elif self.__average >= 70:\n",
    "            self.__grade = 'C'\n",
    "        elif self.__average >= 60:\n",
    "            self.__grade = 'D'\n",
    "        else:\n",
    "            self.__grade = 'F'\n",
    "    \n",
    "    def __eq__( self, dest ): # == 연산자 재정의\n",
    "        return self.__name == dest.__name\n",
    "    \n",
    "    def __str__( self ):\n",
    "        return self.__repr__()\n",
    "    \n",
    "    def __repr__( self ):\n",
    "        string = ''\n",
    "        string += f'{self.__no:<5}{self.__name:<15}'\n",
    "        string += f'{self.__score1:4}{self.__score2:4}{self.__score3:4}'\n",
    "        string += f'{self.__total:5}{self.__average:7.2f}{self.__grade:>2}'\n",
    "        return string"
   ]
  },
  {
   "cell_type": "markdown",
   "id": "115bcb2b-ec08-4429-a4b4-ae4b46994e7a",
   "metadata": {},
   "source": [
    "### 성적 일람표 클래스( control, controller )"
   ]
  },
  {
   "cell_type": "code",
   "execution_count": 114,
   "id": "d654b128-408a-4410-b704-3ca1ab35c7f9",
   "metadata": {},
   "outputs": [],
   "source": [
    "from my_lib import Stack\n",
    "\n",
    "class ScoreTable:\n",
    "    def __init__( self, max_student ):\n",
    "        self.__max_student = max_student # 최대 학생수\n",
    "        self.__score_table = [] # Student 클래스와 연결 관계\n",
    "        self.__count = 0 # 현재 학생수\n",
    "    \n",
    "    def get_max_student( self ):\n",
    "        return self.__max_student \n",
    "    \n",
    "    def get_count( self ):\n",
    "        return self.__count\n",
    "    \n",
    "    def get_student( self, index ):\n",
    "        return self.__score_table[ index ]\n",
    "    \n",
    "    def append_student( self, student ):\n",
    "        self.__score_table.append( student )\n",
    "        self.__count += 1 \n",
    "        \n",
    "    def search_student( self, student ): # 학생 이름으로 검색\n",
    "        result = Stack( self.__max_student )\n",
    "        \n",
    "        start = -1\n",
    "        for _ in range( self.__count ):\n",
    "            try:\n",
    "                start = self.__score_table.index( student, start + 1 )\n",
    "                result.stack_push( start ) # 동명이인에 대한 위치값을 stack에 저장\n",
    "            except ValueError:\n",
    "                pass\n",
    "        \n",
    "        return result\n",
    "    \n",
    "    def print_score_table( self ):\n",
    "        print( '\\n학번\\t이름\\t과목1\\t과목2\\t과목3\\t총점\\t평균\\t평점' )\n",
    "        for student in self.__score_table:\n",
    "            print( student )\n",
    "        print( f'총 학생수 : {self.__count}명' )\n",
    "        \n",
    "    def check_same_no( self, no ):\n",
    "        result = False\n",
    "        for student in self.__score_table:\n",
    "            if student.get_no() == no:\n",
    "                result = True\n",
    "                break\n",
    "        \n",
    "        return result"
   ]
  },
  {
   "cell_type": "markdown",
   "id": "98a9b5fd-9b3b-4ae8-938c-3a9b539d92f1",
   "metadata": {},
   "source": [
    "### 성적 일람표 View 클래스( Boundary, View )"
   ]
  },
  {
   "cell_type": "code",
   "execution_count": 116,
   "id": "b64a1f69-677d-4e79-a8f3-f36cd7603f9f",
   "metadata": {},
   "outputs": [],
   "source": [
    "class ScoreTableView:\n",
    "    def __init__( self ):\n",
    "        self.__score_table = ScoreTable( 50 )\n",
    "        \n",
    "    def menu( self ):\n",
    "        menu_string = '''\n",
    "1. 학생 성적 입력\n",
    "2. 학생 성적 검색( 이름 )\n",
    "3. 성적 일람표 출력\n",
    "0. 종료\n",
    "\n",
    "select... '''\n",
    "        while True:\n",
    "            print( menu_string, end = '' )\n",
    "            select = input()\n",
    "            if select == '1':\n",
    "                self.input_score()\n",
    "            elif select == '2':\n",
    "                self.search_score()\n",
    "            elif select == '3':\n",
    "                self.print_score_table()\n",
    "            elif select == '0':\n",
    "                break\n",
    "                \n",
    "    def input_score( self ):\n",
    "        if self.__score_table.get_count() < self.__score_table.get_max_student():\n",
    "            no = input( '학번 입력( 종료 : \"end\" ) : ' )\n",
    "            while no.lower() != 'end':\n",
    "                if not self.__score_table.check_same_no( no ): # 학번 중복 확인\n",
    "                    name = input( '이름 입력 : ' )\n",
    "                    scores = []\n",
    "                    for i in range( Student.MAX_SCORE ): # 과목 성적 입력\n",
    "                        score = int( float( input( f'과목{i + 1} 점수 입력 : ' ) ) )\n",
    "                        while 0 > score or score > 100: # 점수 error 확인\n",
    "                            print( 'Error : 점수는 0 ~ 100점 사이만 가능...' )\n",
    "                            score = int( float( input( f'과목{i + 1} 점수 입력 : ' ) ) )\n",
    "                        scores.append( score )\n",
    "\n",
    "                    student = Student( no, name, \n",
    "                                       scores[ 0 ], scores[ 1 ], scores[ 2 ] )\n",
    "                    self.__score_table.append_student( student )\n",
    "                else:\n",
    "                    print( 'Error : 학번이 중복 됩니다...' )\n",
    "\n",
    "                no = input( '\\n학번 입력( 종료 : \"end\" ) : ' )\n",
    "        else:\n",
    "            print( f'Error : {self.__score_table.get_max_student()}명이 모두 입력...')\n",
    "                \n",
    "    def search_score( self ):\n",
    "        name = input( '검색할 학생 이름 입력( 종료 : \"end\" ) : ' )\n",
    "        while name != 'end':\n",
    "            student = Student( '', name, 0, 0, 0 )\n",
    "            result = self.__score_table.search_student( student )\n",
    "            if result.get_length() > 0:\n",
    "                print()\n",
    "                for _ in range( result.get_length() ):\n",
    "                    index = result.stack_pop()\n",
    "                    print( self.__score_table.get_student( index ) )\n",
    "                print()\n",
    "            else:\n",
    "                print( f'Error : {name}학생의 성적 정보가 존재하지 않습니다.\\n' )\n",
    "            name = input( '\\n검색할 학생 이름 입력( 종료 : \"end\" ) : ' )\n",
    "        \n",
    "    def print_score_table( self ):\n",
    "        self.__score_table.print_score_table()"
   ]
  },
  {
   "cell_type": "code",
   "execution_count": 117,
   "id": "61715bf4-d87a-4280-8ecb-66bc53afe341",
   "metadata": {},
   "outputs": [
    {
     "name": "stdout",
     "output_type": "stream",
     "text": [
      "\n",
      "1. 학생 성적 입력\n",
      "2. 학생 성적 검색( 이름 )\n",
      "3. 성적 일람표 출력\n",
      "0. 종료\n",
      "\n",
      "select... "
     ]
    },
    {
     "name": "stdin",
     "output_type": "stream",
     "text": [
      " 1\n",
      "학번 입력( 종료 : \"end\" ) :  2101\n",
      "이름 입력 :  hong\n",
      "과목1 점수 입력 :  50\n",
      "과목2 점수 입력 :  50\n",
      "과목3 점수 입력 :  50\n",
      "\n",
      "학번 입력( 종료 : \"end\" ) :  2001\n",
      "이름 입력 :  kim\n",
      "과목1 점수 입력 :  90\n",
      "과목2 점수 입력 :  90\n",
      "과목3 점수 입력 :  90\n",
      "\n",
      "학번 입력( 종료 : \"end\" ) :  2103\n",
      "이름 입력 :  lee\n",
      "과목1 점수 입력 :  70\n",
      "과목2 점수 입력 :  70\n",
      "과목3 점수 입력 :  70\n",
      "\n",
      "학번 입력( 종료 : \"end\" ) :  2105\n",
      "이름 입력 :  hong\n",
      "과목1 점수 입력 :  75\n",
      "과목2 점수 입력 :  85\n",
      "과목3 점수 입력 :  95\n",
      "\n",
      "학번 입력( 종료 : \"end\" ) :  end\n"
     ]
    },
    {
     "name": "stdout",
     "output_type": "stream",
     "text": [
      "\n",
      "1. 학생 성적 입력\n",
      "2. 학생 성적 검색( 이름 )\n",
      "3. 성적 일람표 출력\n",
      "0. 종료\n",
      "\n",
      "select... "
     ]
    },
    {
     "name": "stdin",
     "output_type": "stream",
     "text": [
      " 3\n"
     ]
    },
    {
     "name": "stdout",
     "output_type": "stream",
     "text": [
      "\n",
      "학번\t이름\t과목1\t과목2\t과목3\t총점\t평균\t평점\n",
      "2101 hong             50  50  50  150  50.00 F\n",
      "2001 kim              90  90  90  270  90.00 A\n",
      "2103 lee              70  70  70  210  70.00 C\n",
      "2105 hong             75  85  95  255  85.00 B\n",
      "총 학생수 : 4명\n",
      "\n",
      "1. 학생 성적 입력\n",
      "2. 학생 성적 검색( 이름 )\n",
      "3. 성적 일람표 출력\n",
      "0. 종료\n",
      "\n",
      "select... "
     ]
    },
    {
     "name": "stdin",
     "output_type": "stream",
     "text": [
      " 2\n",
      "검색할 학생 이름 입력( 종료 : \"end\" ) :  hong\n"
     ]
    },
    {
     "name": "stdout",
     "output_type": "stream",
     "text": [
      "\n",
      "2105 hong             75  85  95  255  85.00 B\n",
      "2101 hong             50  50  50  150  50.00 F\n",
      "\n"
     ]
    },
    {
     "name": "stdin",
     "output_type": "stream",
     "text": [
      "\n",
      "검색할 학생 이름 입력( 종료 : \"end\" ) :  kim\n"
     ]
    },
    {
     "name": "stdout",
     "output_type": "stream",
     "text": [
      "\n",
      "2001 kim              90  90  90  270  90.00 A\n",
      "\n"
     ]
    },
    {
     "name": "stdin",
     "output_type": "stream",
     "text": [
      "\n",
      "검색할 학생 이름 입력( 종료 : \"end\" ) :  lee\n"
     ]
    },
    {
     "name": "stdout",
     "output_type": "stream",
     "text": [
      "\n",
      "2103 lee              70  70  70  210  70.00 C\n",
      "\n"
     ]
    },
    {
     "name": "stdin",
     "output_type": "stream",
     "text": [
      "\n",
      "검색할 학생 이름 입력( 종료 : \"end\" ) :  park\n"
     ]
    },
    {
     "name": "stdout",
     "output_type": "stream",
     "text": [
      "Error : park학생의 성적 정보가 존재하지 않습니다.\n",
      "\n"
     ]
    },
    {
     "name": "stdin",
     "output_type": "stream",
     "text": [
      "\n",
      "검색할 학생 이름 입력( 종료 : \"end\" ) :  end\n"
     ]
    },
    {
     "name": "stdout",
     "output_type": "stream",
     "text": [
      "\n",
      "1. 학생 성적 입력\n",
      "2. 학생 성적 검색( 이름 )\n",
      "3. 성적 일람표 출력\n",
      "0. 종료\n",
      "\n",
      "select... "
     ]
    },
    {
     "name": "stdin",
     "output_type": "stream",
     "text": [
      " 0\n"
     ]
    }
   ],
   "source": [
    "scoretable_view = ScoreTableView()\n",
    "scoretable_view.menu()"
   ]
  },
  {
   "cell_type": "markdown",
   "id": "b9ad2ffb-2dc6-4b98-b802-87945b6bcda0",
   "metadata": {},
   "source": [
    "## president_heights.csv 데이터셋 객체지향 프로그래밍 방식 EDA"
   ]
  },
  {
   "cell_type": "code",
   "execution_count": 58,
   "id": "9684d375-3b22-4edc-a32a-fbd9291ec13d",
   "metadata": {},
   "outputs": [],
   "source": [
    "class President_Info:\n",
    "    def __init__( self, order, name, height ):\n",
    "        self.__order = order\n",
    "        self.__name = name\n",
    "        self.__height = height\n",
    "        \n",
    "    def get_order( self ):\n",
    "        return self.__order\n",
    "    \n",
    "    def get_name( self ):\n",
    "        return self.__name \n",
    "    \n",
    "    def get_height( self ):\n",
    "        return self.__height\n",
    "    \n",
    "    def __eq__( self, dest ):\n",
    "        return self.__height == dest.height\n",
    "    \n",
    "    def __str__( self ):\n",
    "        return self.__repr__()\n",
    "    \n",
    "    def __repr__( self ):\n",
    "        return f'{self.__order:>2}\\t{self.__name:<25}{self.__height}cm'"
   ]
  },
  {
   "cell_type": "code",
   "execution_count": 170,
   "id": "5b867226-2e50-4b04-9077-809eea9d79bf",
   "metadata": {},
   "outputs": [],
   "source": [
    "import operator\n",
    "import my_lib\n",
    "\n",
    "class My_DataFrame:\n",
    "    def __init__( self, dataset ):\n",
    "        self.__dataset = dataset\n",
    "        self.__president_info_list = []\n",
    "        self.__count = 0\n",
    "        self.__read_data()\n",
    "    \n",
    "    def __read_data( self ):\n",
    "        with open( self.__dataset, 'r' ) as f:\n",
    "            f.readline()\n",
    "            record = f.readline()\n",
    "            while record:\n",
    "                record = record.split( ',' )\n",
    "\n",
    "                president_info = President_Info( record[ 0 ], \n",
    "                                                 record[ 1 ],\n",
    "                                                 int( record[ 2 ][ :3 ] ) )\n",
    "                self.__president_info_list.append( president_info )\n",
    "                self.__count += 1 \n",
    "\n",
    "                record = f.readline()\n",
    "\n",
    "    def __create_height_list( self ):\n",
    "        heights = []\n",
    "        for v in self.__president_info_list:\n",
    "            heights.append( v.get_height() )\n",
    "        \n",
    "        return heights\n",
    "\n",
    "    def __print_height_info( self, title, height, height_count, president_info_indexs ):\n",
    "        print( f'{title:5} : {height}cm ( {height_count}명 )' )\n",
    "        for i in president_info_indexs:\n",
    "            print( f'\\t[ {self.__president_info_list[ i ].get_order():>2} ]', end = \"\" )\n",
    "            print( f' {self.__president_info_list[ i ].get_name()}' )\n",
    "        \n",
    "    def head( self, length = 5 ):\n",
    "        print( 'order\\tname\\t\\t\\theight(cm)' )\n",
    "        for i in range( length ):\n",
    "            print( self.__president_info_list[ i ] )\n",
    "        print( f'\\ntotal : {self.__count}명' )\n",
    "        \n",
    "    def tail( self, length = 5 ):\n",
    "        print( 'order\\tname\\t\\t\\theight(cm)' )\n",
    "        start = len( self.__president_info_list ) - length \n",
    "        stop = len( self.__president_info_list )\n",
    "        for i in range( start, stop ):\n",
    "            print( self.__president_info_list[ i ] )\n",
    "        print( f'\\ntotal : {self.__count}명' )\n",
    "        \n",
    "    def describe( self, decimal_places = 6 ):\n",
    "        heights = self.__create_height_list()\n",
    "        \n",
    "        max_height = max( heights )\n",
    "        min_height = min( heights )\n",
    "        average, dispersion, standard_deviation = my_lib.average_standard_deviation( heights )\n",
    "        height_25, height_50, height_75 = my_lib.calculate_quartile( heights )\n",
    "        \n",
    "        print( f'count : {self.__count}' )\n",
    "        print( f'mean  : {round( average, decimal_places )}' )\n",
    "        print( f'std   : {round( standard_deviation, decimal_places )}' )\n",
    "        print( f'min   : {round( min_height, decimal_places )}' )\n",
    "        print( f'25%   : {round( height_25, decimal_places )}' )\n",
    "        print( f'50%   : {round( height_50, decimal_places )}' )\n",
    "        print( f'75%   : {round( height_75, decimal_places )}' )\n",
    "        print( f'max   : {round( max_height, decimal_places )}' )\n",
    "    \n",
    "    def max_president_info( self ):\n",
    "        heights = self.__create_height_list()\n",
    "        \n",
    "        max_height = max( heights )\n",
    "        max_height_count = heights.count( max_height )\n",
    "        max_height_indexs = []\n",
    "\n",
    "        start = -1\n",
    "        for _ in range( max_height_count ):\n",
    "            start = heights.index( max_height, start + 1 )\n",
    "            max_height_indexs.append( start )\n",
    "        \n",
    "        self.__print_height_info( '최고 신장', max_height, max_height_count,\n",
    "                   max_height_indexs )\n",
    "        \n",
    "    def min_president_info( self ):\n",
    "        heights = self.__create_height_list()\n",
    "        \n",
    "        min_height = min( heights )\n",
    "        min_height_count = heights.count( min_height )\n",
    "        min_height_indexs = []\n",
    "\n",
    "        start = -1\n",
    "        for _ in range( min_height_count ):\n",
    "            start = heights.index( min_height, start + 1 )\n",
    "            min_height_indexs.append( start )\n",
    "\n",
    "        self.__print_height_info( '최저 신장', min_height, min_height_count,\n",
    "                   min_height_indexs )\n",
    "        \n",
    "    def height_value_count( self ):\n",
    "        heights = self.__create_height_list()\n",
    "        \n",
    "        height_value_count_list = my_lib.my_unique( heights )\n",
    "        height_value_count_dict = {}\n",
    "        for v in height_value_count_list:\n",
    "            height_value_count_dict[ v ] = heights.count( v )\n",
    "                  \n",
    "        sort_height_value_count_dict = sorted( height_value_count_dict.items(),\n",
    "                                               key = operator.itemgetter( 1 ),\n",
    "                                               reverse = True )\n",
    "        \n",
    "        print( '신장별 인원수'.center( 18 ), end = '' )\n",
    "        print( '\\n\\n신장\\t인원수( 비율 )' )\n",
    "        for key, value in sort_height_value_count_dict:\n",
    "            print( f'{key}\\t{value:2} ( {round( value / self.__count * 100, 2 ):5.2f}% )' )"
   ]
  },
  {
   "cell_type": "code",
   "execution_count": 171,
   "id": "bccffb6a-4450-4738-9805-3068968bc656",
   "metadata": {},
   "outputs": [
    {
     "name": "stdout",
     "output_type": "stream",
     "text": [
      "order\tname\t\t\theight(cm)\n",
      " 1\tGeorge Washington        189cm\n",
      " 2\tJohn Adams               170cm\n",
      " 3\tThomas Jefferson         189cm\n",
      " 4\tJames Madison            163cm\n",
      " 5\tJames Monroe             183cm\n",
      "\n",
      "total : 42명\n"
     ]
    }
   ],
   "source": [
    "df = My_DataFrame( 'president_heights.csv' )\n",
    "df.head()"
   ]
  },
  {
   "cell_type": "code",
   "execution_count": 172,
   "id": "1d2ac043-741c-499e-abee-f8e26bfa43f6",
   "metadata": {},
   "outputs": [
    {
     "name": "stdout",
     "output_type": "stream",
     "text": [
      "order\tname\t\t\theight(cm)\n",
      "40\tRonald Reagan            185cm\n",
      "41\tGeorge H. W. Bush        188cm\n",
      "42\tBill Clinton             188cm\n",
      "43\tGeorge W. Bush           182cm\n",
      "44\tBarack Obama             185cm\n",
      "\n",
      "total : 42명\n"
     ]
    }
   ],
   "source": [
    "df.tail()"
   ]
  },
  {
   "cell_type": "code",
   "execution_count": 173,
   "id": "1be957ce-7dd2-4c94-968f-05354dbae2ff",
   "metadata": {},
   "outputs": [
    {
     "name": "stdout",
     "output_type": "stream",
     "text": [
      "count : 42\n",
      "mean  : 179.74\n",
      "std   : 6.93\n",
      "min   : 163\n",
      "25%   : 175\n",
      "50%   : 182\n",
      "75%   : 183\n",
      "max   : 193\n"
     ]
    }
   ],
   "source": [
    "df.describe( 2 )"
   ]
  },
  {
   "cell_type": "code",
   "execution_count": 174,
   "id": "b16c3885-31af-4591-95bc-4cf15799998b",
   "metadata": {},
   "outputs": [
    {
     "name": "stdout",
     "output_type": "stream",
     "text": [
      "최고 신장 : 193cm ( 2명 )\n",
      "\t[ 16 ] Abraham Lincoln\n",
      "\t[ 36 ] Lyndon B. Johnson\n",
      "\n",
      "최저 신장 : 163cm ( 1명 )\n",
      "\t[  4 ] James Madison\n"
     ]
    }
   ],
   "source": [
    "df.max_president_info()\n",
    "print()\n",
    "df.min_president_info()"
   ]
  },
  {
   "cell_type": "code",
   "execution_count": 175,
   "id": "86cf166b-0282-4c1f-b07b-af486c1bae89",
   "metadata": {},
   "outputs": [
    {
     "name": "stdout",
     "output_type": "stream",
     "text": [
      "     신장별 인원수      \n",
      "\n",
      "신장\t인원수( 비율 )\n",
      "183\t 8 ( 19.05% )\n",
      "173\t 4 (  9.52% )\n",
      "178\t 4 (  9.52% )\n",
      "182\t 4 (  9.52% )\n",
      "185\t 3 (  7.14% )\n",
      "188\t 3 (  7.14% )\n",
      "168\t 2 (  4.76% )\n",
      "170\t 2 (  4.76% )\n",
      "175\t 2 (  4.76% )\n",
      "189\t 2 (  4.76% )\n",
      "193\t 2 (  4.76% )\n",
      "163\t 1 (  2.38% )\n",
      "171\t 1 (  2.38% )\n",
      "174\t 1 (  2.38% )\n",
      "177\t 1 (  2.38% )\n",
      "179\t 1 (  2.38% )\n",
      "180\t 1 (  2.38% )\n"
     ]
    }
   ],
   "source": [
    "df.height_value_count()"
   ]
  },
  {
   "cell_type": "code",
   "execution_count": null,
   "id": "cadf57f2-65ed-49b4-9cb2-ecbcb42d7868",
   "metadata": {},
   "outputs": [],
   "source": []
  }
 ],
 "metadata": {
  "kernelspec": {
   "display_name": "Python 3",
   "language": "python",
   "name": "python3"
  },
  "language_info": {
   "codemirror_mode": {
    "name": "ipython",
    "version": 3
   },
   "file_extension": ".py",
   "mimetype": "text/x-python",
   "name": "python",
   "nbconvert_exporter": "python",
   "pygments_lexer": "ipython3",
   "version": "3.8.8"
  }
 },
 "nbformat": 4,
 "nbformat_minor": 5
}
