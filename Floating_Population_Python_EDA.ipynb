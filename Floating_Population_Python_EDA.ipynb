{
 "cells": [
  {
   "cell_type": "markdown",
   "id": "5de1e1b0-1b7a-4e8b-8238-29d69593faea",
   "metadata": {},
   "source": [
    "# Floating_Population_2004.csv 데이터셋 EDA\n",
    "\n",
    "* 일자\n",
    "* 시간( 1시간단위 )\n",
    "* 연령대( 10세단위 )\n",
    "* 성별\n",
    "* 시\n",
    "* 군구\n",
    "* 유동인구수"
   ]
  },
  {
   "cell_type": "markdown",
   "id": "9a610971-ffb2-4513-bc40-4a39c85cc108",
   "metadata": {},
   "source": [
    "## EDA 수행을 위한 함수"
   ]
  },
  {
   "cell_type": "code",
   "execution_count": 1,
   "id": "b263271a-c040-4d38-b13b-9a16b7a37080",
   "metadata": {},
   "outputs": [],
   "source": [
    "def create_dataframe( days, times, ages, genders, gus, populations ):\n",
    "    with open( 'Floating_Population_2004.csv', 'r' ) as f:\n",
    "        f.readline()\n",
    "        record = f.readline()\n",
    "        while record:\n",
    "            record = record.split( ',' )\n",
    "            \n",
    "            days.append( record[ 0 ][ 1: len( record[ 0 ] ) - 1 ] )\n",
    "            times.append( record[ 1 ][ 1: len( record[ 1 ] ) - 1 ] )\n",
    "            ages.append( record[ 2 ][ 1: len( record[ 2 ] ) - 1 ] )\n",
    "            genders.append( record[ 3 ][ 1: len( record[ 3 ] ) - 1 ] )\n",
    "            gus.append( record[ 5 ][ 1: len( record[ 5 ] ) - 1 ] )\n",
    "            \n",
    "            population = record[ 6 ].split( '\\n' )\n",
    "            population = population[ 0 ][ 1: len( population[ 0 ] ) - 1 ]\n",
    "            populations.append( int( population ) )\n",
    "            \n",
    "            record = f.readline()"
   ]
  },
  {
   "cell_type": "code",
   "execution_count": 2,
   "id": "67d9cff7-fdcf-4d10-b4ee-b43cc50ecf47",
   "metadata": {},
   "outputs": [],
   "source": [
    "def print_dataframe( direction, days, times, ages, genders, \n",
    "                     gus, populations, length = 5 ):\n",
    "    if not isinstance( direction, str ):\n",
    "        return\n",
    "    elif not direction in 'ht':\n",
    "        return\n",
    "    else:\n",
    "        if direction == 'h':\n",
    "            start = 0\n",
    "            stop = length\n",
    "        else:\n",
    "            start = len( days ) - length - 1\n",
    "            stop = len( days )\n",
    "        print( '일자\\t   시간( 1시간단위 )\\t연령대( 10세단위 )\\t성별\\t군구\\t\\t유동인구수' )\n",
    "        for i in range( start, stop ):\n",
    "            print( f'{days[ i ]}\\t{times[ i ]}\\t\\t{ages[ i ]}', end = '' )\n",
    "            print( f'\\t\\t{genders[ i ]}\\t{gus[ i ]:8}\\t{populations[ i ]:10}' )\n",
    "        print( f'\\ntotal : {len( days )}' )"
   ]
  },
  {
   "cell_type": "code",
   "execution_count": 3,
   "id": "1ff8cfde-37b2-4fba-9a5c-ee47593dbebc",
   "metadata": {},
   "outputs": [],
   "source": [
    "def max_min_population_info( population ):\n",
    "    max_population = max( population )\n",
    "    max_population_index = population.index( max_population )\n",
    "    \n",
    "    min_population = min( population )\n",
    "    min_population_index = population.index( min_population )\n",
    "    \n",
    "    return ( max_population_index, min_population_index )"
   ]
  },
  {
   "cell_type": "code",
   "execution_count": 4,
   "id": "df353e62-d8f8-49f1-a371-4577d0c8aee9",
   "metadata": {},
   "outputs": [],
   "source": [
    "def total_populations( target_unique, target, target_populations ):\n",
    "    result = {}\n",
    "    for value in target_unique:\n",
    "        result[ value ] = 0\n",
    "    \n",
    "    for i in range( len( target_populations ) ):\n",
    "        result[ target[ i ] ] += target_populations[ i ]\n",
    "        \n",
    "    return result"
   ]
  },
  {
   "cell_type": "markdown",
   "id": "1387f894-b61b-4387-909c-afc258b0a786",
   "metadata": {},
   "source": [
    "## 파이썬을 이용한 EDA"
   ]
  },
  {
   "cell_type": "code",
   "execution_count": 5,
   "id": "52406c5c-3ee8-4534-a413-aefd4d9697ee",
   "metadata": {},
   "outputs": [],
   "source": [
    "days = []\n",
    "times = []\n",
    "ages = []\n",
    "genders = []\n",
    "gus = []\n",
    "populations = []"
   ]
  },
  {
   "cell_type": "markdown",
   "id": "c1b742ae-4bc6-4e7c-9990-f03b0d47e13a",
   "metadata": {},
   "source": [
    "### 1. 데이터 읽기"
   ]
  },
  {
   "cell_type": "code",
   "execution_count": 6,
   "id": "0a3e839a-c67c-4e12-91b8-72dcd9893ff5",
   "metadata": {},
   "outputs": [],
   "source": [
    "create_dataframe( days, times, ages, genders, gus, populations )"
   ]
  },
  {
   "cell_type": "code",
   "execution_count": 7,
   "id": "fb5539a6-74a3-4c62-bb46-8bfeaa812b50",
   "metadata": {},
   "outputs": [
    {
     "name": "stdout",
     "output_type": "stream",
     "text": [
      "일자\t   시간( 1시간단위 )\t연령대( 10세단위 )\t성별\t군구\t\t유동인구수\n",
      "20200401\t00\t\t20\t\t남성\t도봉구     \t     21490\n",
      "20200401\t00\t\t30\t\t여성\t동대문구    \t     27260\n",
      "20200401\t00\t\t50\t\t남성\t구로구     \t     35670\n",
      "20200401\t01\t\t30\t\t여성\t강남구     \t     52380\n",
      "20200401\t01\t\t40\t\t남성\t동대문구    \t     28420\n",
      "\n",
      "total : 216000\n"
     ]
    }
   ],
   "source": [
    "print_dataframe( 'h', days, times, ages, genders, gus, populations )"
   ]
  },
  {
   "cell_type": "code",
   "execution_count": 8,
   "id": "00559bc5-5411-4d2f-808f-30577f88989d",
   "metadata": {},
   "outputs": [
    {
     "name": "stdout",
     "output_type": "stream",
     "text": [
      "일자\t   시간( 1시간단위 )\t연령대( 10세단위 )\t성별\t군구\t\t유동인구수\n",
      "20200430\t22\t\t40\t\t여성\t마포구     \t     29860\n",
      "20200430\t22\t\t40\t\t여성\t성동구     \t     22150\n",
      "20200430\t22\t\t50\t\t여성\t서대문구    \t     23270\n",
      "20200430\t23\t\t20\t\t여성\t용산구     \t     18570\n",
      "20200430\t23\t\t30\t\t여성\t서대문구    \t     21100\n",
      "20200430\t23\t\t40\t\t남성\t강남구     \t     45730\n",
      "\n",
      "total : 216000\n"
     ]
    }
   ],
   "source": [
    "print_dataframe( 't', days, times, ages, genders, gus, populations )"
   ]
  },
  {
   "cell_type": "markdown",
   "id": "3a59b182-89ef-42ba-84ed-536d479f99a5",
   "metadata": {},
   "source": [
    "### 2. EDA\n",
    "\n",
    "#### 2.1 일자, 시간, 연령대, 성별, 군구 고유값 목록 생성"
   ]
  },
  {
   "cell_type": "code",
   "execution_count": 9,
   "id": "e385812f-9ec9-4309-a96a-5ff20bbe433a",
   "metadata": {},
   "outputs": [],
   "source": [
    "import my_lib"
   ]
  },
  {
   "cell_type": "code",
   "execution_count": 10,
   "id": "578cd188-6945-48ec-a77c-673e505999a4",
   "metadata": {},
   "outputs": [
    {
     "name": "stdout",
     "output_type": "stream",
     "text": [
      "데이터 수집 일 : \n",
      "['20200401', '20200402', '20200403', '20200404', '20200405', '20200406', '20200407', '20200408', '20200409', '20200410', '20200411', '20200412', '20200413', '20200414', '20200415', '20200416', '20200417', '20200418', '20200419', '20200420', '20200421', '20200422', '20200423', '20200424', '20200425', '20200426', '20200427', '20200428', '20200429', '20200430']\n",
      "\n",
      "데이터 수집 일수 : 30일\n"
     ]
    }
   ],
   "source": [
    "# 전체 날짜 목록 생성\n",
    "day_unique = my_lib.my_unique( days )\n",
    "\n",
    "print( f'데이터 수집 일 : \\n{day_unique}' )\n",
    "print( f'\\n데이터 수집 일수 : {len( day_unique )}일' )"
   ]
  },
  {
   "cell_type": "code",
   "execution_count": 11,
   "id": "f00bdbed-309c-41e4-ba76-4fd9ceb18017",
   "metadata": {},
   "outputs": [
    {
     "name": "stdout",
     "output_type": "stream",
     "text": [
      "데이터 수집 시간 : \n",
      "['00', '01', '02', '03', '04', '05', '06', '07', '08', '09', '10', '11', '12', '13', '14', '15', '16', '17', '18', '19', '20', '21', '22', '23']\n",
      "\n",
      "데이터 수집 시간 : 24시간\n"
     ]
    }
   ],
   "source": [
    "# 전체 시간 목록 생성\n",
    "time_unique = my_lib.my_unique( times )\n",
    "\n",
    "print( f'데이터 수집 시간 : \\n{time_unique}' )\n",
    "print( f'\\n데이터 수집 시간 : {len( time_unique )}시간' )"
   ]
  },
  {
   "cell_type": "code",
   "execution_count": 12,
   "id": "607e2b78-49e5-4adf-9263-2fec4b9dddab",
   "metadata": {},
   "outputs": [
    {
     "name": "stdout",
     "output_type": "stream",
     "text": [
      "데이터 수집 성별 : \n",
      "['남성', '여성']\n",
      "\n",
      "데이터 수집 성별수 : 2\n"
     ]
    }
   ],
   "source": [
    "# 전체 성별 목록 생성\n",
    "gender_unique = my_lib.my_unique( genders )\n",
    "\n",
    "print( f'데이터 수집 성별 : \\n{gender_unique}' )\n",
    "print( f'\\n데이터 수집 성별수 : {len( gender_unique )}' )"
   ]
  },
  {
   "cell_type": "code",
   "execution_count": 13,
   "id": "c9c8fed1-c3e8-4889-abea-4e2931c12929",
   "metadata": {},
   "outputs": [
    {
     "name": "stdout",
     "output_type": "stream",
     "text": [
      "데이터 수집 연령대 : \n",
      "['20', '30', '40', '50', '60', '70']\n",
      "\n",
      "데이터 수집 연령대수 : 6연령대\n"
     ]
    }
   ],
   "source": [
    "# 전체 연령대 목록 생성\n",
    "age_unique = my_lib.my_unique( ages )\n",
    "\n",
    "print( f'데이터 수집 연령대 : \\n{age_unique}' )\n",
    "print( f'\\n데이터 수집 연령대수 : {len( age_unique )}연령대' )"
   ]
  },
  {
   "cell_type": "code",
   "execution_count": 14,
   "id": "cc18fcf2-6cbc-4efe-91e2-49ab6867f521",
   "metadata": {},
   "outputs": [
    {
     "name": "stdout",
     "output_type": "stream",
     "text": [
      "데이터 수집 구 : \n",
      "['강남구', '강동구', '강북구', '강서구', '관악구', '광진구', '구로구', '금천구', '노원구', '도봉구', '동대문구', '동작구', '마포구', '서대문구', '서초구', '성동구', '성북구', '송파구', '양천구', '영등포구', '용산구', '은평구', '종로구', '중구', '중랑구']\n",
      "\n",
      "데이터 수집 구수 : 25개구\n"
     ]
    }
   ],
   "source": [
    "# 전체 구 목록 생성\n",
    "gu_unique = my_lib.my_unique( gus )\n",
    "\n",
    "print( f'데이터 수집 구 : \\n{gu_unique}' )\n",
    "print( f'\\n데이터 수집 구수 : {len( gu_unique )}개구' )"
   ]
  },
  {
   "cell_type": "markdown",
   "id": "5bd99f7f-1e0a-45d1-99ce-761854069ca8",
   "metadata": {},
   "source": [
    "#### 2.2 전체 데이터수"
   ]
  },
  {
   "cell_type": "code",
   "execution_count": 15,
   "id": "3d9f36df-0ab0-460c-9fd2-fb631750f1bd",
   "metadata": {},
   "outputs": [
    {
     "name": "stdout",
     "output_type": "stream",
     "text": [
      "총 데이터 수 : 216000건\n"
     ]
    }
   ],
   "source": [
    "print( f'총 데이터 수 : {len( days )}건' )"
   ]
  },
  {
   "cell_type": "markdown",
   "id": "e9062854-c6e5-4b97-a425-39e2713511ab",
   "metadata": {},
   "source": [
    "#### 2.3 유동 인구수 기초 통계"
   ]
  },
  {
   "cell_type": "code",
   "execution_count": 16,
   "id": "90d9353c-c4f9-4128-ad27-5bb8cdffad2f",
   "metadata": {},
   "outputs": [],
   "source": [
    "average, dispersion, standard_deviation = \\\n",
    "        my_lib.average_standard_deviation( populations )\n",
    "population_25, population_50, population_75 = \\\n",
    "        my_lib.calculate_quartile( populations )"
   ]
  },
  {
   "cell_type": "code",
   "execution_count": 17,
   "id": "de7d66a5-2082-4099-a3b9-6cfdccb9d192",
   "metadata": {},
   "outputs": [
    {
     "name": "stdout",
     "output_type": "stream",
     "text": [
      "총 유동 인구 수         :      5889837540명\n",
      "\n",
      "평균 유동 인구 수        :        27267.77명\n",
      "유동 인구에 대한 분산     :    155760322.70\n",
      "유동 인구에 대한 표준편차  :        12480.40\n",
      "\n",
      "최소 유동 인구 수        :         4380.00명\n",
      "유동 인구에 대한 1사분위수 :        18070.00명\n",
      "유동 인구에 대한 2사분위수 :        25470.00명\n",
      "유동 인구에 대한 3사분위수 :        34090.00명\n",
      "최고 유동 인구 수        :       120640.00명\n"
     ]
    }
   ],
   "source": [
    "print( f'총 유동 인구 수         : {sum( populations ):15}명\\n' )\n",
    "print( f'평균 유동 인구 수        : {round( average, 2 ):15.2f}명' )\n",
    "print( f'유동 인구에 대한 분산     : {dispersion:15.2f}' )\n",
    "print( f'유동 인구에 대한 표준편차  : {standard_deviation:15.2f}\\n' )\n",
    "print( f'최소 유동 인구 수        : {min( populations ):15.2f}명' )\n",
    "print( f'유동 인구에 대한 1사분위수 : {population_25:15.2f}명' )\n",
    "print( f'유동 인구에 대한 2사분위수 : {population_50:15.2f}명' )\n",
    "print( f'유동 인구에 대한 3사분위수 : {population_75:15.2f}명' )\n",
    "print( f'최고 유동 인구 수        : {max( populations ):15.2f}명' )"
   ]
  },
  {
   "cell_type": "markdown",
   "id": "a9e58110-f979-426e-bb31-65e23edbd8a4",
   "metadata": {},
   "source": [
    "#### 2.4 유동 인구수가 가장 적은날과 많은날"
   ]
  },
  {
   "cell_type": "code",
   "execution_count": 18,
   "id": "5701818c-2c99-48af-92fb-4dac262f53d5",
   "metadata": {},
   "outputs": [
    {
     "name": "stdout",
     "output_type": "stream",
     "text": [
      "유동 인구수가 가장 적은날 : 20200426-03시 70대 남성    중구       4380\n",
      "유동 인구수가 가장 많은날 : 20200428-14시 30대 여성   강남구     120640\n"
     ]
    }
   ],
   "source": [
    "max_index, min_index = max_min_population_info( populations )\n",
    "\n",
    "print( f'유동 인구수가 가장 적은날 : {days[ min_index ]}-{times[ min_index ]}시', end = '' )\n",
    "print( f' {ages[ min_index ]}대 {genders[ min_index]}', end = '' )\n",
    "print( f' {gus[ min_index ]:>5} {populations[ min_index ]:10}' )\n",
    "print( f'유동 인구수가 가장 많은날 : {days[ max_index ]}-{times[ max_index ]}시', end = '' )\n",
    "print( f' {ages[ max_index ]}대 {genders[ max_index ]}', end = '' )\n",
    "print( f' {gus[ max_index ]:>5} {populations[ max_index ]:10}' )"
   ]
  },
  {
   "cell_type": "markdown",
   "id": "12072ffd-4956-48b1-be25-059ab8a57b78",
   "metadata": {},
   "source": [
    "#### 2.5 날짜별, 시간별, 성별, 연령별, 구별 인구수"
   ]
  },
  {
   "cell_type": "code",
   "execution_count": 19,
   "id": "03d15b93-e331-4ae2-9015-3e90e1ad0fe3",
   "metadata": {},
   "outputs": [
    {
     "name": "stdout",
     "output_type": "stream",
     "text": [
      "[ 20200401 ]일 총 유동인구 :  200208500명\n",
      "[ 20200402 ]일 총 유동인구 :  199791200명\n",
      "[ 20200403 ]일 총 유동인구 :  199136720명\n",
      "[ 20200404 ]일 총 유동인구 :  191161060명\n",
      "[ 20200405 ]일 총 유동인구 :  189696320명\n",
      "[ 20200406 ]일 총 유동인구 :  199919630명\n",
      "[ 20200407 ]일 총 유동인구 :  199803760명\n",
      "[ 20200408 ]일 총 유동인구 :  199655110명\n",
      "[ 20200409 ]일 총 유동인구 :  199541470명\n",
      "[ 20200410 ]일 총 유동인구 :  199091080명\n",
      "[ 20200411 ]일 총 유동인구 :  191032010명\n",
      "[ 20200412 ]일 총 유동인구 :  189643560명\n",
      "[ 20200413 ]일 총 유동인구 :  199241850명\n",
      "[ 20200414 ]일 총 유동인구 :  199278710명\n",
      "[ 20200415 ]일 총 유동인구 :  192381520명\n",
      "[ 20200416 ]일 총 유동인구 :  199059920명\n",
      "[ 20200417 ]일 총 유동인구 :  199406670명\n",
      "[ 20200418 ]일 총 유동인구 :  190872120명\n",
      "[ 20200419 ]일 총 유동인구 :  189951850명\n",
      "[ 20200420 ]일 총 유동인구 :  199629090명\n",
      "[ 20200421 ]일 총 유동인구 :  199479870명\n",
      "[ 20200422 ]일 총 유동인구 :  199512800명\n",
      "[ 20200423 ]일 총 유동인구 :  199370110명\n",
      "[ 20200424 ]일 총 유동인구 :  199139940명\n",
      "[ 20200425 ]일 총 유동인구 :  191227460명\n",
      "[ 20200426 ]일 총 유동인구 :  189159070명\n",
      "[ 20200427 ]일 총 유동인구 :  199196700명\n",
      "[ 20200428 ]일 총 유동인구 :  199080570명\n",
      "[ 20200429 ]일 총 유동인구 :  198499910명\n",
      "[ 20200430 ]일 총 유동인구 :  186668960명\n"
     ]
    }
   ],
   "source": [
    "days_population = total_populations( day_unique, days, populations )\n",
    "for key, value in days_population.items():\n",
    "    print( f'[ {key} ]일 총 유동인구 : {value:10}명' )"
   ]
  },
  {
   "cell_type": "code",
   "execution_count": 20,
   "id": "6048f0f4-5c09-4b9e-b413-af263d6605e3",
   "metadata": {},
   "outputs": [
    {
     "name": "stdout",
     "output_type": "stream",
     "text": [
      "[ 00 ]시간대 총 유동인구 :  242193630명\n",
      "[ 01 ]시간대 총 유동인구 :  241777860명\n",
      "[ 02 ]시간대 총 유동인구 :  241293460명\n",
      "[ 03 ]시간대 총 유동인구 :  240629800명\n",
      "[ 04 ]시간대 총 유동인구 :  240087530명\n",
      "[ 05 ]시간대 총 유동인구 :  239669270명\n",
      "[ 06 ]시간대 총 유동인구 :  240212130명\n",
      "[ 07 ]시간대 총 유동인구 :  243316690명\n",
      "[ 08 ]시간대 총 유동인구 :  247004130명\n",
      "[ 09 ]시간대 총 유동인구 :  248900070명\n",
      "[ 10 ]시간대 총 유동인구 :  249127080명\n",
      "[ 11 ]시간대 총 유동인구 :  248619210명\n",
      "[ 12 ]시간대 총 유동인구 :  248505400명\n",
      "[ 13 ]시간대 총 유동인구 :  248750400명\n",
      "[ 14 ]시간대 총 유동인구 :  249091620명\n",
      "[ 15 ]시간대 총 유동인구 :  249459470명\n",
      "[ 16 ]시간대 총 유동인구 :  249842610명\n",
      "[ 17 ]시간대 총 유동인구 :  249994940명\n",
      "[ 18 ]시간대 총 유동인구 :  248587220명\n",
      "[ 19 ]시간대 총 유동인구 :  246613060명\n",
      "[ 20 ]시간대 총 유동인구 :  245624290명\n",
      "[ 21 ]시간대 총 유동인구 :  244744910명\n",
      "[ 22 ]시간대 총 유동인구 :  243447240명\n",
      "[ 23 ]시간대 총 유동인구 :  242345520명\n"
     ]
    }
   ],
   "source": [
    "times_population = total_populations( time_unique, times, populations )\n",
    "for key, value in times_population.items():\n",
    "    print( f'[ {key} ]시간대 총 유동인구 : {value:10}명' )"
   ]
  },
  {
   "cell_type": "code",
   "execution_count": 21,
   "id": "f715eb58-aafa-4b0e-ab86-e18c1a1306f1",
   "metadata": {},
   "outputs": [
    {
     "name": "stdout",
     "output_type": "stream",
     "text": [
      "[ 남성 ]시간대 총 유동인구 : 2851648900명\n",
      "[ 여성 ]시간대 총 유동인구 : 3038188640명\n"
     ]
    }
   ],
   "source": [
    "genders_population = total_populations( gender_unique, genders, populations )\n",
    "for key, value in genders_population.items():\n",
    "    print( f'[ {key} ]시간대 총 유동인구 : {value:10}명' )"
   ]
  },
  {
   "cell_type": "code",
   "execution_count": 22,
   "id": "f64c5a73-8389-42e9-9257-7667f6fb27a2",
   "metadata": {},
   "outputs": [
    {
     "name": "stdout",
     "output_type": "stream",
     "text": [
      "[ 20 ]연령대 총 유동인구 : 1089342970명\n",
      "[ 30 ]연령대 총 유동인구 : 1211368990명\n",
      "[ 40 ]연령대 총 유동인구 : 1204134560명\n",
      "[ 50 ]연령대 총 유동인구 : 1124325220명\n",
      "[ 60 ]연령대 총 유동인구 :  718660410명\n",
      "[ 70 ]연령대 총 유동인구 :  542005390명\n"
     ]
    }
   ],
   "source": [
    "ages_population = total_populations( age_unique, ages, populations )\n",
    "for key, value in ages_population.items():\n",
    "    print( f'[ {key} ]연령대 총 유동인구 : {value:10}명' )"
   ]
  },
  {
   "cell_type": "code",
   "execution_count": 23,
   "id": "e170acad-3d84-4b8a-b8f9-c935557f827a",
   "metadata": {},
   "outputs": [
    {
     "name": "stdout",
     "output_type": "stream",
     "text": [
      "[ 강남구   ]구별 총 유동인구 :  415479300명\n",
      "[ 강동구   ]구별 총 유동인구 :  239157350명\n",
      "[ 강북구   ]구별 총 유동인구 :  171437740명\n",
      "[ 강서구   ]구별 총 유동인구 :  316538320명\n",
      "[ 관악구   ]구별 총 유동인구 :  285422490명\n",
      "[ 광진구   ]구별 총 유동인구 :  205584150명\n",
      "[ 구로구   ]구별 총 유동인구 :  252685600명\n",
      "[ 금천구   ]구별 총 유동인구 :  162236340명\n",
      "[ 노원구   ]구별 총 유동인구 :  286372000명\n",
      "[ 도봉구   ]구별 총 유동인구 :  172730720명\n",
      "[ 동대문구  ]구별 총 유동인구 :  209673270명\n",
      "[ 동작구   ]구별 총 유동인구 :  224537120명\n",
      "[ 마포구   ]구별 총 유동인구 :  245660870명\n",
      "[ 서대문구  ]구별 총 유동인구 :  182865220명\n",
      "[ 서초구   ]구별 총 유동인구 :  293867470명\n",
      "[ 성동구   ]구별 총 유동인구 :  184605390명\n",
      "[ 성북구   ]구별 총 유동인구 :  243666730명\n",
      "[ 송파구   ]구별 총 유동인구 :  372279240명\n",
      "[ 양천구   ]구별 총 유동인구 :  235960940명\n",
      "[ 영등포구  ]구별 총 유동인구 :  280428050명\n",
      "[ 용산구   ]구별 총 유동인구 :  151474540명\n",
      "[ 은평구   ]구별 총 유동인구 :  241684780명\n",
      "[ 종로구   ]구별 총 유동인구 :  152183320명\n",
      "[ 중구    ]구별 총 유동인구 :  152646440명\n",
      "[ 중랑구   ]구별 총 유동인구 :  210660150명\n"
     ]
    }
   ],
   "source": [
    "gus_population = total_populations( gu_unique, gus, populations )\n",
    "for key, value in gus_population.items():\n",
    "    print( f'[ {key:5} ]구별 총 유동인구 : {value:10}명' )"
   ]
  },
  {
   "cell_type": "markdown",
   "id": "df216405-d431-49ab-8dd2-1c6b15b468fe",
   "metadata": {},
   "source": [
    "#### 2.6 유동 인구가 많은 날짜, 시간대, 성별, 연령대, 구"
   ]
  },
  {
   "cell_type": "code",
   "execution_count": 24,
   "id": "bc7ee6ef-11fb-4823-982f-d5c84b2628ef",
   "metadata": {},
   "outputs": [],
   "source": [
    "import operator"
   ]
  },
  {
   "cell_type": "code",
   "execution_count": 25,
   "id": "a19287b2-3a05-476c-8092-d52bb2890eab",
   "metadata": {},
   "outputs": [
    {
     "name": "stdout",
     "output_type": "stream",
     "text": [
      "유동 인구가 많은 날짜 : 20200401   -  200208500명\n",
      "유동 인구가 많은 시간 : 17         -  249994940명\n",
      "유동 인구가 많은 성별 : 여성         - 3038188640명\n",
      "유동 인구가 많은 연령 : 30         - 1211368990명\n",
      "유동 인구가 많은 구  : 강남구        -  415479300명\n"
     ]
    }
   ],
   "source": [
    "max_day = max( days_population.items(), key = operator.itemgetter( 1 ) )\n",
    "print( f'유동 인구가 많은 날짜 : {max_day[ 0 ]:10} - {max_day[ 1 ]:10}명' ) \n",
    "\n",
    "max_time = max( times_population.items(), key = operator.itemgetter( 1 ) )\n",
    "print( f'유동 인구가 많은 시간 : {max_time[ 0 ]:10} - {max_time[ 1 ]:10}명' )\n",
    "\n",
    "max_gender = max( genders_population.items(), key = operator.itemgetter( 1 ) )\n",
    "print( f'유동 인구가 많은 성별 : {max_gender[ 0 ]:10} - {max_gender[ 1]:10}명' )\n",
    "\n",
    "max_age = max( ages_population.items(), key = operator.itemgetter( 1 ) )\n",
    "print( f'유동 인구가 많은 연령 : {max_age[ 0 ]:10} - {max_age[ 1 ]:10}명' )\n",
    "\n",
    "max_gu = max( gus_population.items(), key = operator.itemgetter( 1 ) )\n",
    "print( f'유동 인구가 많은 구  : {max_gu[ 0 ]:10} - {max_gu[ 1 ]:10}명' )"
   ]
  },
  {
   "cell_type": "markdown",
   "id": "91ede4ce-9e1d-4398-bfe9-1f5c8c061eb4",
   "metadata": {},
   "source": [
    "#### 2.7 유동 인구가 적은 날짜, 시간대, 성별, 연령대, 구"
   ]
  },
  {
   "cell_type": "code",
   "execution_count": 26,
   "id": "306afd5c-ebf8-49d9-b464-e64bd38ada9c",
   "metadata": {},
   "outputs": [
    {
     "name": "stdout",
     "output_type": "stream",
     "text": [
      "유동 인구가 적은 날짜 : 20200430   -  186668960명\n",
      "유동 인구가 적은 시간 : 05         -  239669270명\n",
      "유동 인구가 적은 성별 : 남성         - 2851648900명\n",
      "유동 인구가 적은 연령 : 70         -  542005390명\n",
      "유동 인구가 적은 구  : 용산구        -  151474540명\n"
     ]
    }
   ],
   "source": [
    "min_day = min( days_population.items(), key = operator.itemgetter( 1 ) )\n",
    "print( f'유동 인구가 적은 날짜 : {min_day[ 0 ]:10} - {min_day[ 1 ]:10}명' ) \n",
    "\n",
    "min_time = min( times_population.items(), key = operator.itemgetter( 1 ) )\n",
    "print( f'유동 인구가 적은 시간 : {min_time[ 0 ]:10} - {min_time[ 1 ]:10}명' )\n",
    "\n",
    "min_gender = min( genders_population.items(), key = operator.itemgetter( 1 ) )\n",
    "print( f'유동 인구가 적은 성별 : {min_gender[ 0 ]:10} - {min_gender[ 1]:10}명' )\n",
    "\n",
    "min_age = min( ages_population.items(), key = operator.itemgetter( 1 ) )\n",
    "print( f'유동 인구가 적은 연령 : {min_age[ 0 ]:10} - {min_age[ 1 ]:10}명' )\n",
    "\n",
    "min_gu = min( gus_population.items(), key = operator.itemgetter( 1 ) )\n",
    "print( f'유동 인구가 적은 구  : {min_gu[ 0 ]:10} - {min_gu[ 1 ]:10}명' )"
   ]
  },
  {
   "cell_type": "code",
   "execution_count": null,
   "id": "91014d7c-756d-4b2d-bfee-50473c1d3dfb",
   "metadata": {},
   "outputs": [],
   "source": []
  }
 ],
 "metadata": {
  "kernelspec": {
   "display_name": "Python 3",
   "language": "python",
   "name": "python3"
  },
  "language_info": {
   "codemirror_mode": {
    "name": "ipython",
    "version": 3
   },
   "file_extension": ".py",
   "mimetype": "text/x-python",
   "name": "python",
   "nbconvert_exporter": "python",
   "pygments_lexer": "ipython3",
   "version": "3.8.8"
  }
 },
 "nbformat": 4,
 "nbformat_minor": 5
}
