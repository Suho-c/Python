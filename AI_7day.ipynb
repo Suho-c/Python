{
 "cells": [
  {
   "cell_type": "markdown",
   "id": "cd453576-46d7-4eed-983a-99e4fa9d80c9",
   "metadata": {},
   "source": [
    "# CNN( Convolutional Neural Network, 합성곱 신경망 )"
   ]
  },
  {
   "cell_type": "code",
   "execution_count": 1,
   "id": "ae0b1967-f537-45be-8304-29daa96657c8",
   "metadata": {},
   "outputs": [],
   "source": [
    "# 라이브러리 import\n",
    "import numpy as np\n",
    "import pandas as pd\n",
    "import matplotlib.pyplot as plt\n",
    "import seaborn as sns\n",
    "\n",
    "# 환경 설정\n",
    "pd.set_option( 'display.max_columns', 20 )\n",
    "pd.set_option( 'display.max_colwidth', 20 )\n",
    "pd.set_option( 'display.unicode.east_asian_width', True )\n",
    "\n",
    "from matplotlib import font_manager, rc\n",
    "\n",
    "# Windows 사용시 matplotlib 한글 폰트 사용 설정\n",
    "# font_path = \"c:\\\\Windows\\\\Fonts\\\\malgun.ttf\"\n",
    "# font_name = font_manager.FontProperties( fname = font_path ).get_name()\n",
    "# rc( 'font', family = font_name )\n",
    "\n",
    "# Mac OS 사용시 matplotlib 한글 폰트 사용 설정\n",
    "rc( 'font', family = 'AppleGothic' )\n",
    "\n",
    "import warnings\n",
    "warnings.filterwarnings( 'ignore' )"
   ]
  },
  {
   "cell_type": "code",
   "execution_count": 2,
   "id": "9a5f6877-1885-4658-aa18-a62c02a41644",
   "metadata": {},
   "outputs": [],
   "source": [
    "from tensorflow import keras\n",
    "from sklearn.model_selection import train_test_split"
   ]
  },
  {
   "cell_type": "markdown",
   "id": "104eb0ae-cc6a-4ee1-8424-8fcb9ff1a5ae",
   "metadata": {},
   "source": [
    "* 패션 MNIST 데이터셋 로드"
   ]
  },
  {
   "cell_type": "code",
   "execution_count": 3,
   "id": "b49398ed-15b8-466f-ad03-643e166f3bb2",
   "metadata": {},
   "outputs": [],
   "source": [
    "( X_train, y_train ), ( X_test, y_test_org ) =\\\n",
    "    keras.datasets.fashion_mnist.load_data()"
   ]
  },
  {
   "cell_type": "code",
   "execution_count": 4,
   "id": "10ecea3a-3b50-400e-8a94-b1586fc2152a",
   "metadata": {},
   "outputs": [
    {
     "name": "stdout",
     "output_type": "stream",
     "text": [
      "X_train shape : (60000, 28, 28)\n",
      "y_train shape : (60000,)\n"
     ]
    }
   ],
   "source": [
    "print( f'X_train shape : {X_train.shape}' )\n",
    "print( f'y_train shape : {y_train.shape}' )"
   ]
  },
  {
   "cell_type": "code",
   "execution_count": 5,
   "id": "f053b8c6-e0f3-49d6-8520-d3b5d3e49ce9",
   "metadata": {},
   "outputs": [
    {
     "name": "stdout",
     "output_type": "stream",
     "text": [
      "X_test shape : (10000, 28, 28)\n",
      "y_test shape : (10000,)\n"
     ]
    }
   ],
   "source": [
    "print( f'X_test shape : {X_test.shape}' )\n",
    "print( f'y_test shape : {y_test_org.shape}' )"
   ]
  },
  {
   "cell_type": "markdown",
   "id": "6cbc8d79-690d-4d20-a517-fad33c0b24d0",
   "metadata": {},
   "source": [
    "* 패션 MNIST 이미지 "
   ]
  },
  {
   "cell_type": "code",
   "execution_count": 6,
   "id": "d7eb5b2b-8fa1-4802-94d0-2130e5f9a6ce",
   "metadata": {},
   "outputs": [
    {
     "data": {
      "image/png": "[encoded data removed]",
      "text/plain": [
       "<Figure size 720x720 with 10 Axes>"
      ]
     },
     "metadata": {
      "needs_background": "light"
     },
     "output_type": "display_data"
    }
   ],
   "source": [
    "fig, axs = plt.subplots( 1, 10, figsize = ( 10, 10 ) )\n",
    "for i in range( 10 ):\n",
    "    axs[ i ].imshow( X_train[ i ], cmap = 'gray_r' )\n",
    "    axs[ i ].axis( 'off' )\n",
    "plt.show()"
   ]
  },
  {
   "cell_type": "markdown",
   "id": "30a2e360-8cea-4010-af1b-4d7a592998e1",
   "metadata": {},
   "source": [
    "* 이미지에 채널 정보 추가"
   ]
  },
  {
   "cell_type": "code",
   "execution_count": 7,
   "id": "c5c92524-abcd-4301-a6cf-572e8f9255e7",
   "metadata": {},
   "outputs": [],
   "source": [
    "X_train_reshape = X_train.reshape( -1, 28, 28, 1 ) / 255.0"
   ]
  },
  {
   "cell_type": "code",
   "execution_count": 8,
   "id": "d542187f-d3ae-4e3e-8bde-bb49318388d7",
   "metadata": {},
   "outputs": [],
   "source": [
    "X_train_scaled, X_test_scaled, y_train, y_test = train_test_split(\n",
    "    X_train_reshape, y_train, test_size = 0.2, random_state = 42\n",
    ")"
   ]
  },
  {
   "cell_type": "code",
   "execution_count": 9,
   "id": "47586fe1-3477-4ddd-a6cb-5c60e7097fbc",
   "metadata": {},
   "outputs": [
    {
     "name": "stdout",
     "output_type": "stream",
     "text": [
      "X_train_scaled shape : (48000, 28, 28, 1)\n",
      "X_test_scaled shape : (12000, 28, 28, 1)\n"
     ]
    }
   ],
   "source": [
    "print( f'X_train_scaled shape : {X_train_scaled.shape}' )\n",
    "print( f'X_test_scaled shape : {X_test_scaled.shape}' )"
   ]
  },
  {
   "cell_type": "markdown",
   "id": "5b3a0126-b19f-405e-8f36-10232ad4d164",
   "metadata": {},
   "source": [
    "* 합성곱 신경망 모델 구성"
   ]
  },
  {
   "cell_type": "code",
   "execution_count": 10,
   "id": "b8a39c44-afe9-49a4-ac0f-efd82c167fde",
   "metadata": {},
   "outputs": [
    {
     "name": "stderr",
     "output_type": "stream",
     "text": [
      "2021-11-26 13:51:33.659655: I tensorflow/core/platform/cpu_feature_guard.cc:145] This TensorFlow binary is optimized with Intel(R) MKL-DNN to use the following CPU instructions in performance critical operations:  SSE4.1 SSE4.2\n",
      "To enable them in non-MKL-DNN operations, rebuild TensorFlow with the appropriate compiler flags.\n",
      "2021-11-26 13:51:33.665887: I tensorflow/core/common_runtime/process_util.cc:115] Creating new thread pool with default inter op setting: 8. Tune using inter_op_parallelism_threads for best performance.\n"
     ]
    }
   ],
   "source": [
    "model = keras.Sequential()\n",
    "# 32개 필터 사용\n",
    "# kernel size : 3 X 3\n",
    "# padding : 특성 맵의 크기를 입력 이미지와 같은 크기\n",
    "model.add( keras.layers.Conv2D( 32, kernel_size = 3, activation = 'relu',\n",
    "                                padding = 'same', input_shape = ( 28, 28, 1 ) ) )\n",
    "# kernel size : 2 x 2\n",
    "model.add( keras.layers.MaxPooling2D( 2 ) )\n",
    "model.add( keras.layers.Conv2D( 64, kernel_size = 3, activation = 'relu',\n",
    "                                padding = 'same' ) )\n",
    "model.add( keras.layers.MaxPooling2D( 2 ) )\n",
    "model.add( keras.layers.Flatten() ) # 1차원 형태로 변환\n",
    "\n",
    "# Fully-Connected\n",
    "model.add( keras.layers.Dense( 100, activation = 'relu' ) )\n",
    "model.add( keras.layers.Dropout( 0.4 ) )\n",
    "model.add( keras.layers.Dense( 10, activation = 'softmax' ) )"
   ]
  },
  {
   "cell_type": "code",
   "execution_count": 11,
   "id": "9bc42bf7-eaa5-4770-ab9c-90a4a24f3c6a",
   "metadata": {},
   "outputs": [
    {
     "name": "stdout",
     "output_type": "stream",
     "text": [
      "Model: \"sequential\"\n",
      "_________________________________________________________________\n",
      "Layer (type)                 Output Shape              Param #   \n",
      "=================================================================\n",
      "conv2d (Conv2D)              (None, 28, 28, 32)        320       \n",
      "_________________________________________________________________\n",
      "max_pooling2d (MaxPooling2D) (None, 14, 14, 32)        0         \n",
      "_________________________________________________________________\n",
      "conv2d_1 (Conv2D)            (None, 14, 14, 64)        18496     \n",
      "_________________________________________________________________\n",
      "max_pooling2d_1 (MaxPooling2 (None, 7, 7, 64)          0         \n",
      "_________________________________________________________________\n",
      "flatten (Flatten)            (None, 3136)              0         \n",
      "_________________________________________________________________\n",
      "dense (Dense)                (None, 100)               313700    \n",
      "_________________________________________________________________\n",
      "dropout (Dropout)            (None, 100)               0         \n",
      "_________________________________________________________________\n",
      "dense_1 (Dense)              (None, 10)                1010      \n",
      "=================================================================\n",
      "Total params: 333,526\n",
      "Trainable params: 333,526\n",
      "Non-trainable params: 0\n",
      "_________________________________________________________________\n"
     ]
    }
   ],
   "source": [
    "model.summary()"
   ]
  },
  {
   "cell_type": "markdown",
   "id": "7d0c6422-029b-4f9a-b8cb-2842852eb5a9",
   "metadata": {},
   "source": [
    "* 합성곱 신경망 모델 생성"
   ]
  },
  {
   "cell_type": "code",
   "execution_count": 12,
   "id": "0e1bea8f-2d14-4e43-bb5d-3aac6dd144a2",
   "metadata": {},
   "outputs": [],
   "source": [
    "model.compile( optimizer = 'adam', loss = 'sparse_categorical_crossentropy',\n",
    "               metrics = [ 'accuracy' ] )"
   ]
  },
  {
   "cell_type": "markdown",
   "id": "1a368f83-baa5-4347-8396-64f2013b240f",
   "metadata": {},
   "source": [
    "* 합성곱 신경망 학습"
   ]
  },
  {
   "cell_type": "code",
   "execution_count": 13,
   "id": "602cc7cb-377f-4c77-ae47-eae4b256071c",
   "metadata": {},
   "outputs": [
    {
     "name": "stdout",
     "output_type": "stream",
     "text": [
      "Train on 48000 samples, validate on 12000 samples\n",
      "Epoch 1/20\n",
      "48000/48000 [==============================] - 280s 6ms/sample - loss: 0.5211 - accuracy: 0.8149 - val_loss: 0.3244 - val_accuracy: 0.8777\n",
      "Epoch 2/20\n",
      "48000/48000 [==============================] - 163s 3ms/sample - loss: 0.3530 - accuracy: 0.8740 - val_loss: 0.2806 - val_accuracy: 0.8935\n",
      "Epoch 3/20\n",
      "48000/48000 [==============================] - 167s 3ms/sample - loss: 0.3041 - accuracy: 0.8890 - val_loss: 0.2539 - val_accuracy: 0.9051\n",
      "Epoch 4/20\n",
      "48000/48000 [==============================] - 185s 4ms/sample - loss: 0.2743 - accuracy: 0.8994 - val_loss: 0.2621 - val_accuracy: 0.9003\n",
      "Epoch 5/20\n",
      "48000/48000 [==============================] - 182s 4ms/sample - loss: 0.2468 - accuracy: 0.9100 - val_loss: 0.2370 - val_accuracy: 0.9083\n",
      "Epoch 6/20\n",
      "48000/48000 [==============================] - 190s 4ms/sample - loss: 0.2287 - accuracy: 0.9154 - val_loss: 0.2289 - val_accuracy: 0.9181\n",
      "Epoch 7/20\n",
      "48000/48000 [==============================] - 190s 4ms/sample - loss: 0.2097 - accuracy: 0.9223 - val_loss: 0.2316 - val_accuracy: 0.9144\n",
      "Epoch 8/20\n",
      "48000/48000 [==============================] - 184s 4ms/sample - loss: 0.1961 - accuracy: 0.9260 - val_loss: 0.2233 - val_accuracy: 0.9181\n",
      "Epoch 9/20\n",
      "48000/48000 [==============================] - 188s 4ms/sample - loss: 0.1822 - accuracy: 0.9313 - val_loss: 0.2331 - val_accuracy: 0.9177\n",
      "Epoch 10/20\n",
      "48000/48000 [==============================] - 186s 4ms/sample - loss: 0.1692 - accuracy: 0.9351 - val_loss: 0.2252 - val_accuracy: 0.9256\n"
     ]
    }
   ],
   "source": [
    "checkpoint_cb = keras.callbacks.ModelCheckpoint( 'best-cnn-model.h5' )\n",
    "early_stopping_cb = keras.callbacks.EarlyStopping( patience = 2,\n",
    "                                                   restore_best_weights = True )\n",
    "\n",
    "history = model.fit( X_train_scaled, y_train, epochs = 20,\n",
    "                     validation_data = ( X_test_scaled, y_test ),\n",
    "                     callbacks = [ checkpoint_cb, early_stopping_cb ] )"
   ]
  },
  {
   "cell_type": "markdown",
   "id": "11ff2de8-66c3-4020-9fe8-9a5d4c1ae790",
   "metadata": {},
   "source": [
    "* 학습 과정 시각화"
   ]
  },
  {
   "cell_type": "code",
   "execution_count": 14,
   "id": "f87f88ab-14cd-407b-b28f-f60cbd8a69c5",
   "metadata": {},
   "outputs": [
    {
     "data": {
      "image/png": "[encoded data removed]",
      "text/plain": [
       "<Figure size 432x288 with 1 Axes>"
      ]
     },
     "metadata": {
      "needs_background": "light"
     },
     "output_type": "display_data"
    }
   ],
   "source": [
    "plt.plot( history.history[ 'loss' ] )\n",
    "plt.plot( history.history[ 'val_loss' ] )\n",
    "plt.xlabel( 'epoch' )\n",
    "plt.ylabel( 'loss' )\n",
    "plt.legend( [ 'train', 'val' ] )\n",
    "plt.show()"
   ]
  },
  {
   "cell_type": "markdown",
   "id": "d34699b9-f98c-4908-b5cf-28034fb8746e",
   "metadata": {},
   "source": [
    "* 합성곱 신경망 생성 모델 평가"
   ]
  },
  {
   "cell_type": "code",
   "execution_count": 15,
   "id": "abf99c53-6010-44a7-9353-1d8ef384d4fb",
   "metadata": {},
   "outputs": [
    {
     "name": "stdout",
     "output_type": "stream",
     "text": [
      "12000/1 - 17s - loss: 0.1830 - accuracy: 0.9181\n"
     ]
    },
    {
     "data": {
      "text/plain": [
       "[0.2233325445254644, 0.9180833]"
      ]
     },
     "execution_count": 15,
     "metadata": {},
     "output_type": "execute_result"
    }
   ],
   "source": [
    "model.evaluate( X_test_scaled, y_test, verbose = 2 )"
   ]
  },
  {
   "cell_type": "markdown",
   "id": "fa6180b6-6195-4787-94be-8cb901879171",
   "metadata": {},
   "source": [
    "* 첫 번째 샘플 이미지에 대한 예측 결과 확인"
   ]
  },
  {
   "cell_type": "code",
   "execution_count": 16,
   "id": "ccd8edca-1634-4483-987c-dbc8be91710a",
   "metadata": {},
   "outputs": [
    {
     "data": {
      "image/png": "[encoded data removed]",
      "text/plain": [
       "<Figure size 432x288 with 1 Axes>"
      ]
     },
     "metadata": {
      "needs_background": "light"
     },
     "output_type": "display_data"
    }
   ],
   "source": [
    "plt.imshow( X_test_scaled[ 0 ].reshape( 28, 28 ), cmap = 'gray_r' )\n",
    "plt.show()"
   ]
  },
  {
   "cell_type": "code",
   "execution_count": 17,
   "id": "3598cfd6-038f-414c-99bc-15ad45e418e3",
   "metadata": {},
   "outputs": [
    {
     "data": {
      "text/plain": [
       "array([[1.6176380e-15, 2.5803014e-25, 1.5926113e-19, 1.7113032e-19,\n",
       "        2.6635033e-16, 1.6970436e-17, 1.8975388e-16, 9.8267702e-19,\n",
       "        1.0000000e+00, 1.5695064e-21]], dtype=float32)"
      ]
     },
     "execution_count": 17,
     "metadata": {},
     "output_type": "execute_result"
    }
   ],
   "source": [
    "predict = model.predict( X_test_scaled[ 0:1 ] )\n",
    "predict"
   ]
  },
  {
   "cell_type": "code",
   "execution_count": 18,
   "id": "8454d52e-9871-4dd8-95f1-73e045ccbe69",
   "metadata": {},
   "outputs": [
    {
     "data": {
      "image/png": "[encoded data removed]",
      "text/plain": [
       "<Figure size 432x288 with 1 Axes>"
      ]
     },
     "metadata": {
      "needs_background": "light"
     },
     "output_type": "display_data"
    }
   ],
   "source": [
    "plt.bar( range( 1, 11 ), predict[ 0 ] )\n",
    "plt.xlabel( 'class' )\n",
    "plt.ylabel( 'predict' )\n",
    "plt.show()"
   ]
  },
  {
   "cell_type": "code",
   "execution_count": 19,
   "id": "e801d9ac-6e10-4f9a-9cf2-b790b6ce74d9",
   "metadata": {},
   "outputs": [
    {
     "name": "stdout",
     "output_type": "stream",
     "text": [
      "가방\n"
     ]
    }
   ],
   "source": [
    "classes = [ '티셔츠', '바지', '스웨터', '드레스', '코트', '샌달', \n",
    "            '셔츠', '스니커즈', '가방', '앵글부츠' ]\n",
    "print( classes[ np.argmax( predict ) ] )"
   ]
  },
  {
   "cell_type": "markdown",
   "id": "3baf9509-644e-47ab-a49f-a1f8dc0c2427",
   "metadata": {},
   "source": [
    "* 테스트 데이터에 대한 평가"
   ]
  },
  {
   "cell_type": "code",
   "execution_count": 20,
   "id": "14776dca-e28c-4bce-8a3a-bece691ec2dd",
   "metadata": {},
   "outputs": [],
   "source": [
    "X_test_reshape = X_test.reshape( -1, 28, 28, 1 ) / 255.0"
   ]
  },
  {
   "cell_type": "code",
   "execution_count": 21,
   "id": "bf1d644c-3511-4e90-9e7b-9dd12812adb2",
   "metadata": {},
   "outputs": [
    {
     "name": "stdout",
     "output_type": "stream",
     "text": [
      "10000/1 - 15s - loss: 0.1665 - accuracy: 0.9114\n"
     ]
    },
    {
     "data": {
      "text/plain": [
       "[0.24116492268443107, 0.9114]"
      ]
     },
     "execution_count": 21,
     "metadata": {},
     "output_type": "execute_result"
    }
   ],
   "source": [
    "model.evaluate( X_test_reshape, y_test_org, verbose = 2 )"
   ]
  },
  {
   "cell_type": "markdown",
   "id": "5452d0fc-3d4c-43f6-a160-36f70e979914",
   "metadata": {},
   "source": [
    "### 가중치 시각화"
   ]
  },
  {
   "cell_type": "code",
   "execution_count": 22,
   "id": "6cf1bfa1-6a5c-491d-89a0-e4f5d41ca22e",
   "metadata": {},
   "outputs": [],
   "source": [
    "model = keras.models.load_model( 'best-cnn-model.h5' )"
   ]
  },
  {
   "cell_type": "code",
   "execution_count": 23,
   "id": "1447c6dd-efd8-4ace-92bf-669043f5758d",
   "metadata": {},
   "outputs": [
    {
     "data": {
      "text/plain": [
       "[<tensorflow.python.keras.layers.convolutional.Conv2D at 0x7fc001e90e10>,\n",
       " <tensorflow.python.keras.layers.pooling.MaxPooling2D at 0x7fc001e9b510>,\n",
       " <tensorflow.python.keras.layers.convolutional.Conv2D at 0x7fc001130690>,\n",
       " <tensorflow.python.keras.layers.pooling.MaxPooling2D at 0x7fc001128b50>,\n",
       " <tensorflow.python.keras.layers.core.Flatten at 0x7fc0011289d0>,\n",
       " <tensorflow.python.keras.layers.core.Dense at 0x7fc044fd7f10>,\n",
       " <tensorflow.python.keras.layers.core.Dropout at 0x7fc044fd7510>,\n",
       " <tensorflow.python.keras.layers.core.Dense at 0x7fc044fd7650>]"
      ]
     },
     "execution_count": 23,
     "metadata": {},
     "output_type": "execute_result"
    }
   ],
   "source": [
    "model.layers"
   ]
  },
  {
   "cell_type": "code",
   "execution_count": 24,
   "id": "14cc3c32-adbc-497b-991b-487ff59b3168",
   "metadata": {},
   "outputs": [
    {
     "name": "stdout",
     "output_type": "stream",
     "text": [
      "(3, 3, 1, 32) (32,)\n"
     ]
    }
   ],
   "source": [
    "conv = model.layers[ 0 ]\n",
    "print( conv.weights[ 0 ].shape, conv.weights[ 1 ].shape )"
   ]
  },
  {
   "cell_type": "code",
   "execution_count": 25,
   "id": "158c7683-07c5-4be3-8d5b-1d2ea063b0fc",
   "metadata": {},
   "outputs": [
    {
     "name": "stdout",
     "output_type": "stream",
     "text": [
      "-0.030769523 0.27670243\n"
     ]
    }
   ],
   "source": [
    "conv_weights = conv.weights[ 0 ].numpy()\n",
    "print( conv_weights.mean(), conv_weights.std() )"
   ]
  },
  {
   "cell_type": "code",
   "execution_count": 26,
   "id": "bcc8cb2d-caac-4d6c-863d-ec57a6820825",
   "metadata": {},
   "outputs": [
    {
     "data": {
      "image/png": "[encoded data removed]",
      "text/plain": [
       "<Figure size 432x288 with 1 Axes>"
      ]
     },
     "metadata": {
      "needs_background": "light"
     },
     "output_type": "display_data"
    }
   ],
   "source": [
    "plt.hist( conv_weights.reshape( -1, 1 ) )\n",
    "plt.xlabel( 'weight' )\n",
    "plt.ylabel( 'count' )\n",
    "plt.show()"
   ]
  },
  {
   "cell_type": "code",
   "execution_count": 27,
   "id": "d3b081d6-42b9-4963-b49d-4aff1b6d2aea",
   "metadata": {},
   "outputs": [
    {
     "data": {
      "image/png": "[encoded data removed]",
      "text/plain": [
       "<Figure size 1080x144 with 32 Axes>"
      ]
     },
     "metadata": {
      "needs_background": "light"
     },
     "output_type": "display_data"
    }
   ],
   "source": [
    "fig, axs = plt.subplots( 2, 16, figsize = ( 15, 2 ) )\n",
    "for i in range( 2 ):\n",
    "    for j in range( 16 ):\n",
    "        axs[ i, j ].imshow( conv_weights[ :, :, 0, i * 16 + j ],\n",
    "                            vmin = -0.5, vmax = 0.5 )\n",
    "        axs[ i, j ].axis( 'off' )\n",
    "plt.show()"
   ]
  },
  {
   "cell_type": "markdown",
   "id": "804e7c80-ff2e-4266-9d4c-ade1012df3a5",
   "metadata": {},
   "source": [
    "* 학습된 가중치와 학습하지 않은 가중치 차이 비교"
   ]
  },
  {
   "cell_type": "code",
   "execution_count": 28,
   "id": "f65f0cc7-c97a-41d6-b849-196d8c2a4708",
   "metadata": {},
   "outputs": [],
   "source": [
    "no_training_model = keras.Sequential()\n",
    "no_training_model.add( keras.layers.Conv2D( 32, kernel_size = 3,\n",
    "                                            activation = 'relu',\n",
    "                                            padding = 'same',\n",
    "                                            input_shape = ( 28, 28, 1 ) ) )"
   ]
  },
  {
   "cell_type": "code",
   "execution_count": 29,
   "id": "02f54f78-0fa2-457e-9823-45502e7c7b42",
   "metadata": {},
   "outputs": [
    {
     "name": "stdout",
     "output_type": "stream",
     "text": [
      "(3, 3, 1, 32)\n"
     ]
    }
   ],
   "source": [
    "no_training_conv = no_training_model.layers[ 0 ]\n",
    "print( no_training_conv.weights[ 0 ].shape )"
   ]
  },
  {
   "cell_type": "code",
   "execution_count": 30,
   "id": "b1df5750-c974-4077-8a40-0d4d0aefa052",
   "metadata": {},
   "outputs": [
    {
     "name": "stdout",
     "output_type": "stream",
     "text": [
      "0.00020865744 0.08141012\n"
     ]
    }
   ],
   "source": [
    "no_training_weights = no_training_conv.weights[ 0 ].numpy()\n",
    "print( no_training_weights.mean(), no_training_weights.std() )"
   ]
  },
  {
   "cell_type": "code",
   "execution_count": 31,
   "id": "c724e01d-849a-4c74-9433-af3008833cfc",
   "metadata": {},
   "outputs": [
    {
     "data": {
      "image/png": "[encoded data removed]",
      "text/plain": [
       "<Figure size 432x288 with 1 Axes>"
      ]
     },
     "metadata": {
      "needs_background": "light"
     },
     "output_type": "display_data"
    }
   ],
   "source": [
    "plt.hist( no_training_weights.reshape( -1, 1 ) )\n",
    "plt.xlabel( 'weight' )\n",
    "plt.ylabel( 'count' )\n",
    "plt.show()"
   ]
  },
  {
   "cell_type": "code",
   "execution_count": 32,
   "id": "0d2504ec-32b0-4f45-80f6-dda17b5fb661",
   "metadata": {},
   "outputs": [
    {
     "data": {
      "image/png": "[encoded data removed]",
      "text/plain": [
       "<Figure size 1080x144 with 32 Axes>"
      ]
     },
     "metadata": {
      "needs_background": "light"
     },
     "output_type": "display_data"
    }
   ],
   "source": [
    "fig, axs = plt.subplots( 2, 16, figsize = ( 15, 2 ) )\n",
    "for i in range( 2 ):\n",
    "    for j in range( 16 ):\n",
    "        axs[ i, j ].imshow( no_training_weights[ :, :, 0, i * 16 + j ],\n",
    "                            vmin = -0.5, vmax = 0.5 )\n",
    "        axs[ i, j ].axis( 'off' )\n",
    "plt.show()"
   ]
  },
  {
   "cell_type": "markdown",
   "id": "ebe67ac5-89a1-40da-a4e2-c24876bf1b70",
   "metadata": {},
   "source": [
    "* 특성맵 시각화"
   ]
  },
  {
   "cell_type": "code",
   "execution_count": 33,
   "id": "93319eab-1537-42d8-9bbb-6e7defaea374",
   "metadata": {},
   "outputs": [],
   "source": [
    "# 함수형 API를 이용한 Neural Network\n",
    "#\n",
    "dense1 = keras.layers.Dense( 100, activation = 'sigmoid' )\n",
    "dense2 = keras.layers.Dense( 10, activation = 'softmax' )\n",
    "\n",
    "conv_acti = keras.models.Model( model.input, model.layers[ 0 ].output ) "
   ]
  },
  {
   "cell_type": "code",
   "execution_count": 34,
   "id": "24fb6dfe-7406-4ddb-a0be-8811309b9100",
   "metadata": {},
   "outputs": [
    {
     "name": "stdout",
     "output_type": "stream",
     "text": [
      "(60000, 28, 28)\n"
     ]
    },
    {
     "data": {
      "image/png": "[encoded data removed]",
      "text/plain": [
       "<Figure size 432x288 with 1 Axes>"
      ]
     },
     "metadata": {
      "needs_background": "light"
     },
     "output_type": "display_data"
    }
   ],
   "source": [
    "( train_input, train_target ), ( test_input, test_target ) =\\\n",
    "    keras.datasets.fashion_mnist.load_data()\n",
    "print( train_input.shape )\n",
    "\n",
    "plt.imshow( train_input[ 0 ], cmap = 'gray_r' )\n",
    "plt.show()"
   ]
  },
  {
   "cell_type": "code",
   "execution_count": 35,
   "id": "76551c61-7088-4157-bf82-5759dc43f156",
   "metadata": {},
   "outputs": [],
   "source": [
    "inputs = train_input[ 0:1 ].reshape( -1, 28, 28, 1 ) / 255.0\n",
    "feature_maps = conv_acti.predict( inputs )"
   ]
  },
  {
   "cell_type": "code",
   "execution_count": 36,
   "id": "2ee167bb-801a-41a0-92ce-e6c8feb720aa",
   "metadata": {},
   "outputs": [
    {
     "data": {
      "image/png": "[encoded data removed]",
      "text/plain": [
       "<Figure size 1080x576 with 32 Axes>"
      ]
     },
     "metadata": {
      "needs_background": "light"
     },
     "output_type": "display_data"
    }
   ],
   "source": [
    "fig, axs = plt.subplots( 4, 8, figsize = ( 15, 8 ) )\n",
    "for i in range( 4 ):\n",
    "    for j in range( 8 ):\n",
    "        axs[ i, j ].imshow( feature_maps[ 0, :, :, i * 8 + j ] )\n",
    "        axs[ i, j ].axis( 'off' )\n",
    "plt.show()"
   ]
  },
  {
   "cell_type": "markdown",
   "id": "3643509a-d433-42b1-9722-6c2e97b2cd90",
   "metadata": {},
   "source": [
    "# RNN( Recurrent Neural Network, 순환 신경망 )"
   ]
  },
  {
   "cell_type": "code",
   "execution_count": 37,
   "id": "b2b706f4-7be1-4e38-8ec4-d05535236209",
   "metadata": {},
   "outputs": [],
   "source": [
    "from tensorflow.keras.datasets import imdb # 영어 리뷰에 대한 긍정/부정"
   ]
  },
  {
   "cell_type": "markdown",
   "id": "d953ad12-d101-4a2f-90be-ed1ad0b167e8",
   "metadata": {},
   "source": [
    "* 데이터 준비"
   ]
  },
  {
   "cell_type": "code",
   "execution_count": 38,
   "id": "a6ea40e4-5116-44c4-8526-604f6373b91b",
   "metadata": {},
   "outputs": [],
   "source": [
    "( train_input, train_target ), ( test_input, test_target ) =\\\n",
    "    imdb.load_data( num_words = 500 ) # num_words = 500 : 자주 사용하는 단어 500개만 사용"
   ]
  },
  {
   "cell_type": "code",
   "execution_count": 39,
   "id": "fb501069-4ccf-41c8-aba6-bfa949a27597",
   "metadata": {},
   "outputs": [
    {
     "name": "stdout",
     "output_type": "stream",
     "text": [
      "(25000,) (25000,)\n"
     ]
    }
   ],
   "source": [
    "print( train_input.shape, test_input.shape )"
   ]
  },
  {
   "cell_type": "code",
   "execution_count": 40,
   "id": "2013bad3-ba81-43da-8838-867b49ca0d74",
   "metadata": {},
   "outputs": [
    {
     "name": "stdout",
     "output_type": "stream",
     "text": [
      "218\n"
     ]
    }
   ],
   "source": [
    "print( len( train_input[ 0 ] ) )"
   ]
  },
  {
   "cell_type": "code",
   "execution_count": 41,
   "id": "6fd2d408-4a24-4985-827c-ca887b2c0bd9",
   "metadata": {},
   "outputs": [
    {
     "name": "stdout",
     "output_type": "stream",
     "text": [
      "[1, 14, 22, 16, 43, 2, 2, 2, 2, 65, 458, 2, 66, 2, 4, 173, 36, 256, 5, 25, 100, 43, 2, 112, 50, 2, 2, 9, 35, 480, 284, 5, 150, 4, 172, 112, 167, 2, 336, 385, 39, 4, 172, 2, 2, 17, 2, 38, 13, 447, 4, 192, 50, 16, 6, 147, 2, 19, 14, 22, 4, 2, 2, 469, 4, 22, 71, 87, 12, 16, 43, 2, 38, 76, 15, 13, 2, 4, 22, 17, 2, 17, 12, 16, 2, 18, 2, 5, 62, 386, 12, 8, 316, 8, 106, 5, 4, 2, 2, 16, 480, 66, 2, 33, 4, 130, 12, 16, 38, 2, 5, 25, 124, 51, 36, 135, 48, 25, 2, 33, 6, 22, 12, 215, 28, 77, 52, 5, 14, 407, 16, 82, 2, 8, 4, 107, 117, 2, 15, 256, 4, 2, 7, 2, 5, 2, 36, 71, 43, 2, 476, 26, 400, 317, 46, 7, 4, 2, 2, 13, 104, 88, 4, 381, 15, 297, 98, 32, 2, 56, 26, 141, 6, 194, 2, 18, 4, 226, 22, 21, 134, 476, 26, 480, 5, 144, 30, 2, 18, 51, 36, 28, 224, 92, 25, 104, 4, 226, 65, 16, 38, 2, 88, 12, 16, 283, 5, 16, 2, 113, 103, 32, 15, 16, 2, 19, 178, 32]\n"
     ]
    }
   ],
   "source": [
    "print( train_input[ 0 ] )"
   ]
  },
  {
   "cell_type": "code",
   "execution_count": 42,
   "id": "ea79e256-c094-4f46-abc7-8d5a5cfa7c55",
   "metadata": {},
   "outputs": [
    {
     "name": "stdout",
     "output_type": "stream",
     "text": [
      "189\n"
     ]
    }
   ],
   "source": [
    "print( len( train_input[ 1 ] ) )"
   ]
  },
  {
   "cell_type": "markdown",
   "id": "1e3a3f71-6aa4-44d2-bd96-a559c8e47190",
   "metadata": {},
   "source": [
    "* 데이터 분리"
   ]
  },
  {
   "cell_type": "code",
   "execution_count": 43,
   "id": "4a29a529-647b-402b-a70f-0b82d9672760",
   "metadata": {},
   "outputs": [],
   "source": [
    "from sklearn.model_selection import train_test_split"
   ]
  },
  {
   "cell_type": "code",
   "execution_count": 44,
   "id": "7e4a23f4-fdc2-4845-accb-2c75d24f0847",
   "metadata": {},
   "outputs": [],
   "source": [
    "# 학습 데이터를 학습 데이터와 검증 데이터로 분리\n",
    "X_train, X_train_val, y_train, y_train_val = train_test_split(\n",
    "    train_input, train_target, test_size = 0.2, random_state = 42\n",
    ")"
   ]
  },
  {
   "cell_type": "code",
   "execution_count": 45,
   "id": "08440c6b-5fba-4627-beff-1f1b9477bc2a",
   "metadata": {},
   "outputs": [
    {
     "name": "stdout",
     "output_type": "stream",
     "text": [
      "X_train shape : (20000,)\n",
      "X_train_val shape : (5000,)\n",
      "y_train shape : (20000,)\n",
      "t_train_val shape : (5000,)\n"
     ]
    }
   ],
   "source": [
    "print( f'X_train shape : {X_train.shape}' )\n",
    "print( f'X_train_val shape : {X_train_val.shape}' )\n",
    "print( f'y_train shape : {y_train.shape}' )\n",
    "print( f't_train_val shape : {y_train_val.shape}' )"
   ]
  },
  {
   "cell_type": "markdown",
   "id": "8abdb66c-df45-4cc1-9f4f-6e73396fd6c3",
   "metadata": {},
   "source": [
    "* 데이터 탐색"
   ]
  },
  {
   "cell_type": "code",
   "execution_count": 46,
   "id": "60783c87-3932-4f4e-ab25-608ae302b3aa",
   "metadata": {},
   "outputs": [],
   "source": [
    "lengths = np.array( [ len( x ) for x in X_train ] )"
   ]
  },
  {
   "cell_type": "code",
   "execution_count": 47,
   "id": "fee81b00-9c97-45ec-96e5-9d0c6a6228cf",
   "metadata": {},
   "outputs": [
    {
     "name": "stdout",
     "output_type": "stream",
     "text": [
      "문장 평균 단어 개수 : 239.00925\n",
      "단어 개수 중앙값 : 178.0\n"
     ]
    }
   ],
   "source": [
    "print( f'문장 평균 단어 개수 : {np.mean( lengths )}' )\n",
    "print( f'단어 개수 중앙값 : {np.median( lengths )}' )"
   ]
  },
  {
   "cell_type": "code",
   "execution_count": 48,
   "id": "d3fc8369-df79-4396-9ba4-818210be3c91",
   "metadata": {},
   "outputs": [
    {
     "data": {
      "image/png": "[encoded data removed]",
      "text/plain": [
       "<Figure size 432x288 with 1 Axes>"
      ]
     },
     "metadata": {
      "needs_background": "light"
     },
     "output_type": "display_data"
    }
   ],
   "source": [
    "plt.hist( lengths )\n",
    "plt.xlabel( 'length' )\n",
    "plt.ylabel( 'count' )\n",
    "plt.show()"
   ]
  },
  {
   "cell_type": "markdown",
   "id": "37b69bcb-d3d7-480e-9b51-9f0363ab7f58",
   "metadata": {},
   "source": [
    "* 문장의 길이를 맞추는 작업( padding 작업 )"
   ]
  },
  {
   "cell_type": "code",
   "execution_count": 49,
   "id": "1011680b-19f8-409e-9c76-d35a9e3ac918",
   "metadata": {},
   "outputs": [],
   "source": [
    "from tensorflow.keras.preprocessing import sequence"
   ]
  },
  {
   "cell_type": "code",
   "execution_count": 50,
   "id": "fa941a35-8185-4b09-a47a-02c4096a08f0",
   "metadata": {},
   "outputs": [],
   "source": [
    "# maxlen = 100 : 문장의 최대 길이\n",
    "X_train_seq = sequence.pad_sequences( X_train, maxlen = 100 )"
   ]
  },
  {
   "cell_type": "code",
   "execution_count": 51,
   "id": "8103bf05-6987-4a94-9bd9-654cfe9f419a",
   "metadata": {},
   "outputs": [
    {
     "name": "stdout",
     "output_type": "stream",
     "text": [
      "(20000, 100)\n"
     ]
    }
   ],
   "source": [
    "print( X_train_seq.shape )"
   ]
  },
  {
   "cell_type": "code",
   "execution_count": 52,
   "id": "3bad569a-b3f9-4053-9b88-e62dc3cfa4c6",
   "metadata": {},
   "outputs": [
    {
     "name": "stdout",
     "output_type": "stream",
     "text": [
      "[  0   0   0   0   0   0   0   0   0   0   0   0   0   0   0   0   0   0\n",
      "   0   0   0   1  73  13  69   8  30   2   5 202  14   6 241  14  16   2\n",
      "   2   8   4   2   2   2  11  15   2   2 121  41   2  26  13 258  15   2\n",
      "   2  85  74  15  14  20 127 164  53  74   2   6 171  52   2  19   6 464\n",
      " 163  48 335   2   8   2   2   2   2   2  33  12  19 294  21  12   2  57\n",
      " 128  74   6 241   5   6 241 184  76   2]\n"
     ]
    }
   ],
   "source": [
    "print( X_train_seq[ 1000 ] )"
   ]
  },
  {
   "cell_type": "code",
   "execution_count": 53,
   "id": "0e8925f4-1d8a-4192-a78b-72a2459b0623",
   "metadata": {},
   "outputs": [
    {
     "name": "stdout",
     "output_type": "stream",
     "text": [
      "(5000, 100)\n"
     ]
    }
   ],
   "source": [
    "X_train_val_seq = sequence.pad_sequences( X_train_val, maxlen = 100 )\n",
    "print( X_train_val_seq.shape )"
   ]
  },
  {
   "cell_type": "markdown",
   "id": "ac3c77d7-8388-4636-8677-c65cfb297aff",
   "metadata": {},
   "source": [
    "* RNN 모델 생성 및 학습"
   ]
  },
  {
   "cell_type": "code",
   "execution_count": 54,
   "id": "a610ea17-7ee9-4f76-beae-9244bdbf58fd",
   "metadata": {},
   "outputs": [],
   "source": [
    "model = keras.Sequential()\n",
    "\n",
    "# Tensorflow - NumPy : 1.19.x 이 버전 이상 사용시 error\n",
    "model.add( keras.layers.SimpleRNN( 8, input_shape = ( 100, 500 ) ) )\n",
    "model.add( keras.layers.Dense( 1, activation = 'sigmoid' ) )"
   ]
  },
  {
   "cell_type": "code",
   "execution_count": 55,
   "id": "5d4ff2dc-e253-4338-87f0-35df4ea94038",
   "metadata": {},
   "outputs": [],
   "source": [
    "# One-hot encoding \n",
    "X_train_oh = keras.utils.to_categorical( X_train_seq )"
   ]
  },
  {
   "cell_type": "code",
   "execution_count": 56,
   "id": "ee87f2ee-d5f6-420e-9916-f71ffa344a24",
   "metadata": {},
   "outputs": [
    {
     "name": "stdout",
     "output_type": "stream",
     "text": [
      "(20000, 100, 500)\n"
     ]
    }
   ],
   "source": [
    "print( X_train_oh.shape )"
   ]
  },
  {
   "cell_type": "code",
   "execution_count": 57,
   "id": "f85c95ae-0797-4c21-9b55-9071df650895",
   "metadata": {},
   "outputs": [],
   "source": [
    "X_train_val_oh = keras.utils.to_categorical( X_train_val_seq )"
   ]
  },
  {
   "cell_type": "code",
   "execution_count": 58,
   "id": "3bdf89d5-8530-4030-a2eb-308113270eb1",
   "metadata": {},
   "outputs": [
    {
     "name": "stdout",
     "output_type": "stream",
     "text": [
      "(5000, 100, 500)\n"
     ]
    }
   ],
   "source": [
    "print( X_train_val_oh.shape )"
   ]
  },
  {
   "cell_type": "code",
   "execution_count": 59,
   "id": "1ac46e30-df04-4d51-aa2b-84326b3da5f2",
   "metadata": {},
   "outputs": [
    {
     "name": "stdout",
     "output_type": "stream",
     "text": [
      "Model: \"sequential_2\"\n",
      "_________________________________________________________________\n",
      "Layer (type)                 Output Shape              Param #   \n",
      "=================================================================\n",
      "simple_rnn (SimpleRNN)       (None, 8)                 4072      \n",
      "_________________________________________________________________\n",
      "dense_4 (Dense)              (None, 1)                 9         \n",
      "=================================================================\n",
      "Total params: 4,081\n",
      "Trainable params: 4,081\n",
      "Non-trainable params: 0\n",
      "_________________________________________________________________\n"
     ]
    }
   ],
   "source": [
    "model.summary()"
   ]
  },
  {
   "cell_type": "code",
   "execution_count": 60,
   "id": "4586a980-cc2b-49c0-932a-b25b02f4bde9",
   "metadata": {},
   "outputs": [
    {
     "name": "stdout",
     "output_type": "stream",
     "text": [
      "Train on 20000 samples, validate on 5000 samples\n",
      "Epoch 1/100\n",
      "20000/20000 [==============================] - 26s 1ms/sample - loss: 0.6922 - accuracy: 0.5236 - val_loss: 0.6815 - val_accuracy: 0.5604\n",
      "Epoch 2/100\n",
      "20000/20000 [==============================] - 24s 1ms/sample - loss: 0.6587 - accuracy: 0.6090 - val_loss: 0.6445 - val_accuracy: 0.6358\n",
      "Epoch 3/100\n",
      "20000/20000 [==============================] - 24s 1ms/sample - loss: 0.6253 - accuracy: 0.6599 - val_loss: 0.6140 - val_accuracy: 0.6796\n",
      "Epoch 4/100\n",
      "20000/20000 [==============================] - 24s 1ms/sample - loss: 0.5970 - accuracy: 0.6902 - val_loss: 0.5894 - val_accuracy: 0.7054\n",
      "Epoch 5/100\n",
      "20000/20000 [==============================] - 25s 1ms/sample - loss: 0.5723 - accuracy: 0.7165 - val_loss: 0.5696 - val_accuracy: 0.7164\n",
      "Epoch 6/100\n",
      "20000/20000 [==============================] - 24s 1ms/sample - loss: 0.5504 - accuracy: 0.7375 - val_loss: 0.5503 - val_accuracy: 0.7344\n",
      "Epoch 7/100\n",
      "20000/20000 [==============================] - 25s 1ms/sample - loss: 0.5318 - accuracy: 0.7502 - val_loss: 0.5301 - val_accuracy: 0.7494\n",
      "Epoch 8/100\n",
      "20000/20000 [==============================] - 25s 1ms/sample - loss: 0.5150 - accuracy: 0.7600 - val_loss: 0.5184 - val_accuracy: 0.7582\n",
      "Epoch 9/100\n",
      "20000/20000 [==============================] - 24s 1ms/sample - loss: 0.5016 - accuracy: 0.7707 - val_loss: 0.5073 - val_accuracy: 0.7644\n",
      "Epoch 10/100\n",
      "20000/20000 [==============================] - 24s 1ms/sample - loss: 0.4900 - accuracy: 0.7758 - val_loss: 0.4973 - val_accuracy: 0.7696\n",
      "Epoch 11/100\n",
      "20000/20000 [==============================] - 25s 1ms/sample - loss: 0.4803 - accuracy: 0.7835 - val_loss: 0.4893 - val_accuracy: 0.7728\n",
      "Epoch 12/100\n",
      "20000/20000 [==============================] - 23s 1ms/sample - loss: 0.4713 - accuracy: 0.7875 - val_loss: 0.4861 - val_accuracy: 0.7762\n",
      "Epoch 13/100\n",
      "20000/20000 [==============================] - 24s 1ms/sample - loss: 0.4645 - accuracy: 0.7899 - val_loss: 0.4783 - val_accuracy: 0.7810\n",
      "Epoch 14/100\n",
      "20000/20000 [==============================] - 25s 1ms/sample - loss: 0.4582 - accuracy: 0.7928 - val_loss: 0.4752 - val_accuracy: 0.7828\n",
      "Epoch 15/100\n",
      "20000/20000 [==============================] - 24s 1ms/sample - loss: 0.4526 - accuracy: 0.7978 - val_loss: 0.4730 - val_accuracy: 0.7820\n",
      "Epoch 16/100\n",
      "20000/20000 [==============================] - 24s 1ms/sample - loss: 0.4480 - accuracy: 0.7994 - val_loss: 0.4768 - val_accuracy: 0.7764\n",
      "Epoch 17/100\n",
      "20000/20000 [==============================] - 25s 1ms/sample - loss: 0.4440 - accuracy: 0.8015 - val_loss: 0.4621 - val_accuracy: 0.7880\n",
      "Epoch 18/100\n",
      "20000/20000 [==============================] - 24s 1ms/sample - loss: 0.4403 - accuracy: 0.8012 - val_loss: 0.4593 - val_accuracy: 0.7890\n",
      "Epoch 19/100\n",
      "20000/20000 [==============================] - 26s 1ms/sample - loss: 0.4366 - accuracy: 0.8049 - val_loss: 0.4569 - val_accuracy: 0.7918\n",
      "Epoch 20/100\n",
      "20000/20000 [==============================] - 30s 2ms/sample - loss: 0.4337 - accuracy: 0.8071 - val_loss: 0.4594 - val_accuracy: 0.7860\n",
      "Epoch 21/100\n",
      "20000/20000 [==============================] - 28s 1ms/sample - loss: 0.4312 - accuracy: 0.8090 - val_loss: 0.4547 - val_accuracy: 0.7862\n",
      "Epoch 22/100\n",
      "20000/20000 [==============================] - 26s 1ms/sample - loss: 0.4285 - accuracy: 0.8079 - val_loss: 0.4548 - val_accuracy: 0.7876\n",
      "Epoch 23/100\n",
      "20000/20000 [==============================] - 25s 1ms/sample - loss: 0.4259 - accuracy: 0.8102 - val_loss: 0.4508 - val_accuracy: 0.7906\n",
      "Epoch 24/100\n",
      "20000/20000 [==============================] - 25s 1ms/sample - loss: 0.4239 - accuracy: 0.8109 - val_loss: 0.4484 - val_accuracy: 0.7892\n",
      "Epoch 25/100\n",
      "20000/20000 [==============================] - 24s 1ms/sample - loss: 0.4220 - accuracy: 0.8110 - val_loss: 0.4510 - val_accuracy: 0.7902\n",
      "Epoch 26/100\n",
      "20000/20000 [==============================] - 24s 1ms/sample - loss: 0.4203 - accuracy: 0.8140 - val_loss: 0.4521 - val_accuracy: 0.7882\n",
      "Epoch 27/100\n",
      "20000/20000 [==============================] - 24s 1ms/sample - loss: 0.4180 - accuracy: 0.8138 - val_loss: 0.4504 - val_accuracy: 0.7904\n"
     ]
    }
   ],
   "source": [
    "rmsprop = keras.optimizers.RMSprop( learning_rate = 1e-4 )\n",
    "model.compile( optimizer = rmsprop, \n",
    "               loss = 'binary_crossentropy',\n",
    "               metrics = [ 'accuracy' ] )\n",
    "\n",
    "checkpoint_cb = keras.callbacks.ModelCheckpoint( 'best-simplernn-model.h5' )\n",
    "early_stopping_cb = keras.callbacks.EarlyStopping( patience = 3,\n",
    "                                                   restore_best_weights = True )\n",
    "history = model.fit( X_train_oh, y_train, epochs = 100,\n",
    "                     batch_size = 64, \n",
    "                     validation_data = ( X_train_val_oh, y_train_val ),\n",
    "                     callbacks = [ checkpoint_cb, early_stopping_cb ] )"
   ]
  },
  {
   "cell_type": "markdown",
   "id": "f39505b5-1541-49a7-8a53-022b42614a62",
   "metadata": {},
   "source": [
    "* RNN 모델 평가( 시각화 )"
   ]
  },
  {
   "cell_type": "code",
   "execution_count": 61,
   "id": "5a3511e3-5b18-494a-bf8e-22d964989750",
   "metadata": {},
   "outputs": [
    {
     "data": {
      "image/png": "[encoded data removed]",
      "text/plain": [
       "<Figure size 432x288 with 1 Axes>"
      ]
     },
     "metadata": {
      "needs_background": "light"
     },
     "output_type": "display_data"
    }
   ],
   "source": [
    "plt.plot( history.history[ 'loss' ] )\n",
    "plt.plot( history.history[ 'val_loss' ] )\n",
    "plt.xlabel( 'epoch' )\n",
    "plt.ylabel( 'count' )\n",
    "plt.show()"
   ]
  },
  {
   "cell_type": "code",
   "execution_count": null,
   "id": "7a216e39-57c4-4134-9551-116543d381a2",
   "metadata": {},
   "outputs": [],
   "source": []
  }
 ],
 "metadata": {
  "kernelspec": {
   "display_name": "Python 3 (ipykernel)",
   "language": "python",
   "name": "python3"
  },
  "language_info": {
   "codemirror_mode": {
    "name": "ipython",
    "version": 3
   },
   "file_extension": ".py",
   "mimetype": "text/x-python",
   "name": "python",
   "nbconvert_exporter": "python",
   "pygments_lexer": "ipython3",
   "version": "3.7.5"
  }
 },
 "nbformat": 4,
 "nbformat_minor": 5
}
