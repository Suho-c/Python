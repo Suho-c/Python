{
 "cells": [
  {
   "cell_type": "markdown",
   "id": "6c6c6044-1ed7-48c2-819a-f3d234fadc8e",
   "metadata": {},
   "source": [
    "# Scikit-learn 프레임워크"
   ]
  },
  {
   "cell_type": "code",
   "execution_count": 1,
   "id": "1a7a414e-46fe-436b-9f36-f0c2090e9a53",
   "metadata": {},
   "outputs": [],
   "source": [
    "import sklearn"
   ]
  },
  {
   "cell_type": "code",
   "execution_count": 2,
   "id": "540e0932-2c99-4428-83c7-18a94de08b1c",
   "metadata": {},
   "outputs": [
    {
     "data": {
      "text/plain": [
       "'0.24.2'"
      ]
     },
     "execution_count": 2,
     "metadata": {},
     "output_type": "execute_result"
    }
   ],
   "source": [
    "sklearn.__version__"
   ]
  },
  {
   "cell_type": "markdown",
   "id": "8ddd6c14-195c-4ee1-9394-517cb809f790",
   "metadata": {},
   "source": [
    "## Scikit-learn 내장 데이터셋"
   ]
  },
  {
   "cell_type": "code",
   "execution_count": 3,
   "id": "367b95ce-5afa-46ff-a68d-50248e561433",
   "metadata": {},
   "outputs": [],
   "source": [
    "from sklearn.datasets import load_iris"
   ]
  },
  {
   "cell_type": "code",
   "execution_count": 4,
   "id": "e00541fe-bf5e-4807-aac4-66b00ab078df",
   "metadata": {},
   "outputs": [
    {
     "name": "stdout",
     "output_type": "stream",
     "text": [
      "<class 'sklearn.utils.Bunch'>\n"
     ]
    }
   ],
   "source": [
    "iris = load_iris()\n",
    "print( type( iris ) )"
   ]
  },
  {
   "cell_type": "code",
   "execution_count": 5,
   "id": "cc188da0-9373-44e7-8c75-08154ffc6529",
   "metadata": {},
   "outputs": [
    {
     "name": "stdout",
     "output_type": "stream",
     "text": [
      "dict_keys(['data', 'target', 'frame', 'target_names', 'DESCR', 'feature_names', 'filename'])\n"
     ]
    }
   ],
   "source": [
    "keys = iris.keys()\n",
    "print( keys )"
   ]
  },
  {
   "cell_type": "code",
   "execution_count": 7,
   "id": "dca73980-48b0-4bc7-8be8-7dc98e388f52",
   "metadata": {},
   "outputs": [
    {
     "name": "stdout",
     "output_type": "stream",
     "text": [
      "data type : <class 'numpy.ndarray'>\n",
      "data len : 150\n",
      "[[5.1 3.5 1.4 0.2]\n",
      " [4.9 3.  1.4 0.2]\n",
      " [4.7 3.2 1.3 0.2]\n",
      " [4.6 3.1 1.5 0.2]\n",
      " [5.  3.6 1.4 0.2]\n",
      " [5.4 3.9 1.7 0.4]\n",
      " [4.6 3.4 1.4 0.3]\n",
      " [5.  3.4 1.5 0.2]\n",
      " [4.4 2.9 1.4 0.2]\n",
      " [4.9 3.1 1.5 0.1]\n",
      " [5.4 3.7 1.5 0.2]\n",
      " [4.8 3.4 1.6 0.2]\n",
      " [4.8 3.  1.4 0.1]\n",
      " [4.3 3.  1.1 0.1]\n",
      " [5.8 4.  1.2 0.2]\n",
      " [5.7 4.4 1.5 0.4]\n",
      " [5.4 3.9 1.3 0.4]\n",
      " [5.1 3.5 1.4 0.3]\n",
      " [5.7 3.8 1.7 0.3]\n",
      " [5.1 3.8 1.5 0.3]\n",
      " [5.4 3.4 1.7 0.2]\n",
      " [5.1 3.7 1.5 0.4]\n",
      " [4.6 3.6 1.  0.2]\n",
      " [5.1 3.3 1.7 0.5]\n",
      " [4.8 3.4 1.9 0.2]\n",
      " [5.  3.  1.6 0.2]\n",
      " [5.  3.4 1.6 0.4]\n",
      " [5.2 3.5 1.5 0.2]\n",
      " [5.2 3.4 1.4 0.2]\n",
      " [4.7 3.2 1.6 0.2]\n",
      " [4.8 3.1 1.6 0.2]\n",
      " [5.4 3.4 1.5 0.4]\n",
      " [5.2 4.1 1.5 0.1]\n",
      " [5.5 4.2 1.4 0.2]\n",
      " [4.9 3.1 1.5 0.2]\n",
      " [5.  3.2 1.2 0.2]\n",
      " [5.5 3.5 1.3 0.2]\n",
      " [4.9 3.6 1.4 0.1]\n",
      " [4.4 3.  1.3 0.2]\n",
      " [5.1 3.4 1.5 0.2]\n",
      " [5.  3.5 1.3 0.3]\n",
      " [4.5 2.3 1.3 0.3]\n",
      " [4.4 3.2 1.3 0.2]\n",
      " [5.  3.5 1.6 0.6]\n",
      " [5.1 3.8 1.9 0.4]\n",
      " [4.8 3.  1.4 0.3]\n",
      " [5.1 3.8 1.6 0.2]\n",
      " [4.6 3.2 1.4 0.2]\n",
      " [5.3 3.7 1.5 0.2]\n",
      " [5.  3.3 1.4 0.2]\n",
      " [7.  3.2 4.7 1.4]\n",
      " [6.4 3.2 4.5 1.5]\n",
      " [6.9 3.1 4.9 1.5]\n",
      " [5.5 2.3 4.  1.3]\n",
      " [6.5 2.8 4.6 1.5]\n",
      " [5.7 2.8 4.5 1.3]\n",
      " [6.3 3.3 4.7 1.6]\n",
      " [4.9 2.4 3.3 1. ]\n",
      " [6.6 2.9 4.6 1.3]\n",
      " [5.2 2.7 3.9 1.4]\n",
      " [5.  2.  3.5 1. ]\n",
      " [5.9 3.  4.2 1.5]\n",
      " [6.  2.2 4.  1. ]\n",
      " [6.1 2.9 4.7 1.4]\n",
      " [5.6 2.9 3.6 1.3]\n",
      " [6.7 3.1 4.4 1.4]\n",
      " [5.6 3.  4.5 1.5]\n",
      " [5.8 2.7 4.1 1. ]\n",
      " [6.2 2.2 4.5 1.5]\n",
      " [5.6 2.5 3.9 1.1]\n",
      " [5.9 3.2 4.8 1.8]\n",
      " [6.1 2.8 4.  1.3]\n",
      " [6.3 2.5 4.9 1.5]\n",
      " [6.1 2.8 4.7 1.2]\n",
      " [6.4 2.9 4.3 1.3]\n",
      " [6.6 3.  4.4 1.4]\n",
      " [6.8 2.8 4.8 1.4]\n",
      " [6.7 3.  5.  1.7]\n",
      " [6.  2.9 4.5 1.5]\n",
      " [5.7 2.6 3.5 1. ]\n",
      " [5.5 2.4 3.8 1.1]\n",
      " [5.5 2.4 3.7 1. ]\n",
      " [5.8 2.7 3.9 1.2]\n",
      " [6.  2.7 5.1 1.6]\n",
      " [5.4 3.  4.5 1.5]\n",
      " [6.  3.4 4.5 1.6]\n",
      " [6.7 3.1 4.7 1.5]\n",
      " [6.3 2.3 4.4 1.3]\n",
      " [5.6 3.  4.1 1.3]\n",
      " [5.5 2.5 4.  1.3]\n",
      " [5.5 2.6 4.4 1.2]\n",
      " [6.1 3.  4.6 1.4]\n",
      " [5.8 2.6 4.  1.2]\n",
      " [5.  2.3 3.3 1. ]\n",
      " [5.6 2.7 4.2 1.3]\n",
      " [5.7 3.  4.2 1.2]\n",
      " [5.7 2.9 4.2 1.3]\n",
      " [6.2 2.9 4.3 1.3]\n",
      " [5.1 2.5 3.  1.1]\n",
      " [5.7 2.8 4.1 1.3]\n",
      " [6.3 3.3 6.  2.5]\n",
      " [5.8 2.7 5.1 1.9]\n",
      " [7.1 3.  5.9 2.1]\n",
      " [6.3 2.9 5.6 1.8]\n",
      " [6.5 3.  5.8 2.2]\n",
      " [7.6 3.  6.6 2.1]\n",
      " [4.9 2.5 4.5 1.7]\n",
      " [7.3 2.9 6.3 1.8]\n",
      " [6.7 2.5 5.8 1.8]\n",
      " [7.2 3.6 6.1 2.5]\n",
      " [6.5 3.2 5.1 2. ]\n",
      " [6.4 2.7 5.3 1.9]\n",
      " [6.8 3.  5.5 2.1]\n",
      " [5.7 2.5 5.  2. ]\n",
      " [5.8 2.8 5.1 2.4]\n",
      " [6.4 3.2 5.3 2.3]\n",
      " [6.5 3.  5.5 1.8]\n",
      " [7.7 3.8 6.7 2.2]\n",
      " [7.7 2.6 6.9 2.3]\n",
      " [6.  2.2 5.  1.5]\n",
      " [6.9 3.2 5.7 2.3]\n",
      " [5.6 2.8 4.9 2. ]\n",
      " [7.7 2.8 6.7 2. ]\n",
      " [6.3 2.7 4.9 1.8]\n",
      " [6.7 3.3 5.7 2.1]\n",
      " [7.2 3.2 6.  1.8]\n",
      " [6.2 2.8 4.8 1.8]\n",
      " [6.1 3.  4.9 1.8]\n",
      " [6.4 2.8 5.6 2.1]\n",
      " [7.2 3.  5.8 1.6]\n",
      " [7.4 2.8 6.1 1.9]\n",
      " [7.9 3.8 6.4 2. ]\n",
      " [6.4 2.8 5.6 2.2]\n",
      " [6.3 2.8 5.1 1.5]\n",
      " [6.1 2.6 5.6 1.4]\n",
      " [7.7 3.  6.1 2.3]\n",
      " [6.3 3.4 5.6 2.4]\n",
      " [6.4 3.1 5.5 1.8]\n",
      " [6.  3.  4.8 1.8]\n",
      " [6.9 3.1 5.4 2.1]\n",
      " [6.7 3.1 5.6 2.4]\n",
      " [6.9 3.1 5.1 2.3]\n",
      " [5.8 2.7 5.1 1.9]\n",
      " [6.8 3.2 5.9 2.3]\n",
      " [6.7 3.3 5.7 2.5]\n",
      " [6.7 3.  5.2 2.3]\n",
      " [6.3 2.5 5.  1.9]\n",
      " [6.5 3.  5.2 2. ]\n",
      " [6.2 3.4 5.4 2.3]\n",
      " [5.9 3.  5.1 1.8]]\n",
      "\n",
      "feature names type : <class 'list'>\n",
      "feature names len : 4\n",
      "['sepal length (cm)', 'sepal width (cm)', 'petal length (cm)', 'petal width (cm)']\n",
      "\n",
      "target type : <class 'numpy.ndarray'>\n",
      "target len : 150\n",
      "[0 0 0 0 0 0 0 0 0 0 0 0 0 0 0 0 0 0 0 0 0 0 0 0 0 0 0 0 0 0 0 0 0 0 0 0 0\n",
      " 0 0 0 0 0 0 0 0 0 0 0 0 0 1 1 1 1 1 1 1 1 1 1 1 1 1 1 1 1 1 1 1 1 1 1 1 1\n",
      " 1 1 1 1 1 1 1 1 1 1 1 1 1 1 1 1 1 1 1 1 1 1 1 1 1 1 2 2 2 2 2 2 2 2 2 2 2\n",
      " 2 2 2 2 2 2 2 2 2 2 2 2 2 2 2 2 2 2 2 2 2 2 2 2 2 2 2 2 2 2 2 2 2 2 2 2 2\n",
      " 2 2]\n",
      "\n",
      "target name type : <class 'numpy.ndarray'>\n",
      "target name len : 3\n",
      "['setosa' 'versicolor' 'virginica']\n"
     ]
    }
   ],
   "source": [
    "print( f'data type : {type( iris.data )}' )\n",
    "print( f'data len : {len( iris.data )}' )\n",
    "print( f'{iris[ \"data\" ]}' )\n",
    "\n",
    "print( f'\\nfeature names type : {type( iris.feature_names )}' )\n",
    "print( f'feature names len : {len( iris.feature_names )}' )\n",
    "print( f'{iris[ \"feature_names\" ]}' )\n",
    "\n",
    "print( f'\\ntarget type : {type( iris.target )}' )\n",
    "print( f'target len : {len( iris.target )}' )\n",
    "print( f'{iris[ \"target\" ]}' )\n",
    "\n",
    "print( f'\\ntarget name type : {type( iris.target_names )}' )\n",
    "print( f'target name len : {len( iris.target_names )}' )\n",
    "print( f'{iris[ \"target_names\" ]}' )"
   ]
  },
  {
   "cell_type": "code",
   "execution_count": 8,
   "id": "3e36f768-ea12-4fc2-a399-297dfa209c2f",
   "metadata": {},
   "outputs": [
    {
     "name": "stdout",
     "output_type": "stream",
     "text": [
      ".. _iris_dataset:\n",
      "\n",
      "Iris plants dataset\n",
      "--------------------\n",
      "\n",
      "**Data Set Characteristics:**\n",
      "\n",
      "    :Number of Instances: 150 (50 in each of three classes)\n",
      "    :Number of Attributes: 4 numeric, predictive attributes and the class\n",
      "    :Attribute Information:\n",
      "        - sepal length in cm\n",
      "        - sepal width in cm\n",
      "        - petal length in cm\n",
      "        - petal width in cm\n",
      "        - class:\n",
      "                - Iris-Setosa\n",
      "                - Iris-Versicolour\n",
      "                - Iris-Virginica\n",
      "                \n",
      "    :Summary Statistics:\n",
      "\n",
      "    ============== ==== ==== ======= ===== ====================\n",
      "                    Min  Max   Mean    SD   Class Correlation\n",
      "    ============== ==== ==== ======= ===== ====================\n",
      "    sepal length:   4.3  7.9   5.84   0.83    0.7826\n",
      "    sepal width:    2.0  4.4   3.05   0.43   -0.4194\n",
      "    petal length:   1.0  6.9   3.76   1.76    0.9490  (high!)\n",
      "    petal width:    0.1  2.5   1.20   0.76    0.9565  (high!)\n",
      "    ============== ==== ==== ======= ===== ====================\n",
      "\n",
      "    :Missing Attribute Values: None\n",
      "    :Class Distribution: 33.3% for each of 3 classes.\n",
      "    :Creator: R.A. Fisher\n",
      "    :Donor: Michael Marshall (MARSHALL%PLU@io.arc.nasa.gov)\n",
      "    :Date: July, 1988\n",
      "\n",
      "The famous Iris database, first used by Sir R.A. Fisher. The dataset is taken\n",
      "from Fisher's paper. Note that it's the same as in R, but not as in the UCI\n",
      "Machine Learning Repository, which has two wrong data points.\n",
      "\n",
      "This is perhaps the best known database to be found in the\n",
      "pattern recognition literature.  Fisher's paper is a classic in the field and\n",
      "is referenced frequently to this day.  (See Duda & Hart, for example.)  The\n",
      "data set contains 3 classes of 50 instances each, where each class refers to a\n",
      "type of iris plant.  One class is linearly separable from the other 2; the\n",
      "latter are NOT linearly separable from each other.\n",
      "\n",
      ".. topic:: References\n",
      "\n",
      "   - Fisher, R.A. \"The use of multiple measurements in taxonomic problems\"\n",
      "     Annual Eugenics, 7, Part II, 179-188 (1936); also in \"Contributions to\n",
      "     Mathematical Statistics\" (John Wiley, NY, 1950).\n",
      "   - Duda, R.O., & Hart, P.E. (1973) Pattern Classification and Scene Analysis.\n",
      "     (Q327.D83) John Wiley & Sons.  ISBN 0-471-22361-1.  See page 218.\n",
      "   - Dasarathy, B.V. (1980) \"Nosing Around the Neighborhood: A New System\n",
      "     Structure and Classification Rule for Recognition in Partially Exposed\n",
      "     Environments\".  IEEE Transactions on Pattern Analysis and Machine\n",
      "     Intelligence, Vol. PAMI-2, No. 1, 67-71.\n",
      "   - Gates, G.W. (1972) \"The Reduced Nearest Neighbor Rule\".  IEEE Transactions\n",
      "     on Information Theory, May 1972, 431-433.\n",
      "   - See also: 1988 MLC Proceedings, 54-64.  Cheeseman et al\"s AUTOCLASS II\n",
      "     conceptual clustering system finds 3 classes in the data.\n",
      "   - Many, many more ...\n"
     ]
    }
   ],
   "source": [
    "print( iris[ 'DESCR' ] )"
   ]
  },
  {
   "cell_type": "markdown",
   "id": "4859d399-0dfd-4a95-8dc6-00773f433de2",
   "metadata": {},
   "source": [
    "## Scikit-learn 데이터 전처리\n",
    "\n",
    "### encoding : str 형태 자료를 numeric 형태 자료로 변환하는 방법\n",
    "\n",
    "#### Label encoding"
   ]
  },
  {
   "cell_type": "code",
   "execution_count": 10,
   "id": "a431255a-e70d-4a94-9199-ce7b2df37a51",
   "metadata": {},
   "outputs": [],
   "source": [
    "from sklearn.preprocessing import LabelEncoder"
   ]
  },
  {
   "cell_type": "code",
   "execution_count": 11,
   "id": "d3a90d31-0e64-4f07-815d-e6c24d3fb9b7",
   "metadata": {},
   "outputs": [],
   "source": [
    "items = [ 'tv', '냉장고', '전자레인지', '컴퓨터', '선풍기', '선풍기', '믹서', '믹서' ]\n",
    "\n",
    "encoder = LabelEncoder()\n",
    "encoder.fit( items )\n",
    "labels = encoder.transform( items )"
   ]
  },
  {
   "cell_type": "code",
   "execution_count": 12,
   "id": "75c8b3b5-e23e-440e-87d0-af75ef63aaf3",
   "metadata": {},
   "outputs": [
    {
     "name": "stdout",
     "output_type": "stream",
     "text": [
      "Label encoding 결과 : [0 1 4 5 3 3 2 2]\n"
     ]
    }
   ],
   "source": [
    "print( f'Label encoding 결과 : {labels}' )"
   ]
  },
  {
   "cell_type": "code",
   "execution_count": 13,
   "id": "11c3a4cf-2e88-4290-b73a-cad2a9ed6d13",
   "metadata": {},
   "outputs": [
    {
     "name": "stdout",
     "output_type": "stream",
     "text": [
      "encoding 클래스 : ['tv' '냉장고' '믹서' '선풍기' '전자레인지' '컴퓨터']\n"
     ]
    }
   ],
   "source": [
    "print( f'encoding 클래스 : {encoder.classes_}' )"
   ]
  },
  {
   "cell_type": "code",
   "execution_count": 15,
   "id": "5786336d-f156-47e3-9dc5-4537c15aa89a",
   "metadata": {},
   "outputs": [
    {
     "name": "stdout",
     "output_type": "stream",
     "text": [
      "decoding 값 : ['tv' '냉장고' '전자레인지' '컴퓨터' '선풍기' '선풍기' '믹서' '믹서']\n"
     ]
    }
   ],
   "source": [
    "print( f'decoding 값 : {encoder.inverse_transform( [ 0, 1, 4, 5, 3, 3, 2, 2 ] ) }' )"
   ]
  },
  {
   "cell_type": "markdown",
   "id": "9c24db9d-49a8-40fd-ab9e-89b95142795a",
   "metadata": {},
   "source": [
    "#### One-hot encoding"
   ]
  },
  {
   "cell_type": "code",
   "execution_count": 17,
   "id": "9a76045f-1233-4a9a-aa0c-46ccf40cb4fb",
   "metadata": {},
   "outputs": [],
   "source": [
    "import numpy as np\n",
    "from sklearn.preprocessing import OneHotEncoder"
   ]
  },
  {
   "cell_type": "code",
   "execution_count": 18,
   "id": "58ac95c4-8cbe-43a2-a855-83081745e359",
   "metadata": {},
   "outputs": [
    {
     "name": "stdout",
     "output_type": "stream",
     "text": [
      "['tv', '냉장고', '전자레인지', '컴퓨터', '선풍기', '선풍기', '믹서', '믹서']\n"
     ]
    }
   ],
   "source": [
    "print( items )"
   ]
  },
  {
   "cell_type": "code",
   "execution_count": 20,
   "id": "8381970c-6cbc-4644-9e1f-ab08423cd665",
   "metadata": {},
   "outputs": [
    {
     "name": "stdout",
     "output_type": "stream",
     "text": [
      "[0 1 4 5 3 3 2 2]\n"
     ]
    }
   ],
   "source": [
    "print( labels )"
   ]
  },
  {
   "cell_type": "code",
   "execution_count": 21,
   "id": "5c54a05a-cd1b-4012-9a59-15ed26c40fbe",
   "metadata": {},
   "outputs": [
    {
     "name": "stdout",
     "output_type": "stream",
     "text": [
      "[[0]\n",
      " [1]\n",
      " [4]\n",
      " [5]\n",
      " [3]\n",
      " [3]\n",
      " [2]\n",
      " [2]]\n"
     ]
    }
   ],
   "source": [
    "labels = labels.reshape( -1, 1 )\n",
    "print( labels )"
   ]
  },
  {
   "cell_type": "code",
   "execution_count": 22,
   "id": "28f39507-1f8c-44b3-9403-7b1d799736f3",
   "metadata": {},
   "outputs": [],
   "source": [
    "o_encoder = OneHotEncoder()\n",
    "o_encoder.fit( labels )\n",
    "o_labels = o_encoder.transform( labels )"
   ]
  },
  {
   "cell_type": "code",
   "execution_count": 23,
   "id": "1a213264-b12d-42bf-9d0f-94a949007e96",
   "metadata": {},
   "outputs": [
    {
     "name": "stdout",
     "output_type": "stream",
     "text": [
      "One-hot encoding : \n",
      "[[1. 0. 0. 0. 0. 0.]\n",
      " [0. 1. 0. 0. 0. 0.]\n",
      " [0. 0. 0. 0. 1. 0.]\n",
      " [0. 0. 0. 0. 0. 1.]\n",
      " [0. 0. 0. 1. 0. 0.]\n",
      " [0. 0. 0. 1. 0. 0.]\n",
      " [0. 0. 1. 0. 0. 0.]\n",
      " [0. 0. 1. 0. 0. 0.]]\n",
      "\n",
      "구조 : (8, 6)\n"
     ]
    }
   ],
   "source": [
    "print( f'One-hot encoding : \\n{o_labels.toarray()}' )\n",
    "print( f'\\n구조 : {o_labels.shape}' )"
   ]
  },
  {
   "cell_type": "markdown",
   "id": "853f1e56-e88c-4bd6-bf03-989ae5023681",
   "metadata": {},
   "source": [
    "### feature scaling : 특성의 분포를 일정한 수준으로 맞추는 전처리\n",
    "\n",
    "#### 표준화( StandardScaler ) : 서로 다른 특성 각각을 평균 0, 표준편차 1 로 맞추는 scaling"
   ]
  },
  {
   "cell_type": "code",
   "execution_count": 29,
   "id": "2dd0424c-321e-4158-bbcd-66841f1e2506",
   "metadata": {},
   "outputs": [],
   "source": [
    "import pandas as pd\n",
    "from sklearn.preprocessing import StandardScaler"
   ]
  },
  {
   "cell_type": "code",
   "execution_count": 25,
   "id": "5bc6103c-e1e6-481f-bec2-3ca780734af9",
   "metadata": {},
   "outputs": [
    {
     "data": {
      "text/html": [
       "<div>\n",
       "<style scoped>\n",
       "    .dataframe tbody tr th:only-of-type {\n",
       "        vertical-align: middle;\n",
       "    }\n",
       "\n",
       "    .dataframe tbody tr th {\n",
       "        vertical-align: top;\n",
       "    }\n",
       "\n",
       "    .dataframe thead th {\n",
       "        text-align: right;\n",
       "    }\n",
       "</style>\n",
       "<table border=\"1\" class=\"dataframe\">\n",
       "  <thead>\n",
       "    <tr style=\"text-align: right;\">\n",
       "      <th></th>\n",
       "      <th>sepal length (cm)</th>\n",
       "      <th>sepal width (cm)</th>\n",
       "      <th>petal length (cm)</th>\n",
       "      <th>petal width (cm)</th>\n",
       "    </tr>\n",
       "  </thead>\n",
       "  <tbody>\n",
       "    <tr>\n",
       "      <th>0</th>\n",
       "      <td>5.1</td>\n",
       "      <td>3.5</td>\n",
       "      <td>1.4</td>\n",
       "      <td>0.2</td>\n",
       "    </tr>\n",
       "    <tr>\n",
       "      <th>1</th>\n",
       "      <td>4.9</td>\n",
       "      <td>3.0</td>\n",
       "      <td>1.4</td>\n",
       "      <td>0.2</td>\n",
       "    </tr>\n",
       "    <tr>\n",
       "      <th>2</th>\n",
       "      <td>4.7</td>\n",
       "      <td>3.2</td>\n",
       "      <td>1.3</td>\n",
       "      <td>0.2</td>\n",
       "    </tr>\n",
       "    <tr>\n",
       "      <th>3</th>\n",
       "      <td>4.6</td>\n",
       "      <td>3.1</td>\n",
       "      <td>1.5</td>\n",
       "      <td>0.2</td>\n",
       "    </tr>\n",
       "    <tr>\n",
       "      <th>4</th>\n",
       "      <td>5.0</td>\n",
       "      <td>3.6</td>\n",
       "      <td>1.4</td>\n",
       "      <td>0.2</td>\n",
       "    </tr>\n",
       "  </tbody>\n",
       "</table>\n",
       "</div>"
      ],
      "text/plain": [
       "   sepal length (cm)  sepal width (cm)  petal length (cm)  petal width (cm)\n",
       "0                5.1               3.5                1.4               0.2\n",
       "1                4.9               3.0                1.4               0.2\n",
       "2                4.7               3.2                1.3               0.2\n",
       "3                4.6               3.1                1.5               0.2\n",
       "4                5.0               3.6                1.4               0.2"
      ]
     },
     "execution_count": 25,
     "metadata": {},
     "output_type": "execute_result"
    }
   ],
   "source": [
    "df = pd.DataFrame( list( iris.data ), columns = iris.feature_names )\n",
    "df.head()"
   ]
  },
  {
   "cell_type": "code",
   "execution_count": 26,
   "id": "b5248ce7-1d0b-415e-abef-374a10ea7bde",
   "metadata": {},
   "outputs": [
    {
     "name": "stdout",
     "output_type": "stream",
     "text": [
      "iris feature별 평균 :\n",
      "sepal length (cm)    5.843333\n",
      "sepal width (cm)     3.057333\n",
      "petal length (cm)    3.758000\n",
      "petal width (cm)     1.199333\n",
      "dtype: float64\n",
      "\n",
      "iris feature별 분산 :\n",
      "sepal length (cm)    0.685694\n",
      "sepal width (cm)     0.189979\n",
      "petal length (cm)    3.116278\n",
      "petal width (cm)     0.581006\n",
      "dtype: float64\n"
     ]
    }
   ],
   "source": [
    "print( f'iris feature별 평균 :\\n{df.mean()}' )\n",
    "print( f'\\niris feature별 분산 :\\n{df.var()}' )"
   ]
  },
  {
   "cell_type": "code",
   "execution_count": 27,
   "id": "8fce4039-8f1c-4635-8720-6854d4a70cd1",
   "metadata": {},
   "outputs": [],
   "source": [
    "scaler = StandardScaler()\n",
    "scaler.fit( df )\n",
    "df_scale = scaler.transform( df )\n",
    "df_scale_result = pd.DataFrame( df_scale, columns = iris.feature_names )"
   ]
  },
  {
   "cell_type": "code",
   "execution_count": 28,
   "id": "c2056763-83e5-414e-962a-462004538125",
   "metadata": {},
   "outputs": [
    {
     "name": "stdout",
     "output_type": "stream",
     "text": [
      "표준화된 iris feature별 평균 :\n",
      "sepal length (cm)   -2.775558e-16\n",
      "sepal width (cm)    -9.695948e-16\n",
      "petal length (cm)   -8.652338e-16\n",
      "petal width (cm)    -4.662937e-16\n",
      "dtype: float64\n",
      "\n",
      "표준화된 iris feature별 분산 :\n",
      "sepal length (cm)    1.006711\n",
      "sepal width (cm)     1.006711\n",
      "petal length (cm)    1.006711\n",
      "petal width (cm)     1.006711\n",
      "dtype: float64\n"
     ]
    }
   ],
   "source": [
    "print( f'표준화된 iris feature별 평균 :\\n{df_scale_result.mean()}' )\n",
    "print( f'\\n표준화된 iris feature별 분산 :\\n{df_scale_result.var()}' )"
   ]
  },
  {
   "cell_type": "markdown",
   "id": "54763db3-1e9b-47e0-abc5-1df497f9c053",
   "metadata": {},
   "source": [
    "#### 정규화( Normalization MinMaxScaler ) : 서로 다른 특성 크기를 0 ~ 1 사이값으로 통일시키는 scaling"
   ]
  },
  {
   "cell_type": "code",
   "execution_count": 43,
   "id": "3ffcd4d7-80bf-4529-afa0-51b0172f8670",
   "metadata": {},
   "outputs": [],
   "source": [
    "from sklearn.preprocessing import MinMaxScaler"
   ]
  },
  {
   "cell_type": "code",
   "execution_count": 44,
   "id": "ff6adb42-4fc7-4a4d-acd0-dfadd202f3c8",
   "metadata": {},
   "outputs": [],
   "source": [
    "scaler = MinMaxScaler()\n",
    "scaler.fit( df )\n",
    "df_scaler = scaler.transform( df )\n",
    "df_scaler_result = pd.DataFrame( df_scaler, columns = iris.feature_names )"
   ]
  },
  {
   "cell_type": "code",
   "execution_count": 45,
   "id": "b0b8a174-a7e7-44a6-937e-23d1f845d3d0",
   "metadata": {},
   "outputs": [
    {
     "name": "stdout",
     "output_type": "stream",
     "text": [
      "정규화된 iris feature별 평균 :\n",
      "sepal length (cm)    0.428704\n",
      "sepal width (cm)     0.440556\n",
      "petal length (cm)    0.467458\n",
      "petal width (cm)     0.458056\n",
      "dtype: float64\n",
      "\n",
      "정규화된 iris feature별 분산 :\n",
      "sepal length (cm)    0.052908\n",
      "sepal width (cm)     0.032983\n",
      "petal length (cm)    0.089522\n",
      "petal width (cm)     0.100869\n",
      "dtype: float64\n"
     ]
    }
   ],
   "source": [
    "print( f'정규화된 iris feature별 평균 :\\n{df_scaler_result.mean()}' )\n",
    "print( f'\\n정규화된 iris feature별 분산 :\\n{df_scaler_result.var()}' )"
   ]
  },
  {
   "cell_type": "markdown",
   "id": "a587c08c-3a81-47ff-a7c3-c484d3cd4454",
   "metadata": {},
   "source": [
    "## 데이터 분리( Splitting data )\n",
    "\n",
    "* 지도 학습 알고리즘을 이용하여 AI 모델 생성을 위한 학습에 사용할 데이터를 분리한다.\n",
    "    * 입력 데이터, 정답 데이터로 분리한다.\n",
    "    * 학습 데이터, 검증 데이터, 테스트 데이터로 분리한다.\n",
    "        * 검증 데이터는 학습 데이터를 이용하여 분리한다."
   ]
  },
  {
   "cell_type": "markdown",
   "id": "3de41e77-ab72-4530-8910-2d33a0d5b77a",
   "metadata": {},
   "source": [
    "### 1. 파이썬 zip() 함수 이용 데이터 분리( 입력 데이터와 정답 데이터 분리 )"
   ]
  },
  {
   "cell_type": "code",
   "execution_count": 46,
   "id": "745eaaaa-072b-49aa-9df2-3991a5fffec3",
   "metadata": {},
   "outputs": [
    {
     "name": "stdout",
     "output_type": "stream",
     "text": [
      "X = ('a', 'b', 'c')\n",
      "y = (1, 2, 3)\n"
     ]
    }
   ],
   "source": [
    "# X : 입력 데이터\n",
    "# y : 정답 데이터 \n",
    "X, y = zip( [ 'a', 1 ], [ 'b', 2 ], [ 'c', 3 ] )\n",
    "\n",
    "print( f'X = {X}' )\n",
    "print( f'y = {y}' )"
   ]
  },
  {
   "cell_type": "code",
   "execution_count": 47,
   "id": "27f34a55-4086-45ef-8c94-66a3d6de711d",
   "metadata": {},
   "outputs": [
    {
     "name": "stdout",
     "output_type": "stream",
     "text": [
      "X = ('a', 'b', 'c')\n",
      "y = (1, 2, 3)\n"
     ]
    }
   ],
   "source": [
    "sequence = [ [ 'a', 1 ], [ 'b', 2 ], [ 'c', 3 ] ]\n",
    "X, y = zip( *sequence )\n",
    "\n",
    "print( f'X = {X}' )\n",
    "print( f'y = {y}' )"
   ]
  },
  {
   "cell_type": "markdown",
   "id": "17359a2a-e9e4-4813-9775-f1dedcb5f055",
   "metadata": {},
   "source": [
    "### 2. NumPy를 이용한 데이터 분리( 입력 데이터와 정답 데이터 분리 )"
   ]
  },
  {
   "cell_type": "code",
   "execution_count": 48,
   "id": "c8c08a93-460f-458f-84f2-a5f2029aaef7",
   "metadata": {},
   "outputs": [
    {
     "name": "stdout",
     "output_type": "stream",
     "text": [
      "[[ 0  1  2  3]\n",
      " [ 4  5  6  7]\n",
      " [ 8  9 10 11]\n",
      " [12 13 14 15]]\n"
     ]
    }
   ],
   "source": [
    "arr = np.arange( 0, 16 ).reshape( ( 4, 4 ) )\n",
    "print( arr )"
   ]
  },
  {
   "cell_type": "code",
   "execution_count": 49,
   "id": "fd8150f0-f3d2-4239-8ed2-b62c8963c41d",
   "metadata": {},
   "outputs": [],
   "source": [
    "X = arr[ :, :3 ]\n",
    "y = arr[ :, 3 ]"
   ]
  },
  {
   "cell_type": "code",
   "execution_count": 51,
   "id": "9c4daa5f-79ce-40be-83e2-863d8106ddfd",
   "metadata": {},
   "outputs": [
    {
     "name": "stdout",
     "output_type": "stream",
     "text": [
      "X = [[ 0  1  2]\n",
      " [ 4  5  6]\n",
      " [ 8  9 10]\n",
      " [12 13 14]]\n",
      "\n",
      "y = [ 3  7 11 15]\n"
     ]
    }
   ],
   "source": [
    "print( f'X = {X}' )\n",
    "print( f'\\ny = {y}' )"
   ]
  },
  {
   "cell_type": "markdown",
   "id": "8e6fe89b-05f3-4e24-9662-2062adabe036",
   "metadata": {},
   "source": [
    "### 3. Pandas DataFrame을 이용한 데이터 분리( 입력 데이터와 정답 데이터 )"
   ]
  },
  {
   "cell_type": "code",
   "execution_count": 56,
   "id": "31438cad-f451-4f19-bea5-ed5efd0241f6",
   "metadata": {},
   "outputs": [
    {
     "data": {
      "text/html": [
       "<div>\n",
       "<style scoped>\n",
       "    .dataframe tbody tr th:only-of-type {\n",
       "        vertical-align: middle;\n",
       "    }\n",
       "\n",
       "    .dataframe tbody tr th {\n",
       "        vertical-align: top;\n",
       "    }\n",
       "\n",
       "    .dataframe thead th {\n",
       "        text-align: right;\n",
       "    }\n",
       "</style>\n",
       "<table border=\"1\" class=\"dataframe\">\n",
       "  <thead>\n",
       "    <tr style=\"text-align: right;\">\n",
       "      <th></th>\n",
       "      <th>본문</th>\n",
       "      <th>스펨유무</th>\n",
       "    </tr>\n",
       "  </thead>\n",
       "  <tbody>\n",
       "    <tr>\n",
       "      <th>0</th>\n",
       "      <td>[광고] python program</td>\n",
       "      <td>1</td>\n",
       "    </tr>\n",
       "    <tr>\n",
       "      <th>1</th>\n",
       "      <td>python data analysis</td>\n",
       "      <td>0</td>\n",
       "    </tr>\n",
       "    <tr>\n",
       "      <th>2</th>\n",
       "      <td>( 광고 )python ML</td>\n",
       "      <td>1</td>\n",
       "    </tr>\n",
       "    <tr>\n",
       "      <th>3</th>\n",
       "      <td>python deeplearn</td>\n",
       "      <td>0</td>\n",
       "    </tr>\n",
       "  </tbody>\n",
       "</table>\n",
       "</div>"
      ],
      "text/plain": [
       "                     본문  스펨유무\n",
       "0   [광고] python program     1\n",
       "1  python data analysis     0\n",
       "2       ( 광고 )python ML     1\n",
       "3      python deeplearn     0"
      ]
     },
     "execution_count": 56,
     "metadata": {},
     "output_type": "execute_result"
    }
   ],
   "source": [
    "values = [ [ '[광고] python program', 1 ],\n",
    "           [ 'python data analysis', 0 ],\n",
    "           [ '( 광고 )python ML', 1 ],\n",
    "           [ 'python deeplearn', 0 ] ]\n",
    "columns = [ '본문', '스펨유무' ]\n",
    "\n",
    "df = pd.DataFrame( values, columns = columns )\n",
    "df"
   ]
  },
  {
   "cell_type": "code",
   "execution_count": 61,
   "id": "d354d8eb-ee3c-4e67-a23a-1a9a42bbf466",
   "metadata": {},
   "outputs": [],
   "source": [
    "X = df[ '본문' ]\n",
    "y = df[ '스펨유무' ]"
   ]
  },
  {
   "cell_type": "code",
   "execution_count": 62,
   "id": "430a6f1c-a8fa-41b9-89d9-ec8744b93954",
   "metadata": {},
   "outputs": [
    {
     "name": "stdout",
     "output_type": "stream",
     "text": [
      "(4,)\n",
      "0     [광고] python program\n",
      "1    python data analysis\n",
      "2         ( 광고 )python ML\n",
      "3        python deeplearn\n",
      "Name: 본문, dtype: object\n"
     ]
    }
   ],
   "source": [
    "print( f'{X.shape}\\n{X}' )"
   ]
  },
  {
   "cell_type": "code",
   "execution_count": 63,
   "id": "c054a6e9-d483-447f-b7ee-04eed392cc82",
   "metadata": {},
   "outputs": [
    {
     "name": "stdout",
     "output_type": "stream",
     "text": [
      "(4,)\n",
      "0    1\n",
      "1    0\n",
      "2    1\n",
      "3    0\n",
      "Name: 스펨유무, dtype: int64\n"
     ]
    }
   ],
   "source": [
    "print( f'{y.shape}\\n{y}' )"
   ]
  },
  {
   "cell_type": "markdown",
   "id": "b18a544b-24f8-4f89-9a3d-b200d9616724",
   "metadata": {},
   "source": [
    "### 4. 수동으로 학습용/테스트용 데이터 분리"
   ]
  },
  {
   "cell_type": "code",
   "execution_count": 64,
   "id": "cb748eee-f5e4-412e-a12f-d8b98c16dfb8",
   "metadata": {},
   "outputs": [
    {
     "name": "stdout",
     "output_type": "stream",
     "text": [
      "X = [[ 0  1]\n",
      " [ 2  3]\n",
      " [ 4  5]\n",
      " [ 6  7]\n",
      " [ 8  9]\n",
      " [10 11]\n",
      " [12 13]\n",
      " [14 15]\n",
      " [16 17]\n",
      " [18 19]\n",
      " [20 21]\n",
      " [22 23]]\n",
      "\n",
      "y = [0, 1, 2, 3, 4, 5, 6, 7, 8, 9, 10, 11]\n"
     ]
    }
   ],
   "source": [
    "# 입력 데이터와 정답 데이터 분리\n",
    "X, y = np.arange( 0, 24 ).reshape( ( 12, 2 ) ), range( 12 )\n",
    "\n",
    "print( f'X = {X}' )\n",
    "print( f'\\ny = {list( y )}' )"
   ]
  },
  {
   "cell_type": "code",
   "execution_count": 65,
   "id": "6e4ade18-73e9-4d0b-95e0-baa8a53f923b",
   "metadata": {},
   "outputs": [
    {
     "name": "stdout",
     "output_type": "stream",
     "text": [
      "전체 데이터 개수 : 12\n",
      "훈련용 데이터 개수 : 9\n",
      "테스트용 데이터 개수 : 3\n"
     ]
    }
   ],
   "source": [
    "n_of_train = int( len( X ) * 0.8 ) # 훈련용 데이터 개수\n",
    "n_of_test = int( len( X ) - n_of_train ) # 테스트용 데이터 개수\n",
    "\n",
    "print( f'전체 데이터 개수 : {len( X )}' )\n",
    "print( f'훈련용 데이터 개수 : {n_of_train}' )\n",
    "print( f'테스트용 데이터 개수 : {n_of_test}' )"
   ]
  },
  {
   "cell_type": "code",
   "execution_count": 66,
   "id": "ced80518-0d56-45e1-8483-2019d0339581",
   "metadata": {},
   "outputs": [],
   "source": [
    "# 테스트용 데이터\n",
    "X_test = X[ n_of_train: ]\n",
    "y_test = y[ n_of_train: ]\n",
    "\n",
    "# 훈련용 데이터\n",
    "X_train = X[ :n_of_train ]\n",
    "y_train = y[ :n_of_train ]"
   ]
  },
  {
   "cell_type": "code",
   "execution_count": 69,
   "id": "aec2320c-ebc2-46ef-b2cf-775e530aa6b4",
   "metadata": {},
   "outputs": [
    {
     "name": "stdout",
     "output_type": "stream",
     "text": [
      "훈련용 입력 데이터 :\n",
      "[[ 0  1]\n",
      " [ 2  3]\n",
      " [ 4  5]\n",
      " [ 6  7]\n",
      " [ 8  9]\n",
      " [10 11]\n",
      " [12 13]\n",
      " [14 15]\n",
      " [16 17]] ((9, 2))\n",
      "\n",
      "훈련용 정답 데이터 :\n",
      "[0, 1, 2, 3, 4, 5, 6, 7, 8]\n",
      "\n",
      "\n",
      "테스트용 입력 데이터 :\n",
      "[[18 19]\n",
      " [20 21]\n",
      " [22 23]] ((3, 2))\n",
      "\n",
      "테스트용 정답 데이터 :\n",
      "[9, 10, 11]\n"
     ]
    }
   ],
   "source": [
    "print( f'훈련용 입력 데이터 :\\n{X_train} ({X_train.shape})' )\n",
    "print( f'\\n훈련용 정답 데이터 :\\n{list( y_train )}' )\n",
    "\n",
    "print( f'\\n\\n테스트용 입력 데이터 :\\n{X_test} ({X_test.shape})' )\n",
    "print( f'\\n테스트용 정답 데이터 :\\n{list( y_test )}' )"
   ]
  },
  {
   "cell_type": "markdown",
   "id": "e3b2b06e-16da-4cbb-9ba7-9da7314db0b1",
   "metadata": {},
   "source": [
    "### 5. Scikit-learn 제공 함수를 이용한 훈련용/테스트용 데이터 분리"
   ]
  },
  {
   "cell_type": "code",
   "execution_count": 70,
   "id": "37e49640-91a1-4a94-8130-9faafd9690db",
   "metadata": {},
   "outputs": [],
   "source": [
    "from sklearn.model_selection import train_test_split"
   ]
  },
  {
   "cell_type": "code",
   "execution_count": 83,
   "id": "20bf0c2c-3e64-4d10-824d-8b3e6dffa4ca",
   "metadata": {},
   "outputs": [],
   "source": [
    "X_train, X_test, y_train, y_test = train_test_split( \n",
    "    X, y, test_size = 0.2, random_state = 1234 \n",
    ")"
   ]
  },
  {
   "cell_type": "code",
   "execution_count": 84,
   "id": "479028ad-5a04-498f-964b-f4b813a81444",
   "metadata": {},
   "outputs": [
    {
     "name": "stdout",
     "output_type": "stream",
     "text": [
      "훈련용 입력 데이터 :\n",
      "[[ 4  5]\n",
      " [18 19]\n",
      " [20 21]\n",
      " [ 2  3]\n",
      " [ 0  1]\n",
      " [ 8  9]\n",
      " [10 11]\n",
      " [12 13]\n",
      " [ 6  7]] ((9, 2))\n",
      "\n",
      "훈련용 정답 데이터 :\n",
      "[2, 9, 10, 1, 0, 4, 5, 6, 3] (9)\n",
      "\n",
      "\n",
      "테스트용 입력 데이터 :\n",
      "[[14 15]\n",
      " [16 17]\n",
      " [22 23]] ((3, 2))\n",
      "\n",
      "테스트용 정답 데이터 :\n",
      "[7, 8, 11] (3\n"
     ]
    }
   ],
   "source": [
    "print( f'훈련용 입력 데이터 :\\n{X_train} ({X_train.shape})' )\n",
    "print( f'\\n훈련용 정답 데이터 :\\n{y_train} ({len( y_train )})' )\n",
    "\n",
    "print( f'\\n\\n테스트용 입력 데이터 :\\n{X_test} ({X_test.shape})' )\n",
    "print( f'\\n테스트용 정답 데이터 :\\n{y_test} ({len( y_test )}' )"
   ]
  },
  {
   "cell_type": "code",
   "execution_count": 85,
   "id": "c255bcbf-a3e4-40c5-a701-c5a387f9363d",
   "metadata": {},
   "outputs": [],
   "source": [
    "# 훈련용 데이터, 검증용 데이터 분리\n",
    "X_train, X_test_val, y_train, y_test_val = train_test_split( \n",
    "    X_train, y_train, test_size = 0.2, random_state = 1234 \n",
    ")"
   ]
  },
  {
   "cell_type": "code",
   "execution_count": 86,
   "id": "3b882c32-a3f6-4055-96a3-9c99d18a939d",
   "metadata": {},
   "outputs": [
    {
     "name": "stdout",
     "output_type": "stream",
     "text": [
      "훈련용 입력 데이터 :\n",
      "[[18 19]\n",
      " [ 4  5]\n",
      " [12 13]\n",
      " [ 0  1]\n",
      " [ 8  9]\n",
      " [10 11]\n",
      " [ 2  3]] ((7, 2))\n",
      "\n",
      "훈련용 정답 데이터 :\n",
      "[9, 2, 6, 0, 4, 5, 1] (7)\n",
      "\n",
      "\n",
      "검증용 입력 데이터 :\n",
      "[[ 6  7]\n",
      " [20 21]] ((2, 2))\n",
      "\n",
      "검증용 정답 데이터 :\n",
      "[3, 10] (2\n"
     ]
    }
   ],
   "source": [
    "print( f'훈련용 입력 데이터 :\\n{X_train} ({X_train.shape})' )\n",
    "print( f'\\n훈련용 정답 데이터 :\\n{y_train} ({len( y_train )})' )\n",
    "\n",
    "print( f'\\n\\n검증용 입력 데이터 :\\n{X_test_val} ({X_test_val.shape})' )\n",
    "print( f'\\n검증용 정답 데이터 :\\n{y_test_val} ({len( y_test_val )}' )"
   ]
  },
  {
   "cell_type": "markdown",
   "id": "45b5f824-2b7a-434c-a73d-e0d32e7798df",
   "metadata": {},
   "source": [
    "# 머신러닝\n",
    "\n",
    "## 선형 회귀( Linear Regression ) 모델"
   ]
  },
  {
   "cell_type": "code",
   "execution_count": 88,
   "id": "5b946656-1f10-44f0-b893-879b04609f0e",
   "metadata": {},
   "outputs": [],
   "source": [
    "import numpy as np\n",
    "import pandas as pd\n",
    "import matplotlib.pyplot as plt\n",
    "import seaborn as sns\n",
    "\n",
    "%matplotlib inline\n",
    "\n",
    "pd.set_option( 'display.max_columns', 20 )\n",
    "\n",
    "import warnings\n",
    "warnings.filterwarnings( 'ignore' )"
   ]
  },
  {
   "cell_type": "markdown",
   "id": "6c53e878-6c04-4c3d-9f29-bbf4525091f0",
   "metadata": {},
   "source": [
    "### 자동차 연비 예측 모델\n",
    "\n",
    "#### 데이터 준비"
   ]
  },
  {
   "cell_type": "code",
   "execution_count": 130,
   "id": "4c0aada2-4d63-45a5-a12b-b99582cf35f9",
   "metadata": {},
   "outputs": [],
   "source": [
    "auto = pd.read_csv( '../data/auto-mpg-clean.csv' )"
   ]
  },
  {
   "cell_type": "code",
   "execution_count": 131,
   "id": "81fc8609-b582-47b7-98aa-6cadd479d8ab",
   "metadata": {},
   "outputs": [
    {
     "data": {
      "text/html": [
       "<div>\n",
       "<style scoped>\n",
       "    .dataframe tbody tr th:only-of-type {\n",
       "        vertical-align: middle;\n",
       "    }\n",
       "\n",
       "    .dataframe tbody tr th {\n",
       "        vertical-align: top;\n",
       "    }\n",
       "\n",
       "    .dataframe thead th {\n",
       "        text-align: right;\n",
       "    }\n",
       "</style>\n",
       "<table border=\"1\" class=\"dataframe\">\n",
       "  <thead>\n",
       "    <tr style=\"text-align: right;\">\n",
       "      <th></th>\n",
       "      <th>mpg</th>\n",
       "      <th>cylinders</th>\n",
       "      <th>displacement</th>\n",
       "      <th>horsepower</th>\n",
       "      <th>weight</th>\n",
       "      <th>acceleration</th>\n",
       "      <th>year</th>\n",
       "      <th>origin</th>\n",
       "      <th>name</th>\n",
       "    </tr>\n",
       "  </thead>\n",
       "  <tbody>\n",
       "    <tr>\n",
       "      <th>0</th>\n",
       "      <td>18.0</td>\n",
       "      <td>8</td>\n",
       "      <td>307.0</td>\n",
       "      <td>130.0</td>\n",
       "      <td>3504.0</td>\n",
       "      <td>12.0</td>\n",
       "      <td>70</td>\n",
       "      <td>1</td>\n",
       "      <td>chevrolet chevelle malibu</td>\n",
       "    </tr>\n",
       "    <tr>\n",
       "      <th>1</th>\n",
       "      <td>15.0</td>\n",
       "      <td>8</td>\n",
       "      <td>350.0</td>\n",
       "      <td>165.0</td>\n",
       "      <td>3693.0</td>\n",
       "      <td>11.5</td>\n",
       "      <td>70</td>\n",
       "      <td>1</td>\n",
       "      <td>buick skylark 320</td>\n",
       "    </tr>\n",
       "    <tr>\n",
       "      <th>2</th>\n",
       "      <td>18.0</td>\n",
       "      <td>8</td>\n",
       "      <td>318.0</td>\n",
       "      <td>150.0</td>\n",
       "      <td>3436.0</td>\n",
       "      <td>11.0</td>\n",
       "      <td>70</td>\n",
       "      <td>1</td>\n",
       "      <td>plymouth satellite</td>\n",
       "    </tr>\n",
       "    <tr>\n",
       "      <th>3</th>\n",
       "      <td>16.0</td>\n",
       "      <td>8</td>\n",
       "      <td>304.0</td>\n",
       "      <td>150.0</td>\n",
       "      <td>3433.0</td>\n",
       "      <td>12.0</td>\n",
       "      <td>70</td>\n",
       "      <td>1</td>\n",
       "      <td>amc rebel sst</td>\n",
       "    </tr>\n",
       "    <tr>\n",
       "      <th>4</th>\n",
       "      <td>17.0</td>\n",
       "      <td>8</td>\n",
       "      <td>302.0</td>\n",
       "      <td>140.0</td>\n",
       "      <td>3449.0</td>\n",
       "      <td>10.5</td>\n",
       "      <td>70</td>\n",
       "      <td>1</td>\n",
       "      <td>ford torino</td>\n",
       "    </tr>\n",
       "  </tbody>\n",
       "</table>\n",
       "</div>"
      ],
      "text/plain": [
       "    mpg  cylinders  displacement  horsepower  weight  acceleration  year  \\\n",
       "0  18.0          8         307.0       130.0  3504.0          12.0    70   \n",
       "1  15.0          8         350.0       165.0  3693.0          11.5    70   \n",
       "2  18.0          8         318.0       150.0  3436.0          11.0    70   \n",
       "3  16.0          8         304.0       150.0  3433.0          12.0    70   \n",
       "4  17.0          8         302.0       140.0  3449.0          10.5    70   \n",
       "\n",
       "   origin                       name  \n",
       "0       1  chevrolet chevelle malibu  \n",
       "1       1          buick skylark 320  \n",
       "2       1         plymouth satellite  \n",
       "3       1              amc rebel sst  \n",
       "4       1                ford torino  "
      ]
     },
     "execution_count": 131,
     "metadata": {},
     "output_type": "execute_result"
    }
   ],
   "source": [
    "df = auto.copy()\n",
    "df.head()"
   ]
  },
  {
   "cell_type": "markdown",
   "id": "32d53426-c970-4ccb-aa30-766bcce4f7af",
   "metadata": {},
   "source": [
    "#### 훈련 준비"
   ]
  },
  {
   "cell_type": "code",
   "execution_count": 132,
   "id": "532d703b-0ba2-4c50-a7c2-869796e12daa",
   "metadata": {},
   "outputs": [
    {
     "data": {
      "text/html": [
       "<div>\n",
       "<style scoped>\n",
       "    .dataframe tbody tr th:only-of-type {\n",
       "        vertical-align: middle;\n",
       "    }\n",
       "\n",
       "    .dataframe tbody tr th {\n",
       "        vertical-align: top;\n",
       "    }\n",
       "\n",
       "    .dataframe thead th {\n",
       "        text-align: right;\n",
       "    }\n",
       "</style>\n",
       "<table border=\"1\" class=\"dataframe\">\n",
       "  <thead>\n",
       "    <tr style=\"text-align: right;\">\n",
       "      <th></th>\n",
       "      <th>mpg</th>\n",
       "      <th>cylinders</th>\n",
       "      <th>displacement</th>\n",
       "      <th>horsepower</th>\n",
       "      <th>weight</th>\n",
       "      <th>acceleration</th>\n",
       "      <th>year</th>\n",
       "      <th>origin</th>\n",
       "    </tr>\n",
       "  </thead>\n",
       "  <tbody>\n",
       "    <tr>\n",
       "      <th>0</th>\n",
       "      <td>18.0</td>\n",
       "      <td>8</td>\n",
       "      <td>307.0</td>\n",
       "      <td>130.0</td>\n",
       "      <td>3504.0</td>\n",
       "      <td>12.0</td>\n",
       "      <td>70</td>\n",
       "      <td>1</td>\n",
       "    </tr>\n",
       "    <tr>\n",
       "      <th>1</th>\n",
       "      <td>15.0</td>\n",
       "      <td>8</td>\n",
       "      <td>350.0</td>\n",
       "      <td>165.0</td>\n",
       "      <td>3693.0</td>\n",
       "      <td>11.5</td>\n",
       "      <td>70</td>\n",
       "      <td>1</td>\n",
       "    </tr>\n",
       "    <tr>\n",
       "      <th>2</th>\n",
       "      <td>18.0</td>\n",
       "      <td>8</td>\n",
       "      <td>318.0</td>\n",
       "      <td>150.0</td>\n",
       "      <td>3436.0</td>\n",
       "      <td>11.0</td>\n",
       "      <td>70</td>\n",
       "      <td>1</td>\n",
       "    </tr>\n",
       "    <tr>\n",
       "      <th>3</th>\n",
       "      <td>16.0</td>\n",
       "      <td>8</td>\n",
       "      <td>304.0</td>\n",
       "      <td>150.0</td>\n",
       "      <td>3433.0</td>\n",
       "      <td>12.0</td>\n",
       "      <td>70</td>\n",
       "      <td>1</td>\n",
       "    </tr>\n",
       "    <tr>\n",
       "      <th>4</th>\n",
       "      <td>17.0</td>\n",
       "      <td>8</td>\n",
       "      <td>302.0</td>\n",
       "      <td>140.0</td>\n",
       "      <td>3449.0</td>\n",
       "      <td>10.5</td>\n",
       "      <td>70</td>\n",
       "      <td>1</td>\n",
       "    </tr>\n",
       "  </tbody>\n",
       "</table>\n",
       "</div>"
      ],
      "text/plain": [
       "    mpg  cylinders  displacement  horsepower  weight  acceleration  year  \\\n",
       "0  18.0          8         307.0       130.0  3504.0          12.0    70   \n",
       "1  15.0          8         350.0       165.0  3693.0          11.5    70   \n",
       "2  18.0          8         318.0       150.0  3436.0          11.0    70   \n",
       "3  16.0          8         304.0       150.0  3433.0          12.0    70   \n",
       "4  17.0          8         302.0       140.0  3449.0          10.5    70   \n",
       "\n",
       "   origin  \n",
       "0       1  \n",
       "1       1  \n",
       "2       1  \n",
       "3       1  \n",
       "4       1  "
      ]
     },
     "execution_count": 132,
     "metadata": {},
     "output_type": "execute_result"
    }
   ],
   "source": [
    "df.pop( 'name' )\n",
    "df.head()"
   ]
  },
  {
   "cell_type": "markdown",
   "id": "565180d4-87af-4fe5-a755-8cade4ea81e8",
   "metadata": {},
   "source": [
    "#### 데이터 분리"
   ]
  },
  {
   "cell_type": "code",
   "execution_count": 133,
   "id": "f19dc287-19ac-436e-a295-f06c834fc54d",
   "metadata": {},
   "outputs": [],
   "source": [
    "train_df = df.sample( frac = 0.8, random_state = 1234 ) # 훈련 데이터\n",
    "test_df = df.drop( train_df.index ) # 테스트 데이터"
   ]
  },
  {
   "cell_type": "code",
   "execution_count": 134,
   "id": "9509dc3d-5a3c-4771-b1ad-b6e02b0c354c",
   "metadata": {},
   "outputs": [
    {
     "data": {
      "text/html": [
       "<div>\n",
       "<style scoped>\n",
       "    .dataframe tbody tr th:only-of-type {\n",
       "        vertical-align: middle;\n",
       "    }\n",
       "\n",
       "    .dataframe tbody tr th {\n",
       "        vertical-align: top;\n",
       "    }\n",
       "\n",
       "    .dataframe thead th {\n",
       "        text-align: right;\n",
       "    }\n",
       "</style>\n",
       "<table border=\"1\" class=\"dataframe\">\n",
       "  <thead>\n",
       "    <tr style=\"text-align: right;\">\n",
       "      <th></th>\n",
       "      <th>mpg</th>\n",
       "      <th>cylinders</th>\n",
       "      <th>displacement</th>\n",
       "      <th>horsepower</th>\n",
       "      <th>weight</th>\n",
       "      <th>acceleration</th>\n",
       "      <th>year</th>\n",
       "      <th>origin</th>\n",
       "    </tr>\n",
       "  </thead>\n",
       "  <tbody>\n",
       "    <tr>\n",
       "      <th>40</th>\n",
       "      <td>14.0</td>\n",
       "      <td>8</td>\n",
       "      <td>318.0</td>\n",
       "      <td>150.0</td>\n",
       "      <td>4096.0</td>\n",
       "      <td>13.0</td>\n",
       "      <td>71</td>\n",
       "      <td>1</td>\n",
       "    </tr>\n",
       "    <tr>\n",
       "      <th>44</th>\n",
       "      <td>18.0</td>\n",
       "      <td>6</td>\n",
       "      <td>258.0</td>\n",
       "      <td>110.0</td>\n",
       "      <td>2962.0</td>\n",
       "      <td>13.5</td>\n",
       "      <td>71</td>\n",
       "      <td>1</td>\n",
       "    </tr>\n",
       "    <tr>\n",
       "      <th>304</th>\n",
       "      <td>28.8</td>\n",
       "      <td>6</td>\n",
       "      <td>173.0</td>\n",
       "      <td>115.0</td>\n",
       "      <td>2595.0</td>\n",
       "      <td>11.3</td>\n",
       "      <td>79</td>\n",
       "      <td>1</td>\n",
       "    </tr>\n",
       "    <tr>\n",
       "      <th>59</th>\n",
       "      <td>20.0</td>\n",
       "      <td>4</td>\n",
       "      <td>140.0</td>\n",
       "      <td>90.0</td>\n",
       "      <td>2408.0</td>\n",
       "      <td>19.5</td>\n",
       "      <td>72</td>\n",
       "      <td>1</td>\n",
       "    </tr>\n",
       "    <tr>\n",
       "      <th>267</th>\n",
       "      <td>30.9</td>\n",
       "      <td>4</td>\n",
       "      <td>105.0</td>\n",
       "      <td>75.0</td>\n",
       "      <td>2230.0</td>\n",
       "      <td>14.5</td>\n",
       "      <td>78</td>\n",
       "      <td>1</td>\n",
       "    </tr>\n",
       "  </tbody>\n",
       "</table>\n",
       "</div>"
      ],
      "text/plain": [
       "      mpg  cylinders  displacement  horsepower  weight  acceleration  year  \\\n",
       "40   14.0          8         318.0       150.0  4096.0          13.0    71   \n",
       "44   18.0          6         258.0       110.0  2962.0          13.5    71   \n",
       "304  28.8          6         173.0       115.0  2595.0          11.3    79   \n",
       "59   20.0          4         140.0        90.0  2408.0          19.5    72   \n",
       "267  30.9          4         105.0        75.0  2230.0          14.5    78   \n",
       "\n",
       "     origin  \n",
       "40        1  \n",
       "44        1  \n",
       "304       1  \n",
       "59        1  \n",
       "267       1  "
      ]
     },
     "execution_count": 134,
     "metadata": {},
     "output_type": "execute_result"
    }
   ],
   "source": [
    "train_df.head()"
   ]
  },
  {
   "cell_type": "code",
   "execution_count": 135,
   "id": "7c8f91b8-191a-4732-9e70-e1cef94b23e6",
   "metadata": {},
   "outputs": [
    {
     "data": {
      "text/html": [
       "<div>\n",
       "<style scoped>\n",
       "    .dataframe tbody tr th:only-of-type {\n",
       "        vertical-align: middle;\n",
       "    }\n",
       "\n",
       "    .dataframe tbody tr th {\n",
       "        vertical-align: top;\n",
       "    }\n",
       "\n",
       "    .dataframe thead th {\n",
       "        text-align: right;\n",
       "    }\n",
       "</style>\n",
       "<table border=\"1\" class=\"dataframe\">\n",
       "  <thead>\n",
       "    <tr style=\"text-align: right;\">\n",
       "      <th></th>\n",
       "      <th>mpg</th>\n",
       "      <th>cylinders</th>\n",
       "      <th>displacement</th>\n",
       "      <th>horsepower</th>\n",
       "      <th>weight</th>\n",
       "      <th>acceleration</th>\n",
       "      <th>year</th>\n",
       "      <th>origin</th>\n",
       "    </tr>\n",
       "  </thead>\n",
       "  <tbody>\n",
       "    <tr>\n",
       "      <th>3</th>\n",
       "      <td>16.0</td>\n",
       "      <td>8</td>\n",
       "      <td>304.0</td>\n",
       "      <td>150.0</td>\n",
       "      <td>3433.0</td>\n",
       "      <td>12.0</td>\n",
       "      <td>70</td>\n",
       "      <td>1</td>\n",
       "    </tr>\n",
       "    <tr>\n",
       "      <th>10</th>\n",
       "      <td>15.0</td>\n",
       "      <td>8</td>\n",
       "      <td>383.0</td>\n",
       "      <td>170.0</td>\n",
       "      <td>3563.0</td>\n",
       "      <td>10.0</td>\n",
       "      <td>70</td>\n",
       "      <td>1</td>\n",
       "    </tr>\n",
       "    <tr>\n",
       "      <th>14</th>\n",
       "      <td>24.0</td>\n",
       "      <td>4</td>\n",
       "      <td>113.0</td>\n",
       "      <td>95.0</td>\n",
       "      <td>2372.0</td>\n",
       "      <td>15.0</td>\n",
       "      <td>70</td>\n",
       "      <td>3</td>\n",
       "    </tr>\n",
       "    <tr>\n",
       "      <th>16</th>\n",
       "      <td>18.0</td>\n",
       "      <td>6</td>\n",
       "      <td>199.0</td>\n",
       "      <td>97.0</td>\n",
       "      <td>2774.0</td>\n",
       "      <td>15.5</td>\n",
       "      <td>70</td>\n",
       "      <td>1</td>\n",
       "    </tr>\n",
       "    <tr>\n",
       "      <th>18</th>\n",
       "      <td>27.0</td>\n",
       "      <td>4</td>\n",
       "      <td>97.0</td>\n",
       "      <td>88.0</td>\n",
       "      <td>2130.0</td>\n",
       "      <td>14.5</td>\n",
       "      <td>70</td>\n",
       "      <td>3</td>\n",
       "    </tr>\n",
       "  </tbody>\n",
       "</table>\n",
       "</div>"
      ],
      "text/plain": [
       "     mpg  cylinders  displacement  horsepower  weight  acceleration  year  \\\n",
       "3   16.0          8         304.0       150.0  3433.0          12.0    70   \n",
       "10  15.0          8         383.0       170.0  3563.0          10.0    70   \n",
       "14  24.0          4         113.0        95.0  2372.0          15.0    70   \n",
       "16  18.0          6         199.0        97.0  2774.0          15.5    70   \n",
       "18  27.0          4          97.0        88.0  2130.0          14.5    70   \n",
       "\n",
       "    origin  \n",
       "3        1  \n",
       "10       1  \n",
       "14       3  \n",
       "16       1  \n",
       "18       3  "
      ]
     },
     "execution_count": 135,
     "metadata": {},
     "output_type": "execute_result"
    }
   ],
   "source": [
    "test_df.head()"
   ]
  },
  {
   "cell_type": "code",
   "execution_count": 136,
   "id": "1093b8e9-515e-4aaa-8a4b-311ec029abe3",
   "metadata": {},
   "outputs": [
    {
     "name": "stdout",
     "output_type": "stream",
     "text": [
      "훈련용 데이터 구조 : (314, 8)\n",
      "테스트용 데이터 구조 : (78, 8)\n"
     ]
    }
   ],
   "source": [
    "print( f'훈련용 데이터 구조 : {train_df.shape}' )\n",
    "print( f'테스트용 데이터 구조 : {test_df.shape}' )"
   ]
  },
  {
   "cell_type": "markdown",
   "id": "e769c629-877a-4e1a-b867-f651327521cb",
   "metadata": {},
   "source": [
    "#### 특성( feature ) 선택\n",
    "\n",
    "* 특성 후보를 선정하고 가장 적합한 특성 선택"
   ]
  },
  {
   "cell_type": "code",
   "execution_count": 137,
   "id": "b644996f-1ded-452e-9e82-ae2c5514a93a",
   "metadata": {},
   "outputs": [],
   "source": [
    "df2 = train_df[ [ 'mpg', 'displacement', 'horsepower', 'weight', 'acceleration' ] ]"
   ]
  },
  {
   "cell_type": "code",
   "execution_count": 138,
   "id": "f899fdb4-b05a-43f9-873c-2856166ab610",
   "metadata": {},
   "outputs": [
    {
     "data": {
      "text/html": [
       "<div>\n",
       "<style scoped>\n",
       "    .dataframe tbody tr th:only-of-type {\n",
       "        vertical-align: middle;\n",
       "    }\n",
       "\n",
       "    .dataframe tbody tr th {\n",
       "        vertical-align: top;\n",
       "    }\n",
       "\n",
       "    .dataframe thead th {\n",
       "        text-align: right;\n",
       "    }\n",
       "</style>\n",
       "<table border=\"1\" class=\"dataframe\">\n",
       "  <thead>\n",
       "    <tr style=\"text-align: right;\">\n",
       "      <th></th>\n",
       "      <th>mpg</th>\n",
       "      <th>displacement</th>\n",
       "      <th>horsepower</th>\n",
       "      <th>weight</th>\n",
       "      <th>acceleration</th>\n",
       "    </tr>\n",
       "  </thead>\n",
       "  <tbody>\n",
       "    <tr>\n",
       "      <th>count</th>\n",
       "      <td>314.000000</td>\n",
       "      <td>314.000000</td>\n",
       "      <td>314.000000</td>\n",
       "      <td>314.000000</td>\n",
       "      <td>314.000000</td>\n",
       "    </tr>\n",
       "    <tr>\n",
       "      <th>mean</th>\n",
       "      <td>23.145541</td>\n",
       "      <td>198.724522</td>\n",
       "      <td>106.006369</td>\n",
       "      <td>3010.267516</td>\n",
       "      <td>15.469427</td>\n",
       "    </tr>\n",
       "    <tr>\n",
       "      <th>std</th>\n",
       "      <td>7.843986</td>\n",
       "      <td>106.240150</td>\n",
       "      <td>39.771391</td>\n",
       "      <td>862.889657</td>\n",
       "      <td>2.774592</td>\n",
       "    </tr>\n",
       "    <tr>\n",
       "      <th>min</th>\n",
       "      <td>9.000000</td>\n",
       "      <td>70.000000</td>\n",
       "      <td>46.000000</td>\n",
       "      <td>1649.000000</td>\n",
       "      <td>8.000000</td>\n",
       "    </tr>\n",
       "    <tr>\n",
       "      <th>25%</th>\n",
       "      <td>17.000000</td>\n",
       "      <td>105.000000</td>\n",
       "      <td>75.000000</td>\n",
       "      <td>2223.750000</td>\n",
       "      <td>13.625000</td>\n",
       "    </tr>\n",
       "    <tr>\n",
       "      <th>50%</th>\n",
       "      <td>22.000000</td>\n",
       "      <td>151.000000</td>\n",
       "      <td>95.000000</td>\n",
       "      <td>2869.000000</td>\n",
       "      <td>15.450000</td>\n",
       "    </tr>\n",
       "    <tr>\n",
       "      <th>75%</th>\n",
       "      <td>28.000000</td>\n",
       "      <td>302.000000</td>\n",
       "      <td>130.000000</td>\n",
       "      <td>3687.750000</td>\n",
       "      <td>17.000000</td>\n",
       "    </tr>\n",
       "    <tr>\n",
       "      <th>max</th>\n",
       "      <td>46.600000</td>\n",
       "      <td>455.000000</td>\n",
       "      <td>230.000000</td>\n",
       "      <td>5140.000000</td>\n",
       "      <td>24.800000</td>\n",
       "    </tr>\n",
       "  </tbody>\n",
       "</table>\n",
       "</div>"
      ],
      "text/plain": [
       "              mpg  displacement  horsepower       weight  acceleration\n",
       "count  314.000000    314.000000  314.000000   314.000000    314.000000\n",
       "mean    23.145541    198.724522  106.006369  3010.267516     15.469427\n",
       "std      7.843986    106.240150   39.771391   862.889657      2.774592\n",
       "min      9.000000     70.000000   46.000000  1649.000000      8.000000\n",
       "25%     17.000000    105.000000   75.000000  2223.750000     13.625000\n",
       "50%     22.000000    151.000000   95.000000  2869.000000     15.450000\n",
       "75%     28.000000    302.000000  130.000000  3687.750000     17.000000\n",
       "max     46.600000    455.000000  230.000000  5140.000000     24.800000"
      ]
     },
     "execution_count": 138,
     "metadata": {},
     "output_type": "execute_result"
    }
   ],
   "source": [
    "df2.describe()"
   ]
  },
  {
   "cell_type": "code",
   "execution_count": 139,
   "id": "4bc49e6d-23f7-4d07-b133-e787ea8ea6c8",
   "metadata": {},
   "outputs": [
    {
     "data": {
      "text/html": [
       "<div>\n",
       "<style scoped>\n",
       "    .dataframe tbody tr th:only-of-type {\n",
       "        vertical-align: middle;\n",
       "    }\n",
       "\n",
       "    .dataframe tbody tr th {\n",
       "        vertical-align: top;\n",
       "    }\n",
       "\n",
       "    .dataframe thead th {\n",
       "        text-align: right;\n",
       "    }\n",
       "</style>\n",
       "<table border=\"1\" class=\"dataframe\">\n",
       "  <thead>\n",
       "    <tr style=\"text-align: right;\">\n",
       "      <th></th>\n",
       "      <th>mpg</th>\n",
       "      <th>displacement</th>\n",
       "      <th>horsepower</th>\n",
       "      <th>weight</th>\n",
       "      <th>acceleration</th>\n",
       "    </tr>\n",
       "  </thead>\n",
       "  <tbody>\n",
       "    <tr>\n",
       "      <th>mpg</th>\n",
       "      <td>1.000000</td>\n",
       "      <td>-0.809644</td>\n",
       "      <td>-0.779562</td>\n",
       "      <td>-0.835515</td>\n",
       "      <td>0.433798</td>\n",
       "    </tr>\n",
       "    <tr>\n",
       "      <th>displacement</th>\n",
       "      <td>-0.809644</td>\n",
       "      <td>1.000000</td>\n",
       "      <td>0.900266</td>\n",
       "      <td>0.934431</td>\n",
       "      <td>-0.552004</td>\n",
       "    </tr>\n",
       "    <tr>\n",
       "      <th>horsepower</th>\n",
       "      <td>-0.779562</td>\n",
       "      <td>0.900266</td>\n",
       "      <td>1.000000</td>\n",
       "      <td>0.866845</td>\n",
       "      <td>-0.694403</td>\n",
       "    </tr>\n",
       "    <tr>\n",
       "      <th>weight</th>\n",
       "      <td>-0.835515</td>\n",
       "      <td>0.934431</td>\n",
       "      <td>0.866845</td>\n",
       "      <td>1.000000</td>\n",
       "      <td>-0.430596</td>\n",
       "    </tr>\n",
       "    <tr>\n",
       "      <th>acceleration</th>\n",
       "      <td>0.433798</td>\n",
       "      <td>-0.552004</td>\n",
       "      <td>-0.694403</td>\n",
       "      <td>-0.430596</td>\n",
       "      <td>1.000000</td>\n",
       "    </tr>\n",
       "  </tbody>\n",
       "</table>\n",
       "</div>"
      ],
      "text/plain": [
       "                   mpg  displacement  horsepower    weight  acceleration\n",
       "mpg           1.000000     -0.809644   -0.779562 -0.835515      0.433798\n",
       "displacement -0.809644      1.000000    0.900266  0.934431     -0.552004\n",
       "horsepower   -0.779562      0.900266    1.000000  0.866845     -0.694403\n",
       "weight       -0.835515      0.934431    0.866845  1.000000     -0.430596\n",
       "acceleration  0.433798     -0.552004   -0.694403 -0.430596      1.000000"
      ]
     },
     "execution_count": 139,
     "metadata": {},
     "output_type": "execute_result"
    }
   ],
   "source": [
    "df2.corr()"
   ]
  },
  {
   "cell_type": "code",
   "execution_count": 140,
   "id": "3c7aa5d2-f13e-49b4-beaa-cbf748fdac01",
   "metadata": {},
   "outputs": [
    {
     "data": {
      "text/plain": [
       "<seaborn.axisgrid.PairGrid at 0x7fe050f09970>"
      ]
     },
     "execution_count": 140,
     "metadata": {},
     "output_type": "execute_result"
    },
    {
     "data": {
      "image/png": "[encoded data removed]",
      "text/plain": [
       "<Figure size 900x900 with 30 Axes>"
      ]
     },
     "metadata": {
      "needs_background": "light"
     },
     "output_type": "display_data"
    }
   ],
   "source": [
    "sns.pairplot( df2 )"
   ]
  },
  {
   "cell_type": "markdown",
   "id": "c272019a-860e-414a-99ec-91506373ddc1",
   "metadata": {},
   "source": [
    "#### feature scaling( 정규화( MinMaxScaler ) "
   ]
  },
  {
   "cell_type": "code",
   "execution_count": 141,
   "id": "60bcb344-0553-49cb-87e0-8205d61addab",
   "metadata": {},
   "outputs": [
    {
     "data": {
      "text/html": [
       "<div>\n",
       "<style scoped>\n",
       "    .dataframe tbody tr th:only-of-type {\n",
       "        vertical-align: middle;\n",
       "    }\n",
       "\n",
       "    .dataframe tbody tr th {\n",
       "        vertical-align: top;\n",
       "    }\n",
       "\n",
       "    .dataframe thead th {\n",
       "        text-align: right;\n",
       "    }\n",
       "</style>\n",
       "<table border=\"1\" class=\"dataframe\">\n",
       "  <thead>\n",
       "    <tr style=\"text-align: right;\">\n",
       "      <th></th>\n",
       "      <th>count</th>\n",
       "      <th>mean</th>\n",
       "      <th>std</th>\n",
       "      <th>min</th>\n",
       "      <th>25%</th>\n",
       "      <th>50%</th>\n",
       "      <th>75%</th>\n",
       "      <th>max</th>\n",
       "    </tr>\n",
       "  </thead>\n",
       "  <tbody>\n",
       "    <tr>\n",
       "      <th>displacement</th>\n",
       "      <td>314.0</td>\n",
       "      <td>198.724522</td>\n",
       "      <td>106.240150</td>\n",
       "      <td>70.0</td>\n",
       "      <td>105.000</td>\n",
       "      <td>151.00</td>\n",
       "      <td>302.00</td>\n",
       "      <td>455.0</td>\n",
       "    </tr>\n",
       "    <tr>\n",
       "      <th>horsepower</th>\n",
       "      <td>314.0</td>\n",
       "      <td>106.006369</td>\n",
       "      <td>39.771391</td>\n",
       "      <td>46.0</td>\n",
       "      <td>75.000</td>\n",
       "      <td>95.00</td>\n",
       "      <td>130.00</td>\n",
       "      <td>230.0</td>\n",
       "    </tr>\n",
       "    <tr>\n",
       "      <th>weight</th>\n",
       "      <td>314.0</td>\n",
       "      <td>3010.267516</td>\n",
       "      <td>862.889657</td>\n",
       "      <td>1649.0</td>\n",
       "      <td>2223.750</td>\n",
       "      <td>2869.00</td>\n",
       "      <td>3687.75</td>\n",
       "      <td>5140.0</td>\n",
       "    </tr>\n",
       "    <tr>\n",
       "      <th>acceleration</th>\n",
       "      <td>314.0</td>\n",
       "      <td>15.469427</td>\n",
       "      <td>2.774592</td>\n",
       "      <td>8.0</td>\n",
       "      <td>13.625</td>\n",
       "      <td>15.45</td>\n",
       "      <td>17.00</td>\n",
       "      <td>24.8</td>\n",
       "    </tr>\n",
       "  </tbody>\n",
       "</table>\n",
       "</div>"
      ],
      "text/plain": [
       "              count         mean         std     min       25%      50%  \\\n",
       "displacement  314.0   198.724522  106.240150    70.0   105.000   151.00   \n",
       "horsepower    314.0   106.006369   39.771391    46.0    75.000    95.00   \n",
       "weight        314.0  3010.267516  862.889657  1649.0  2223.750  2869.00   \n",
       "acceleration  314.0    15.469427    2.774592     8.0    13.625    15.45   \n",
       "\n",
       "                  75%     max  \n",
       "displacement   302.00   455.0  \n",
       "horsepower     130.00   230.0  \n",
       "weight        3687.75  5140.0  \n",
       "acceleration    17.00    24.8  "
      ]
     },
     "execution_count": 141,
     "metadata": {},
     "output_type": "execute_result"
    }
   ],
   "source": [
    "df_stats = df2.describe()\n",
    "df_stats.pop( 'mpg' )\n",
    "df_stats = df_stats.T\n",
    "df_stats"
   ]
  },
  {
   "cell_type": "code",
   "execution_count": 142,
   "id": "866643be-1ac5-45b5-8a21-80ba78eb2924",
   "metadata": {},
   "outputs": [],
   "source": [
    "def normalization( x ):\n",
    "    return ( x - df_stats[ 'mean' ] ) / df_stats[ 'std' ]"
   ]
  },
  {
   "cell_type": "code",
   "execution_count": 143,
   "id": "9f9f002f-06dc-4601-9b4a-6106b5cba2b7",
   "metadata": {},
   "outputs": [],
   "source": [
    "y_train = np.asarray( train_df.pop( 'mpg' ) )\n",
    "y_test = np.asarray( test_df.pop( 'mpg' ) )"
   ]
  },
  {
   "cell_type": "code",
   "execution_count": 146,
   "id": "86decd26-8f86-4947-bcae-9d6615e9ecdd",
   "metadata": {},
   "outputs": [],
   "source": [
    "normed_train_df = normalization( train_df )\n",
    "normed_test_df = normalization( test_df )"
   ]
  },
  {
   "cell_type": "code",
   "execution_count": 147,
   "id": "ff6253b6-1911-40af-88a0-9ca56520995a",
   "metadata": {},
   "outputs": [],
   "source": [
    "X_train = np.asarray( normed_train_df[ 'weight' ] )\n",
    "X_test = np.asarray( normed_test_df[ 'weight' ] )"
   ]
  },
  {
   "cell_type": "code",
   "execution_count": 155,
   "id": "6157ccd5-26c9-4aef-9d7d-3369ebdead90",
   "metadata": {},
   "outputs": [],
   "source": [
    "X_train = X_train.reshape( -1, 1 )\n",
    "X_test = X_test.reshape( -1, 1 )"
   ]
  },
  {
   "cell_type": "code",
   "execution_count": 156,
   "id": "4935a0ef-febb-4394-82cc-c2e85a506d25",
   "metadata": {},
   "outputs": [
    {
     "name": "stdout",
     "output_type": "stream",
     "text": [
      "훈련용 입력 데이터 : (314, 1)\n",
      "테스트용 입력 데이터 : (78, 1)\n",
      "\n",
      "훈련용 정답 데이터 : (314,)\n",
      "테스트용 정답 데이터 : (78,)\n"
     ]
    }
   ],
   "source": [
    "print( f'훈련용 입력 데이터 : {X_train.shape}' )\n",
    "print( f'테스트용 입력 데이터 : {X_test.shape}' )\n",
    "print( f'\\n훈련용 정답 데이터 : {y_train.shape}' )\n",
    "print( f'테스트용 정답 데이터 : {y_test.shape}' )"
   ]
  },
  {
   "cell_type": "markdown",
   "id": "913a6719-ff9d-410d-8aea-8363c881b9d8",
   "metadata": {},
   "source": [
    "### 학습"
   ]
  },
  {
   "cell_type": "code",
   "execution_count": 157,
   "id": "02e49d15-fe3e-42e8-b6dd-4027a2d2ffc9",
   "metadata": {},
   "outputs": [],
   "source": [
    "from sklearn.linear_model import LinearRegression"
   ]
  },
  {
   "cell_type": "code",
   "execution_count": 158,
   "id": "0854db39-5664-4cc8-b003-69fe11a5ba02",
   "metadata": {},
   "outputs": [
    {
     "data": {
      "text/plain": [
       "LinearRegression()"
      ]
     },
     "execution_count": 158,
     "metadata": {},
     "output_type": "execute_result"
    }
   ],
   "source": [
    "model = LinearRegression()\n",
    "model.fit( X_train, y_train )"
   ]
  },
  {
   "cell_type": "markdown",
   "id": "71f44bf3-7b80-4fee-a1c5-990be261a05a",
   "metadata": {},
   "source": [
    "### 평가"
   ]
  },
  {
   "cell_type": "code",
   "execution_count": 159,
   "id": "a38ca1e4-505e-4d4e-9a14-43d06557fdfa",
   "metadata": {},
   "outputs": [
    {
     "name": "stdout",
     "output_type": "stream",
     "text": [
      "결정계수( R-제곱 ) : 0.6585360597445908\n"
     ]
    }
   ],
   "source": [
    "r_square = model.score( X_test, y_test )\n",
    "print( f'결정계수( R-제곱 ) : {r_square}' )"
   ]
  },
  {
   "cell_type": "code",
   "execution_count": null,
   "id": "7b721b42-4b5d-4d82-af57-1021a404a0b4",
   "metadata": {},
   "outputs": [],
   "source": []
  }
 ],
 "metadata": {
  "kernelspec": {
   "display_name": "Python 3",
   "language": "python",
   "name": "python3"
  },
  "language_info": {
   "codemirror_mode": {
    "name": "ipython",
    "version": 3
   },
   "file_extension": ".py",
   "mimetype": "text/x-python",
   "name": "python",
   "nbconvert_exporter": "python",
   "pygments_lexer": "ipython3",
   "version": "3.8.8"
  }
 },
 "nbformat": 4,
 "nbformat_minor": 5
}
