{
 "cells": [
  {
   "cell_type": "markdown",
   "id": "0eb834c2-2898-4d94-b75c-2842c9e24001",
   "metadata": {},
   "source": [
    "# 함수( function )"
   ]
  },
  {
   "cell_type": "code",
   "execution_count": 5,
   "id": "8383d482-6f4d-4261-9473-27847387fa65",
   "metadata": {},
   "outputs": [],
   "source": [
    "def add_value( number1, number2 ):\n",
    "    ret_value = number1 + number2\n",
    "    return ret_value\n",
    "    \n",
    "def add_result( number1, number2 ):\n",
    "    ret_value = f'{number1} + {number2} = {number1 + number2}'\n",
    "    return ret_value"
   ]
  },
  {
   "cell_type": "code",
   "execution_count": 6,
   "id": "40ca32e6-df3d-4d9c-8aea-85688abede6a",
   "metadata": {},
   "outputs": [],
   "source": [
    "number1 = 10\n",
    "number2 = 20"
   ]
  },
  {
   "cell_type": "code",
   "execution_count": 7,
   "id": "1dda5769-1aac-48fe-a6b2-2e38efe1840a",
   "metadata": {},
   "outputs": [
    {
     "name": "stdout",
     "output_type": "stream",
     "text": [
      "10 + 20 = 30\n"
     ]
    }
   ],
   "source": [
    "result = add_value( number1, number2 )\n",
    "print( f'{number1} + {number2} = {result}' )"
   ]
  },
  {
   "cell_type": "code",
   "execution_count": 8,
   "id": "f28feefb-abdf-4821-9c7f-dc8e1a0b6c72",
   "metadata": {},
   "outputs": [
    {
     "name": "stdout",
     "output_type": "stream",
     "text": [
      "10 + 20 = 30\n"
     ]
    }
   ],
   "source": [
    "print( add_result( number1, number2 ) )"
   ]
  },
  {
   "cell_type": "code",
   "execution_count": 10,
   "id": "8661dc86-df1b-474a-ab3e-ffe517b6d3f1",
   "metadata": {},
   "outputs": [],
   "source": [
    "def div_result( number1, number2 ):\n",
    "    divide = number1 // number2\n",
    "    remainder = number1 % number2\n",
    "    \n",
    "    return ( divide, remainder )"
   ]
  },
  {
   "cell_type": "code",
   "execution_count": 12,
   "id": "cd43e18d-1e92-406e-8f17-54f2bc63a827",
   "metadata": {},
   "outputs": [
    {
     "name": "stdout",
     "output_type": "stream",
     "text": [
      "10 / 2 = 5\n",
      "10 % 2 = 0\n"
     ]
    }
   ],
   "source": [
    "divide, remainder = div_result( number1, 2 )\n",
    "print( f'{number1} / {2} = {divide}' )\n",
    "print( f'{number1} % {2} = {remainder}' )"
   ]
  },
  {
   "cell_type": "code",
   "execution_count": 13,
   "id": "9fbe90ee-205c-4004-a5c6-2af7ccda4c1d",
   "metadata": {},
   "outputs": [
    {
     "name": "stdout",
     "output_type": "stream",
     "text": [
      "10 / 2 = 4.0\n",
      "10 % 2 = 0.5\n"
     ]
    }
   ],
   "source": [
    "divide, remainder = div_result( 10.5, 2.5 )\n",
    "print( f'{number1} / {2} = {divide}' )\n",
    "print( f'{number1} % {2} = {remainder}' )"
   ]
  },
  {
   "cell_type": "code",
   "execution_count": 14,
   "id": "5cae1eef-67a7-425f-b00a-29bae1c05738",
   "metadata": {},
   "outputs": [
    {
     "ename": "ZeroDivisionError",
     "evalue": "integer division or modulo by zero",
     "output_type": "error",
     "traceback": [
      "\u001b[0;31m---------------------------------------------------------------------------\u001b[0m",
      "\u001b[0;31mZeroDivisionError\u001b[0m                         Traceback (most recent call last)",
      "\u001b[0;32m<ipython-input-14-23e4de51f507>\u001b[0m in \u001b[0;36m<module>\u001b[0;34m\u001b[0m\n\u001b[0;32m----> 1\u001b[0;31m \u001b[0mdivide\u001b[0m\u001b[0;34m,\u001b[0m \u001b[0mremainder\u001b[0m \u001b[0;34m=\u001b[0m \u001b[0mdiv_result\u001b[0m\u001b[0;34m(\u001b[0m \u001b[0mnumber1\u001b[0m\u001b[0;34m,\u001b[0m \u001b[0;36m0\u001b[0m \u001b[0;34m)\u001b[0m\u001b[0;34m\u001b[0m\u001b[0;34m\u001b[0m\u001b[0m\n\u001b[0m\u001b[1;32m      2\u001b[0m \u001b[0mprint\u001b[0m\u001b[0;34m(\u001b[0m \u001b[0;34mf'{number1} / {2} = {divide}'\u001b[0m \u001b[0;34m)\u001b[0m\u001b[0;34m\u001b[0m\u001b[0;34m\u001b[0m\u001b[0m\n\u001b[1;32m      3\u001b[0m \u001b[0mprint\u001b[0m\u001b[0;34m(\u001b[0m \u001b[0;34mf'{number1} % {2} = {remainder}'\u001b[0m \u001b[0;34m)\u001b[0m\u001b[0;34m\u001b[0m\u001b[0;34m\u001b[0m\u001b[0m\n",
      "\u001b[0;32m<ipython-input-10-4b312a00b4dd>\u001b[0m in \u001b[0;36mdiv_result\u001b[0;34m(number1, number2)\u001b[0m\n\u001b[1;32m      1\u001b[0m \u001b[0;32mdef\u001b[0m \u001b[0mdiv_result\u001b[0m\u001b[0;34m(\u001b[0m \u001b[0mnumber1\u001b[0m\u001b[0;34m,\u001b[0m \u001b[0mnumber2\u001b[0m \u001b[0;34m)\u001b[0m\u001b[0;34m:\u001b[0m\u001b[0;34m\u001b[0m\u001b[0;34m\u001b[0m\u001b[0m\n\u001b[0;32m----> 2\u001b[0;31m     \u001b[0mdivide\u001b[0m \u001b[0;34m=\u001b[0m \u001b[0mnumber1\u001b[0m \u001b[0;34m//\u001b[0m \u001b[0mnumber2\u001b[0m\u001b[0;34m\u001b[0m\u001b[0;34m\u001b[0m\u001b[0m\n\u001b[0m\u001b[1;32m      3\u001b[0m     \u001b[0mremainder\u001b[0m \u001b[0;34m=\u001b[0m \u001b[0mnumber1\u001b[0m \u001b[0;34m%\u001b[0m \u001b[0mnumber2\u001b[0m\u001b[0;34m\u001b[0m\u001b[0;34m\u001b[0m\u001b[0m\n\u001b[1;32m      4\u001b[0m \u001b[0;34m\u001b[0m\u001b[0m\n\u001b[1;32m      5\u001b[0m     \u001b[0;32mreturn\u001b[0m \u001b[0;34m(\u001b[0m \u001b[0mdivide\u001b[0m\u001b[0;34m,\u001b[0m \u001b[0mremainder\u001b[0m \u001b[0;34m)\u001b[0m\u001b[0;34m\u001b[0m\u001b[0;34m\u001b[0m\u001b[0m\n",
      "\u001b[0;31mZeroDivisionError\u001b[0m: integer division or modulo by zero"
     ]
    }
   ],
   "source": [
    "divide, remainder = div_result( number1, 0 )\n",
    "print( f'{number1} / {2} = {divide}' )\n",
    "print( f'{number1} % {2} = {remainder}' )"
   ]
  },
  {
   "cell_type": "markdown",
   "id": "afce1350-ee40-4721-a687-a896ba460408",
   "metadata": {},
   "source": [
    "### 함수 정의 방법"
   ]
  },
  {
   "cell_type": "code",
   "execution_count": 27,
   "id": "d0ef3bb5-283c-45a3-b282-f61b0d5c45c3",
   "metadata": {},
   "outputs": [],
   "source": [
    "def div_result( number1, number2 ):\n",
    "    if not isinstance( number1, int ) or not isinstance( number2, int ):\n",
    "        ret_value = None\n",
    "    elif number2 == 0:\n",
    "        ret_value = None\n",
    "    else:    \n",
    "        divide = number1 // number2\n",
    "        remainder = number1 % number2\n",
    "        ret_value = ( divide, remainder )\n",
    "    \n",
    "    return ret_value"
   ]
  },
  {
   "cell_type": "code",
   "execution_count": 28,
   "id": "c13af639-f013-4b24-9d0d-5b739e9cd06a",
   "metadata": {},
   "outputs": [
    {
     "name": "stdout",
     "output_type": "stream",
     "text": [
      "result = None\n"
     ]
    }
   ],
   "source": [
    "result = div_result( number1, 2.5 )\n",
    "print( f'result = {result}' )"
   ]
  },
  {
   "cell_type": "code",
   "execution_count": 29,
   "id": "ba64b202-17ea-4963-a227-30304fa45787",
   "metadata": {},
   "outputs": [
    {
     "name": "stdout",
     "output_type": "stream",
     "text": [
      "result = None\n"
     ]
    }
   ],
   "source": [
    "result = div_result( number1, 0 )\n",
    "print( f'result = {result}' )"
   ]
  },
  {
   "cell_type": "code",
   "execution_count": 30,
   "id": "cd0ac93c-1f0a-44ac-855c-544831ed43b3",
   "metadata": {},
   "outputs": [
    {
     "name": "stdout",
     "output_type": "stream",
     "text": [
      "result = (5, 0)\n"
     ]
    }
   ],
   "source": [
    "result = div_result( number1, 2 )\n",
    "print( f'result = {result}' )"
   ]
  },
  {
   "cell_type": "code",
   "execution_count": 32,
   "id": "49e458de-e8ce-41cd-ae04-31ba754defd5",
   "metadata": {},
   "outputs": [
    {
     "name": "stdout",
     "output_type": "stream",
     "text": [
      "10 / 2 = 5\n",
      "10 % 2 = 0\n"
     ]
    }
   ],
   "source": [
    "result = div_result( number1, 2 )\n",
    "if result != None:\n",
    "    print( f'{number1} / {2} = {result[ 0 ]}' )\n",
    "    print( f'{number1} % {2} = {result[ 1 ]}' )\n",
    "else:\n",
    "    print( f'Error...' )"
   ]
  },
  {
   "cell_type": "code",
   "execution_count": 33,
   "id": "4a375034-ac3e-4375-925b-42ae57970949",
   "metadata": {},
   "outputs": [
    {
     "name": "stdout",
     "output_type": "stream",
     "text": [
      "Error...\n"
     ]
    }
   ],
   "source": [
    "result = div_result( number1, 0 )\n",
    "if result != None:\n",
    "    print( f'{number1} / {2} = {result[ 0 ]}' )\n",
    "    print( f'{number1} % {2} = {result[ 1 ]}' )\n",
    "else:\n",
    "    print( f'Error...' )"
   ]
  },
  {
   "cell_type": "markdown",
   "id": "cd176474-acf6-4b6f-9b4b-8d7fb61a4b46",
   "metadata": {},
   "source": [
    "### 인수 전달 형태"
   ]
  },
  {
   "cell_type": "code",
   "execution_count": 43,
   "id": "60699a3c-7e8f-49f4-8902-ab1965419ec7",
   "metadata": {},
   "outputs": [],
   "source": [
    "# default 인수\n",
    "def div_result( arg1, arg2 = 2 ):\n",
    "    if not isinstance( number1, int ) or not isinstance( number2, int ):\n",
    "        ret_value = None\n",
    "    elif number2 == 0:\n",
    "        ret_value = None\n",
    "    else:    \n",
    "        divide = number1 // number2\n",
    "        remainder = number1 % number2\n",
    "        ret_value = ( divide, remainder )\n",
    "    \n",
    "    return ret_value"
   ]
  },
  {
   "cell_type": "code",
   "execution_count": 44,
   "id": "61b13e2e-6ae2-486e-b2fa-0e318f45fffd",
   "metadata": {},
   "outputs": [
    {
     "name": "stdout",
     "output_type": "stream",
     "text": [
      "10 / 2 = 0\n",
      "10 % 2 = 10\n"
     ]
    }
   ],
   "source": [
    "result = div_result( number2, 5 )\n",
    "if result != None:\n",
    "    print( f'{number1} / {2} = {result[ 0 ]}' )\n",
    "    print( f'{number1} % {2} = {result[ 1 ]}' )\n",
    "else:\n",
    "    print( f'Error...' )"
   ]
  },
  {
   "cell_type": "code",
   "execution_count": 45,
   "id": "7d61b8a6-3996-47dd-93fb-f7af82797fd5",
   "metadata": {},
   "outputs": [
    {
     "name": "stdout",
     "output_type": "stream",
     "text": [
      "10 / 2 = 0\n",
      "10 % 2 = 10\n"
     ]
    }
   ],
   "source": [
    "result = div_result( number2 )\n",
    "if result != None:\n",
    "    print( f'{number1} / {2} = {result[ 0 ]}' )\n",
    "    print( f'{number1} % {2} = {result[ 1 ]}' )\n",
    "else:\n",
    "    print( f'Error...' )"
   ]
  },
  {
   "cell_type": "code",
   "execution_count": 46,
   "id": "bd36681c-3035-4199-94ea-b2fbdcda3703",
   "metadata": {},
   "outputs": [
    {
     "name": "stdout",
     "output_type": "stream",
     "text": [
      "10 / 2 = 0\n",
      "10 % 2 = 10\n"
     ]
    }
   ],
   "source": [
    "# keyword 인수를 이용한 함수 호출\n",
    "result = div_result( arg2 = 5, arg1 = 50 )\n",
    "if result != None:\n",
    "    print( f'{number1} / {2} = {result[ 0 ]}' )\n",
    "    print( f'{number1} % {2} = {result[ 1 ]}' )\n",
    "else:\n",
    "    print( f'Error...' )"
   ]
  },
  {
   "cell_type": "code",
   "execution_count": 47,
   "id": "7dc8e809-ca46-4d0a-b789-c6afa0015a87",
   "metadata": {},
   "outputs": [
    {
     "name": "stdout",
     "output_type": "stream",
     "text": [
      "10 / 2 = 0\n",
      "10 % 2 = 10\n"
     ]
    }
   ],
   "source": [
    "result = div_result( arg1 = 50, arg2 = 5 )\n",
    "if result != None:\n",
    "    print( f'{number1} / {2} = {result[ 0 ]}' )\n",
    "    print( f'{number1} % {2} = {result[ 1 ]}' )\n",
    "else:\n",
    "    print( f'Error...' )"
   ]
  },
  {
   "cell_type": "code",
   "execution_count": 51,
   "id": "53b93eaa-8ac7-40de-b4da-8e0ffd15c2aa",
   "metadata": {},
   "outputs": [
    {
     "name": "stdout",
     "output_type": "stream",
     "text": [
      "python ***programming\n"
     ]
    }
   ],
   "source": [
    "print( f'python ', end = '***' )\n",
    "print( f'programming' )"
   ]
  },
  {
   "cell_type": "code",
   "execution_count": 57,
   "id": "3e678bb5-279f-4dcb-861c-c16dfd0f9901",
   "metadata": {},
   "outputs": [],
   "source": [
    "# 가변 인수\n",
    "def my_sum( *arg ):\n",
    "    ret_value = 0\n",
    "    for value in arg:\n",
    "        ret_value += value\n",
    "        \n",
    "    return ret_value"
   ]
  },
  {
   "cell_type": "code",
   "execution_count": 58,
   "id": "0c481491-dc17-415a-8e10-c69f34555174",
   "metadata": {},
   "outputs": [
    {
     "name": "stdout",
     "output_type": "stream",
     "text": [
      "sum = 55\n"
     ]
    }
   ],
   "source": [
    "print( f'sum = {my_sum( 5, 10, 9, 4, 2, 1, 3, 6, 7, 8 )}' )"
   ]
  },
  {
   "cell_type": "code",
   "execution_count": 59,
   "id": "b32e805f-7069-415d-b281-782ec17146b5",
   "metadata": {},
   "outputs": [
    {
     "name": "stdout",
     "output_type": "stream",
     "text": [
      "sum = 30\n"
     ]
    }
   ],
   "source": [
    "print( f'sum = {my_sum( 5, 10, 9, 4, 2 )}' )"
   ]
  },
  {
   "cell_type": "code",
   "execution_count": 60,
   "id": "4a844371-7210-4550-ae7d-9c6e52f5c4e5",
   "metadata": {},
   "outputs": [
    {
     "name": "stdout",
     "output_type": "stream",
     "text": [
      "sum = 5\n"
     ]
    }
   ],
   "source": [
    "print( f'sum = {my_sum( 5 )}' )"
   ]
  },
  {
   "cell_type": "code",
   "execution_count": 75,
   "id": "53399046-3afc-41a8-8d7d-a8e4897974b7",
   "metadata": {},
   "outputs": [],
   "source": [
    "# *arg : 가변인수\n",
    "# **kw : keyword 가변인수\n",
    "def calculate( op, *arg, **kw ):\n",
    "    for key, value in kw.items():\n",
    "        print( f'kw -> {key}:{value}' )\n",
    "        \n",
    "    if not isinstance( op, str ):\n",
    "        return\n",
    "    if not op in '+*':\n",
    "        return\n",
    "    else:\n",
    "        if op == '+':\n",
    "            ret_value = 0\n",
    "            for value in arg:\n",
    "                ret_value += value\n",
    "        elif op == '*':\n",
    "            ret_value = 1\n",
    "            for value in arg:\n",
    "                ret_value *= value\n",
    "    \n",
    "    return ret_value"
   ]
  },
  {
   "cell_type": "code",
   "execution_count": 76,
   "id": "2096b684-c6e6-46a2-98f2-755559afd712",
   "metadata": {},
   "outputs": [
    {
     "name": "stdout",
     "output_type": "stream",
     "text": [
      "add -> 15\n",
      "multiple -> 10\n"
     ]
    }
   ],
   "source": [
    "print( f'add -> {calculate( \"+\", 1, 2, 3, 4, 5 )}' )\n",
    "print( f'multiple -> {calculate( \"*\", 2, 5 )}' )"
   ]
  },
  {
   "cell_type": "code",
   "execution_count": 77,
   "id": "8dfa0ce3-b922-4443-b0bb-85eab3d4a381",
   "metadata": {},
   "outputs": [
    {
     "name": "stdout",
     "output_type": "stream",
     "text": [
      "add -> None\n",
      "add -> None\n"
     ]
    }
   ],
   "source": [
    "print( f'add -> {calculate( \"-\", 1, 2, 3, 4, 5 )}' )\n",
    "print( f'add -> {calculate( 10, 1, 2, 3, 4, 5 )}' )"
   ]
  },
  {
   "cell_type": "code",
   "execution_count": 78,
   "id": "819bd82d-a625-4388-ad92-4e376756a9d5",
   "metadata": {},
   "outputs": [
    {
     "name": "stdout",
     "output_type": "stream",
     "text": [
      "kw -> arg1:10\n",
      "kw -> arg2:20\n",
      "add -> None\n"
     ]
    }
   ],
   "source": [
    "print( f'add -> {calculate( 10, 1, 2, 3, 4, 5, arg1 = 10, arg2 = 20 )}' )"
   ]
  },
  {
   "cell_type": "markdown",
   "id": "7c2dca03-5c46-4bda-ace9-abb7d298c2a4",
   "metadata": {},
   "source": [
    "### 인수 전달 방식"
   ]
  },
  {
   "cell_type": "code",
   "execution_count": 79,
   "id": "ba8d37c2-1359-4598-9d40-b0de54437f11",
   "metadata": {},
   "outputs": [
    {
     "name": "stdout",
     "output_type": "stream",
     "text": [
      "var = 10( 4378638976 )\n"
     ]
    }
   ],
   "source": [
    "var = 10\n",
    "print( f'var = {var}( {id( var )} )' )"
   ]
  },
  {
   "cell_type": "code",
   "execution_count": 80,
   "id": "a40e0c6f-94e0-4953-b556-0663b87bc49e",
   "metadata": {},
   "outputs": [
    {
     "name": "stdout",
     "output_type": "stream",
     "text": [
      "var = 20( 4378639296 )\n"
     ]
    }
   ],
   "source": [
    "var = 20\n",
    "print( f'var = {var}( {id( var )} )' )"
   ]
  },
  {
   "cell_type": "code",
   "execution_count": 82,
   "id": "461ea3cc-ede0-4f99-84e1-2b82d513c290",
   "metadata": {},
   "outputs": [],
   "source": [
    "# 일반 변수 인수 전달\n",
    "def my_func( arg ):\n",
    "    print( f'\\targument : {arg}( {id( arg ) } )' )\n",
    "    arg += 10\n",
    "    print( f'\\targument : {arg}( {id( arg ) } )' )\n",
    "    return"
   ]
  },
  {
   "cell_type": "code",
   "execution_count": 83,
   "id": "e252cc10-0e36-4c8b-bc60-15b855c1dc6b",
   "metadata": {},
   "outputs": [
    {
     "name": "stdout",
     "output_type": "stream",
     "text": [
      "var = 100( 4378641856 )\n",
      "\targument : 100( 4378641856 )\n",
      "\targument : 110( 4378642176 )\n",
      "var = 100( 4378641856 )\n"
     ]
    }
   ],
   "source": [
    "var = 100 # 기본 자료형 변수 - 불변 자료형\n",
    "print( f'var = {var}( {id( var )} )' )\n",
    "my_func( var )\n",
    "print( f'var = {var}( {id( var )} )' )"
   ]
  },
  {
   "cell_type": "code",
   "execution_count": 84,
   "id": "d4ad3eee-172c-4a32-9a60-0b32da992509",
   "metadata": {},
   "outputs": [],
   "source": [
    "# list 인수 전달\n",
    "def my_func( arg ):\n",
    "    print( f'\\targument : {arg}( {id( arg ) } )' )\n",
    "    arg.append( 100 )\n",
    "    print( f'\\targument : {arg}( {id( arg ) } )' )\n",
    "    return"
   ]
  },
  {
   "cell_type": "code",
   "execution_count": 85,
   "id": "dcb51e06-0113-470d-9f63-4c2a93f68b67",
   "metadata": {},
   "outputs": [
    {
     "name": "stdout",
     "output_type": "stream",
     "text": [
      "var = [1, 2, 3]( 140564502199808 )\n",
      "\targument : [1, 2, 3]( 140564502199808 )\n",
      "\targument : [1, 2, 3, 100]( 140564502199808 )\n",
      "var = [1, 2, 3, 100]( 140564502199808 )\n"
     ]
    }
   ],
   "source": [
    "l = [ 1, 2, 3 ] # 시퀀스 자료형중 list 변수 - 가변 자료형\n",
    "print( f'var = {l}( {id( l )} )' )\n",
    "my_func( l )\n",
    "print( f'var = {l}( {id( l )} )' )"
   ]
  },
  {
   "cell_type": "code",
   "execution_count": 86,
   "id": "53c71059-dddb-4532-bebb-b6cb6534a75a",
   "metadata": {},
   "outputs": [],
   "source": [
    "def sequre( arg ):\n",
    "    for i in range( len( arg ) ):\n",
    "        arg[ i ] *= 2\n",
    "    \n",
    "    return"
   ]
  },
  {
   "cell_type": "code",
   "execution_count": 87,
   "id": "c7efdcca-0f21-4f05-a434-f3122263cb83",
   "metadata": {},
   "outputs": [
    {
     "name": "stdout",
     "output_type": "stream",
     "text": [
      "l = [1, 2, 3]\n",
      "l = [2, 4, 6]\n"
     ]
    }
   ],
   "source": [
    "l = [ 1, 2, 3 ]\n",
    "print( f'l = {l}' )\n",
    "sequre( l )\n",
    "print( f'l = {l}' )"
   ]
  },
  {
   "cell_type": "code",
   "execution_count": 90,
   "id": "fc7bd167-40c8-499b-b0d8-c07cd935fc4b",
   "metadata": {},
   "outputs": [],
   "source": [
    "def my_func():\n",
    "    l = [ i for i in range( 10 ) ]\n",
    "    print( f'\\tfunc : {l}( {id( l ) } )' )\n",
    "    \n",
    "    return l"
   ]
  },
  {
   "cell_type": "code",
   "execution_count": 91,
   "id": "941dc378-d70a-49cc-a03a-3df574166f31",
   "metadata": {},
   "outputs": [
    {
     "name": "stdout",
     "output_type": "stream",
     "text": [
      "\tfunc : [0, 1, 2, 3, 4, 5, 6, 7, 8, 9]( 140564502175424 )\n",
      "[0, 1, 2, 3, 4, 5, 6, 7, 8, 9]( 140564502175424 )\n"
     ]
    }
   ],
   "source": [
    "l = my_func()\n",
    "print( f'{l}( {id( l )} )' )"
   ]
  },
  {
   "cell_type": "code",
   "execution_count": 92,
   "id": "9a1e9051-69d3-4da0-a518-ae6822af3acf",
   "metadata": {},
   "outputs": [
    {
     "name": "stdout",
     "output_type": "stream",
     "text": [
      "(5, 0)\n"
     ]
    }
   ],
   "source": [
    "print( divmod( 10, 2 ) )"
   ]
  },
  {
   "cell_type": "markdown",
   "id": "99441c6e-d687-40f5-aeb4-3653dd9cc895",
   "metadata": {},
   "source": [
    "### 변수 범위"
   ]
  },
  {
   "cell_type": "code",
   "execution_count": 96,
   "id": "72dc5a9e-cecb-408a-9606-717368f3d86e",
   "metadata": {},
   "outputs": [],
   "source": [
    "var = 10"
   ]
  },
  {
   "cell_type": "code",
   "execution_count": 103,
   "id": "4fd16c6a-b6d2-4a86-aaab-79ac17ee7d8c",
   "metadata": {},
   "outputs": [],
   "source": [
    "def func():\n",
    "    global var # 전역 변수 사용 선언\n",
    "    var = 100 \n",
    "    print( f'\\tvar = {var}( { id( var ) } )' )"
   ]
  },
  {
   "cell_type": "code",
   "execution_count": 104,
   "id": "8f757088-1898-4b9d-aaa7-b047dc822d04",
   "metadata": {},
   "outputs": [
    {
     "name": "stdout",
     "output_type": "stream",
     "text": [
      "var = 10( 4378638976 )\n",
      "\tvar = 100( 4378641856 )\n",
      "var = 100( 4378641856 )\n"
     ]
    }
   ],
   "source": [
    "print( f'var = {var}( { id( var ) } )' )\n",
    "func()\n",
    "print( f'var = {var}( { id( var ) } )' )"
   ]
  },
  {
   "cell_type": "markdown",
   "id": "50844693-cba0-4171-93b1-114aec294160",
   "metadata": {},
   "source": [
    "## 함수기반 데이터 분석 실습"
   ]
  },
  {
   "cell_type": "code",
   "execution_count": 3,
   "id": "8d4e5fff-e792-4932-90d7-6d1032743b98",
   "metadata": {},
   "outputs": [],
   "source": [
    "def create_dataframe( orders, names, heights, presidents ):\n",
    "    with open( 'president_heights.csv', 'r' ) as f:\n",
    "        f.readline()\n",
    "        record = f.readline()\n",
    "        while record:\n",
    "            record = record.split( ',' )\n",
    "            \n",
    "            orders.append( record[ 0 ] )\n",
    "            names.append( record[ 1 ] )\n",
    "            heights.append( int( record[ 2 ][ :3 ] ) )\n",
    "            \n",
    "            presidents[ record[ 0 ] ] = [ int( record[ 2 ][ :3 ] ),\n",
    "                                               record[ 1 ] ]\n",
    "            record = f.readline()"
   ]
  },
  {
   "cell_type": "code",
   "execution_count": 4,
   "id": "45795dd5-bd4c-4e0b-acd0-5912f2d92bd6",
   "metadata": {},
   "outputs": [],
   "source": [
    "def print_dataframe( direction, orders, names, heights, length = 5 ):\n",
    "    if not isinstance( direction, str ):\n",
    "        return\n",
    "    elif not direction in 'ht':\n",
    "        return\n",
    "    else:\n",
    "        if direction == 'h':\n",
    "            start = 0\n",
    "            stop = length\n",
    "        else:\n",
    "            start = len( orders ) - length - 1\n",
    "            stop = len( orders )\n",
    "        print( 'order\\tname\\t\\t\\theight(cm)' )\n",
    "        for i in range( start, stop ):\n",
    "            print( f'{orders[ i ]}\\t{names[ i ]:20}\\t{heights[ i ]}cm' )\n",
    "        print( f'\\ntotal : {len( orders)}명' )"
   ]
  },
  {
   "cell_type": "code",
   "execution_count": 5,
   "id": "8ea2ff65-6a15-464b-98a0-d4d449df659f",
   "metadata": {},
   "outputs": [],
   "source": [
    "#\n",
    "# 함수명 : max_president_info\n",
    "#        최고 신장 대통령 정보 반환 함수\n",
    "# 인수 : orders - 대통령 순번\n",
    "#       names - 대통령 이름\n",
    "#       heights - 대통령 신장\n",
    "# 반환값 : max_height : 최고 신장\n",
    "#        max_height_count : 최고 신장 인원수\n",
    "#        min_height_info : 최고 신장 대통령 정보\n",
    "#\n",
    "def max_president_info( orders, names, heights ):\n",
    "    max_height = max( heights )\n",
    "    max_height_count = heights.count( max_height )\n",
    "    max_height_info = []\n",
    "    \n",
    "    start = -1\n",
    "    for _ in range( max_height_count ):\n",
    "        start = heights.index( max_height, start + 1 )\n",
    "        max_height_info.append( start )\n",
    "    \n",
    "    return ( max_height, max_height_count, max_height_info )"
   ]
  },
  {
   "cell_type": "code",
   "execution_count": 6,
   "id": "66808608-de8a-4be3-9a35-2c45d9a8a2d0",
   "metadata": {},
   "outputs": [],
   "source": [
    "def min_president_info( orders, names, heights ):\n",
    "    min_height = min( heights )\n",
    "    min_height_count = heights.count( min_height )\n",
    "    min_height_info = []\n",
    "    \n",
    "    start = -1\n",
    "    for _ in range( min_height_count ):\n",
    "        start = heights.index( min_height, start + 1 )\n",
    "        min_height_info.append( start )\n",
    "    \n",
    "    return ( min_height, min_height_count, min_height_info )"
   ]
  },
  {
   "cell_type": "code",
   "execution_count": 7,
   "id": "bd79092c-d782-4d5f-92b2-7afa41c05645",
   "metadata": {},
   "outputs": [],
   "source": [
    "def print_height_info( title, height, height_count, height_info,\n",
    "                       orders, names ):\n",
    "    print( f'{title:5} : {height}cm ( {height_count}명 )' )\n",
    "    for i in height_info:\n",
    "        print( f'\\t[ {orders[ i ]:>2} ] {names[ i ]}' )"
   ]
  },
  {
   "cell_type": "code",
   "execution_count": 8,
   "id": "861f3e32-f692-46ca-8117-c46171dc17c2",
   "metadata": {},
   "outputs": [],
   "source": [
    "# 평균과 표준 편차 계산 함수\n",
    "import math\n",
    "\n",
    "def average_standard_deviation( arg ):\n",
    "    average = sum( arg ) / len( arg )\n",
    "    \n",
    "    deviation = []\n",
    "    for value in arg:\n",
    "        deviation.append( value - average )\n",
    "        \n",
    "    deviation_square = []\n",
    "    for value in deviation:\n",
    "        deviation_square.append( value * value )\n",
    "        \n",
    "    dispersion = sum( deviation_square ) / len( deviation_square )\n",
    "    \n",
    "    \n",
    "    standard_deviation = math.sqrt( dispersion ) # ** ( 1 / 2 )\n",
    "    \n",
    "    return ( average, standard_deviation )"
   ]
  },
  {
   "cell_type": "code",
   "execution_count": 9,
   "id": "0bd1aae9-47ee-4f89-a309-160f66e340a0",
   "metadata": {},
   "outputs": [],
   "source": [
    "orders = []\n",
    "names = []\n",
    "heights = []\n",
    "\n",
    "presidents = {}"
   ]
  },
  {
   "cell_type": "code",
   "execution_count": 10,
   "id": "7ed6a68a-95b9-4f81-a114-3b7e380a498f",
   "metadata": {},
   "outputs": [],
   "source": [
    "create_dataframe( orders, names, heights, presidents )"
   ]
  },
  {
   "cell_type": "code",
   "execution_count": 11,
   "id": "1df48658-9561-4a7c-b289-fc8d8b83e8e2",
   "metadata": {},
   "outputs": [
    {
     "name": "stdout",
     "output_type": "stream",
     "text": [
      "order\tname\t\t\theight(cm)\n",
      "1\tGeorge Washington   \t189cm\n",
      "2\tJohn Adams          \t170cm\n",
      "3\tThomas Jefferson    \t189cm\n",
      "4\tJames Madison       \t163cm\n",
      "5\tJames Monroe        \t183cm\n",
      "\n",
      "total : 42명\n"
     ]
    }
   ],
   "source": [
    "print_dataframe( 'h', orders, names, heights )"
   ]
  },
  {
   "cell_type": "code",
   "execution_count": 12,
   "id": "f2dee5c0-6cc6-42f2-a715-edd2f4bccafd",
   "metadata": {},
   "outputs": [
    {
     "name": "stdout",
     "output_type": "stream",
     "text": [
      "order\tname\t\t\theight(cm)\n",
      "39\tJimmy Carter        \t177cm\n",
      "40\tRonald Reagan       \t185cm\n",
      "41\tGeorge H. W. Bush   \t188cm\n",
      "42\tBill Clinton        \t188cm\n",
      "43\tGeorge W. Bush      \t182cm\n",
      "44\tBarack Obama        \t185cm\n",
      "\n",
      "total : 42명\n"
     ]
    }
   ],
   "source": [
    "print_dataframe( 't', orders, names, heights )"
   ]
  },
  {
   "cell_type": "code",
   "execution_count": 13,
   "id": "35847369-40f6-4725-aa0c-f8c8487629b5",
   "metadata": {},
   "outputs": [],
   "source": [
    "max_height, max_height_count, max_height_info = \\\n",
    "    max_president_info( orders, names, heights )\n",
    "min_height, min_height_count, min_height_info = \\\n",
    "    min_president_info( orders, names, heights )    "
   ]
  },
  {
   "cell_type": "code",
   "execution_count": 14,
   "id": "1af4026f-4d1f-471a-a415-4d661a600054",
   "metadata": {},
   "outputs": [],
   "source": [
    "average, standard_deviation = average_standard_deviation( heights )"
   ]
  },
  {
   "cell_type": "code",
   "execution_count": 15,
   "id": "24b08277-868b-4b0a-b1c0-b3243da199ad",
   "metadata": {},
   "outputs": [
    {
     "name": "stdout",
     "output_type": "stream",
     "text": [
      "최고 신장 : 193cm ( 2명 )\n",
      "\t[ 16 ] Abraham Lincoln\n",
      "\t[ 36 ] Lyndon B. Johnson\n",
      "\n",
      "최저 신장 : 163cm ( 1명 )\n",
      "\t[  4 ] James Madison\n",
      "\n",
      "\n",
      "평균 신장 :   179.74cm\n",
      "표준 편차 :     6.93\n"
     ]
    }
   ],
   "source": [
    "print_height_info( '최고 신장', max_height, max_height_count,\n",
    "                   max_height_info, orders, names )\n",
    "print()\n",
    "print_height_info( '최저 신장', min_height, min_height_count,\n",
    "                   min_height_info, orders, names )\n",
    "print( f'\\n\\n평균 신장 : {average:8.2f}cm' )\n",
    "print( f'표준 편차 : {standard_deviation:8.2f}' )"
   ]
  },
  {
   "cell_type": "markdown",
   "id": "49189fbd-5974-4de6-a50e-64aa247db27c",
   "metadata": {},
   "source": [
    "### 함수 작성 실습\n",
    "\n",
    "* my_unique() 함수 작성\n",
    "* 함수 설명 : list 형식의 데이터를 인수로 전달 받아 고유값 list를 반환하는 함수\n",
    "* 인수 : 고유값을 얻고자 하는 데이터를 가지고 있는 list\n",
    "* 반환값 : 고유값을 가지고 있는 list\n",
    "\n",
    "* 예 ) 미국 역대 대통령 신장 데이터셋에서 신장별 인원수를 얻기 위해 고유한 신장값 계산"
   ]
  },
  {
   "cell_type": "code",
   "execution_count": 18,
   "id": "496e0067-41be-4882-8da1-cd651a3b1e76",
   "metadata": {},
   "outputs": [],
   "source": [
    "def my_unique( arg ):\n",
    "    result = []\n",
    "    full = False # flag 변수\n",
    "    \n",
    "    for value in arg:\n",
    "        if not full and len( result ) == 0:\n",
    "            result.append( value )\n",
    "            full = True\n",
    "        \n",
    "        count = result.count( value )        \n",
    "        if count == 0:\n",
    "            result.append( value )\n",
    "            \n",
    "    return result"
   ]
  },
  {
   "cell_type": "code",
   "execution_count": 19,
   "id": "b6b4755e-b567-4044-90e5-4557cd3b5f4f",
   "metadata": {},
   "outputs": [
    {
     "name": "stdout",
     "output_type": "stream",
     "text": [
      "heights : [189, 170, 189, 163, 183, 171, 185, 168, 173, 183, 173, 173, 175, 178, 183, 193, 178, 173, 174, 183, 183, 168, 170, 178, 182, 180, 183, 178, 182, 188, 175, 179, 183, 193, 182, 183, 177, 185, 188, 188, 182, 185]\n",
      "\n",
      "heights : [189, 170, 163, 183, 171, 185, 168, 173, 175, 178, 193, 174, 182, 180, 188, 179, 177]\n"
     ]
    }
   ],
   "source": [
    "print( f'heights : {heights}' )\n",
    "unique_heights = my_unique( heights )\n",
    "print( f'\\nheights : {unique_heights}' )"
   ]
  },
  {
   "cell_type": "markdown",
   "id": "e6469580-6a21-4c81-87ba-66cfa2034646",
   "metadata": {},
   "source": [
    "### 실습 문제 ) Floating_Population_2004.csv 데이터셋을 파이썬을 이용하여 EDA 수행 실습\n",
    "\n",
    "* 분석할 내용에 대한 문제 정의는 각자 정의하여 EDA 수행\n",
    "* 함수를 작성하여 EDA 수행"
   ]
  },
  {
   "cell_type": "code",
   "execution_count": null,
   "id": "0f123b4f-0c14-45da-8e9c-608d7296646f",
   "metadata": {},
   "outputs": [],
   "source": []
  }
 ],
 "metadata": {
  "kernelspec": {
   "display_name": "Python 3",
   "language": "python",
   "name": "python3"
  },
  "language_info": {
   "codemirror_mode": {
    "name": "ipython",
    "version": 3
   },
   "file_extension": ".py",
   "mimetype": "text/x-python",
   "name": "python",
   "nbconvert_exporter": "python",
   "pygments_lexer": "ipython3",
   "version": "3.8.8"
  }
 },
 "nbformat": 4,
 "nbformat_minor": 5
}
