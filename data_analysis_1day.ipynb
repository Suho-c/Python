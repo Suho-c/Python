{
 "cells": [
  {
   "cell_type": "markdown",
   "id": "773cde63-2c7d-46db-b498-6b1060dc6320",
   "metadata": {},
   "source": [
    "# Pandas를 이용한 EDA"
   ]
  },
  {
   "cell_type": "markdown",
   "id": "7aaa5816-a1c6-456d-89e1-b9b57abda52e",
   "metadata": {},
   "source": [
    "## 문제 정의 : 미국 역대 대통령 신장에 대한 이해\n",
    "\n",
    "* Dataset : president_heights.csv\n",
    "* Dataset 구성\n",
    "    - order : 대통령 순번\n",
    "    - name : 대통령 이름\n",
    "    - height : 대통령 신장"
   ]
  },
  {
   "cell_type": "code",
   "execution_count": 1,
   "id": "27e7f4d1-1997-4dbf-857c-8c749b17b5c8",
   "metadata": {},
   "outputs": [],
   "source": [
    "# IPython 매직 명령\n",
    "%matplotlib inline\n",
    "\n",
    "# 라이브러리 import\n",
    "import numpy as np\n",
    "import pandas as pd\n",
    "import matplotlib.pyplot as plt\n",
    "import seaborn as sns\n",
    "\n",
    "# 환경 설정\n",
    "pd.set_option( 'display.max_columns', 20 )\n",
    "pd.set_option( 'display.max_colwidth', 20 )\n",
    "pd.set_option( 'display.unicode.east_asian_width', True )\n",
    "\n",
    "import warnings\n",
    "warnings.filterwarnings( 'ignore' )"
   ]
  },
  {
   "cell_type": "markdown",
   "id": "3a8eace6-b2ef-40a4-afb5-44161e09c89e",
   "metadata": {},
   "source": [
    "### 1. 데이터 수집\n",
    "\n",
    "* DataFrame 생성\n",
    "* DataFrame 기본 정보 확인"
   ]
  },
  {
   "cell_type": "code",
   "execution_count": 7,
   "id": "445e93c6-a50e-4421-b714-689cc72501e4",
   "metadata": {},
   "outputs": [],
   "source": [
    "df = pd.read_csv( '../data/president_heights.csv', index_col = 0 )"
   ]
  },
  {
   "cell_type": "code",
   "execution_count": 11,
   "id": "bb7abae7-1f69-4773-afb6-ce9b9817bfde",
   "metadata": {},
   "outputs": [
    {
     "data": {
      "text/html": [
       "<div>\n",
       "<style scoped>\n",
       "    .dataframe tbody tr th:only-of-type {\n",
       "        vertical-align: middle;\n",
       "    }\n",
       "\n",
       "    .dataframe tbody tr th {\n",
       "        vertical-align: top;\n",
       "    }\n",
       "\n",
       "    .dataframe thead th {\n",
       "        text-align: right;\n",
       "    }\n",
       "</style>\n",
       "<table border=\"1\" class=\"dataframe\">\n",
       "  <thead>\n",
       "    <tr style=\"text-align: right;\">\n",
       "      <th></th>\n",
       "      <th>name</th>\n",
       "      <th>height(cm)</th>\n",
       "    </tr>\n",
       "    <tr>\n",
       "      <th>order</th>\n",
       "      <th></th>\n",
       "      <th></th>\n",
       "    </tr>\n",
       "  </thead>\n",
       "  <tbody>\n",
       "    <tr>\n",
       "      <th>1</th>\n",
       "      <td>George Washington</td>\n",
       "      <td>189</td>\n",
       "    </tr>\n",
       "    <tr>\n",
       "      <th>2</th>\n",
       "      <td>John Adams</td>\n",
       "      <td>170</td>\n",
       "    </tr>\n",
       "    <tr>\n",
       "      <th>3</th>\n",
       "      <td>Thomas Jefferson</td>\n",
       "      <td>189</td>\n",
       "    </tr>\n",
       "    <tr>\n",
       "      <th>4</th>\n",
       "      <td>James Madison</td>\n",
       "      <td>163</td>\n",
       "    </tr>\n",
       "    <tr>\n",
       "      <th>5</th>\n",
       "      <td>James Monroe</td>\n",
       "      <td>183</td>\n",
       "    </tr>\n",
       "  </tbody>\n",
       "</table>\n",
       "</div>"
      ],
      "text/plain": [
       "                    name  height(cm)\n",
       "order                               \n",
       "1      George Washington         189\n",
       "2             John Adams         170\n",
       "3       Thomas Jefferson         189\n",
       "4          James Madison         163\n",
       "5           James Monroe         183"
      ]
     },
     "execution_count": 11,
     "metadata": {},
     "output_type": "execute_result"
    }
   ],
   "source": [
    "df.head()"
   ]
  },
  {
   "cell_type": "code",
   "execution_count": 9,
   "id": "e8f7e542-f6b2-4777-8d3e-880f869703a4",
   "metadata": {},
   "outputs": [
    {
     "data": {
      "text/html": [
       "<div>\n",
       "<style scoped>\n",
       "    .dataframe tbody tr th:only-of-type {\n",
       "        vertical-align: middle;\n",
       "    }\n",
       "\n",
       "    .dataframe tbody tr th {\n",
       "        vertical-align: top;\n",
       "    }\n",
       "\n",
       "    .dataframe thead th {\n",
       "        text-align: right;\n",
       "    }\n",
       "</style>\n",
       "<table border=\"1\" class=\"dataframe\">\n",
       "  <thead>\n",
       "    <tr style=\"text-align: right;\">\n",
       "      <th></th>\n",
       "      <th>name</th>\n",
       "      <th>height(cm)</th>\n",
       "    </tr>\n",
       "    <tr>\n",
       "      <th>order</th>\n",
       "      <th></th>\n",
       "      <th></th>\n",
       "    </tr>\n",
       "  </thead>\n",
       "  <tbody>\n",
       "    <tr>\n",
       "      <th>40</th>\n",
       "      <td>Ronald Reagan</td>\n",
       "      <td>185</td>\n",
       "    </tr>\n",
       "    <tr>\n",
       "      <th>41</th>\n",
       "      <td>George H. W. Bush</td>\n",
       "      <td>188</td>\n",
       "    </tr>\n",
       "    <tr>\n",
       "      <th>42</th>\n",
       "      <td>Bill Clinton</td>\n",
       "      <td>188</td>\n",
       "    </tr>\n",
       "    <tr>\n",
       "      <th>43</th>\n",
       "      <td>George W. Bush</td>\n",
       "      <td>182</td>\n",
       "    </tr>\n",
       "    <tr>\n",
       "      <th>44</th>\n",
       "      <td>Barack Obama</td>\n",
       "      <td>185</td>\n",
       "    </tr>\n",
       "  </tbody>\n",
       "</table>\n",
       "</div>"
      ],
      "text/plain": [
       "                    name  height(cm)\n",
       "order                               \n",
       "40         Ronald Reagan         185\n",
       "41     George H. W. Bush         188\n",
       "42          Bill Clinton         188\n",
       "43        George W. Bush         182\n",
       "44          Barack Obama         185"
      ]
     },
     "execution_count": 9,
     "metadata": {},
     "output_type": "execute_result"
    }
   ],
   "source": [
    "df.tail()"
   ]
  },
  {
   "cell_type": "code",
   "execution_count": 12,
   "id": "fdcb0611-80bf-4c77-ac2a-f2611527fb1d",
   "metadata": {},
   "outputs": [
    {
     "data": {
      "text/plain": [
       "Int64Index([ 1,  2,  3,  4,  5,  6,  7,  8,  9, 10, 11, 12, 13, 14, 15, 16, 17,\n",
       "            18, 19, 20, 21, 23, 25, 26, 27, 28, 29, 30, 31, 32, 33, 34, 35, 36,\n",
       "            37, 38, 39, 40, 41, 42, 43, 44],\n",
       "           dtype='int64', name='order')"
      ]
     },
     "execution_count": 12,
     "metadata": {},
     "output_type": "execute_result"
    }
   ],
   "source": [
    "df.index"
   ]
  },
  {
   "cell_type": "code",
   "execution_count": 13,
   "id": "526a5222-1bd9-44c3-a1c7-9b891381d53c",
   "metadata": {},
   "outputs": [
    {
     "data": {
      "text/plain": [
       "Index(['name', 'height(cm)'], dtype='object')"
      ]
     },
     "execution_count": 13,
     "metadata": {},
     "output_type": "execute_result"
    }
   ],
   "source": [
    "df.columns"
   ]
  },
  {
   "cell_type": "code",
   "execution_count": 14,
   "id": "4ef74c49-c50e-4254-8a6e-074967140a3e",
   "metadata": {},
   "outputs": [
    {
     "data": {
      "text/plain": [
       "array([['George Washington', 189],\n",
       "       ['John Adams', 170],\n",
       "       ['Thomas Jefferson', 189],\n",
       "       ['James Madison', 163],\n",
       "       ['James Monroe', 183],\n",
       "       ['John Quincy Adams', 171],\n",
       "       ['Andrew Jackson', 185],\n",
       "       ['Martin Van Buren', 168],\n",
       "       ['William Henry Harrison', 173],\n",
       "       ['John Tyler', 183],\n",
       "       ['James K. Polk', 173],\n",
       "       ['Zachary Taylor', 173],\n",
       "       ['Millard Fillmore', 175],\n",
       "       ['Franklin Pierce', 178],\n",
       "       ['James Buchanan', 183],\n",
       "       ['Abraham Lincoln', 193],\n",
       "       ['Andrew Johnson', 178],\n",
       "       ['Ulysses S. Grant', 173],\n",
       "       ['Rutherford B. Hayes', 174],\n",
       "       ['James A. Garfield', 183],\n",
       "       ['Chester A. Arthur', 183],\n",
       "       ['Benjamin Harrison', 168],\n",
       "       ['William McKinley', 170],\n",
       "       ['Theodore Roosevelt', 178],\n",
       "       ['William Howard Taft', 182],\n",
       "       ['Woodrow Wilson', 180],\n",
       "       ['Warren G. Harding', 183],\n",
       "       ['Calvin Coolidge', 178],\n",
       "       ['Herbert Hoover', 182],\n",
       "       ['Franklin D. Roosevelt', 188],\n",
       "       ['Harry S. Truman', 175],\n",
       "       ['Dwight D. Eisenhower', 179],\n",
       "       ['John F. Kennedy', 183],\n",
       "       ['Lyndon B. Johnson', 193],\n",
       "       ['Richard Nixon', 182],\n",
       "       ['Gerald Ford', 183],\n",
       "       ['Jimmy Carter', 177],\n",
       "       ['Ronald Reagan', 185],\n",
       "       ['George H. W. Bush', 188],\n",
       "       ['Bill Clinton', 188],\n",
       "       ['George W. Bush', 182],\n",
       "       ['Barack Obama', 185]], dtype=object)"
      ]
     },
     "execution_count": 14,
     "metadata": {},
     "output_type": "execute_result"
    }
   ],
   "source": [
    "df.values"
   ]
  },
  {
   "cell_type": "code",
   "execution_count": 15,
   "id": "6e0ffaab-3cf8-472e-9bc4-a05437f3dd67",
   "metadata": {},
   "outputs": [
    {
     "name": "stdout",
     "output_type": "stream",
     "text": [
      "<class 'pandas.core.frame.DataFrame'>\n",
      "Int64Index: 42 entries, 1 to 44\n",
      "Data columns (total 2 columns):\n",
      " #   Column      Non-Null Count  Dtype \n",
      "---  ------      --------------  ----- \n",
      " 0   name        42 non-null     object\n",
      " 1   height(cm)  42 non-null     int64 \n",
      "dtypes: int64(1), object(1)\n",
      "memory usage: 1008.0+ bytes\n"
     ]
    }
   ],
   "source": [
    "df.info()"
   ]
  },
  {
   "cell_type": "code",
   "execution_count": 16,
   "id": "22f537db-63b2-4820-89dd-17e8551e71c9",
   "metadata": {},
   "outputs": [
    {
     "data": {
      "text/plain": [
       "(42, 2)"
      ]
     },
     "execution_count": 16,
     "metadata": {},
     "output_type": "execute_result"
    }
   ],
   "source": [
    "df.shape"
   ]
  },
  {
   "cell_type": "code",
   "execution_count": 18,
   "id": "1fe7defa-5aa3-486e-ad5f-2c47a49824ce",
   "metadata": {},
   "outputs": [
    {
     "data": {
      "text/plain": [
       "name          object\n",
       "height(cm)     int64\n",
       "dtype: object"
      ]
     },
     "execution_count": 18,
     "metadata": {},
     "output_type": "execute_result"
    }
   ],
   "source": [
    "df.dtypes"
   ]
  },
  {
   "cell_type": "markdown",
   "id": "6d37d37a-491c-44f8-becf-5f4415e47522",
   "metadata": {},
   "source": [
    "### 2. 데이터 전처리\n",
    "\n",
    "* 변수 이름 변경\n",
    "* 결측치 확인 - 결측치가 존재하지 않는다.\n",
    "* 중복 데이터 확인 - 중복 데이터가 존재하지 않는다.\n",
    "* 이상치 확인 - 이상치가 없다."
   ]
  },
  {
   "cell_type": "code",
   "execution_count": 19,
   "id": "4c3553c5-fe5d-4085-9062-eccc5f380a87",
   "metadata": {},
   "outputs": [
    {
     "name": "stdout",
     "output_type": "stream",
     "text": [
      "<class 'pandas.core.frame.DataFrame'>\n",
      "Int64Index: 42 entries, 1 to 44\n",
      "Data columns (total 2 columns):\n",
      " #   Column  Non-Null Count  Dtype \n",
      "---  ------  --------------  ----- \n",
      " 0   name    42 non-null     object\n",
      " 1   height  42 non-null     int64 \n",
      "dtypes: int64(1), object(1)\n",
      "memory usage: 1008.0+ bytes\n"
     ]
    }
   ],
   "source": [
    "df.rename( columns = { 'height(cm)': 'height' }, inplace = True )\n",
    "df.info()"
   ]
  },
  {
   "cell_type": "code",
   "execution_count": 20,
   "id": "b1be057b-747e-4b3c-b4b9-d44352e60da5",
   "metadata": {},
   "outputs": [
    {
     "data": {
      "text/plain": [
       "name      0\n",
       "height    0\n",
       "dtype: int64"
      ]
     },
     "execution_count": 20,
     "metadata": {},
     "output_type": "execute_result"
    }
   ],
   "source": [
    "df.isnull().sum() # 결측치 확인"
   ]
  },
  {
   "cell_type": "code",
   "execution_count": 21,
   "id": "80f7a306-83e0-4c00-9287-5b4bf5ea351f",
   "metadata": {},
   "outputs": [
    {
     "data": {
      "text/plain": [
       "0"
      ]
     },
     "execution_count": 21,
     "metadata": {},
     "output_type": "execute_result"
    }
   ],
   "source": [
    "df.duplicated().sum( axis = 0 ) # 중복 데이터 확인"
   ]
  },
  {
   "cell_type": "code",
   "execution_count": 22,
   "id": "26e082a5-2644-4d97-91c2-6a7e066f771b",
   "metadata": {},
   "outputs": [
    {
     "data": {
      "text/plain": [
       "<AxesSubplot:>"
      ]
     },
     "execution_count": 22,
     "metadata": {},
     "output_type": "execute_result"
    },
    {
     "data": {
      "image/png": "[encoded data removed]",
      "text/plain": [
       "<Figure size 432x288 with 1 Axes>"
      ]
     },
     "metadata": {
      "needs_background": "light"
     },
     "output_type": "display_data"
    }
   ],
   "source": [
    "df[ 'height' ].plot( kind = 'box' ) # 이상치 확인은 위한 box plot"
   ]
  },
  {
   "cell_type": "markdown",
   "id": "825530e1-41d1-4b09-bc7a-b306cce59584",
   "metadata": {},
   "source": [
    "### 3. EDA\n",
    "\n",
    "#### 3.1 역대 대통령 신장"
   ]
  },
  {
   "cell_type": "code",
   "execution_count": 23,
   "id": "0f24e9cd-6c4f-4579-a182-3dcf756d0a5f",
   "metadata": {},
   "outputs": [
    {
     "data": {
      "text/html": [
       "<div>\n",
       "<style scoped>\n",
       "    .dataframe tbody tr th:only-of-type {\n",
       "        vertical-align: middle;\n",
       "    }\n",
       "\n",
       "    .dataframe tbody tr th {\n",
       "        vertical-align: top;\n",
       "    }\n",
       "\n",
       "    .dataframe thead th {\n",
       "        text-align: right;\n",
       "    }\n",
       "</style>\n",
       "<table border=\"1\" class=\"dataframe\">\n",
       "  <thead>\n",
       "    <tr style=\"text-align: right;\">\n",
       "      <th></th>\n",
       "      <th>name</th>\n",
       "      <th>height</th>\n",
       "    </tr>\n",
       "    <tr>\n",
       "      <th>order</th>\n",
       "      <th></th>\n",
       "      <th></th>\n",
       "    </tr>\n",
       "  </thead>\n",
       "  <tbody>\n",
       "    <tr>\n",
       "      <th>1</th>\n",
       "      <td>George Washington</td>\n",
       "      <td>189</td>\n",
       "    </tr>\n",
       "    <tr>\n",
       "      <th>2</th>\n",
       "      <td>John Adams</td>\n",
       "      <td>170</td>\n",
       "    </tr>\n",
       "    <tr>\n",
       "      <th>3</th>\n",
       "      <td>Thomas Jefferson</td>\n",
       "      <td>189</td>\n",
       "    </tr>\n",
       "    <tr>\n",
       "      <th>4</th>\n",
       "      <td>James Madison</td>\n",
       "      <td>163</td>\n",
       "    </tr>\n",
       "    <tr>\n",
       "      <th>5</th>\n",
       "      <td>James Monroe</td>\n",
       "      <td>183</td>\n",
       "    </tr>\n",
       "    <tr>\n",
       "      <th>6</th>\n",
       "      <td>John Quincy Adams</td>\n",
       "      <td>171</td>\n",
       "    </tr>\n",
       "    <tr>\n",
       "      <th>7</th>\n",
       "      <td>Andrew Jackson</td>\n",
       "      <td>185</td>\n",
       "    </tr>\n",
       "    <tr>\n",
       "      <th>8</th>\n",
       "      <td>Martin Van Buren</td>\n",
       "      <td>168</td>\n",
       "    </tr>\n",
       "    <tr>\n",
       "      <th>9</th>\n",
       "      <td>William Henry Ha...</td>\n",
       "      <td>173</td>\n",
       "    </tr>\n",
       "    <tr>\n",
       "      <th>10</th>\n",
       "      <td>John Tyler</td>\n",
       "      <td>183</td>\n",
       "    </tr>\n",
       "    <tr>\n",
       "      <th>11</th>\n",
       "      <td>James K. Polk</td>\n",
       "      <td>173</td>\n",
       "    </tr>\n",
       "    <tr>\n",
       "      <th>12</th>\n",
       "      <td>Zachary Taylor</td>\n",
       "      <td>173</td>\n",
       "    </tr>\n",
       "    <tr>\n",
       "      <th>13</th>\n",
       "      <td>Millard Fillmore</td>\n",
       "      <td>175</td>\n",
       "    </tr>\n",
       "    <tr>\n",
       "      <th>14</th>\n",
       "      <td>Franklin Pierce</td>\n",
       "      <td>178</td>\n",
       "    </tr>\n",
       "    <tr>\n",
       "      <th>15</th>\n",
       "      <td>James Buchanan</td>\n",
       "      <td>183</td>\n",
       "    </tr>\n",
       "    <tr>\n",
       "      <th>16</th>\n",
       "      <td>Abraham Lincoln</td>\n",
       "      <td>193</td>\n",
       "    </tr>\n",
       "    <tr>\n",
       "      <th>17</th>\n",
       "      <td>Andrew Johnson</td>\n",
       "      <td>178</td>\n",
       "    </tr>\n",
       "    <tr>\n",
       "      <th>18</th>\n",
       "      <td>Ulysses S. Grant</td>\n",
       "      <td>173</td>\n",
       "    </tr>\n",
       "    <tr>\n",
       "      <th>19</th>\n",
       "      <td>Rutherford B. Hayes</td>\n",
       "      <td>174</td>\n",
       "    </tr>\n",
       "    <tr>\n",
       "      <th>20</th>\n",
       "      <td>James A. Garfield</td>\n",
       "      <td>183</td>\n",
       "    </tr>\n",
       "    <tr>\n",
       "      <th>21</th>\n",
       "      <td>Chester A. Arthur</td>\n",
       "      <td>183</td>\n",
       "    </tr>\n",
       "    <tr>\n",
       "      <th>23</th>\n",
       "      <td>Benjamin Harrison</td>\n",
       "      <td>168</td>\n",
       "    </tr>\n",
       "    <tr>\n",
       "      <th>25</th>\n",
       "      <td>William McKinley</td>\n",
       "      <td>170</td>\n",
       "    </tr>\n",
       "    <tr>\n",
       "      <th>26</th>\n",
       "      <td>Theodore Roosevelt</td>\n",
       "      <td>178</td>\n",
       "    </tr>\n",
       "    <tr>\n",
       "      <th>27</th>\n",
       "      <td>William Howard Taft</td>\n",
       "      <td>182</td>\n",
       "    </tr>\n",
       "    <tr>\n",
       "      <th>28</th>\n",
       "      <td>Woodrow Wilson</td>\n",
       "      <td>180</td>\n",
       "    </tr>\n",
       "    <tr>\n",
       "      <th>29</th>\n",
       "      <td>Warren G. Harding</td>\n",
       "      <td>183</td>\n",
       "    </tr>\n",
       "    <tr>\n",
       "      <th>30</th>\n",
       "      <td>Calvin Coolidge</td>\n",
       "      <td>178</td>\n",
       "    </tr>\n",
       "    <tr>\n",
       "      <th>31</th>\n",
       "      <td>Herbert Hoover</td>\n",
       "      <td>182</td>\n",
       "    </tr>\n",
       "    <tr>\n",
       "      <th>32</th>\n",
       "      <td>Franklin D. Roos...</td>\n",
       "      <td>188</td>\n",
       "    </tr>\n",
       "    <tr>\n",
       "      <th>33</th>\n",
       "      <td>Harry S. Truman</td>\n",
       "      <td>175</td>\n",
       "    </tr>\n",
       "    <tr>\n",
       "      <th>34</th>\n",
       "      <td>Dwight D. Eisenh...</td>\n",
       "      <td>179</td>\n",
       "    </tr>\n",
       "    <tr>\n",
       "      <th>35</th>\n",
       "      <td>John F. Kennedy</td>\n",
       "      <td>183</td>\n",
       "    </tr>\n",
       "    <tr>\n",
       "      <th>36</th>\n",
       "      <td>Lyndon B. Johnson</td>\n",
       "      <td>193</td>\n",
       "    </tr>\n",
       "    <tr>\n",
       "      <th>37</th>\n",
       "      <td>Richard Nixon</td>\n",
       "      <td>182</td>\n",
       "    </tr>\n",
       "    <tr>\n",
       "      <th>38</th>\n",
       "      <td>Gerald Ford</td>\n",
       "      <td>183</td>\n",
       "    </tr>\n",
       "    <tr>\n",
       "      <th>39</th>\n",
       "      <td>Jimmy Carter</td>\n",
       "      <td>177</td>\n",
       "    </tr>\n",
       "    <tr>\n",
       "      <th>40</th>\n",
       "      <td>Ronald Reagan</td>\n",
       "      <td>185</td>\n",
       "    </tr>\n",
       "    <tr>\n",
       "      <th>41</th>\n",
       "      <td>George H. W. Bush</td>\n",
       "      <td>188</td>\n",
       "    </tr>\n",
       "    <tr>\n",
       "      <th>42</th>\n",
       "      <td>Bill Clinton</td>\n",
       "      <td>188</td>\n",
       "    </tr>\n",
       "    <tr>\n",
       "      <th>43</th>\n",
       "      <td>George W. Bush</td>\n",
       "      <td>182</td>\n",
       "    </tr>\n",
       "    <tr>\n",
       "      <th>44</th>\n",
       "      <td>Barack Obama</td>\n",
       "      <td>185</td>\n",
       "    </tr>\n",
       "  </tbody>\n",
       "</table>\n",
       "</div>"
      ],
      "text/plain": [
       "                      name  height\n",
       "order                             \n",
       "1        George Washington     189\n",
       "2               John Adams     170\n",
       "3         Thomas Jefferson     189\n",
       "4            James Madison     163\n",
       "5             James Monroe     183\n",
       "6        John Quincy Adams     171\n",
       "7           Andrew Jackson     185\n",
       "8         Martin Van Buren     168\n",
       "9      William Henry Ha...     173\n",
       "10              John Tyler     183\n",
       "11           James K. Polk     173\n",
       "12          Zachary Taylor     173\n",
       "13        Millard Fillmore     175\n",
       "14         Franklin Pierce     178\n",
       "15          James Buchanan     183\n",
       "16         Abraham Lincoln     193\n",
       "17          Andrew Johnson     178\n",
       "18        Ulysses S. Grant     173\n",
       "19     Rutherford B. Hayes     174\n",
       "20       James A. Garfield     183\n",
       "21       Chester A. Arthur     183\n",
       "23       Benjamin Harrison     168\n",
       "25        William McKinley     170\n",
       "26      Theodore Roosevelt     178\n",
       "27     William Howard Taft     182\n",
       "28          Woodrow Wilson     180\n",
       "29       Warren G. Harding     183\n",
       "30         Calvin Coolidge     178\n",
       "31          Herbert Hoover     182\n",
       "32     Franklin D. Roos...     188\n",
       "33         Harry S. Truman     175\n",
       "34     Dwight D. Eisenh...     179\n",
       "35         John F. Kennedy     183\n",
       "36       Lyndon B. Johnson     193\n",
       "37           Richard Nixon     182\n",
       "38             Gerald Ford     183\n",
       "39            Jimmy Carter     177\n",
       "40           Ronald Reagan     185\n",
       "41       George H. W. Bush     188\n",
       "42            Bill Clinton     188\n",
       "43          George W. Bush     182\n",
       "44            Barack Obama     185"
      ]
     },
     "execution_count": 23,
     "metadata": {},
     "output_type": "execute_result"
    }
   ],
   "source": [
    "df"
   ]
  },
  {
   "cell_type": "code",
   "execution_count": 31,
   "id": "9346c174-ad90-4835-8c13-0f4f20a306d1",
   "metadata": {},
   "outputs": [
    {
     "data": {
      "image/png": "[encoded data removed]",
      "text/plain": [
       "<Figure size 1080x576 with 1 Axes>"
      ]
     },
     "metadata": {
      "needs_background": "light"
     },
     "output_type": "display_data"
    }
   ],
   "source": [
    "ax = df[ 'height' ].plot( kind = 'bar', figsize = ( 15, 8 ) )\n",
    "ax.set_xticklabels( df.index, rotation = 0 )\n",
    "plt.show()"
   ]
  },
  {
   "cell_type": "markdown",
   "id": "d0a8423e-32bc-476b-8dbc-b2765681e207",
   "metadata": {},
   "source": [
    "#### 3.2 역대 대통령 신장순 분포"
   ]
  },
  {
   "cell_type": "code",
   "execution_count": 34,
   "id": "b7910263-730c-489a-a36c-2c97faaa8dff",
   "metadata": {},
   "outputs": [
    {
     "data": {
      "text/html": [
       "<div>\n",
       "<style scoped>\n",
       "    .dataframe tbody tr th:only-of-type {\n",
       "        vertical-align: middle;\n",
       "    }\n",
       "\n",
       "    .dataframe tbody tr th {\n",
       "        vertical-align: top;\n",
       "    }\n",
       "\n",
       "    .dataframe thead th {\n",
       "        text-align: right;\n",
       "    }\n",
       "</style>\n",
       "<table border=\"1\" class=\"dataframe\">\n",
       "  <thead>\n",
       "    <tr style=\"text-align: right;\">\n",
       "      <th></th>\n",
       "      <th>name</th>\n",
       "      <th>height</th>\n",
       "    </tr>\n",
       "    <tr>\n",
       "      <th>order</th>\n",
       "      <th></th>\n",
       "      <th></th>\n",
       "    </tr>\n",
       "  </thead>\n",
       "  <tbody>\n",
       "    <tr>\n",
       "      <th>16</th>\n",
       "      <td>Abraham Lincoln</td>\n",
       "      <td>193</td>\n",
       "    </tr>\n",
       "    <tr>\n",
       "      <th>36</th>\n",
       "      <td>Lyndon B. Johnson</td>\n",
       "      <td>193</td>\n",
       "    </tr>\n",
       "    <tr>\n",
       "      <th>1</th>\n",
       "      <td>George Washington</td>\n",
       "      <td>189</td>\n",
       "    </tr>\n",
       "    <tr>\n",
       "      <th>3</th>\n",
       "      <td>Thomas Jefferson</td>\n",
       "      <td>189</td>\n",
       "    </tr>\n",
       "    <tr>\n",
       "      <th>42</th>\n",
       "      <td>Bill Clinton</td>\n",
       "      <td>188</td>\n",
       "    </tr>\n",
       "    <tr>\n",
       "      <th>41</th>\n",
       "      <td>George H. W. Bush</td>\n",
       "      <td>188</td>\n",
       "    </tr>\n",
       "    <tr>\n",
       "      <th>32</th>\n",
       "      <td>Franklin D. Roos...</td>\n",
       "      <td>188</td>\n",
       "    </tr>\n",
       "    <tr>\n",
       "      <th>40</th>\n",
       "      <td>Ronald Reagan</td>\n",
       "      <td>185</td>\n",
       "    </tr>\n",
       "    <tr>\n",
       "      <th>44</th>\n",
       "      <td>Barack Obama</td>\n",
       "      <td>185</td>\n",
       "    </tr>\n",
       "    <tr>\n",
       "      <th>7</th>\n",
       "      <td>Andrew Jackson</td>\n",
       "      <td>185</td>\n",
       "    </tr>\n",
       "    <tr>\n",
       "      <th>10</th>\n",
       "      <td>John Tyler</td>\n",
       "      <td>183</td>\n",
       "    </tr>\n",
       "    <tr>\n",
       "      <th>5</th>\n",
       "      <td>James Monroe</td>\n",
       "      <td>183</td>\n",
       "    </tr>\n",
       "    <tr>\n",
       "      <th>38</th>\n",
       "      <td>Gerald Ford</td>\n",
       "      <td>183</td>\n",
       "    </tr>\n",
       "    <tr>\n",
       "      <th>15</th>\n",
       "      <td>James Buchanan</td>\n",
       "      <td>183</td>\n",
       "    </tr>\n",
       "    <tr>\n",
       "      <th>35</th>\n",
       "      <td>John F. Kennedy</td>\n",
       "      <td>183</td>\n",
       "    </tr>\n",
       "    <tr>\n",
       "      <th>20</th>\n",
       "      <td>James A. Garfield</td>\n",
       "      <td>183</td>\n",
       "    </tr>\n",
       "    <tr>\n",
       "      <th>21</th>\n",
       "      <td>Chester A. Arthur</td>\n",
       "      <td>183</td>\n",
       "    </tr>\n",
       "    <tr>\n",
       "      <th>29</th>\n",
       "      <td>Warren G. Harding</td>\n",
       "      <td>183</td>\n",
       "    </tr>\n",
       "    <tr>\n",
       "      <th>27</th>\n",
       "      <td>William Howard Taft</td>\n",
       "      <td>182</td>\n",
       "    </tr>\n",
       "    <tr>\n",
       "      <th>43</th>\n",
       "      <td>George W. Bush</td>\n",
       "      <td>182</td>\n",
       "    </tr>\n",
       "    <tr>\n",
       "      <th>37</th>\n",
       "      <td>Richard Nixon</td>\n",
       "      <td>182</td>\n",
       "    </tr>\n",
       "    <tr>\n",
       "      <th>31</th>\n",
       "      <td>Herbert Hoover</td>\n",
       "      <td>182</td>\n",
       "    </tr>\n",
       "    <tr>\n",
       "      <th>28</th>\n",
       "      <td>Woodrow Wilson</td>\n",
       "      <td>180</td>\n",
       "    </tr>\n",
       "    <tr>\n",
       "      <th>34</th>\n",
       "      <td>Dwight D. Eisenh...</td>\n",
       "      <td>179</td>\n",
       "    </tr>\n",
       "    <tr>\n",
       "      <th>26</th>\n",
       "      <td>Theodore Roosevelt</td>\n",
       "      <td>178</td>\n",
       "    </tr>\n",
       "    <tr>\n",
       "      <th>30</th>\n",
       "      <td>Calvin Coolidge</td>\n",
       "      <td>178</td>\n",
       "    </tr>\n",
       "    <tr>\n",
       "      <th>14</th>\n",
       "      <td>Franklin Pierce</td>\n",
       "      <td>178</td>\n",
       "    </tr>\n",
       "    <tr>\n",
       "      <th>17</th>\n",
       "      <td>Andrew Johnson</td>\n",
       "      <td>178</td>\n",
       "    </tr>\n",
       "    <tr>\n",
       "      <th>39</th>\n",
       "      <td>Jimmy Carter</td>\n",
       "      <td>177</td>\n",
       "    </tr>\n",
       "    <tr>\n",
       "      <th>13</th>\n",
       "      <td>Millard Fillmore</td>\n",
       "      <td>175</td>\n",
       "    </tr>\n",
       "    <tr>\n",
       "      <th>33</th>\n",
       "      <td>Harry S. Truman</td>\n",
       "      <td>175</td>\n",
       "    </tr>\n",
       "    <tr>\n",
       "      <th>19</th>\n",
       "      <td>Rutherford B. Hayes</td>\n",
       "      <td>174</td>\n",
       "    </tr>\n",
       "    <tr>\n",
       "      <th>9</th>\n",
       "      <td>William Henry Ha...</td>\n",
       "      <td>173</td>\n",
       "    </tr>\n",
       "    <tr>\n",
       "      <th>12</th>\n",
       "      <td>Zachary Taylor</td>\n",
       "      <td>173</td>\n",
       "    </tr>\n",
       "    <tr>\n",
       "      <th>18</th>\n",
       "      <td>Ulysses S. Grant</td>\n",
       "      <td>173</td>\n",
       "    </tr>\n",
       "    <tr>\n",
       "      <th>11</th>\n",
       "      <td>James K. Polk</td>\n",
       "      <td>173</td>\n",
       "    </tr>\n",
       "    <tr>\n",
       "      <th>6</th>\n",
       "      <td>John Quincy Adams</td>\n",
       "      <td>171</td>\n",
       "    </tr>\n",
       "    <tr>\n",
       "      <th>25</th>\n",
       "      <td>William McKinley</td>\n",
       "      <td>170</td>\n",
       "    </tr>\n",
       "    <tr>\n",
       "      <th>2</th>\n",
       "      <td>John Adams</td>\n",
       "      <td>170</td>\n",
       "    </tr>\n",
       "    <tr>\n",
       "      <th>8</th>\n",
       "      <td>Martin Van Buren</td>\n",
       "      <td>168</td>\n",
       "    </tr>\n",
       "    <tr>\n",
       "      <th>23</th>\n",
       "      <td>Benjamin Harrison</td>\n",
       "      <td>168</td>\n",
       "    </tr>\n",
       "    <tr>\n",
       "      <th>4</th>\n",
       "      <td>James Madison</td>\n",
       "      <td>163</td>\n",
       "    </tr>\n",
       "  </tbody>\n",
       "</table>\n",
       "</div>"
      ],
      "text/plain": [
       "                      name  height\n",
       "order                             \n",
       "16         Abraham Lincoln     193\n",
       "36       Lyndon B. Johnson     193\n",
       "1        George Washington     189\n",
       "3         Thomas Jefferson     189\n",
       "42            Bill Clinton     188\n",
       "41       George H. W. Bush     188\n",
       "32     Franklin D. Roos...     188\n",
       "40           Ronald Reagan     185\n",
       "44            Barack Obama     185\n",
       "7           Andrew Jackson     185\n",
       "10              John Tyler     183\n",
       "5             James Monroe     183\n",
       "38             Gerald Ford     183\n",
       "15          James Buchanan     183\n",
       "35         John F. Kennedy     183\n",
       "20       James A. Garfield     183\n",
       "21       Chester A. Arthur     183\n",
       "29       Warren G. Harding     183\n",
       "27     William Howard Taft     182\n",
       "43          George W. Bush     182\n",
       "37           Richard Nixon     182\n",
       "31          Herbert Hoover     182\n",
       "28          Woodrow Wilson     180\n",
       "34     Dwight D. Eisenh...     179\n",
       "26      Theodore Roosevelt     178\n",
       "30         Calvin Coolidge     178\n",
       "14         Franklin Pierce     178\n",
       "17          Andrew Johnson     178\n",
       "39            Jimmy Carter     177\n",
       "13        Millard Fillmore     175\n",
       "33         Harry S. Truman     175\n",
       "19     Rutherford B. Hayes     174\n",
       "9      William Henry Ha...     173\n",
       "12          Zachary Taylor     173\n",
       "18        Ulysses S. Grant     173\n",
       "11           James K. Polk     173\n",
       "6        John Quincy Adams     171\n",
       "25        William McKinley     170\n",
       "2               John Adams     170\n",
       "8         Martin Van Buren     168\n",
       "23       Benjamin Harrison     168\n",
       "4            James Madison     163"
      ]
     },
     "execution_count": 34,
     "metadata": {},
     "output_type": "execute_result"
    }
   ],
   "source": [
    "df_sort = df.sort_values( by = 'height', ascending = False )\n",
    "df_sort"
   ]
  },
  {
   "cell_type": "code",
   "execution_count": 35,
   "id": "f78ca408-7e4d-4c5d-bdcd-b010201be599",
   "metadata": {},
   "outputs": [
    {
     "data": {
      "image/png": "[encoded data removed]",
      "text/plain": [
       "<Figure size 1080x576 with 1 Axes>"
      ]
     },
     "metadata": {
      "needs_background": "light"
     },
     "output_type": "display_data"
    }
   ],
   "source": [
    "ax = df_sort[ 'height' ].plot( kind = 'bar', figsize = ( 15, 8 ) )\n",
    "ax.set_xticklabels( df.index, rotation = 0 )\n",
    "plt.show()"
   ]
  },
  {
   "cell_type": "markdown",
   "id": "06da70bc-2814-41b1-9dd6-347a4512a6f6",
   "metadata": {},
   "source": [
    "* 175cm 이상의 대통령이 대부분을 차지 한다."
   ]
  },
  {
   "cell_type": "markdown",
   "id": "47b82512-64bc-4bc2-b976-ff529aa5ab83",
   "metadata": {},
   "source": [
    "#### 3.3 역대 대통령 신장 요약"
   ]
  },
  {
   "cell_type": "code",
   "execution_count": 43,
   "id": "efe9f389-edcf-4aa1-96af-cfda023632cb",
   "metadata": {},
   "outputs": [
    {
     "data": {
      "text/plain": [
       "183    8\n",
       "178    4\n",
       "173    4\n",
       "182    4\n",
       "188    3\n",
       "185    3\n",
       "193    2\n",
       "189    2\n",
       "175    2\n",
       "170    2\n",
       "168    2\n",
       "163    1\n",
       "179    1\n",
       "180    1\n",
       "174    1\n",
       "171    1\n",
       "177    1\n",
       "Name: height, dtype: int64"
      ]
     },
     "execution_count": 43,
     "metadata": {},
     "output_type": "execute_result"
    }
   ],
   "source": [
    "df[ 'height' ].value_counts() # 고유값 확인"
   ]
  },
  {
   "cell_type": "code",
   "execution_count": 42,
   "id": "2236e3e5-87c2-4ab5-9ad9-edd2836c7b56",
   "metadata": {},
   "outputs": [
    {
     "data": {
      "text/html": [
       "<div>\n",
       "<style scoped>\n",
       "    .dataframe tbody tr th:only-of-type {\n",
       "        vertical-align: middle;\n",
       "    }\n",
       "\n",
       "    .dataframe tbody tr th {\n",
       "        vertical-align: top;\n",
       "    }\n",
       "\n",
       "    .dataframe thead th {\n",
       "        text-align: right;\n",
       "    }\n",
       "</style>\n",
       "<table border=\"1\" class=\"dataframe\">\n",
       "  <thead>\n",
       "    <tr style=\"text-align: right;\">\n",
       "      <th></th>\n",
       "      <th>height</th>\n",
       "    </tr>\n",
       "  </thead>\n",
       "  <tbody>\n",
       "    <tr>\n",
       "      <th>count</th>\n",
       "      <td>42.00</td>\n",
       "    </tr>\n",
       "    <tr>\n",
       "      <th>mean</th>\n",
       "      <td>179.74</td>\n",
       "    </tr>\n",
       "    <tr>\n",
       "      <th>std</th>\n",
       "      <td>7.02</td>\n",
       "    </tr>\n",
       "    <tr>\n",
       "      <th>min</th>\n",
       "      <td>163.00</td>\n",
       "    </tr>\n",
       "    <tr>\n",
       "      <th>25%</th>\n",
       "      <td>174.25</td>\n",
       "    </tr>\n",
       "    <tr>\n",
       "      <th>50%</th>\n",
       "      <td>182.00</td>\n",
       "    </tr>\n",
       "    <tr>\n",
       "      <th>75%</th>\n",
       "      <td>183.00</td>\n",
       "    </tr>\n",
       "    <tr>\n",
       "      <th>max</th>\n",
       "      <td>193.00</td>\n",
       "    </tr>\n",
       "  </tbody>\n",
       "</table>\n",
       "</div>"
      ],
      "text/plain": [
       "       height\n",
       "count   42.00\n",
       "mean   179.74\n",
       "std      7.02\n",
       "min    163.00\n",
       "25%    174.25\n",
       "50%    182.00\n",
       "75%    183.00\n",
       "max    193.00"
      ]
     },
     "execution_count": 42,
     "metadata": {},
     "output_type": "execute_result"
    }
   ],
   "source": [
    "round( df.describe(), 2 ) # 기초 통계 정보"
   ]
  },
  {
   "cell_type": "markdown",
   "id": "c2f64993-520d-40f7-93f1-a451856518e9",
   "metadata": {},
   "source": [
    "* 평균 신장은 179.7cm이다.\n",
    "* 평균 신장을 중심으로 많이 퍼져있지는 않다.\n",
    "* 최소 시장은 163cm, 최고 신장은 193cm이다.\n",
    "* 2사분위수와 3사분위수가 거의 같은 값이므로 데이터는 1사분위에서 2사분위사이에 분포되어 있다."
   ]
  },
  {
   "cell_type": "markdown",
   "id": "98ef38ab-80c3-401b-afeb-2365335be322",
   "metadata": {},
   "source": [
    "#### 3.4 최소 신장 대통령"
   ]
  },
  {
   "cell_type": "code",
   "execution_count": 44,
   "id": "ffdbe3fa-a86c-4039-82cc-1a8ebe8ed14e",
   "metadata": {},
   "outputs": [
    {
     "data": {
      "text/html": [
       "<div>\n",
       "<style scoped>\n",
       "    .dataframe tbody tr th:only-of-type {\n",
       "        vertical-align: middle;\n",
       "    }\n",
       "\n",
       "    .dataframe tbody tr th {\n",
       "        vertical-align: top;\n",
       "    }\n",
       "\n",
       "    .dataframe thead th {\n",
       "        text-align: right;\n",
       "    }\n",
       "</style>\n",
       "<table border=\"1\" class=\"dataframe\">\n",
       "  <thead>\n",
       "    <tr style=\"text-align: right;\">\n",
       "      <th></th>\n",
       "      <th>name</th>\n",
       "      <th>height</th>\n",
       "    </tr>\n",
       "    <tr>\n",
       "      <th>order</th>\n",
       "      <th></th>\n",
       "      <th></th>\n",
       "    </tr>\n",
       "  </thead>\n",
       "  <tbody>\n",
       "    <tr>\n",
       "      <th>4</th>\n",
       "      <td>James Madison</td>\n",
       "      <td>163</td>\n",
       "    </tr>\n",
       "  </tbody>\n",
       "</table>\n",
       "</div>"
      ],
      "text/plain": [
       "                name  height\n",
       "order                       \n",
       "4      James Madison     163"
      ]
     },
     "execution_count": 44,
     "metadata": {},
     "output_type": "execute_result"
    }
   ],
   "source": [
    "mask = df[ 'height' ] <= df[ 'height' ].min()\n",
    "min_height = df[ mask ]\n",
    "min_height"
   ]
  },
  {
   "cell_type": "markdown",
   "id": "45695547-9d66-423b-a5a2-c7d909f7cd35",
   "metadata": {},
   "source": [
    "* 미국 역대 대통령중 최소 신장 대통령은 ***4대 James Madison 대통령***으로 ***163cm*** 이다."
   ]
  },
  {
   "cell_type": "markdown",
   "id": "e17b3c84-682d-4c18-91e8-fe91141f7231",
   "metadata": {},
   "source": [
    "#### 3.5 최고 신장 대통령"
   ]
  },
  {
   "cell_type": "code",
   "execution_count": 45,
   "id": "93739215-ad25-4565-96cd-c152992b2b4e",
   "metadata": {},
   "outputs": [
    {
     "data": {
      "text/html": [
       "<div>\n",
       "<style scoped>\n",
       "    .dataframe tbody tr th:only-of-type {\n",
       "        vertical-align: middle;\n",
       "    }\n",
       "\n",
       "    .dataframe tbody tr th {\n",
       "        vertical-align: top;\n",
       "    }\n",
       "\n",
       "    .dataframe thead th {\n",
       "        text-align: right;\n",
       "    }\n",
       "</style>\n",
       "<table border=\"1\" class=\"dataframe\">\n",
       "  <thead>\n",
       "    <tr style=\"text-align: right;\">\n",
       "      <th></th>\n",
       "      <th>name</th>\n",
       "      <th>height</th>\n",
       "    </tr>\n",
       "    <tr>\n",
       "      <th>order</th>\n",
       "      <th></th>\n",
       "      <th></th>\n",
       "    </tr>\n",
       "  </thead>\n",
       "  <tbody>\n",
       "    <tr>\n",
       "      <th>16</th>\n",
       "      <td>Abraham Lincoln</td>\n",
       "      <td>193</td>\n",
       "    </tr>\n",
       "    <tr>\n",
       "      <th>36</th>\n",
       "      <td>Lyndon B. Johnson</td>\n",
       "      <td>193</td>\n",
       "    </tr>\n",
       "  </tbody>\n",
       "</table>\n",
       "</div>"
      ],
      "text/plain": [
       "                    name  height\n",
       "order                           \n",
       "16       Abraham Lincoln     193\n",
       "36     Lyndon B. Johnson     193"
      ]
     },
     "execution_count": 45,
     "metadata": {},
     "output_type": "execute_result"
    }
   ],
   "source": [
    "mask = df[ 'height' ] >= df[ 'height' ].max()\n",
    "max_height = df[ mask ]\n",
    "max_height"
   ]
  },
  {
   "cell_type": "markdown",
   "id": "5dd04543-72f6-4a57-90ff-d6a964b0344f",
   "metadata": {},
   "source": [
    "* 미국 역대 대통령중 최고 신장 대통령은 ***16대 Abraham Lincoln 대통령***과 ***36대 Lyndon B. Johnson 대통령***으로 ***193cm*** 이다."
   ]
  },
  {
   "cell_type": "markdown",
   "id": "e36c3818-d73a-48e9-9c2f-80c42e605992",
   "metadata": {},
   "source": [
    "#### 3.6 미국 역대 대통령 신장별 구간 정보"
   ]
  },
  {
   "cell_type": "code",
   "execution_count": 49,
   "id": "69a35c5f-e5c4-4bb4-8997-2bd11e3916fe",
   "metadata": {},
   "outputs": [
    {
     "name": "stdout",
     "output_type": "stream",
     "text": [
      "미국 역대 대통령 신장을 6구간으로 분할\n",
      "구간 분할 경계 : [163. 168. 173. 178. 183. 188. 193.]\n",
      "구간별 인원 수 : [ 1  5  8 10 11  7]\n"
     ]
    }
   ],
   "source": [
    "count, bin_dividers = np.histogram( df[ 'height' ], bins = 6 )\n",
    "\n",
    "print( '미국 역대 대통령 신장을 6구간으로 분할' )\n",
    "print( f'구간 분할 경계 : {bin_dividers}' )\n",
    "print( f'구간별 인원 수 : {count}' )"
   ]
  },
  {
   "cell_type": "code",
   "execution_count": 51,
   "id": "07907240-ef9f-40b8-a129-798873653eea",
   "metadata": {},
   "outputs": [
    {
     "data": {
      "text/plain": [
       "<AxesSubplot:xlabel='height', ylabel='Density'>"
      ]
     },
     "execution_count": 51,
     "metadata": {},
     "output_type": "execute_result"
    },
    {
     "data": {
      "image/png": "[encoded data removed]",
      "text/plain": [
       "<Figure size 936x360 with 1 Axes>"
      ]
     },
     "metadata": {},
     "output_type": "display_data"
    }
   ],
   "source": [
    "sns.set_theme( style = 'whitegrid' )\n",
    "plt.figure( figsize = ( 13, 5 ) )\n",
    "sns.distplot( df[ 'height' ], kde = True )"
   ]
  },
  {
   "cell_type": "markdown",
   "id": "87db6b64-1f6b-4d26-83a5-66bfaa715ffc",
   "metadata": {},
   "source": [
    "#### 3.7 평균 신장 이상 / 이하 대통령 정보"
   ]
  },
  {
   "cell_type": "code",
   "execution_count": 52,
   "id": "50442751-f1ac-4d17-8a2f-a2f4c64a31a8",
   "metadata": {},
   "outputs": [
    {
     "name": "stdout",
     "output_type": "stream",
     "text": [
      "미국 역대 대통령 평균 신장 : 179.74cm\n"
     ]
    }
   ],
   "source": [
    "mean_height = df[ 'height' ].mean()\n",
    "print( f'미국 역대 대통령 평균 신장 : {round( mean_height, 2 )}cm' )"
   ]
  },
  {
   "cell_type": "markdown",
   "id": "d5f53b1f-0a42-47fe-9c9a-896874ffe77a",
   "metadata": {},
   "source": [
    "#### 평균 신장 이하 대통령 정보"
   ]
  },
  {
   "cell_type": "code",
   "execution_count": 56,
   "id": "5da32348-7c96-43c7-9a8d-5a8df1f9e0ad",
   "metadata": {},
   "outputs": [
    {
     "name": "stdout",
     "output_type": "stream",
     "text": [
      "미국 역대 대통령 평균 신장 179.74cm 이하 대통령 수는 19명이다.\n",
      "\n"
     ]
    },
    {
     "data": {
      "text/html": [
       "<div>\n",
       "<style scoped>\n",
       "    .dataframe tbody tr th:only-of-type {\n",
       "        vertical-align: middle;\n",
       "    }\n",
       "\n",
       "    .dataframe tbody tr th {\n",
       "        vertical-align: top;\n",
       "    }\n",
       "\n",
       "    .dataframe thead th {\n",
       "        text-align: right;\n",
       "    }\n",
       "</style>\n",
       "<table border=\"1\" class=\"dataframe\">\n",
       "  <thead>\n",
       "    <tr style=\"text-align: right;\">\n",
       "      <th></th>\n",
       "      <th>name</th>\n",
       "      <th>height</th>\n",
       "    </tr>\n",
       "    <tr>\n",
       "      <th>order</th>\n",
       "      <th></th>\n",
       "      <th></th>\n",
       "    </tr>\n",
       "  </thead>\n",
       "  <tbody>\n",
       "    <tr>\n",
       "      <th>4</th>\n",
       "      <td>James Madison</td>\n",
       "      <td>163</td>\n",
       "    </tr>\n",
       "    <tr>\n",
       "      <th>8</th>\n",
       "      <td>Martin Van Buren</td>\n",
       "      <td>168</td>\n",
       "    </tr>\n",
       "    <tr>\n",
       "      <th>23</th>\n",
       "      <td>Benjamin Harrison</td>\n",
       "      <td>168</td>\n",
       "    </tr>\n",
       "    <tr>\n",
       "      <th>2</th>\n",
       "      <td>John Adams</td>\n",
       "      <td>170</td>\n",
       "    </tr>\n",
       "    <tr>\n",
       "      <th>25</th>\n",
       "      <td>William McKinley</td>\n",
       "      <td>170</td>\n",
       "    </tr>\n",
       "    <tr>\n",
       "      <th>6</th>\n",
       "      <td>John Quincy Adams</td>\n",
       "      <td>171</td>\n",
       "    </tr>\n",
       "    <tr>\n",
       "      <th>9</th>\n",
       "      <td>William Henry Ha...</td>\n",
       "      <td>173</td>\n",
       "    </tr>\n",
       "    <tr>\n",
       "      <th>11</th>\n",
       "      <td>James K. Polk</td>\n",
       "      <td>173</td>\n",
       "    </tr>\n",
       "    <tr>\n",
       "      <th>12</th>\n",
       "      <td>Zachary Taylor</td>\n",
       "      <td>173</td>\n",
       "    </tr>\n",
       "    <tr>\n",
       "      <th>18</th>\n",
       "      <td>Ulysses S. Grant</td>\n",
       "      <td>173</td>\n",
       "    </tr>\n",
       "    <tr>\n",
       "      <th>19</th>\n",
       "      <td>Rutherford B. Hayes</td>\n",
       "      <td>174</td>\n",
       "    </tr>\n",
       "    <tr>\n",
       "      <th>13</th>\n",
       "      <td>Millard Fillmore</td>\n",
       "      <td>175</td>\n",
       "    </tr>\n",
       "    <tr>\n",
       "      <th>33</th>\n",
       "      <td>Harry S. Truman</td>\n",
       "      <td>175</td>\n",
       "    </tr>\n",
       "    <tr>\n",
       "      <th>39</th>\n",
       "      <td>Jimmy Carter</td>\n",
       "      <td>177</td>\n",
       "    </tr>\n",
       "    <tr>\n",
       "      <th>26</th>\n",
       "      <td>Theodore Roosevelt</td>\n",
       "      <td>178</td>\n",
       "    </tr>\n",
       "    <tr>\n",
       "      <th>30</th>\n",
       "      <td>Calvin Coolidge</td>\n",
       "      <td>178</td>\n",
       "    </tr>\n",
       "    <tr>\n",
       "      <th>14</th>\n",
       "      <td>Franklin Pierce</td>\n",
       "      <td>178</td>\n",
       "    </tr>\n",
       "    <tr>\n",
       "      <th>17</th>\n",
       "      <td>Andrew Johnson</td>\n",
       "      <td>178</td>\n",
       "    </tr>\n",
       "    <tr>\n",
       "      <th>34</th>\n",
       "      <td>Dwight D. Eisenh...</td>\n",
       "      <td>179</td>\n",
       "    </tr>\n",
       "  </tbody>\n",
       "</table>\n",
       "</div>"
      ],
      "text/plain": [
       "                      name  height\n",
       "order                             \n",
       "4            James Madison     163\n",
       "8         Martin Van Buren     168\n",
       "23       Benjamin Harrison     168\n",
       "2               John Adams     170\n",
       "25        William McKinley     170\n",
       "6        John Quincy Adams     171\n",
       "9      William Henry Ha...     173\n",
       "11           James K. Polk     173\n",
       "12          Zachary Taylor     173\n",
       "18        Ulysses S. Grant     173\n",
       "19     Rutherford B. Hayes     174\n",
       "13        Millard Fillmore     175\n",
       "33         Harry S. Truman     175\n",
       "39            Jimmy Carter     177\n",
       "26      Theodore Roosevelt     178\n",
       "30         Calvin Coolidge     178\n",
       "14         Franklin Pierce     178\n",
       "17          Andrew Johnson     178\n",
       "34     Dwight D. Eisenh...     179"
      ]
     },
     "execution_count": 56,
     "metadata": {},
     "output_type": "execute_result"
    }
   ],
   "source": [
    "mean_height_under = df.loc[ df.height <= mean_height ]\n",
    "mean_height_under_sort = mean_height_under.sort_values( by = 'height' )\n",
    "\n",
    "print( f'미국 역대 대통령 평균 신장 {round( mean_height, 2 ) }cm ', end = '' )\n",
    "print( f'이하 대통령 수는 {mean_height_under_sort.height.count()}명이다.\\n' )\n",
    "\n",
    "mean_height_under_sort"
   ]
  },
  {
   "cell_type": "code",
   "execution_count": 58,
   "id": "9d485c3c-d48d-43d9-8cd4-c13eea5a417f",
   "metadata": {},
   "outputs": [
    {
     "data": {
      "image/png": "[encoded data removed]",
      "text/plain": [
       "<Figure size 1080x576 with 1 Axes>"
      ]
     },
     "metadata": {},
     "output_type": "display_data"
    }
   ],
   "source": [
    "ax = mean_height_under_sort[ 'height' ].plot( kind = 'bar', figsize = ( 15, 8 ) )\n",
    "ax.set_xticklabels( mean_height_under_sort.index, rotation = 0 )\n",
    "plt.show()"
   ]
  },
  {
   "cell_type": "markdown",
   "id": "94ea18a2-a487-4ae1-bf2a-34bff72350f6",
   "metadata": {},
   "source": [
    "#### 평균 신장 이상 대통령 정보"
   ]
  },
  {
   "cell_type": "code",
   "execution_count": 60,
   "id": "dec0436f-5370-4ad1-8b22-0ebc41aacaad",
   "metadata": {},
   "outputs": [
    {
     "name": "stdout",
     "output_type": "stream",
     "text": [
      "미국 역대 대통령 평균 신장 179.74cm 이상 대통령 수는 23명이다.\n",
      "\n"
     ]
    },
    {
     "data": {
      "text/html": [
       "<div>\n",
       "<style scoped>\n",
       "    .dataframe tbody tr th:only-of-type {\n",
       "        vertical-align: middle;\n",
       "    }\n",
       "\n",
       "    .dataframe tbody tr th {\n",
       "        vertical-align: top;\n",
       "    }\n",
       "\n",
       "    .dataframe thead th {\n",
       "        text-align: right;\n",
       "    }\n",
       "</style>\n",
       "<table border=\"1\" class=\"dataframe\">\n",
       "  <thead>\n",
       "    <tr style=\"text-align: right;\">\n",
       "      <th></th>\n",
       "      <th>name</th>\n",
       "      <th>height</th>\n",
       "    </tr>\n",
       "    <tr>\n",
       "      <th>order</th>\n",
       "      <th></th>\n",
       "      <th></th>\n",
       "    </tr>\n",
       "  </thead>\n",
       "  <tbody>\n",
       "    <tr>\n",
       "      <th>36</th>\n",
       "      <td>Lyndon B. Johnson</td>\n",
       "      <td>193</td>\n",
       "    </tr>\n",
       "    <tr>\n",
       "      <th>16</th>\n",
       "      <td>Abraham Lincoln</td>\n",
       "      <td>193</td>\n",
       "    </tr>\n",
       "    <tr>\n",
       "      <th>1</th>\n",
       "      <td>George Washington</td>\n",
       "      <td>189</td>\n",
       "    </tr>\n",
       "    <tr>\n",
       "      <th>3</th>\n",
       "      <td>Thomas Jefferson</td>\n",
       "      <td>189</td>\n",
       "    </tr>\n",
       "    <tr>\n",
       "      <th>42</th>\n",
       "      <td>Bill Clinton</td>\n",
       "      <td>188</td>\n",
       "    </tr>\n",
       "    <tr>\n",
       "      <th>41</th>\n",
       "      <td>George H. W. Bush</td>\n",
       "      <td>188</td>\n",
       "    </tr>\n",
       "    <tr>\n",
       "      <th>32</th>\n",
       "      <td>Franklin D. Roos...</td>\n",
       "      <td>188</td>\n",
       "    </tr>\n",
       "    <tr>\n",
       "      <th>40</th>\n",
       "      <td>Ronald Reagan</td>\n",
       "      <td>185</td>\n",
       "    </tr>\n",
       "    <tr>\n",
       "      <th>44</th>\n",
       "      <td>Barack Obama</td>\n",
       "      <td>185</td>\n",
       "    </tr>\n",
       "    <tr>\n",
       "      <th>7</th>\n",
       "      <td>Andrew Jackson</td>\n",
       "      <td>185</td>\n",
       "    </tr>\n",
       "    <tr>\n",
       "      <th>21</th>\n",
       "      <td>Chester A. Arthur</td>\n",
       "      <td>183</td>\n",
       "    </tr>\n",
       "    <tr>\n",
       "      <th>20</th>\n",
       "      <td>James A. Garfield</td>\n",
       "      <td>183</td>\n",
       "    </tr>\n",
       "    <tr>\n",
       "      <th>35</th>\n",
       "      <td>John F. Kennedy</td>\n",
       "      <td>183</td>\n",
       "    </tr>\n",
       "    <tr>\n",
       "      <th>15</th>\n",
       "      <td>James Buchanan</td>\n",
       "      <td>183</td>\n",
       "    </tr>\n",
       "    <tr>\n",
       "      <th>38</th>\n",
       "      <td>Gerald Ford</td>\n",
       "      <td>183</td>\n",
       "    </tr>\n",
       "    <tr>\n",
       "      <th>10</th>\n",
       "      <td>John Tyler</td>\n",
       "      <td>183</td>\n",
       "    </tr>\n",
       "    <tr>\n",
       "      <th>5</th>\n",
       "      <td>James Monroe</td>\n",
       "      <td>183</td>\n",
       "    </tr>\n",
       "    <tr>\n",
       "      <th>29</th>\n",
       "      <td>Warren G. Harding</td>\n",
       "      <td>183</td>\n",
       "    </tr>\n",
       "    <tr>\n",
       "      <th>27</th>\n",
       "      <td>William Howard Taft</td>\n",
       "      <td>182</td>\n",
       "    </tr>\n",
       "    <tr>\n",
       "      <th>31</th>\n",
       "      <td>Herbert Hoover</td>\n",
       "      <td>182</td>\n",
       "    </tr>\n",
       "    <tr>\n",
       "      <th>37</th>\n",
       "      <td>Richard Nixon</td>\n",
       "      <td>182</td>\n",
       "    </tr>\n",
       "    <tr>\n",
       "      <th>43</th>\n",
       "      <td>George W. Bush</td>\n",
       "      <td>182</td>\n",
       "    </tr>\n",
       "    <tr>\n",
       "      <th>28</th>\n",
       "      <td>Woodrow Wilson</td>\n",
       "      <td>180</td>\n",
       "    </tr>\n",
       "  </tbody>\n",
       "</table>\n",
       "</div>"
      ],
      "text/plain": [
       "                      name  height\n",
       "order                             \n",
       "36       Lyndon B. Johnson     193\n",
       "16         Abraham Lincoln     193\n",
       "1        George Washington     189\n",
       "3         Thomas Jefferson     189\n",
       "42            Bill Clinton     188\n",
       "41       George H. W. Bush     188\n",
       "32     Franklin D. Roos...     188\n",
       "40           Ronald Reagan     185\n",
       "44            Barack Obama     185\n",
       "7           Andrew Jackson     185\n",
       "21       Chester A. Arthur     183\n",
       "20       James A. Garfield     183\n",
       "35         John F. Kennedy     183\n",
       "15          James Buchanan     183\n",
       "38             Gerald Ford     183\n",
       "10              John Tyler     183\n",
       "5             James Monroe     183\n",
       "29       Warren G. Harding     183\n",
       "27     William Howard Taft     182\n",
       "31          Herbert Hoover     182\n",
       "37           Richard Nixon     182\n",
       "43          George W. Bush     182\n",
       "28          Woodrow Wilson     180"
      ]
     },
     "execution_count": 60,
     "metadata": {},
     "output_type": "execute_result"
    }
   ],
   "source": [
    "mean_height_over = df.loc[ df.height >= mean_height ]\n",
    "mean_height_over_sort = mean_height_over.sort_values( by = 'height', \n",
    "                                                      ascending = False )\n",
    "\n",
    "print( f'미국 역대 대통령 평균 신장 {round( mean_height, 2 ) }cm ', end = '' )\n",
    "print( f'이상 대통령 수는 {mean_height_over_sort.height.count()}명이다.\\n' )\n",
    "\n",
    "mean_height_over_sort"
   ]
  },
  {
   "cell_type": "code",
   "execution_count": 61,
   "id": "9d30885b-138f-4603-9bd9-8d79eab0585b",
   "metadata": {},
   "outputs": [
    {
     "data": {
      "image/png": "[encoded data removed]",
      "text/plain": [
       "<Figure size 1080x576 with 1 Axes>"
      ]
     },
     "metadata": {},
     "output_type": "display_data"
    }
   ],
   "source": [
    "ax = mean_height_over_sort[ 'height' ].plot( kind = 'bar', figsize = ( 15, 8 ) )\n",
    "ax.set_xticklabels( mean_height_over_sort.index, rotation = 0 )\n",
    "plt.show()"
   ]
  },
  {
   "cell_type": "markdown",
   "id": "01c9c195-fa5e-4566-81dd-2e7bf73a3660",
   "metadata": {},
   "source": [
    "#### 3.8 대통령 신장별 인원수"
   ]
  },
  {
   "cell_type": "code",
   "execution_count": 75,
   "id": "af151f72-ba7f-4f29-89f0-e5a6fd2f1ce3",
   "metadata": {},
   "outputs": [],
   "source": [
    "def height_value_count( height_s ):\n",
    "    count = df[ 'height' ].count() # 전체 인원수\n",
    "    height = list( height_s.index ) # 신장\n",
    "    height_count = list( height_s.values ) # 인원수\n",
    "    \n",
    "    print( '대통령 신장별 인원수'.center( 20 ), '\\n' )\n",
    "    for i in range( len( height_count ) ):\n",
    "        print( f'[ {height[ i ]:3}cm ] - {height_count[ i ]}명', end = '' )\n",
    "        print( f'( {height_count[ i ] / count * 100:5.2f}% )' )"
   ]
  },
  {
   "cell_type": "code",
   "execution_count": 77,
   "id": "bc293412-3538-4f87-a5dd-560fe65a6a29",
   "metadata": {},
   "outputs": [
    {
     "name": "stdout",
     "output_type": "stream",
     "text": [
      "    대통령 신장별 인원수      \n",
      "\n",
      "[ 183cm ] - 8명( 19.05% )\n",
      "[ 178cm ] - 4명(  9.52% )\n",
      "[ 173cm ] - 4명(  9.52% )\n",
      "[ 182cm ] - 4명(  9.52% )\n",
      "[ 188cm ] - 3명(  7.14% )\n",
      "[ 185cm ] - 3명(  7.14% )\n",
      "[ 193cm ] - 2명(  4.76% )\n",
      "[ 189cm ] - 2명(  4.76% )\n",
      "[ 175cm ] - 2명(  4.76% )\n",
      "[ 170cm ] - 2명(  4.76% )\n",
      "[ 168cm ] - 2명(  4.76% )\n",
      "[ 163cm ] - 1명(  2.38% )\n",
      "[ 179cm ] - 1명(  2.38% )\n",
      "[ 180cm ] - 1명(  2.38% )\n",
      "[ 174cm ] - 1명(  2.38% )\n",
      "[ 171cm ] - 1명(  2.38% )\n",
      "[ 177cm ] - 1명(  2.38% )\n"
     ]
    }
   ],
   "source": [
    "height_s = df[ 'height' ].value_counts()\n",
    "\n",
    "height_value_count( height_s )"
   ]
  },
  {
   "cell_type": "code",
   "execution_count": 81,
   "id": "d81377b2-c617-4309-bea4-46b29509bc04",
   "metadata": {},
   "outputs": [],
   "source": [
    "from matplotlib import font_manager, rc\n",
    "\n",
    "# Windows 사용시 matplotlib 한글 폰트 사용 설정\n",
    "# font_path = \"c:\\\\Windows\\\\Fonts\\\\malgun.ttf\"\n",
    "# font_name = font_manager.FontProperties( fname = font_path ).get_name()\n",
    "# rc( 'font', family = font_name )\n",
    "\n",
    "# Mac OS 사용시 matplotlib 한글 폰트 사용 설정\n",
    "rc( 'font', family = 'AppleGothic' )"
   ]
  },
  {
   "cell_type": "code",
   "execution_count": 82,
   "id": "35cc2d8a-aaa0-40df-89cf-4037dcb93bb6",
   "metadata": {},
   "outputs": [
    {
     "data": {
      "image/png": "[encoded data removed]",
      "text/plain": [
       "<Figure size 1080x720 with 1 Axes>"
      ]
     },
     "metadata": {},
     "output_type": "display_data"
    }
   ],
   "source": [
    "height_s.plot( kind = 'pie', figsize = ( 15, 10 ),\n",
    "               autopct = '%1.1f%%', startangle = 10 )\n",
    "plt.title( '대통령 신장별 인원수' )\n",
    "plt.axis( 'equal' )\n",
    "plt.legend( labels = height_s.index, loc = 'best' )\n",
    "plt.show()"
   ]
  },
  {
   "cell_type": "markdown",
   "id": "9379d46c-29d5-42fe-8485-23672e572df6",
   "metadata": {},
   "source": [
    "## 문제 정의 : 2020년 4월 서울시 유동인구에 대한 이해\n",
    "\n",
    "* Dataset : Floating_Population_2004.csv\n",
    "* Dataset 구성\n",
    "    - 일자 : 유동 인구를 수집한 날짜( 2020/04/01 ~ 2020/04/30 )\n",
    "    - 시간 : 유동 인구를 수집한 시간( 0시 ~ 23시 )\n",
    "    - 연령 : 유동 인구를 수집한 연령( 20대 ~ 70대 )\n",
    "    - 시 : 유동 인구를 수집한 시( 서울시 )\n",
    "    - 구 : 유동 인구를 수집한 구\n",
    "    - 유동 인구수 : 수집한 유동 인구수"
   ]
  },
  {
   "cell_type": "markdown",
   "id": "349d91a7-a3b5-42d3-9f85-c37fc18e8d0f",
   "metadata": {},
   "source": [
    "### 1. 데이터 수집\n",
    "\n",
    "* DataFrame 생성\n",
    "* DataFrame 기본 정보 확인"
   ]
  },
  {
   "cell_type": "code",
   "execution_count": 84,
   "id": "fc198de0-028f-4d23-875b-d55610c4fb27",
   "metadata": {},
   "outputs": [],
   "source": [
    "df = pd.read_csv( '../data/Floating_Population_2004.csv', \n",
    "                  encoding = 'utf-8' )"
   ]
  },
  {
   "cell_type": "code",
   "execution_count": 85,
   "id": "9f1f3ef3-a39a-4a02-b43a-de157825f58a",
   "metadata": {},
   "outputs": [
    {
     "data": {
      "text/html": [
       "<div>\n",
       "<style scoped>\n",
       "    .dataframe tbody tr th:only-of-type {\n",
       "        vertical-align: middle;\n",
       "    }\n",
       "\n",
       "    .dataframe tbody tr th {\n",
       "        vertical-align: top;\n",
       "    }\n",
       "\n",
       "    .dataframe thead th {\n",
       "        text-align: right;\n",
       "    }\n",
       "</style>\n",
       "<table border=\"1\" class=\"dataframe\">\n",
       "  <thead>\n",
       "    <tr style=\"text-align: right;\">\n",
       "      <th></th>\n",
       "      <th>일자</th>\n",
       "      <th>시간(1시간단위)</th>\n",
       "      <th>연령대(10세단위)</th>\n",
       "      <th>성별</th>\n",
       "      <th>시</th>\n",
       "      <th>군구</th>\n",
       "      <th>유동인구수</th>\n",
       "    </tr>\n",
       "  </thead>\n",
       "  <tbody>\n",
       "    <tr>\n",
       "      <th>0</th>\n",
       "      <td>20200401</td>\n",
       "      <td>0</td>\n",
       "      <td>20</td>\n",
       "      <td>남성</td>\n",
       "      <td>서울</td>\n",
       "      <td>도봉구</td>\n",
       "      <td>21490</td>\n",
       "    </tr>\n",
       "    <tr>\n",
       "      <th>1</th>\n",
       "      <td>20200401</td>\n",
       "      <td>0</td>\n",
       "      <td>30</td>\n",
       "      <td>여성</td>\n",
       "      <td>서울</td>\n",
       "      <td>동대문구</td>\n",
       "      <td>27260</td>\n",
       "    </tr>\n",
       "    <tr>\n",
       "      <th>2</th>\n",
       "      <td>20200401</td>\n",
       "      <td>0</td>\n",
       "      <td>50</td>\n",
       "      <td>남성</td>\n",
       "      <td>서울</td>\n",
       "      <td>구로구</td>\n",
       "      <td>35670</td>\n",
       "    </tr>\n",
       "    <tr>\n",
       "      <th>3</th>\n",
       "      <td>20200401</td>\n",
       "      <td>1</td>\n",
       "      <td>30</td>\n",
       "      <td>여성</td>\n",
       "      <td>서울</td>\n",
       "      <td>강남구</td>\n",
       "      <td>52380</td>\n",
       "    </tr>\n",
       "    <tr>\n",
       "      <th>4</th>\n",
       "      <td>20200401</td>\n",
       "      <td>1</td>\n",
       "      <td>40</td>\n",
       "      <td>남성</td>\n",
       "      <td>서울</td>\n",
       "      <td>동대문구</td>\n",
       "      <td>28420</td>\n",
       "    </tr>\n",
       "  </tbody>\n",
       "</table>\n",
       "</div>"
      ],
      "text/plain": [
       "       일자  시간(1시간단위)  연령대(10세단위)  성별    시      군구  \\\n",
       "0  20200401                0                20  남성  서울    도봉구   \n",
       "1  20200401                0                30  여성  서울  동대문구   \n",
       "2  20200401                0                50  남성  서울    구로구   \n",
       "3  20200401                1                30  여성  서울    강남구   \n",
       "4  20200401                1                40  남성  서울  동대문구   \n",
       "\n",
       "   유동인구수  \n",
       "0       21490  \n",
       "1       27260  \n",
       "2       35670  \n",
       "3       52380  \n",
       "4       28420  "
      ]
     },
     "execution_count": 85,
     "metadata": {},
     "output_type": "execute_result"
    }
   ],
   "source": [
    "df.head()"
   ]
  },
  {
   "cell_type": "code",
   "execution_count": 86,
   "id": "1a0c4f68-e678-4552-868a-7898c3c14238",
   "metadata": {},
   "outputs": [
    {
     "data": {
      "text/html": [
       "<div>\n",
       "<style scoped>\n",
       "    .dataframe tbody tr th:only-of-type {\n",
       "        vertical-align: middle;\n",
       "    }\n",
       "\n",
       "    .dataframe tbody tr th {\n",
       "        vertical-align: top;\n",
       "    }\n",
       "\n",
       "    .dataframe thead th {\n",
       "        text-align: right;\n",
       "    }\n",
       "</style>\n",
       "<table border=\"1\" class=\"dataframe\">\n",
       "  <thead>\n",
       "    <tr style=\"text-align: right;\">\n",
       "      <th></th>\n",
       "      <th>일자</th>\n",
       "      <th>시간(1시간단위)</th>\n",
       "      <th>연령대(10세단위)</th>\n",
       "      <th>성별</th>\n",
       "      <th>시</th>\n",
       "      <th>군구</th>\n",
       "      <th>유동인구수</th>\n",
       "    </tr>\n",
       "  </thead>\n",
       "  <tbody>\n",
       "    <tr>\n",
       "      <th>215995</th>\n",
       "      <td>20200430</td>\n",
       "      <td>22</td>\n",
       "      <td>40</td>\n",
       "      <td>여성</td>\n",
       "      <td>서울</td>\n",
       "      <td>성동구</td>\n",
       "      <td>22150</td>\n",
       "    </tr>\n",
       "    <tr>\n",
       "      <th>215996</th>\n",
       "      <td>20200430</td>\n",
       "      <td>22</td>\n",
       "      <td>50</td>\n",
       "      <td>여성</td>\n",
       "      <td>서울</td>\n",
       "      <td>서대문구</td>\n",
       "      <td>23270</td>\n",
       "    </tr>\n",
       "    <tr>\n",
       "      <th>215997</th>\n",
       "      <td>20200430</td>\n",
       "      <td>23</td>\n",
       "      <td>20</td>\n",
       "      <td>여성</td>\n",
       "      <td>서울</td>\n",
       "      <td>용산구</td>\n",
       "      <td>18570</td>\n",
       "    </tr>\n",
       "    <tr>\n",
       "      <th>215998</th>\n",
       "      <td>20200430</td>\n",
       "      <td>23</td>\n",
       "      <td>30</td>\n",
       "      <td>여성</td>\n",
       "      <td>서울</td>\n",
       "      <td>서대문구</td>\n",
       "      <td>21100</td>\n",
       "    </tr>\n",
       "    <tr>\n",
       "      <th>215999</th>\n",
       "      <td>20200430</td>\n",
       "      <td>23</td>\n",
       "      <td>40</td>\n",
       "      <td>남성</td>\n",
       "      <td>서울</td>\n",
       "      <td>강남구</td>\n",
       "      <td>45730</td>\n",
       "    </tr>\n",
       "  </tbody>\n",
       "</table>\n",
       "</div>"
      ],
      "text/plain": [
       "            일자  시간(1시간단위)  연령대(10세단위)  성별    시      군구  \\\n",
       "215995  20200430               22                40  여성  서울    성동구   \n",
       "215996  20200430               22                50  여성  서울  서대문구   \n",
       "215997  20200430               23                20  여성  서울    용산구   \n",
       "215998  20200430               23                30  여성  서울  서대문구   \n",
       "215999  20200430               23                40  남성  서울    강남구   \n",
       "\n",
       "        유동인구수  \n",
       "215995       22150  \n",
       "215996       23270  \n",
       "215997       18570  \n",
       "215998       21100  \n",
       "215999       45730  "
      ]
     },
     "execution_count": 86,
     "metadata": {},
     "output_type": "execute_result"
    }
   ],
   "source": [
    "df.tail()"
   ]
  },
  {
   "cell_type": "code",
   "execution_count": 87,
   "id": "d9d77d88-660f-4504-930f-369dd9d2747a",
   "metadata": {},
   "outputs": [
    {
     "name": "stdout",
     "output_type": "stream",
     "text": [
      "<class 'pandas.core.frame.DataFrame'>\n",
      "RangeIndex: 216000 entries, 0 to 215999\n",
      "Data columns (total 7 columns):\n",
      " #   Column      Non-Null Count   Dtype \n",
      "---  ------      --------------   ----- \n",
      " 0   일자          216000 non-null  int64 \n",
      " 1   시간(1시간단위)   216000 non-null  int64 \n",
      " 2   연령대(10세단위)  216000 non-null  int64 \n",
      " 3   성별          216000 non-null  object\n",
      " 4   시           216000 non-null  object\n",
      " 5   군구          216000 non-null  object\n",
      " 6   유동인구수       216000 non-null  int64 \n",
      "dtypes: int64(4), object(3)\n",
      "memory usage: 11.5+ MB\n"
     ]
    }
   ],
   "source": [
    "df.info()"
   ]
  },
  {
   "cell_type": "code",
   "execution_count": 88,
   "id": "03d371e7-8ce7-48b7-9a0d-60e20978ca3a",
   "metadata": {},
   "outputs": [
    {
     "data": {
      "text/plain": [
       "(216000, 7)"
      ]
     },
     "execution_count": 88,
     "metadata": {},
     "output_type": "execute_result"
    }
   ],
   "source": [
    "df.shape"
   ]
  },
  {
   "cell_type": "code",
   "execution_count": 90,
   "id": "47ff03fd-4dbe-4f6d-ac43-03ef28134906",
   "metadata": {},
   "outputs": [
    {
     "data": {
      "text/plain": [
       "일자                 int64\n",
       "시간(1시간단위)      int64\n",
       "연령대(10세단위)     int64\n",
       "성별                object\n",
       "시                  object\n",
       "군구                object\n",
       "유동인구수           int64\n",
       "dtype: object"
      ]
     },
     "execution_count": 90,
     "metadata": {},
     "output_type": "execute_result"
    }
   ],
   "source": [
    "df.dtypes"
   ]
  },
  {
   "cell_type": "markdown",
   "id": "fef99d04-9832-451c-89a4-2e93b585f296",
   "metadata": {},
   "source": [
    "### 2. 데이터 전처리\n",
    "\n",
    "#### 불필요한 변수 삭제"
   ]
  },
  {
   "cell_type": "code",
   "execution_count": 91,
   "id": "91433f38-4f86-4855-8fd1-a7a3dadb2170",
   "metadata": {},
   "outputs": [],
   "source": [
    "df.drop( '시', axis = 1, inplace = True )"
   ]
  },
  {
   "cell_type": "code",
   "execution_count": 92,
   "id": "0981748d-7c8b-412f-be61-ea90345277af",
   "metadata": {},
   "outputs": [
    {
     "data": {
      "text/html": [
       "<div>\n",
       "<style scoped>\n",
       "    .dataframe tbody tr th:only-of-type {\n",
       "        vertical-align: middle;\n",
       "    }\n",
       "\n",
       "    .dataframe tbody tr th {\n",
       "        vertical-align: top;\n",
       "    }\n",
       "\n",
       "    .dataframe thead th {\n",
       "        text-align: right;\n",
       "    }\n",
       "</style>\n",
       "<table border=\"1\" class=\"dataframe\">\n",
       "  <thead>\n",
       "    <tr style=\"text-align: right;\">\n",
       "      <th></th>\n",
       "      <th>일자</th>\n",
       "      <th>시간(1시간단위)</th>\n",
       "      <th>연령대(10세단위)</th>\n",
       "      <th>성별</th>\n",
       "      <th>군구</th>\n",
       "      <th>유동인구수</th>\n",
       "    </tr>\n",
       "  </thead>\n",
       "  <tbody>\n",
       "    <tr>\n",
       "      <th>0</th>\n",
       "      <td>20200401</td>\n",
       "      <td>0</td>\n",
       "      <td>20</td>\n",
       "      <td>남성</td>\n",
       "      <td>도봉구</td>\n",
       "      <td>21490</td>\n",
       "    </tr>\n",
       "    <tr>\n",
       "      <th>1</th>\n",
       "      <td>20200401</td>\n",
       "      <td>0</td>\n",
       "      <td>30</td>\n",
       "      <td>여성</td>\n",
       "      <td>동대문구</td>\n",
       "      <td>27260</td>\n",
       "    </tr>\n",
       "    <tr>\n",
       "      <th>2</th>\n",
       "      <td>20200401</td>\n",
       "      <td>0</td>\n",
       "      <td>50</td>\n",
       "      <td>남성</td>\n",
       "      <td>구로구</td>\n",
       "      <td>35670</td>\n",
       "    </tr>\n",
       "    <tr>\n",
       "      <th>3</th>\n",
       "      <td>20200401</td>\n",
       "      <td>1</td>\n",
       "      <td>30</td>\n",
       "      <td>여성</td>\n",
       "      <td>강남구</td>\n",
       "      <td>52380</td>\n",
       "    </tr>\n",
       "    <tr>\n",
       "      <th>4</th>\n",
       "      <td>20200401</td>\n",
       "      <td>1</td>\n",
       "      <td>40</td>\n",
       "      <td>남성</td>\n",
       "      <td>동대문구</td>\n",
       "      <td>28420</td>\n",
       "    </tr>\n",
       "  </tbody>\n",
       "</table>\n",
       "</div>"
      ],
      "text/plain": [
       "       일자  시간(1시간단위)  연령대(10세단위)  성별      군구  유동인구수\n",
       "0  20200401                0                20  남성    도봉구       21490\n",
       "1  20200401                0                30  여성  동대문구       27260\n",
       "2  20200401                0                50  남성    구로구       35670\n",
       "3  20200401                1                30  여성    강남구       52380\n",
       "4  20200401                1                40  남성  동대문구       28420"
      ]
     },
     "execution_count": 92,
     "metadata": {},
     "output_type": "execute_result"
    }
   ],
   "source": [
    "df.head()"
   ]
  },
  {
   "cell_type": "code",
   "execution_count": 93,
   "id": "e64240fd-5205-4261-9943-2fb7d09b9ac8",
   "metadata": {},
   "outputs": [
    {
     "name": "stdout",
     "output_type": "stream",
     "text": [
      "<class 'pandas.core.frame.DataFrame'>\n",
      "RangeIndex: 216000 entries, 0 to 215999\n",
      "Data columns (total 6 columns):\n",
      " #   Column      Non-Null Count   Dtype \n",
      "---  ------      --------------   ----- \n",
      " 0   일자          216000 non-null  int64 \n",
      " 1   시간(1시간단위)   216000 non-null  int64 \n",
      " 2   연령대(10세단위)  216000 non-null  int64 \n",
      " 3   성별          216000 non-null  object\n",
      " 4   군구          216000 non-null  object\n",
      " 5   유동인구수       216000 non-null  int64 \n",
      "dtypes: int64(4), object(2)\n",
      "memory usage: 9.9+ MB\n"
     ]
    }
   ],
   "source": [
    "df.info()"
   ]
  },
  {
   "cell_type": "markdown",
   "id": "3d4f0d80-d4ba-4400-aa99-e781b97eeff4",
   "metadata": {},
   "source": [
    "#### 변수 이름 변경"
   ]
  },
  {
   "cell_type": "code",
   "execution_count": 94,
   "id": "91b9a3e1-7e3d-4cdb-8a10-71e40a3c1769",
   "metadata": {},
   "outputs": [],
   "source": [
    "df.rename( columns = { '시간(1시간단위)': '단위시간',\n",
    "                       '연령대(10세단위)': '연령대',\n",
    "                       '군구': '구' }, inplace = True )"
   ]
  },
  {
   "cell_type": "code",
   "execution_count": 95,
   "id": "5891d9d1-f22a-4522-ab60-fa2c260c330b",
   "metadata": {},
   "outputs": [
    {
     "name": "stdout",
     "output_type": "stream",
     "text": [
      "<class 'pandas.core.frame.DataFrame'>\n",
      "RangeIndex: 216000 entries, 0 to 215999\n",
      "Data columns (total 6 columns):\n",
      " #   Column  Non-Null Count   Dtype \n",
      "---  ------  --------------   ----- \n",
      " 0   일자      216000 non-null  int64 \n",
      " 1   단위시간    216000 non-null  int64 \n",
      " 2   연령대     216000 non-null  int64 \n",
      " 3   성별      216000 non-null  object\n",
      " 4   구       216000 non-null  object\n",
      " 5   유동인구수   216000 non-null  int64 \n",
      "dtypes: int64(4), object(2)\n",
      "memory usage: 9.9+ MB\n"
     ]
    }
   ],
   "source": [
    "df.info()"
   ]
  },
  {
   "cell_type": "markdown",
   "id": "7a9afc16-cf76-45b7-b3a5-e08264ece772",
   "metadata": {},
   "source": [
    "#### 변수 형식 변환( 범주형, 문자형 )"
   ]
  },
  {
   "cell_type": "code",
   "execution_count": 102,
   "id": "771d47ee-ce3f-4bf8-b132-fc74491de13b",
   "metadata": {},
   "outputs": [],
   "source": [
    "df[ '단위시간' ] = df[ '단위시간' ].astype( 'category' )\n",
    "df[ '연령대' ] = df[ '연령대' ].astype( 'category' )\n",
    "df[ '성별' ] = df[ '성별' ].astype( 'category' )\n",
    "df[ '구' ] = df[ '구' ].astype( 'category' )"
   ]
  },
  {
   "cell_type": "code",
   "execution_count": 103,
   "id": "b89f06b6-3f60-4c44-baae-b72c91f77541",
   "metadata": {},
   "outputs": [
    {
     "name": "stdout",
     "output_type": "stream",
     "text": [
      "<class 'pandas.core.frame.DataFrame'>\n",
      "RangeIndex: 216000 entries, 0 to 215999\n",
      "Data columns (total 6 columns):\n",
      " #   Column  Non-Null Count   Dtype   \n",
      "---  ------  --------------   -----   \n",
      " 0   일자      216000 non-null  int64   \n",
      " 1   단위시간    216000 non-null  category\n",
      " 2   연령대     216000 non-null  category\n",
      " 3   성별      216000 non-null  category\n",
      " 4   구       216000 non-null  category\n",
      " 5   유동인구수   216000 non-null  int64   \n",
      "dtypes: category(4), int64(2)\n",
      "memory usage: 4.1 MB\n"
     ]
    }
   ],
   "source": [
    "df.info()"
   ]
  },
  {
   "cell_type": "code",
   "execution_count": 104,
   "id": "10c9d282-7b46-44e7-899b-12b417af1ec4",
   "metadata": {},
   "outputs": [],
   "source": [
    "df[ '일자' ] = df[ '일자' ].astype( 'str' )"
   ]
  },
  {
   "cell_type": "code",
   "execution_count": 105,
   "id": "4dce09b6-61a6-45da-8993-fe25bd971376",
   "metadata": {},
   "outputs": [
    {
     "name": "stdout",
     "output_type": "stream",
     "text": [
      "<class 'pandas.core.frame.DataFrame'>\n",
      "RangeIndex: 216000 entries, 0 to 215999\n",
      "Data columns (total 6 columns):\n",
      " #   Column  Non-Null Count   Dtype   \n",
      "---  ------  --------------   -----   \n",
      " 0   일자      216000 non-null  object  \n",
      " 1   단위시간    216000 non-null  category\n",
      " 2   연령대     216000 non-null  category\n",
      " 3   성별      216000 non-null  category\n",
      " 4   구       216000 non-null  category\n",
      " 5   유동인구수   216000 non-null  int64   \n",
      "dtypes: category(4), int64(1), object(1)\n",
      "memory usage: 4.1+ MB\n"
     ]
    }
   ],
   "source": [
    "df.info()"
   ]
  },
  {
   "cell_type": "markdown",
   "id": "87d3cefb-c680-41cd-884d-be3782ec7de0",
   "metadata": {},
   "source": [
    "#### 결측치 확인"
   ]
  },
  {
   "cell_type": "code",
   "execution_count": 106,
   "id": "e334e9d7-6fd5-49e0-afdf-3767b55f652f",
   "metadata": {},
   "outputs": [
    {
     "data": {
      "text/plain": [
       "일자          0\n",
       "단위시간      0\n",
       "연령대        0\n",
       "성별          0\n",
       "구            0\n",
       "유동인구수    0\n",
       "dtype: int64"
      ]
     },
     "execution_count": 106,
     "metadata": {},
     "output_type": "execute_result"
    }
   ],
   "source": [
    "df.isnull().sum()"
   ]
  },
  {
   "cell_type": "markdown",
   "id": "6dc3f753-dcf2-4d20-b50d-d646c492f69c",
   "metadata": {},
   "source": [
    "#### 중복 데이터 확인"
   ]
  },
  {
   "cell_type": "code",
   "execution_count": 108,
   "id": "c487d666-4ff8-43e8-9823-2ded42c6060b",
   "metadata": {},
   "outputs": [
    {
     "data": {
      "text/plain": [
       "0"
      ]
     },
     "execution_count": 108,
     "metadata": {},
     "output_type": "execute_result"
    }
   ],
   "source": [
    "df.duplicated().sum( axis = 0 )"
   ]
  },
  {
   "cell_type": "markdown",
   "id": "e1ec9401-b9a9-4369-801e-825587f148bb",
   "metadata": {},
   "source": [
    "#### 이상치 확인"
   ]
  },
  {
   "cell_type": "code",
   "execution_count": 107,
   "id": "5155bee3-b33c-45c8-aaf2-06c25b4eb87d",
   "metadata": {},
   "outputs": [
    {
     "data": {
      "text/plain": [
       "<AxesSubplot:>"
      ]
     },
     "execution_count": 107,
     "metadata": {},
     "output_type": "execute_result"
    },
    {
     "data": {
      "image/png": "[encoded data removed]",
      "text/plain": [
       "<Figure size 432x288 with 1 Axes>"
      ]
     },
     "metadata": {},
     "output_type": "display_data"
    }
   ],
   "source": [
    "df.plot( kind = 'box' )"
   ]
  },
  {
   "cell_type": "markdown",
   "id": "a1fc3bf8-e467-4e46-917c-c64be2feedec",
   "metadata": {},
   "source": [
    "* 이상치가 존재하지만 데이터셋 성격상 이상치를 그대로 분석에 사용한다."
   ]
  },
  {
   "cell_type": "markdown",
   "id": "9f7f3c2c-b545-4e6a-bb8f-bc5fa02e8bab",
   "metadata": {},
   "source": [
    "### 3. EDA\n",
    "\n",
    "#### 3.1 기초 통계"
   ]
  },
  {
   "cell_type": "code",
   "execution_count": 110,
   "id": "d8b1704b-6306-4520-a773-2e18423a4a2d",
   "metadata": {},
   "outputs": [
    {
     "data": {
      "text/html": [
       "<div>\n",
       "<style scoped>\n",
       "    .dataframe tbody tr th:only-of-type {\n",
       "        vertical-align: middle;\n",
       "    }\n",
       "\n",
       "    .dataframe tbody tr th {\n",
       "        vertical-align: top;\n",
       "    }\n",
       "\n",
       "    .dataframe thead th {\n",
       "        text-align: right;\n",
       "    }\n",
       "</style>\n",
       "<table border=\"1\" class=\"dataframe\">\n",
       "  <thead>\n",
       "    <tr style=\"text-align: right;\">\n",
       "      <th></th>\n",
       "      <th>유동인구수</th>\n",
       "    </tr>\n",
       "  </thead>\n",
       "  <tbody>\n",
       "    <tr>\n",
       "      <th>count</th>\n",
       "      <td>216000.00</td>\n",
       "    </tr>\n",
       "    <tr>\n",
       "      <th>mean</th>\n",
       "      <td>27267.77</td>\n",
       "    </tr>\n",
       "    <tr>\n",
       "      <th>std</th>\n",
       "      <td>12480.43</td>\n",
       "    </tr>\n",
       "    <tr>\n",
       "      <th>min</th>\n",
       "      <td>4380.00</td>\n",
       "    </tr>\n",
       "    <tr>\n",
       "      <th>25%</th>\n",
       "      <td>18070.00</td>\n",
       "    </tr>\n",
       "    <tr>\n",
       "      <th>50%</th>\n",
       "      <td>25470.00</td>\n",
       "    </tr>\n",
       "    <tr>\n",
       "      <th>75%</th>\n",
       "      <td>34090.00</td>\n",
       "    </tr>\n",
       "    <tr>\n",
       "      <th>max</th>\n",
       "      <td>120640.00</td>\n",
       "    </tr>\n",
       "  </tbody>\n",
       "</table>\n",
       "</div>"
      ],
      "text/plain": [
       "       유동인구수\n",
       "count   216000.00\n",
       "mean     27267.77\n",
       "std      12480.43\n",
       "min       4380.00\n",
       "25%      18070.00\n",
       "50%      25470.00\n",
       "75%      34090.00\n",
       "max     120640.00"
      ]
     },
     "execution_count": 110,
     "metadata": {},
     "output_type": "execute_result"
    }
   ],
   "source": [
    "round( df.describe(), 2 )"
   ]
  },
  {
   "cell_type": "markdown",
   "id": "586e7cd8-a252-4e4f-a209-50e789eb96cc",
   "metadata": {},
   "source": [
    "#### 3.2 범주형 변수 확인\n",
    "\n",
    "#### 조사 기간"
   ]
  },
  {
   "cell_type": "code",
   "execution_count": 119,
   "id": "8a5f680f-12ad-491c-b23e-243c521fcbab",
   "metadata": {},
   "outputs": [
    {
     "name": "stdout",
     "output_type": "stream",
     "text": [
      " 조사일자  \n",
      "\n",
      "20200401\t\n",
      "20200402\t\n",
      "20200403\t\n",
      "20200404\t\n",
      "20200405\t\n",
      "20200406\t\n",
      "20200407\t\n",
      "20200408\t\n",
      "20200409\t\n",
      "20200410\t\n",
      "20200411\t\n",
      "20200412\t\n",
      "20200413\t\n",
      "20200414\t\n",
      "20200415\t\n",
      "20200416\t\n",
      "20200417\t\n",
      "20200418\t\n",
      "20200419\t\n",
      "20200420\t\n",
      "20200421\t\n",
      "20200422\t\n",
      "20200423\t\n",
      "20200424\t\n",
      "20200425\t\n",
      "20200426\t\n",
      "20200427\t\n",
      "20200428\t\n",
      "20200429\t\n",
      "20200430\t\n",
      "\n",
      "조사기간 : 총 30 일\n"
     ]
    }
   ],
   "source": [
    "date_list = list( df[ '일자' ].unique() )\n",
    "print( '조사일자'.center( 6 ), '\\n' )\n",
    "for v in date_list:\n",
    "    print( f'{v}\\t' )\n",
    "print( f'\\n조사기간 : 총 {len( date_list )} 일' )"
   ]
  },
  {
   "cell_type": "markdown",
   "id": "29dcabf1-6416-4dc7-a364-346c9eb254dd",
   "metadata": {},
   "source": [
    "#### 조사시간"
   ]
  },
  {
   "cell_type": "code",
   "execution_count": 125,
   "id": "c807b0f3-2899-42e1-a04b-3feb481a94bb",
   "metadata": {},
   "outputs": [
    {
     "name": "stdout",
     "output_type": "stream",
     "text": [
      " 조사시간  \n",
      "\n",
      "0\t\n",
      "1\t\n",
      "2\t\n",
      "3\t\n",
      "4\t\n",
      "5\t\n",
      "6\t\n",
      "7\t\n",
      "8\t\n",
      "9\t\n",
      "10\t\n",
      "11\t\n",
      "12\t\n",
      "13\t\n",
      "14\t\n",
      "15\t\n",
      "16\t\n",
      "17\t\n",
      "18\t\n",
      "19\t\n",
      "20\t\n",
      "21\t\n",
      "22\t\n",
      "23\t\n",
      "\n",
      "조사시간 : 총 24 시간\n"
     ]
    }
   ],
   "source": [
    "time_list = sorted( list( df[ '단위시간' ].unique() ) )\n",
    "print( '조사시간'.center( 6 ), '\\n' )\n",
    "for v in time_list:\n",
    "    print( f'{v}\\t' )\n",
    "print( f'\\n조사시간 : 총 {len( time_list )} 시간' )"
   ]
  },
  {
   "cell_type": "markdown",
   "id": "35d7609c-eba1-43bd-9356-a4ded2c8ed0c",
   "metadata": {},
   "source": [
    "#### 조사연령대"
   ]
  },
  {
   "cell_type": "code",
   "execution_count": 129,
   "id": "6c9f677d-66ec-4a14-aa54-2b85eecda713",
   "metadata": {},
   "outputs": [
    {
     "name": "stdout",
     "output_type": "stream",
     "text": [
      " 조사연령대   \n",
      "\n",
      "20\t\n",
      "30\t\n",
      "40\t\n",
      "50\t\n",
      "60\t\n",
      "70\t\n",
      "\n",
      "조사연령대 : 총 6 개 연령대\n"
     ]
    }
   ],
   "source": [
    "age_list = sorted( list( df[ '연령대' ].unique() ) )\n",
    "print( '조사연령대'.center( 8 ), '\\n' )\n",
    "for v in age_list:\n",
    "    print( f'{v}\\t' )\n",
    "print( f'\\n조사연령대 : 총 {len( age_list )} 개 연령대' )"
   ]
  },
  {
   "cell_type": "markdown",
   "id": "13e5f44a-455d-46b2-8d1d-ed570babeba8",
   "metadata": {},
   "source": [
    "#### 조사성별"
   ]
  },
  {
   "cell_type": "code",
   "execution_count": 126,
   "id": "350e930c-a921-4652-b437-0e7f87e0a115",
   "metadata": {},
   "outputs": [
    {
     "name": "stdout",
     "output_type": "stream",
     "text": [
      " 조사성별  \n",
      "\n",
      "남성\t\n",
      "여성\t\n",
      "\n",
      "조사성별 : 총 2\n"
     ]
    }
   ],
   "source": [
    "gender_list = list( df[ '성별' ].unique() )\n",
    "print( '조사성별'.center( 6 ), '\\n' )\n",
    "for v in gender_list:\n",
    "    print( f'{v}\\t' )\n",
    "print( f'\\n조사성별 : 총 {len( gender_list )}' )"
   ]
  },
  {
   "cell_type": "markdown",
   "id": "cb7cea3b-c261-41c3-b848-7b73eb8b02a3",
   "metadata": {},
   "source": [
    "#### 조사구"
   ]
  },
  {
   "cell_type": "code",
   "execution_count": 128,
   "id": "57de5ad0-1c53-4a98-816e-f81160cda86c",
   "metadata": {},
   "outputs": [
    {
     "name": "stdout",
     "output_type": "stream",
     "text": [
      "  조사구    \n",
      "\n",
      "강남구\t\n",
      "강동구\t\n",
      "강북구\t\n",
      "강서구\t\n",
      "관악구\t\n",
      "광진구\t\n",
      "구로구\t\n",
      "금천구\t\n",
      "노원구\t\n",
      "도봉구\t\n",
      "동대문구\t\n",
      "동작구\t\n",
      "마포구\t\n",
      "서대문구\t\n",
      "서초구\t\n",
      "성동구\t\n",
      "성북구\t\n",
      "송파구\t\n",
      "양천구\t\n",
      "영등포구\t\n",
      "용산구\t\n",
      "은평구\t\n",
      "종로구\t\n",
      "중구\t\n",
      "중랑구\t\n",
      "\n",
      "조사구 : 총 25 개구\n"
     ]
    }
   ],
   "source": [
    "gu_list = sorted( list( df[ '구' ].unique() ) )\n",
    "print( '조사구'.center( 8 ), '\\n' )\n",
    "for v in gu_list:\n",
    "    print( f'{v}\\t' )\n",
    "print( f'\\n조사구 : 총 {len( gu_list )} 개구' )"
   ]
  },
  {
   "cell_type": "markdown",
   "id": "53ee05de-2004-4901-b6b8-6128b7092b1b",
   "metadata": {},
   "source": [
    "#### 4. 유동인구에 대한 이해"
   ]
  },
  {
   "cell_type": "code",
   "execution_count": 131,
   "id": "7d479443-63aa-4f33-a4cb-34a2524c2eee",
   "metadata": {},
   "outputs": [],
   "source": [
    "#\n",
    "# 함수명 : func_aggregate()\n",
    "# 인수 :\n",
    "#       l : 데이터 list\n",
    "#       v : 집계 대상\n",
    "# 반환 : 집계 결과 Series 객체\n",
    "#\n",
    "def func_aggregate( l, v ):\n",
    "    population = []\n",
    "    for i in range( len( l ) ):\n",
    "        mask = l[ i ] == v\n",
    "        result = df.loc[ mask ]\n",
    "        population.append( result.유동인구수.sum() )\n",
    "    \n",
    "    s = pd.Series( population, index = l )\n",
    "    \n",
    "    return s"
   ]
  },
  {
   "cell_type": "markdown",
   "id": "775022ec-7741-4452-b7f6-3e03ccb0266b",
   "metadata": {},
   "source": [
    "#### 평균 유동인구"
   ]
  },
  {
   "cell_type": "code",
   "execution_count": 133,
   "id": "84f0356e-f854-4f0a-bf4e-90d51c9b2f35",
   "metadata": {},
   "outputs": [
    {
     "name": "stdout",
     "output_type": "stream",
     "text": [
      "2020년 4월 평균 유동인구 : 27267.77\n"
     ]
    }
   ],
   "source": [
    "print( f'2020년 4월 평균 유동인구 : { round( df[ \"유동인구수\" ].mean(), 2 )}' )"
   ]
  },
  {
   "cell_type": "markdown",
   "id": "0a9a83e5-a433-48d1-bb08-768eaf6a764e",
   "metadata": {},
   "source": [
    "#### 유동 인구가 가장 많은 날"
   ]
  },
  {
   "cell_type": "code",
   "execution_count": 135,
   "id": "82448f11-6832-41b2-9a1c-415e84446b87",
   "metadata": {},
   "outputs": [
    {
     "name": "stdout",
     "output_type": "stream",
     "text": [
      "유동 인구가 가장 많은날 : [ 2020/04/01 ]총 유동 인구는 :  200208500명 \n"
     ]
    }
   ],
   "source": [
    "date_s = func_aggregate( date_list, df[ '일자' ] )\n",
    "daily_max = date_s.max()\n",
    "date = date_s.index[ date_s.argmax() ]\n",
    "\n",
    "print( f'유동 인구가 가장 많은날 : [ {date[ :4 ]}/{date[ 4:6 ]}/{date[ 6:]} ]\\\n",
    "총 유동 인구는 : {daily_max:10}명 ' )"
   ]
  },
  {
   "cell_type": "code",
   "execution_count": 141,
   "id": "430f74bc-67ca-4178-9ab9-3d4c316a30ed",
   "metadata": {},
   "outputs": [
    {
     "name": "stdout",
     "output_type": "stream",
     "text": [
      "유동 인구가 가장 적은날 : [ 2020/04/30 ]총 유동 인구는 :  186668960명 \n"
     ]
    }
   ],
   "source": [
    "daily_min = date_s.min()\n",
    "date = date_s.index[ date_s.argmin() ]\n",
    "\n",
    "print( f'유동 인구가 가장 적은날 : [ {date[ :4 ]}/{date[ 4:6 ]}/{date[ 6:]} ]\\\n",
    "총 유동 인구는 : {daily_min:10}명 ' )"
   ]
  },
  {
   "cell_type": "markdown",
   "id": "8dded4d0-0f32-4783-9915-2ca7f3d20089",
   "metadata": {},
   "source": [
    "#### 일 최대 유동 인구수 정보"
   ]
  },
  {
   "cell_type": "code",
   "execution_count": 136,
   "id": "b1915371-c9cf-4cfa-bc15-34abd3f24bbd",
   "metadata": {},
   "outputs": [
    {
     "name": "stdout",
     "output_type": "stream",
     "text": [
      "일 최대 유동인구수 : 120640명\n"
     ]
    }
   ],
   "source": [
    "max_population = df.유동인구수.max()\n",
    "print( f'일 최대 유동인구수 : {round( max_population, 2 )}명' )"
   ]
  },
  {
   "cell_type": "code",
   "execution_count": 137,
   "id": "4aa316e4-47b4-4069-92d1-51d51e9adb4d",
   "metadata": {},
   "outputs": [
    {
     "data": {
      "text/html": [
       "<div>\n",
       "<style scoped>\n",
       "    .dataframe tbody tr th:only-of-type {\n",
       "        vertical-align: middle;\n",
       "    }\n",
       "\n",
       "    .dataframe tbody tr th {\n",
       "        vertical-align: top;\n",
       "    }\n",
       "\n",
       "    .dataframe thead th {\n",
       "        text-align: right;\n",
       "    }\n",
       "</style>\n",
       "<table border=\"1\" class=\"dataframe\">\n",
       "  <thead>\n",
       "    <tr style=\"text-align: right;\">\n",
       "      <th></th>\n",
       "      <th>일자</th>\n",
       "      <th>단위시간</th>\n",
       "      <th>연령대</th>\n",
       "      <th>성별</th>\n",
       "      <th>구</th>\n",
       "      <th>유동인구수</th>\n",
       "    </tr>\n",
       "  </thead>\n",
       "  <tbody>\n",
       "    <tr>\n",
       "      <th>98155</th>\n",
       "      <td>20200428</td>\n",
       "      <td>14</td>\n",
       "      <td>30</td>\n",
       "      <td>여성</td>\n",
       "      <td>강남구</td>\n",
       "      <td>120640</td>\n",
       "    </tr>\n",
       "  </tbody>\n",
       "</table>\n",
       "</div>"
      ],
      "text/plain": [
       "           일자 단위시간 연령대  성별      구  유동인구수\n",
       "98155  20200428       14     30  여성  강남구      120640"
      ]
     },
     "execution_count": 137,
     "metadata": {},
     "output_type": "execute_result"
    }
   ],
   "source": [
    "df[ df.유동인구수 >= max_population ]"
   ]
  },
  {
   "cell_type": "markdown",
   "id": "d56c30a6-bc76-4c5a-91c3-42d2c968c3b7",
   "metadata": {},
   "source": [
    "#### 일 최소 유동 인구수 정보"
   ]
  },
  {
   "cell_type": "code",
   "execution_count": 138,
   "id": "bddc9eb2-5836-4646-9a6d-dd57bb7da87c",
   "metadata": {},
   "outputs": [
    {
     "name": "stdout",
     "output_type": "stream",
     "text": [
      "일 최소 유동인구수 : 4380명\n"
     ]
    }
   ],
   "source": [
    "min_population = df.유동인구수.min()\n",
    "print( f'일 최소 유동인구수 : {round( min_population, 2 )}명' )"
   ]
  },
  {
   "cell_type": "code",
   "execution_count": 139,
   "id": "72920845-d82f-4ac7-8b0d-5dacbccc5990",
   "metadata": {},
   "outputs": [
    {
     "data": {
      "text/html": [
       "<div>\n",
       "<style scoped>\n",
       "    .dataframe tbody tr th:only-of-type {\n",
       "        vertical-align: middle;\n",
       "    }\n",
       "\n",
       "    .dataframe tbody tr th {\n",
       "        vertical-align: top;\n",
       "    }\n",
       "\n",
       "    .dataframe thead th {\n",
       "        text-align: right;\n",
       "    }\n",
       "</style>\n",
       "<table border=\"1\" class=\"dataframe\">\n",
       "  <thead>\n",
       "    <tr style=\"text-align: right;\">\n",
       "      <th></th>\n",
       "      <th>일자</th>\n",
       "      <th>단위시간</th>\n",
       "      <th>연령대</th>\n",
       "      <th>성별</th>\n",
       "      <th>구</th>\n",
       "      <th>유동인구수</th>\n",
       "    </tr>\n",
       "  </thead>\n",
       "  <tbody>\n",
       "    <tr>\n",
       "      <th>82486</th>\n",
       "      <td>20200426</td>\n",
       "      <td>3</td>\n",
       "      <td>70</td>\n",
       "      <td>남성</td>\n",
       "      <td>중구</td>\n",
       "      <td>4380</td>\n",
       "    </tr>\n",
       "  </tbody>\n",
       "</table>\n",
       "</div>"
      ],
      "text/plain": [
       "           일자 단위시간 연령대  성별    구  유동인구수\n",
       "82486  20200426        3     70  남성  중구        4380"
      ]
     },
     "execution_count": 139,
     "metadata": {},
     "output_type": "execute_result"
    }
   ],
   "source": [
    "df[ df.유동인구수 <= min_population ]"
   ]
  },
  {
   "cell_type": "markdown",
   "id": "3939bcb5-4d4a-4a29-a519-f38e9b354e57",
   "metadata": {},
   "source": [
    "#### 날짜별 유동인구 정보"
   ]
  },
  {
   "cell_type": "code",
   "execution_count": 143,
   "id": "337104cd-edb9-4db8-ad38-f9b403c360e3",
   "metadata": {},
   "outputs": [
    {
     "name": "stdout",
     "output_type": "stream",
     "text": [
      "[ 2020/04/01 ] 유동인구 :  200208500명\n",
      "[ 2020/04/02 ] 유동인구 :  199791200명\n",
      "[ 2020/04/03 ] 유동인구 :  199136720명\n",
      "[ 2020/04/04 ] 유동인구 :  191161060명\n",
      "[ 2020/04/05 ] 유동인구 :  189696320명\n",
      "[ 2020/04/06 ] 유동인구 :  199919630명\n",
      "[ 2020/04/07 ] 유동인구 :  199803760명\n",
      "[ 2020/04/08 ] 유동인구 :  199655110명\n",
      "[ 2020/04/09 ] 유동인구 :  199541470명\n",
      "[ 2020/04/10 ] 유동인구 :  199091080명\n",
      "[ 2020/04/11 ] 유동인구 :  191032010명\n",
      "[ 2020/04/12 ] 유동인구 :  189643560명\n",
      "[ 2020/04/13 ] 유동인구 :  199241850명\n",
      "[ 2020/04/14 ] 유동인구 :  199278710명\n",
      "[ 2020/04/15 ] 유동인구 :  192381520명\n",
      "[ 2020/04/16 ] 유동인구 :  199059920명\n",
      "[ 2020/04/17 ] 유동인구 :  199406670명\n",
      "[ 2020/04/18 ] 유동인구 :  190872120명\n",
      "[ 2020/04/19 ] 유동인구 :  189951850명\n",
      "[ 2020/04/20 ] 유동인구 :  199629090명\n",
      "[ 2020/04/21 ] 유동인구 :  199479870명\n",
      "[ 2020/04/22 ] 유동인구 :  199512800명\n",
      "[ 2020/04/23 ] 유동인구 :  199370110명\n",
      "[ 2020/04/24 ] 유동인구 :  199139940명\n",
      "[ 2020/04/25 ] 유동인구 :  191227460명\n",
      "[ 2020/04/26 ] 유동인구 :  189159070명\n",
      "[ 2020/04/27 ] 유동인구 :  199196700명\n",
      "[ 2020/04/28 ] 유동인구 :  199080570명\n",
      "[ 2020/04/29 ] 유동인구 :  198499910명\n",
      "[ 2020/04/30 ] 유동인구 :  186668960명\n"
     ]
    }
   ],
   "source": [
    "for date in date_list:\n",
    "    print( f'[ {date[:4]}/{date[4:6]}/{date[6:]} ] 유동인구 : {date_s[ date ]:10}명' )"
   ]
  },
  {
   "cell_type": "code",
   "execution_count": 145,
   "id": "3ee1516f-a4e1-4b1e-8678-d41e4a43e975",
   "metadata": {},
   "outputs": [
    {
     "data": {
      "image/png": "[encoded data removed]",
      "text/plain": [
       "<Figure size 1440x576 with 1 Axes>"
      ]
     },
     "metadata": {},
     "output_type": "display_data"
    }
   ],
   "source": [
    "ax = date_s.plot( kind = 'bar', figsize = ( 20, 8 ) ) \n",
    "ax.set_xticklabels( date_s.index, rotation = 60 )\n",
    "plt.show()"
   ]
  },
  {
   "cell_type": "markdown",
   "id": "56e15eca-dec5-450e-ae00-74e7913dddc9",
   "metadata": {},
   "source": [
    "#### 성별 유동인구 정보"
   ]
  },
  {
   "cell_type": "code",
   "execution_count": 146,
   "id": "0e1c907c-e0bc-49a0-96bd-cc946ac5c07d",
   "metadata": {},
   "outputs": [
    {
     "name": "stdout",
     "output_type": "stream",
     "text": [
      "[ 남성 ] 유동인구 : 2851648900명\n",
      "[ 여성 ] 유동인구 : 3038188640명\n"
     ]
    }
   ],
   "source": [
    "gender_s = func_aggregate( gender_list, df.성별 )\n",
    "\n",
    "for gender in gender_list:\n",
    "    print( f'[ {gender} ] 유동인구 : {gender_s[ gender ]:10}명' )"
   ]
  },
  {
   "cell_type": "code",
   "execution_count": 147,
   "id": "3a9a04de-c9cb-43b7-b681-1ffb5eb41751",
   "metadata": {},
   "outputs": [
    {
     "data": {
      "image/png": "[encoded data removed]",
      "text/plain": [
       "<Figure size 576x360 with 1 Axes>"
      ]
     },
     "metadata": {},
     "output_type": "display_data"
    }
   ],
   "source": [
    "ax = gender_s.plot( kind = 'bar', figsize = ( 8, 5 ) )\n",
    "ax.set_xticklabels( gender_s.index, rotation = 60 )\n",
    "plt.show()"
   ]
  },
  {
   "cell_type": "markdown",
   "id": "53204386-81a4-4f5e-a4a3-b02ec4676281",
   "metadata": {},
   "source": [
    "#### 연령별 유동인구 정보"
   ]
  },
  {
   "cell_type": "code",
   "execution_count": 149,
   "id": "9ce8d9a0-e1ad-4777-be9c-0562eca52366",
   "metadata": {},
   "outputs": [
    {
     "name": "stdout",
     "output_type": "stream",
     "text": [
      "[ 20 ] 유동인구 : 1089342970명\n",
      "[ 30 ] 유동인구 : 1211368990명\n",
      "[ 40 ] 유동인구 : 1204134560명\n",
      "[ 50 ] 유동인구 : 1124325220명\n",
      "[ 60 ] 유동인구 :  718660410명\n",
      "[ 70 ] 유동인구 :  542005390명\n"
     ]
    }
   ],
   "source": [
    "age_s = func_aggregate( age_list, df.연령대 )\n",
    "\n",
    "for age in age_list:\n",
    "    print( f'[ {age} ] 유동인구 : {age_s[ age ]:10}명' )"
   ]
  },
  {
   "cell_type": "code",
   "execution_count": 150,
   "id": "7a257e84-7b22-4c33-b23c-37cd86b8d72b",
   "metadata": {},
   "outputs": [
    {
     "data": {
      "image/png": "[encoded data removed]",
      "text/plain": [
       "<Figure size 576x360 with 1 Axes>"
      ]
     },
     "metadata": {},
     "output_type": "display_data"
    }
   ],
   "source": [
    "ax = age_s.plot( kind = 'bar', figsize = ( 8, 5 ) )\n",
    "ax.set_xticklabels( age_s.index, rotation = 60 )\n",
    "plt.show()"
   ]
  },
  {
   "cell_type": "markdown",
   "id": "622b13b4-3900-40fd-906f-29281984c4c1",
   "metadata": {},
   "source": [
    "#### 시간대별 유동인구 정보"
   ]
  },
  {
   "cell_type": "code",
   "execution_count": 154,
   "id": "50771563-5a43-4510-a45b-f5e818983273",
   "metadata": {},
   "outputs": [
    {
     "name": "stdout",
     "output_type": "stream",
     "text": [
      "[  0시  ] 유동인구 : 242193630명\n",
      "[  1시  ] 유동인구 : 241777860명\n",
      "[  2시  ] 유동인구 : 241293460명\n",
      "[  3시  ] 유동인구 : 240629800명\n",
      "[  4시  ] 유동인구 : 240087530명\n",
      "[  5시  ] 유동인구 : 239669270명\n",
      "[  6시  ] 유동인구 : 240212130명\n",
      "[  7시  ] 유동인구 : 243316690명\n",
      "[  8시  ] 유동인구 : 247004130명\n",
      "[  9시  ] 유동인구 : 248900070명\n",
      "[ 10시  ] 유동인구 : 249127080명\n",
      "[ 11시  ] 유동인구 : 248619210명\n",
      "[ 12시  ] 유동인구 : 248505400명\n",
      "[ 13시  ] 유동인구 : 248750400명\n",
      "[ 14시  ] 유동인구 : 249091620명\n",
      "[ 15시  ] 유동인구 : 249459470명\n",
      "[ 16시  ] 유동인구 : 249842610명\n",
      "[ 17시  ] 유동인구 : 249994940명\n",
      "[ 18시  ] 유동인구 : 248587220명\n",
      "[ 19시  ] 유동인구 : 246613060명\n",
      "[ 20시  ] 유동인구 : 245624290명\n",
      "[ 21시  ] 유동인구 : 244744910명\n",
      "[ 22시  ] 유동인구 : 243447240명\n",
      "[ 23시  ] 유동인구 : 242345520명\n"
     ]
    }
   ],
   "source": [
    "time_s = func_aggregate( time_list, df.단위시간 )\n",
    "\n",
    "for time in time_list:\n",
    "    print( f'[ {time:2}시  ] 유동인구 : {time_s[ time ]}명' )"
   ]
  },
  {
   "cell_type": "code",
   "execution_count": 155,
   "id": "b1099111-d3e3-41a4-9127-d4ca0fcd6410",
   "metadata": {},
   "outputs": [
    {
     "name": "stdout",
     "output_type": "stream",
     "text": [
      "유동 인구가 가장 많은 시간대 [ 17시 ] 유동인구 : 249994940명\n",
      "유동 인구가 가장 적은 시간대 [  5시 ] 유동인구 : 239669270명\n"
     ]
    }
   ],
   "source": [
    "time_max = time_s.idxmax()\n",
    "time_min = time_s.idxmin()\n",
    "\n",
    "print( f'유동 인구가 가장 많은 시간대 [ {time_max:2}시 ] 유동인구 : {time_s[ time_max ]}명')\n",
    "print( f'유동 인구가 가장 적은 시간대 [ {time_min:2}시 ] 유동인구 : {time_s[ time_min ]}명')"
   ]
  },
  {
   "cell_type": "code",
   "execution_count": 153,
   "id": "7a18f635-c682-421a-8298-2f12f2ded5a4",
   "metadata": {},
   "outputs": [
    {
     "data": {
      "image/png": "[encoded data removed]",
      "text/plain": [
       "<Figure size 1440x360 with 1 Axes>"
      ]
     },
     "metadata": {},
     "output_type": "display_data"
    }
   ],
   "source": [
    "ax = time_s.plot( kind = 'bar', figsize = ( 20, 5 ) )\n",
    "ax.set_xticklabels( time_s.index, rotation = 60 )\n",
    "plt.show()"
   ]
  },
  {
   "cell_type": "markdown",
   "id": "b2322def-6ec2-4c37-8514-2263919c077b",
   "metadata": {},
   "source": [
    "#### 구별 유동인구 정보"
   ]
  },
  {
   "cell_type": "code",
   "execution_count": 156,
   "id": "5c21fff6-f587-4a9a-bcc6-f6b510d79619",
   "metadata": {},
   "outputs": [
    {
     "name": "stdout",
     "output_type": "stream",
     "text": [
      "[ 강남구    ] 유동인구 :  415479300명\n",
      "[ 강동구    ] 유동인구 :  239157350명\n",
      "[ 강북구    ] 유동인구 :  171437740명\n",
      "[ 강서구    ] 유동인구 :  316538320명\n",
      "[ 관악구    ] 유동인구 :  285422490명\n",
      "[ 광진구    ] 유동인구 :  205584150명\n",
      "[ 구로구    ] 유동인구 :  252685600명\n",
      "[ 금천구    ] 유동인구 :  162236340명\n",
      "[ 노원구    ] 유동인구 :  286372000명\n",
      "[ 도봉구    ] 유동인구 :  172730720명\n",
      "[ 동대문구   ] 유동인구 :  209673270명\n",
      "[ 동작구    ] 유동인구 :  224537120명\n",
      "[ 마포구    ] 유동인구 :  245660870명\n",
      "[ 서대문구   ] 유동인구 :  182865220명\n",
      "[ 서초구    ] 유동인구 :  293867470명\n",
      "[ 성동구    ] 유동인구 :  184605390명\n",
      "[ 성북구    ] 유동인구 :  243666730명\n",
      "[ 송파구    ] 유동인구 :  372279240명\n",
      "[ 양천구    ] 유동인구 :  235960940명\n",
      "[ 영등포구   ] 유동인구 :  280428050명\n",
      "[ 용산구    ] 유동인구 :  151474540명\n",
      "[ 은평구    ] 유동인구 :  241684780명\n",
      "[ 종로구    ] 유동인구 :  152183320명\n",
      "[ 중구     ] 유동인구 :  152646440명\n",
      "[ 중랑구    ] 유동인구 :  210660150명\n"
     ]
    }
   ],
   "source": [
    "gu_s = func_aggregate( gu_list, df.구 )\n",
    "\n",
    "for gu in gu_list:\n",
    "    print( f'[ {str.rstrip( gu ):6s} ] 유동인구 : {gu_s[ gu ]:10}명' )"
   ]
  },
  {
   "cell_type": "code",
   "execution_count": 158,
   "id": "caebf1d2-7096-454e-a1b7-976502213f9c",
   "metadata": {},
   "outputs": [
    {
     "name": "stdout",
     "output_type": "stream",
     "text": [
      "유동 인구가 가장 많은 구 [ 강남구    ] 유동인구 : 415479300명\n",
      "유동 인구가 가장 적은 구 [ 용산구    ] 유동인구 : 151474540명\n"
     ]
    }
   ],
   "source": [
    "gu_max = gu_s.idxmax()\n",
    "gu_min = gu_s.idxmin()\n",
    "\n",
    "print( f'유동 인구가 가장 많은 구 [ {str.rstrip(gu_max):6s} ] 유동인구 : {gu_s[ gu_max ]}명')\n",
    "print( f'유동 인구가 가장 적은 구 [ {str.rstrip(gu_min):6s} ] 유동인구 : {gu_s[ gu_min ]}명')"
   ]
  },
  {
   "cell_type": "code",
   "execution_count": 157,
   "id": "710bf30c-0fbe-4976-8ab4-17a10bdbd17f",
   "metadata": {},
   "outputs": [
    {
     "data": {
      "image/png": "[encoded data removed]",
      "text/plain": [
       "<Figure size 1440x360 with 1 Axes>"
      ]
     },
     "metadata": {},
     "output_type": "display_data"
    }
   ],
   "source": [
    "ax = gu_s.plot( kind = 'bar', figsize = ( 20, 5 ) )\n",
    "ax.set_xticklabels( gu_s.index, rotation = 60 )\n",
    "plt.show()"
   ]
  },
  {
   "cell_type": "markdown",
   "id": "7f8ca71c-517f-4ecd-96e9-8a7932e1fcbf",
   "metadata": {},
   "source": [
    "#### 성별에 대한 유동인구"
   ]
  },
  {
   "cell_type": "code",
   "execution_count": 166,
   "id": "f9c360f5-caab-4c0e-ac85-47b6f5525726",
   "metadata": {},
   "outputs": [
    {
     "data": {
      "text/html": [
       "<div>\n",
       "<style scoped>\n",
       "    .dataframe tbody tr th:only-of-type {\n",
       "        vertical-align: middle;\n",
       "    }\n",
       "\n",
       "    .dataframe tbody tr th {\n",
       "        vertical-align: top;\n",
       "    }\n",
       "\n",
       "    .dataframe thead th {\n",
       "        text-align: right;\n",
       "    }\n",
       "</style>\n",
       "<table border=\"1\" class=\"dataframe\">\n",
       "  <thead>\n",
       "    <tr style=\"text-align: right;\">\n",
       "      <th></th>\n",
       "      <th>유동인구수</th>\n",
       "    </tr>\n",
       "    <tr>\n",
       "      <th>성별</th>\n",
       "      <th></th>\n",
       "    </tr>\n",
       "  </thead>\n",
       "  <tbody>\n",
       "    <tr>\n",
       "      <th>남성</th>\n",
       "      <td>26404.16</td>\n",
       "    </tr>\n",
       "    <tr>\n",
       "      <th>여성</th>\n",
       "      <td>28131.38</td>\n",
       "    </tr>\n",
       "  </tbody>\n",
       "</table>\n",
       "</div>"
      ],
      "text/plain": [
       "      유동인구수\n",
       "성별            \n",
       "남성    26404.16\n",
       "여성    28131.38"
      ]
     },
     "execution_count": 166,
     "metadata": {},
     "output_type": "execute_result"
    }
   ],
   "source": [
    "grouped = df.groupby( [ '성별' ] )\n",
    "average = grouped.mean()\n",
    "round( average, 2 )"
   ]
  },
  {
   "cell_type": "code",
   "execution_count": 167,
   "id": "019180d4-c3b8-426a-a4c0-1e5846c54cc3",
   "metadata": {},
   "outputs": [
    {
     "data": {
      "text/html": [
       "<div>\n",
       "<style scoped>\n",
       "    .dataframe tbody tr th:only-of-type {\n",
       "        vertical-align: middle;\n",
       "    }\n",
       "\n",
       "    .dataframe tbody tr th {\n",
       "        vertical-align: top;\n",
       "    }\n",
       "\n",
       "    .dataframe thead th {\n",
       "        text-align: right;\n",
       "    }\n",
       "</style>\n",
       "<table border=\"1\" class=\"dataframe\">\n",
       "  <thead>\n",
       "    <tr style=\"text-align: right;\">\n",
       "      <th></th>\n",
       "      <th></th>\n",
       "      <th>유동인구수</th>\n",
       "    </tr>\n",
       "    <tr>\n",
       "      <th>연령대</th>\n",
       "      <th>성별</th>\n",
       "      <th></th>\n",
       "    </tr>\n",
       "  </thead>\n",
       "  <tbody>\n",
       "    <tr>\n",
       "      <th rowspan=\"2\" valign=\"top\">20</th>\n",
       "      <th>남성</th>\n",
       "      <td>29551.40</td>\n",
       "    </tr>\n",
       "    <tr>\n",
       "      <th>여성</th>\n",
       "      <td>30967.65</td>\n",
       "    </tr>\n",
       "    <tr>\n",
       "      <th rowspan=\"2\" valign=\"top\">30</th>\n",
       "      <th>남성</th>\n",
       "      <td>34005.85</td>\n",
       "    </tr>\n",
       "    <tr>\n",
       "      <th>여성</th>\n",
       "      <td>33292.42</td>\n",
       "    </tr>\n",
       "    <tr>\n",
       "      <th rowspan=\"2\" valign=\"top\">40</th>\n",
       "      <th>남성</th>\n",
       "      <td>33447.54</td>\n",
       "    </tr>\n",
       "    <tr>\n",
       "      <th>여성</th>\n",
       "      <td>33448.82</td>\n",
       "    </tr>\n",
       "    <tr>\n",
       "      <th rowspan=\"2\" valign=\"top\">50</th>\n",
       "      <th>남성</th>\n",
       "      <td>30079.95</td>\n",
       "    </tr>\n",
       "    <tr>\n",
       "      <th>여성</th>\n",
       "      <td>32382.56</td>\n",
       "    </tr>\n",
       "    <tr>\n",
       "      <th rowspan=\"2\" valign=\"top\">60</th>\n",
       "      <th>남성</th>\n",
       "      <td>18737.68</td>\n",
       "    </tr>\n",
       "    <tr>\n",
       "      <th>여성</th>\n",
       "      <td>21187.90</td>\n",
       "    </tr>\n",
       "    <tr>\n",
       "      <th rowspan=\"2\" valign=\"top\">70</th>\n",
       "      <th>남성</th>\n",
       "      <td>12602.52</td>\n",
       "    </tr>\n",
       "    <tr>\n",
       "      <th>여성</th>\n",
       "      <td>17508.89</td>\n",
       "    </tr>\n",
       "  </tbody>\n",
       "</table>\n",
       "</div>"
      ],
      "text/plain": [
       "             유동인구수\n",
       "연령대 성별            \n",
       "20     남성    29551.40\n",
       "       여성    30967.65\n",
       "30     남성    34005.85\n",
       "       여성    33292.42\n",
       "40     남성    33447.54\n",
       "       여성    33448.82\n",
       "50     남성    30079.95\n",
       "       여성    32382.56\n",
       "60     남성    18737.68\n",
       "       여성    21187.90\n",
       "70     남성    12602.52\n",
       "       여성    17508.89"
      ]
     },
     "execution_count": 167,
     "metadata": {},
     "output_type": "execute_result"
    }
   ],
   "source": [
    "grouped = df.groupby( [ '연령대', '성별' ] )\n",
    "average = grouped.mean()\n",
    "round( average, 2 )"
   ]
  },
  {
   "cell_type": "code",
   "execution_count": 169,
   "id": "27482e9d-6a0c-4647-9dca-3cc12995a121",
   "metadata": {},
   "outputs": [
    {
     "data": {
      "text/html": [
       "<div>\n",
       "<style scoped>\n",
       "    .dataframe tbody tr th:only-of-type {\n",
       "        vertical-align: middle;\n",
       "    }\n",
       "\n",
       "    .dataframe tbody tr th {\n",
       "        vertical-align: top;\n",
       "    }\n",
       "\n",
       "    .dataframe thead th {\n",
       "        text-align: right;\n",
       "    }\n",
       "</style>\n",
       "<table border=\"1\" class=\"dataframe\">\n",
       "  <thead>\n",
       "    <tr style=\"text-align: right;\">\n",
       "      <th></th>\n",
       "      <th></th>\n",
       "      <th>유동인구수</th>\n",
       "    </tr>\n",
       "    <tr>\n",
       "      <th>단위시간</th>\n",
       "      <th>성별</th>\n",
       "      <th></th>\n",
       "    </tr>\n",
       "  </thead>\n",
       "  <tbody>\n",
       "    <tr>\n",
       "      <th rowspan=\"2\" valign=\"top\">0</th>\n",
       "      <th>남성</th>\n",
       "      <td>26139.43</td>\n",
       "    </tr>\n",
       "    <tr>\n",
       "      <th>여성</th>\n",
       "      <td>27681.38</td>\n",
       "    </tr>\n",
       "    <tr>\n",
       "      <th rowspan=\"2\" valign=\"top\">1</th>\n",
       "      <th>남성</th>\n",
       "      <td>26080.88</td>\n",
       "    </tr>\n",
       "    <tr>\n",
       "      <th>여성</th>\n",
       "      <td>27647.54</td>\n",
       "    </tr>\n",
       "    <tr>\n",
       "      <th rowspan=\"2\" valign=\"top\">2</th>\n",
       "      <th>남성</th>\n",
       "      <td>26008.77</td>\n",
       "    </tr>\n",
       "    <tr>\n",
       "      <th>여성</th>\n",
       "      <td>27612.00</td>\n",
       "    </tr>\n",
       "    <tr>\n",
       "      <th rowspan=\"2\" valign=\"top\">3</th>\n",
       "      <th>남성</th>\n",
       "      <td>25910.56</td>\n",
       "    </tr>\n",
       "    <tr>\n",
       "      <th>여성</th>\n",
       "      <td>27562.73</td>\n",
       "    </tr>\n",
       "    <tr>\n",
       "      <th rowspan=\"2\" valign=\"top\">4</th>\n",
       "      <th>남성</th>\n",
       "      <td>25837.44</td>\n",
       "    </tr>\n",
       "    <tr>\n",
       "      <th>여성</th>\n",
       "      <td>27515.34</td>\n",
       "    </tr>\n",
       "    <tr>\n",
       "      <th rowspan=\"2\" valign=\"top\">5</th>\n",
       "      <th>남성</th>\n",
       "      <td>25778.71</td>\n",
       "    </tr>\n",
       "    <tr>\n",
       "      <th>여성</th>\n",
       "      <td>27481.13</td>\n",
       "    </tr>\n",
       "    <tr>\n",
       "      <th rowspan=\"2\" valign=\"top\">6</th>\n",
       "      <th>남성</th>\n",
       "      <td>25840.63</td>\n",
       "    </tr>\n",
       "    <tr>\n",
       "      <th>여성</th>\n",
       "      <td>27539.84</td>\n",
       "    </tr>\n",
       "    <tr>\n",
       "      <th rowspan=\"2\" valign=\"top\">7</th>\n",
       "      <th>남성</th>\n",
       "      <td>26187.76</td>\n",
       "    </tr>\n",
       "    <tr>\n",
       "      <th>여성</th>\n",
       "      <td>27882.62</td>\n",
       "    </tr>\n",
       "    <tr>\n",
       "      <th rowspan=\"2\" valign=\"top\">8</th>\n",
       "      <th>남성</th>\n",
       "      <td>26524.47</td>\n",
       "    </tr>\n",
       "    <tr>\n",
       "      <th>여성</th>\n",
       "      <td>28365.33</td>\n",
       "    </tr>\n",
       "    <tr>\n",
       "      <th rowspan=\"2\" valign=\"top\">9</th>\n",
       "      <th>남성</th>\n",
       "      <td>26691.29</td>\n",
       "    </tr>\n",
       "    <tr>\n",
       "      <th>여성</th>\n",
       "      <td>28619.84</td>\n",
       "    </tr>\n",
       "    <tr>\n",
       "      <th rowspan=\"2\" valign=\"top\">10</th>\n",
       "      <th>남성</th>\n",
       "      <td>26692.53</td>\n",
       "    </tr>\n",
       "    <tr>\n",
       "      <th>여성</th>\n",
       "      <td>28669.04</td>\n",
       "    </tr>\n",
       "    <tr>\n",
       "      <th rowspan=\"2\" valign=\"top\">11</th>\n",
       "      <th>남성</th>\n",
       "      <td>26615.14</td>\n",
       "    </tr>\n",
       "    <tr>\n",
       "      <th>여성</th>\n",
       "      <td>28633.57</td>\n",
       "    </tr>\n",
       "    <tr>\n",
       "      <th rowspan=\"2\" valign=\"top\">12</th>\n",
       "      <th>남성</th>\n",
       "      <td>26602.78</td>\n",
       "    </tr>\n",
       "    <tr>\n",
       "      <th>여성</th>\n",
       "      <td>28620.64</td>\n",
       "    </tr>\n",
       "    <tr>\n",
       "      <th rowspan=\"2\" valign=\"top\">13</th>\n",
       "      <th>남성</th>\n",
       "      <td>26639.97</td>\n",
       "    </tr>\n",
       "    <tr>\n",
       "      <th>여성</th>\n",
       "      <td>28637.89</td>\n",
       "    </tr>\n",
       "    <tr>\n",
       "      <th rowspan=\"2\" valign=\"top\">14</th>\n",
       "      <th>남성</th>\n",
       "      <td>26691.56</td>\n",
       "    </tr>\n",
       "    <tr>\n",
       "      <th>여성</th>\n",
       "      <td>28662.14</td>\n",
       "    </tr>\n",
       "    <tr>\n",
       "      <th rowspan=\"2\" valign=\"top\">15</th>\n",
       "      <th>남성</th>\n",
       "      <td>26755.83</td>\n",
       "    </tr>\n",
       "    <tr>\n",
       "      <th>여성</th>\n",
       "      <td>28679.61</td>\n",
       "    </tr>\n",
       "    <tr>\n",
       "      <th rowspan=\"2\" valign=\"top\">16</th>\n",
       "      <th>남성</th>\n",
       "      <td>26837.22</td>\n",
       "    </tr>\n",
       "    <tr>\n",
       "      <th>여성</th>\n",
       "      <td>28683.36</td>\n",
       "    </tr>\n",
       "    <tr>\n",
       "      <th rowspan=\"2\" valign=\"top\">17</th>\n",
       "      <th>남성</th>\n",
       "      <td>26903.79</td>\n",
       "    </tr>\n",
       "    <tr>\n",
       "      <th>여성</th>\n",
       "      <td>28650.64</td>\n",
       "    </tr>\n",
       "    <tr>\n",
       "      <th rowspan=\"2\" valign=\"top\">18</th>\n",
       "      <th>남성</th>\n",
       "      <td>26819.25</td>\n",
       "    </tr>\n",
       "    <tr>\n",
       "      <th>여성</th>\n",
       "      <td>28422.36</td>\n",
       "    </tr>\n",
       "    <tr>\n",
       "      <th rowspan=\"2\" valign=\"top\">19</th>\n",
       "      <th>남성</th>\n",
       "      <td>26634.94</td>\n",
       "    </tr>\n",
       "    <tr>\n",
       "      <th>여성</th>\n",
       "      <td>28167.96</td>\n",
       "    </tr>\n",
       "    <tr>\n",
       "      <th rowspan=\"2\" valign=\"top\">20</th>\n",
       "      <th>남성</th>\n",
       "      <td>26547.11</td>\n",
       "    </tr>\n",
       "    <tr>\n",
       "      <th>여성</th>\n",
       "      <td>28036.06</td>\n",
       "    </tr>\n",
       "    <tr>\n",
       "      <th rowspan=\"2\" valign=\"top\">21</th>\n",
       "      <th>남성</th>\n",
       "      <td>26461.94</td>\n",
       "    </tr>\n",
       "    <tr>\n",
       "      <th>여성</th>\n",
       "      <td>27925.82</td>\n",
       "    </tr>\n",
       "    <tr>\n",
       "      <th rowspan=\"2\" valign=\"top\">22</th>\n",
       "      <th>남성</th>\n",
       "      <td>26316.96</td>\n",
       "    </tr>\n",
       "    <tr>\n",
       "      <th>여성</th>\n",
       "      <td>27782.43</td>\n",
       "    </tr>\n",
       "    <tr>\n",
       "      <th rowspan=\"2\" valign=\"top\">23</th>\n",
       "      <th>남성</th>\n",
       "      <td>26180.80</td>\n",
       "    </tr>\n",
       "    <tr>\n",
       "      <th>여성</th>\n",
       "      <td>27673.76</td>\n",
       "    </tr>\n",
       "  </tbody>\n",
       "</table>\n",
       "</div>"
      ],
      "text/plain": [
       "               유동인구수\n",
       "단위시간 성별            \n",
       "0        남성    26139.43\n",
       "         여성    27681.38\n",
       "1        남성    26080.88\n",
       "         여성    27647.54\n",
       "2        남성    26008.77\n",
       "         여성    27612.00\n",
       "3        남성    25910.56\n",
       "         여성    27562.73\n",
       "4        남성    25837.44\n",
       "         여성    27515.34\n",
       "5        남성    25778.71\n",
       "         여성    27481.13\n",
       "6        남성    25840.63\n",
       "         여성    27539.84\n",
       "7        남성    26187.76\n",
       "         여성    27882.62\n",
       "8        남성    26524.47\n",
       "         여성    28365.33\n",
       "9        남성    26691.29\n",
       "         여성    28619.84\n",
       "10       남성    26692.53\n",
       "         여성    28669.04\n",
       "11       남성    26615.14\n",
       "         여성    28633.57\n",
       "12       남성    26602.78\n",
       "         여성    28620.64\n",
       "13       남성    26639.97\n",
       "         여성    28637.89\n",
       "14       남성    26691.56\n",
       "         여성    28662.14\n",
       "15       남성    26755.83\n",
       "         여성    28679.61\n",
       "16       남성    26837.22\n",
       "         여성    28683.36\n",
       "17       남성    26903.79\n",
       "         여성    28650.64\n",
       "18       남성    26819.25\n",
       "         여성    28422.36\n",
       "19       남성    26634.94\n",
       "         여성    28167.96\n",
       "20       남성    26547.11\n",
       "         여성    28036.06\n",
       "21       남성    26461.94\n",
       "         여성    27925.82\n",
       "22       남성    26316.96\n",
       "         여성    27782.43\n",
       "23       남성    26180.80\n",
       "         여성    27673.76"
      ]
     },
     "execution_count": 169,
     "metadata": {},
     "output_type": "execute_result"
    }
   ],
   "source": [
    "grouped = df.groupby( [ '단위시간', '성별' ] )\n",
    "average = grouped.mean()\n",
    "round( average, 2 )"
   ]
  },
  {
   "cell_type": "code",
   "execution_count": 171,
   "id": "749ec6e9-7bbf-48dc-a220-d18c0102f525",
   "metadata": {},
   "outputs": [
    {
     "data": {
      "text/html": [
       "<div>\n",
       "<style scoped>\n",
       "    .dataframe tbody tr th:only-of-type {\n",
       "        vertical-align: middle;\n",
       "    }\n",
       "\n",
       "    .dataframe tbody tr th {\n",
       "        vertical-align: top;\n",
       "    }\n",
       "\n",
       "    .dataframe thead tr th {\n",
       "        text-align: left;\n",
       "    }\n",
       "\n",
       "    .dataframe thead tr:last-of-type th {\n",
       "        text-align: right;\n",
       "    }\n",
       "</style>\n",
       "<table border=\"1\" class=\"dataframe\">\n",
       "  <thead>\n",
       "    <tr>\n",
       "      <th></th>\n",
       "      <th colspan=\"2\" halign=\"left\">mean</th>\n",
       "    </tr>\n",
       "    <tr>\n",
       "      <th>성별</th>\n",
       "      <th>남성</th>\n",
       "      <th>여성</th>\n",
       "    </tr>\n",
       "    <tr>\n",
       "      <th>일자</th>\n",
       "      <th></th>\n",
       "      <th></th>\n",
       "    </tr>\n",
       "  </thead>\n",
       "  <tbody>\n",
       "    <tr>\n",
       "      <th>20200401</th>\n",
       "      <td>26900.636111</td>\n",
       "      <td>28712.836111</td>\n",
       "    </tr>\n",
       "    <tr>\n",
       "      <th>20200402</th>\n",
       "      <td>26838.577778</td>\n",
       "      <td>28658.977778</td>\n",
       "    </tr>\n",
       "    <tr>\n",
       "      <th>20200403</th>\n",
       "      <td>26782.972222</td>\n",
       "      <td>28532.783333</td>\n",
       "    </tr>\n",
       "    <tr>\n",
       "      <th>20200404</th>\n",
       "      <td>25776.711111</td>\n",
       "      <td>27323.583333</td>\n",
       "    </tr>\n",
       "    <tr>\n",
       "      <th>20200405</th>\n",
       "      <td>25634.172222</td>\n",
       "      <td>27059.250000</td>\n",
       "    </tr>\n",
       "    <tr>\n",
       "      <th>20200406</th>\n",
       "      <td>26933.436111</td>\n",
       "      <td>28599.794444</td>\n",
       "    </tr>\n",
       "    <tr>\n",
       "      <th>20200407</th>\n",
       "      <td>26828.638889</td>\n",
       "      <td>28672.405556</td>\n",
       "    </tr>\n",
       "    <tr>\n",
       "      <th>20200408</th>\n",
       "      <td>26789.225000</td>\n",
       "      <td>28670.527778</td>\n",
       "    </tr>\n",
       "    <tr>\n",
       "      <th>20200409</th>\n",
       "      <td>26782.125000</td>\n",
       "      <td>28646.061111</td>\n",
       "    </tr>\n",
       "    <tr>\n",
       "      <th>20200410</th>\n",
       "      <td>26751.172222</td>\n",
       "      <td>28551.905556</td>\n",
       "    </tr>\n",
       "    <tr>\n",
       "      <th>20200411</th>\n",
       "      <td>25741.205556</td>\n",
       "      <td>27323.241667</td>\n",
       "    </tr>\n",
       "    <tr>\n",
       "      <th>20200412</th>\n",
       "      <td>25623.016667</td>\n",
       "      <td>27055.750000</td>\n",
       "    </tr>\n",
       "    <tr>\n",
       "      <th>20200413</th>\n",
       "      <td>26823.697222</td>\n",
       "      <td>28521.261111</td>\n",
       "    </tr>\n",
       "    <tr>\n",
       "      <th>20200414</th>\n",
       "      <td>26772.969444</td>\n",
       "      <td>28582.227778</td>\n",
       "    </tr>\n",
       "    <tr>\n",
       "      <th>20200415</th>\n",
       "      <td>25830.427778</td>\n",
       "      <td>27608.883333</td>\n",
       "    </tr>\n",
       "    <tr>\n",
       "      <th>20200416</th>\n",
       "      <td>26740.013889</td>\n",
       "      <td>28554.408333</td>\n",
       "    </tr>\n",
       "    <tr>\n",
       "      <th>20200417</th>\n",
       "      <td>26825.030556</td>\n",
       "      <td>28565.711111</td>\n",
       "    </tr>\n",
       "    <tr>\n",
       "      <th>20200418</th>\n",
       "      <td>25707.216667</td>\n",
       "      <td>27312.816667</td>\n",
       "    </tr>\n",
       "    <tr>\n",
       "      <th>20200419</th>\n",
       "      <td>25650.372222</td>\n",
       "      <td>27114.030556</td>\n",
       "    </tr>\n",
       "    <tr>\n",
       "      <th>20200420</th>\n",
       "      <td>26872.186111</td>\n",
       "      <td>28580.338889</td>\n",
       "    </tr>\n",
       "    <tr>\n",
       "      <th>20200421</th>\n",
       "      <td>26756.016667</td>\n",
       "      <td>28655.058333</td>\n",
       "    </tr>\n",
       "    <tr>\n",
       "      <th>20200422</th>\n",
       "      <td>26744.088889</td>\n",
       "      <td>28676.133333</td>\n",
       "    </tr>\n",
       "    <tr>\n",
       "      <th>20200423</th>\n",
       "      <td>26722.702778</td>\n",
       "      <td>28657.883333</td>\n",
       "    </tr>\n",
       "    <tr>\n",
       "      <th>20200424</th>\n",
       "      <td>26726.650000</td>\n",
       "      <td>28590.000000</td>\n",
       "    </tr>\n",
       "    <tr>\n",
       "      <th>20200425</th>\n",
       "      <td>25726.825000</td>\n",
       "      <td>27391.913889</td>\n",
       "    </tr>\n",
       "    <tr>\n",
       "      <th>20200426</th>\n",
       "      <td>25510.430556</td>\n",
       "      <td>27033.755556</td>\n",
       "    </tr>\n",
       "    <tr>\n",
       "      <th>20200427</th>\n",
       "      <td>26782.969444</td>\n",
       "      <td>28549.447222</td>\n",
       "    </tr>\n",
       "    <tr>\n",
       "      <th>20200428</th>\n",
       "      <td>26689.616667</td>\n",
       "      <td>28610.541667</td>\n",
       "    </tr>\n",
       "    <tr>\n",
       "      <th>20200429</th>\n",
       "      <td>26655.030556</td>\n",
       "      <td>28483.833333</td>\n",
       "    </tr>\n",
       "    <tr>\n",
       "      <th>20200430</th>\n",
       "      <td>25206.561111</td>\n",
       "      <td>26645.927778</td>\n",
       "    </tr>\n",
       "  </tbody>\n",
       "</table>\n",
       "</div>"
      ],
      "text/plain": [
       "                  mean              \n",
       "성별              남성          여성\n",
       "일자                                \n",
       "20200401  26900.636111  28712.836111\n",
       "20200402  26838.577778  28658.977778\n",
       "20200403  26782.972222  28532.783333\n",
       "20200404  25776.711111  27323.583333\n",
       "20200405  25634.172222  27059.250000\n",
       "20200406  26933.436111  28599.794444\n",
       "20200407  26828.638889  28672.405556\n",
       "20200408  26789.225000  28670.527778\n",
       "20200409  26782.125000  28646.061111\n",
       "20200410  26751.172222  28551.905556\n",
       "20200411  25741.205556  27323.241667\n",
       "20200412  25623.016667  27055.750000\n",
       "20200413  26823.697222  28521.261111\n",
       "20200414  26772.969444  28582.227778\n",
       "20200415  25830.427778  27608.883333\n",
       "20200416  26740.013889  28554.408333\n",
       "20200417  26825.030556  28565.711111\n",
       "20200418  25707.216667  27312.816667\n",
       "20200419  25650.372222  27114.030556\n",
       "20200420  26872.186111  28580.338889\n",
       "20200421  26756.016667  28655.058333\n",
       "20200422  26744.088889  28676.133333\n",
       "20200423  26722.702778  28657.883333\n",
       "20200424  26726.650000  28590.000000\n",
       "20200425  25726.825000  27391.913889\n",
       "20200426  25510.430556  27033.755556\n",
       "20200427  26782.969444  28549.447222\n",
       "20200428  26689.616667  28610.541667\n",
       "20200429  26655.030556  28483.833333\n",
       "20200430  25206.561111  26645.927778"
      ]
     },
     "execution_count": 171,
     "metadata": {},
     "output_type": "execute_result"
    }
   ],
   "source": [
    "pdf = pd.pivot_table( df, index = '일자',\n",
    "                      columns = '성별', values = '유동인구수',\n",
    "                      aggfunc = [ 'mean' ] )\n",
    "pdf"
   ]
  },
  {
   "cell_type": "code",
   "execution_count": 172,
   "id": "9feb624a-e181-4626-9618-f1cb795237ed",
   "metadata": {},
   "outputs": [
    {
     "data": {
      "image/png": "[encoded data removed]",
      "text/plain": [
       "<Figure size 1440x720 with 1 Axes>"
      ]
     },
     "metadata": {},
     "output_type": "display_data"
    }
   ],
   "source": [
    "ax = pdf.plot( kind = 'bar', figsize = ( 20, 10 ) )\n",
    "ax.set_xticklabels( pdf.index, rotation = 75 )\n",
    "plt.show()"
   ]
  },
  {
   "cell_type": "code",
   "execution_count": 174,
   "id": "a1aef90d-ea44-4a67-a5e6-bb60c341e01d",
   "metadata": {},
   "outputs": [
    {
     "data": {
      "text/html": [
       "<div>\n",
       "<style scoped>\n",
       "    .dataframe tbody tr th:only-of-type {\n",
       "        vertical-align: middle;\n",
       "    }\n",
       "\n",
       "    .dataframe tbody tr th {\n",
       "        vertical-align: top;\n",
       "    }\n",
       "\n",
       "    .dataframe thead tr th {\n",
       "        text-align: left;\n",
       "    }\n",
       "\n",
       "    .dataframe thead tr:last-of-type th {\n",
       "        text-align: right;\n",
       "    }\n",
       "</style>\n",
       "<table border=\"1\" class=\"dataframe\">\n",
       "  <thead>\n",
       "    <tr>\n",
       "      <th></th>\n",
       "      <th colspan=\"6\" halign=\"left\">mean</th>\n",
       "    </tr>\n",
       "    <tr>\n",
       "      <th>연령대</th>\n",
       "      <th>20</th>\n",
       "      <th>30</th>\n",
       "      <th>40</th>\n",
       "      <th>50</th>\n",
       "      <th>60</th>\n",
       "      <th>70</th>\n",
       "    </tr>\n",
       "    <tr>\n",
       "      <th>일자</th>\n",
       "      <th></th>\n",
       "      <th></th>\n",
       "      <th></th>\n",
       "      <th></th>\n",
       "      <th></th>\n",
       "      <th></th>\n",
       "    </tr>\n",
       "  </thead>\n",
       "  <tbody>\n",
       "    <tr>\n",
       "      <th>20200401</th>\n",
       "      <td>30657.71</td>\n",
       "      <td>34529.46</td>\n",
       "      <td>34339.71</td>\n",
       "      <td>31839.45</td>\n",
       "      <td>20262.92</td>\n",
       "      <td>15211.17</td>\n",
       "    </tr>\n",
       "    <tr>\n",
       "      <th>20200402</th>\n",
       "      <td>30630.36</td>\n",
       "      <td>34452.88</td>\n",
       "      <td>34257.91</td>\n",
       "      <td>31762.31</td>\n",
       "      <td>20205.44</td>\n",
       "      <td>15183.77</td>\n",
       "    </tr>\n",
       "    <tr>\n",
       "      <th>20200403</th>\n",
       "      <td>30675.22</td>\n",
       "      <td>34306.78</td>\n",
       "      <td>34019.78</td>\n",
       "      <td>31653.38</td>\n",
       "      <td>20140.10</td>\n",
       "      <td>15152.01</td>\n",
       "    </tr>\n",
       "    <tr>\n",
       "      <th>20200404</th>\n",
       "      <td>29808.96</td>\n",
       "      <td>32360.68</td>\n",
       "      <td>32129.76</td>\n",
       "      <td>30457.14</td>\n",
       "      <td>19627.57</td>\n",
       "      <td>14916.78</td>\n",
       "    </tr>\n",
       "    <tr>\n",
       "      <th>20200405</th>\n",
       "      <td>29373.45</td>\n",
       "      <td>32023.52</td>\n",
       "      <td>31973.92</td>\n",
       "      <td>30326.75</td>\n",
       "      <td>19521.63</td>\n",
       "      <td>14860.99</td>\n",
       "    </tr>\n",
       "    <tr>\n",
       "      <th>20200406</th>\n",
       "      <td>30560.51</td>\n",
       "      <td>34458.73</td>\n",
       "      <td>34329.54</td>\n",
       "      <td>31834.49</td>\n",
       "      <td>20237.39</td>\n",
       "      <td>15179.02</td>\n",
       "    </tr>\n",
       "    <tr>\n",
       "      <th>20200407</th>\n",
       "      <td>30589.63</td>\n",
       "      <td>34486.32</td>\n",
       "      <td>34288.09</td>\n",
       "      <td>31761.47</td>\n",
       "      <td>20210.45</td>\n",
       "      <td>15167.18</td>\n",
       "    </tr>\n",
       "    <tr>\n",
       "      <th>20200408</th>\n",
       "      <td>30606.95</td>\n",
       "      <td>34458.58</td>\n",
       "      <td>34231.95</td>\n",
       "      <td>31721.08</td>\n",
       "      <td>20193.40</td>\n",
       "      <td>15167.29</td>\n",
       "    </tr>\n",
       "    <tr>\n",
       "      <th>20200409</th>\n",
       "      <td>30617.66</td>\n",
       "      <td>34437.88</td>\n",
       "      <td>34213.58</td>\n",
       "      <td>31690.90</td>\n",
       "      <td>20172.08</td>\n",
       "      <td>15152.46</td>\n",
       "    </tr>\n",
       "    <tr>\n",
       "      <th>20200410</th>\n",
       "      <td>30674.38</td>\n",
       "      <td>34304.88</td>\n",
       "      <td>34024.44</td>\n",
       "      <td>31621.03</td>\n",
       "      <td>20146.57</td>\n",
       "      <td>15137.94</td>\n",
       "    </tr>\n",
       "    <tr>\n",
       "      <th>20200411</th>\n",
       "      <td>29782.60</td>\n",
       "      <td>32325.80</td>\n",
       "      <td>32086.70</td>\n",
       "      <td>30432.25</td>\n",
       "      <td>19645.39</td>\n",
       "      <td>14920.60</td>\n",
       "    </tr>\n",
       "    <tr>\n",
       "      <th>20200412</th>\n",
       "      <td>29336.18</td>\n",
       "      <td>31985.13</td>\n",
       "      <td>31934.73</td>\n",
       "      <td>30332.87</td>\n",
       "      <td>19567.53</td>\n",
       "      <td>14879.85</td>\n",
       "    </tr>\n",
       "    <tr>\n",
       "      <th>20200413</th>\n",
       "      <td>30461.68</td>\n",
       "      <td>34303.75</td>\n",
       "      <td>34201.47</td>\n",
       "      <td>31732.38</td>\n",
       "      <td>20178.61</td>\n",
       "      <td>15157.00</td>\n",
       "    </tr>\n",
       "    <tr>\n",
       "      <th>20200414</th>\n",
       "      <td>30571.22</td>\n",
       "      <td>34390.84</td>\n",
       "      <td>34151.81</td>\n",
       "      <td>31651.81</td>\n",
       "      <td>20150.65</td>\n",
       "      <td>15149.27</td>\n",
       "    </tr>\n",
       "    <tr>\n",
       "      <th>20200415</th>\n",
       "      <td>29665.38</td>\n",
       "      <td>32648.78</td>\n",
       "      <td>32517.51</td>\n",
       "      <td>30693.55</td>\n",
       "      <td>19812.47</td>\n",
       "      <td>14980.25</td>\n",
       "    </tr>\n",
       "    <tr>\n",
       "      <th>20200416</th>\n",
       "      <td>30520.36</td>\n",
       "      <td>34327.33</td>\n",
       "      <td>34137.01</td>\n",
       "      <td>31635.37</td>\n",
       "      <td>20127.47</td>\n",
       "      <td>15135.73</td>\n",
       "    </tr>\n",
       "    <tr>\n",
       "      <th>20200417</th>\n",
       "      <td>30608.01</td>\n",
       "      <td>34321.10</td>\n",
       "      <td>34103.19</td>\n",
       "      <td>31728.98</td>\n",
       "      <td>20242.58</td>\n",
       "      <td>15168.37</td>\n",
       "    </tr>\n",
       "    <tr>\n",
       "      <th>20200418</th>\n",
       "      <td>29854.09</td>\n",
       "      <td>32326.40</td>\n",
       "      <td>32061.03</td>\n",
       "      <td>30356.42</td>\n",
       "      <td>19586.55</td>\n",
       "      <td>14875.61</td>\n",
       "    </tr>\n",
       "    <tr>\n",
       "      <th>20200419</th>\n",
       "      <td>29388.99</td>\n",
       "      <td>32111.22</td>\n",
       "      <td>32019.32</td>\n",
       "      <td>30352.12</td>\n",
       "      <td>19557.01</td>\n",
       "      <td>14864.54</td>\n",
       "    </tr>\n",
       "    <tr>\n",
       "      <th>20200420</th>\n",
       "      <td>30511.70</td>\n",
       "      <td>34414.97</td>\n",
       "      <td>34293.69</td>\n",
       "      <td>31774.25</td>\n",
       "      <td>20207.89</td>\n",
       "      <td>15155.08</td>\n",
       "    </tr>\n",
       "    <tr>\n",
       "      <th>20200421</th>\n",
       "      <td>30556.15</td>\n",
       "      <td>34441.57</td>\n",
       "      <td>34259.68</td>\n",
       "      <td>31674.37</td>\n",
       "      <td>20166.60</td>\n",
       "      <td>15134.86</td>\n",
       "    </tr>\n",
       "    <tr>\n",
       "      <th>20200422</th>\n",
       "      <td>30589.88</td>\n",
       "      <td>34439.46</td>\n",
       "      <td>34244.78</td>\n",
       "      <td>31670.89</td>\n",
       "      <td>20171.25</td>\n",
       "      <td>15144.41</td>\n",
       "    </tr>\n",
       "    <tr>\n",
       "      <th>20200423</th>\n",
       "      <td>30621.39</td>\n",
       "      <td>34435.27</td>\n",
       "      <td>34201.07</td>\n",
       "      <td>31628.55</td>\n",
       "      <td>20132.64</td>\n",
       "      <td>15122.83</td>\n",
       "    </tr>\n",
       "    <tr>\n",
       "      <th>20200424</th>\n",
       "      <td>30752.24</td>\n",
       "      <td>34383.37</td>\n",
       "      <td>34063.50</td>\n",
       "      <td>31561.95</td>\n",
       "      <td>20097.94</td>\n",
       "      <td>15090.95</td>\n",
       "    </tr>\n",
       "    <tr>\n",
       "      <th>20200425</th>\n",
       "      <td>30005.15</td>\n",
       "      <td>32502.22</td>\n",
       "      <td>32093.46</td>\n",
       "      <td>30324.82</td>\n",
       "      <td>19574.78</td>\n",
       "      <td>14855.78</td>\n",
       "    </tr>\n",
       "    <tr>\n",
       "      <th>20200426</th>\n",
       "      <td>29517.12</td>\n",
       "      <td>31992.68</td>\n",
       "      <td>31789.81</td>\n",
       "      <td>30107.80</td>\n",
       "      <td>19422.94</td>\n",
       "      <td>14802.21</td>\n",
       "    </tr>\n",
       "    <tr>\n",
       "      <th>20200427</th>\n",
       "      <td>30524.57</td>\n",
       "      <td>34385.33</td>\n",
       "      <td>34206.02</td>\n",
       "      <td>31658.85</td>\n",
       "      <td>20119.00</td>\n",
       "      <td>15103.48</td>\n",
       "    </tr>\n",
       "    <tr>\n",
       "      <th>20200428</th>\n",
       "      <td>30553.34</td>\n",
       "      <td>34410.81</td>\n",
       "      <td>34182.91</td>\n",
       "      <td>31591.28</td>\n",
       "      <td>20073.48</td>\n",
       "      <td>15088.65</td>\n",
       "    </tr>\n",
       "    <tr>\n",
       "      <th>20200429</th>\n",
       "      <td>30555.01</td>\n",
       "      <td>34286.39</td>\n",
       "      <td>34034.58</td>\n",
       "      <td>31493.52</td>\n",
       "      <td>20000.65</td>\n",
       "      <td>15046.44</td>\n",
       "    </tr>\n",
       "    <tr>\n",
       "      <th>20200430</th>\n",
       "      <td>29215.93</td>\n",
       "      <td>31222.02</td>\n",
       "      <td>31054.50</td>\n",
       "      <td>29867.67</td>\n",
       "      <td>19330.68</td>\n",
       "      <td>14866.66</td>\n",
       "    </tr>\n",
       "  </tbody>\n",
       "</table>\n",
       "</div>"
      ],
      "text/plain": [
       "              mean                                                  \n",
       "연령대          20        30        40        50        60        70\n",
       "일자                                                                \n",
       "20200401  30657.71  34529.46  34339.71  31839.45  20262.92  15211.17\n",
       "20200402  30630.36  34452.88  34257.91  31762.31  20205.44  15183.77\n",
       "20200403  30675.22  34306.78  34019.78  31653.38  20140.10  15152.01\n",
       "20200404  29808.96  32360.68  32129.76  30457.14  19627.57  14916.78\n",
       "20200405  29373.45  32023.52  31973.92  30326.75  19521.63  14860.99\n",
       "20200406  30560.51  34458.73  34329.54  31834.49  20237.39  15179.02\n",
       "20200407  30589.63  34486.32  34288.09  31761.47  20210.45  15167.18\n",
       "20200408  30606.95  34458.58  34231.95  31721.08  20193.40  15167.29\n",
       "20200409  30617.66  34437.88  34213.58  31690.90  20172.08  15152.46\n",
       "20200410  30674.38  34304.88  34024.44  31621.03  20146.57  15137.94\n",
       "20200411  29782.60  32325.80  32086.70  30432.25  19645.39  14920.60\n",
       "20200412  29336.18  31985.13  31934.73  30332.87  19567.53  14879.85\n",
       "20200413  30461.68  34303.75  34201.47  31732.38  20178.61  15157.00\n",
       "20200414  30571.22  34390.84  34151.81  31651.81  20150.65  15149.27\n",
       "20200415  29665.38  32648.78  32517.51  30693.55  19812.47  14980.25\n",
       "20200416  30520.36  34327.33  34137.01  31635.37  20127.47  15135.73\n",
       "20200417  30608.01  34321.10  34103.19  31728.98  20242.58  15168.37\n",
       "20200418  29854.09  32326.40  32061.03  30356.42  19586.55  14875.61\n",
       "20200419  29388.99  32111.22  32019.32  30352.12  19557.01  14864.54\n",
       "20200420  30511.70  34414.97  34293.69  31774.25  20207.89  15155.08\n",
       "20200421  30556.15  34441.57  34259.68  31674.37  20166.60  15134.86\n",
       "20200422  30589.88  34439.46  34244.78  31670.89  20171.25  15144.41\n",
       "20200423  30621.39  34435.27  34201.07  31628.55  20132.64  15122.83\n",
       "20200424  30752.24  34383.37  34063.50  31561.95  20097.94  15090.95\n",
       "20200425  30005.15  32502.22  32093.46  30324.82  19574.78  14855.78\n",
       "20200426  29517.12  31992.68  31789.81  30107.80  19422.94  14802.21\n",
       "20200427  30524.57  34385.33  34206.02  31658.85  20119.00  15103.48\n",
       "20200428  30553.34  34410.81  34182.91  31591.28  20073.48  15088.65\n",
       "20200429  30555.01  34286.39  34034.58  31493.52  20000.65  15046.44\n",
       "20200430  29215.93  31222.02  31054.50  29867.67  19330.68  14866.66"
      ]
     },
     "execution_count": 174,
     "metadata": {},
     "output_type": "execute_result"
    }
   ],
   "source": [
    "pdf = pd.pivot_table( df, index = '일자',\n",
    "                      columns = '연령대', values = '유동인구수',\n",
    "                      aggfunc = [ 'mean' ] )\n",
    "round( pdf, 2 )"
   ]
  },
  {
   "cell_type": "code",
   "execution_count": 176,
   "id": "df7bae92-86f2-41da-b4a4-c2ab37ee2b06",
   "metadata": {},
   "outputs": [
    {
     "data": {
      "image/png": "[encoded data removed]",
      "text/plain": [
       "<Figure size 1800x720 with 1 Axes>"
      ]
     },
     "metadata": {},
     "output_type": "display_data"
    }
   ],
   "source": [
    "ax = pdf.plot( kind = 'bar', figsize = ( 25, 10 ) )\n",
    "ax.set_xticklabels( pdf.index, rotation = 75 )\n",
    "plt.show()"
   ]
  },
  {
   "cell_type": "code",
   "execution_count": null,
   "id": "e479446d-a2cf-400c-9316-e4f591cb541c",
   "metadata": {},
   "outputs": [],
   "source": []
  }
 ],
 "metadata": {
  "kernelspec": {
   "display_name": "Python 3",
   "language": "python",
   "name": "python3"
  },
  "language_info": {
   "codemirror_mode": {
    "name": "ipython",
    "version": 3
   },
   "file_extension": ".py",
   "mimetype": "text/x-python",
   "name": "python",
   "nbconvert_exporter": "python",
   "pygments_lexer": "ipython3",
   "version": "3.8.8"
  }
 },
 "nbformat": 4,
 "nbformat_minor": 5
}
